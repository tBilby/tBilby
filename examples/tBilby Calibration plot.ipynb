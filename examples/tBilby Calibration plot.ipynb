{
 "cells": [
  {
   "cell_type": "markdown",
   "id": "f5753d31-07bc-4434-9766-fc89249888e9",
   "metadata": {},
   "source": [
    "**Introduction**\n",
    "\n",
    "To assess how well the posterior model probabilities are calibrated—that is, whether they truly correspond to the frequency with which each model is correct—we construct a calibration plot. For each run, we record the posterior probability assigned to the each model. We then partition the interval [0,1] of predicted probabilities into a set of bins. For each bin, we compute two quantities: (i) the total number of runs whose predicted probability falls into that bin, and (ii) the number of those runs where the true model was indeed correct. The empirical frequency in each bin is given by the ratio of these two counts. Plotting this empirical frequency against the bin center value yields the calibration curve, while the diagonal line y = x corresponds to perfect calibration. Deviations from the diagonal indicate systematic problem in the posterior model probabilities (e.g. not enough live points in the sampler settings). To quantify statistical uncertainty in each bin, we treat the number of correct outcomes as a binomial random variable, using its variance to construct error bars or confidence intervals. This procedure provides a clear diagnostic of whether the reported posterior model probabilities match their empirical frequencies."
   ]
  },
  {
   "cell_type": "code",
   "execution_count": 1,
   "id": "7dcbfae2-f135-48a8-a5b5-87a8106b24ad",
   "metadata": {},
   "outputs": [],
   "source": [
    "import tbilby, bilby\n",
    "import numpy as np\n",
    "import matplotlib.pyplot as plt\n",
    "import corner\n",
    "import random\n",
    "from scipy.stats import norm"
   ]
  },
  {
   "cell_type": "markdown",
   "id": "c774bb14-9d6f-45e9-ac0c-be0cdbf9543b",
   "metadata": {},
   "source": [
    "Define the tbilby special prior"
   ]
  },
  {
   "cell_type": "code",
   "execution_count": 2,
   "id": "280c8a4e-c370-407b-9b20-f534f0b019cf",
   "metadata": {},
   "outputs": [],
   "source": [
    "# to define Transdimensional Conditional prior you need to inherit from the relevant prior\n",
    "class TransdimensionalConditionalUniform(tbilby.core.prior.TransdimensionalConditionalUniform):\n",
    "   # one must define the transdimensional_condition_function function, so we know what to do with conditional variables...  \n",
    "    # it is an abstract function; without it you can't instantiate this class \n",
    "    def transdimensional_condition_function(self,**required_variables):\n",
    "        ''' setting the minimum according to the last peak value of the gaussian.\n",
    "        # note that this class is not general in any sense, here you refer to the parameters you are \n",
    "        working with '''\n",
    "        # mu is returned as an array \n",
    "        \n",
    "        minimum = self.minimum\n",
    "        maximum = 100        \n",
    "        if(len(self.mu)>0): # handle the first mu case\n",
    "            minimum = self.mu[-1]   \n",
    "            maximum = 100*np.ones(self.mu[-1].shape)\n",
    "            \n",
    "            if isinstance(minimum, float):\n",
    "                if len(self.mu) >= self.n_gauss:\n",
    "                    minimum=-100\n",
    "                    maximum=0\n",
    "            else:                \n",
    "                minimum[len(self.mu) >= self.n_gauss]=-100\n",
    "                maximum[len(self.mu) >= self.n_gauss]=0\n",
    "                                          \n",
    "        return dict(minimum=minimum,maximum=maximum)\n",
    " "
   ]
  },
  {
   "cell_type": "markdown",
   "id": "f0d06d0a-70b3-4864-b445-b9121a73e9cf",
   "metadata": {},
   "source": [
    "define the rest of the needed functions and priors "
   ]
  },
  {
   "cell_type": "code",
   "execution_count": 5,
   "id": "0a674d3e-b977-42da-b49a-0403b35b21d2",
   "metadata": {},
   "outputs": [
    {
     "name": "stdout",
     "output_type": "stream",
     "text": [
      "dict_keys(['__name__', '__doc__', '__package__', '__loader__', '__spec__', '__file__', '__cached__', '__builtins__', 'np', 'pd', 'infer_parameters_from_function', 'bilby', 'DiscreteUniform', 'create_transdimensional_priors', '_create_priors_with_nested_condition_functions', 'create_transdimensional_model', 'create_plain_priors', 'extract_maximal_likelihood_param_values', '_fix_posterior_if_needed', 'preprocess_results', '_recluster_one_dim_posterior_experimental_use_it_wisely', '_group_params_by_numerical_ending', 'gauss'])\n",
      "creating file model.py. This file will not work as a standalone, you should use it as a referance and minor modifications, if requiered \n",
      "Warning: condition function will not be written to disk, a folder named: condition_functions is missing  \n",
      "Warning: condition function will not be written to disk, a folder named: condition_functions is missing  \n",
      "Warning: condition function will not be written to disk, a folder named: condition_functions is missing  \n",
      "Warning: condition function will not be written to disk, a folder named: condition_functions is missing  \n"
     ]
    }
   ],
   "source": [
    "# model \n",
    "n_peaks = 4\n",
    "sigma = 10\n",
    "Amp_noise = 0.05\n",
    "def gauss(x,mu,sigma_g):\n",
    "    return norm(mu,sigma_g).pdf(x)\n",
    "# here we define a model which could be a sum of several functions.. \n",
    "component_functions_dict = {}\n",
    "component_functions_dict[gauss] = (n_peaks,'mu')\n",
    "model = tbilby.core.base.create_transdimensional_model('model',  component_functions_dict,\\\n",
    "                                                       returns_polarization=False,SaveTofile=True)\n",
    "\n",
    "\n",
    "# priors \n",
    "priors_t = bilby.core.prior.dict.ConditionalPriorDict()\n",
    "priors_t['n_gauss'] = tbilby.core.prior.DiscreteUniform(1,n_peaks,'n_gauss')\n",
    "priors_t['sigma_g'] = sigma # set constant so we don't sample it \n",
    "# creates a list of conditional uniform priors, nested_conditional_transdimensional_params is used, \n",
    "# meaning you will get dependence mu2(mu1,mu0).. \n",
    "priors_t = tbilby.core.base.create_transdimensional_priors(transdimensional_prior_class=TransdimensionalConditionalUniform,\\\n",
    "                                                          param_name='mu',\\\n",
    "                                                          nmax= n_peaks,\\\n",
    "                                                          nested_conditional_transdimensional_params=['mu'],\\\n",
    "                                                          conditional_transdimensional_params=[],\\\n",
    "                                                          conditional_params=['n_gauss'],\\\n",
    "                                                          prior_dict_to_add=priors_t,\\\n",
    "                                                          SaveConditionFunctionsToFile=True,\\\n",
    "                                                          minimum= 0,maximum=100)"
   ]
  },
  {
   "cell_type": "code",
   "execution_count": 3,
   "id": "9752ff94-5b9b-432e-85a2-353ede1c6df2",
   "metadata": {},
   "outputs": [],
   "source": [
    "# define the needed things to carry out the analysis\n",
    "calibration_plot_bins = np.linspace(0.0, 1.0, 11)  # 10 bins: [0,0.1),[0.1,0.2),...,[0.9,1.0]\n",
    "B = len(calibration_plot_bins) - 1\n",
    "total_entries = np.zeros(B, dtype=int)\n",
    "correct_model = np.zeros(B, dtype=int)"
   ]
  },
  {
   "cell_type": "markdown",
   "id": "7cf30658-a991-4990-8590-bd7c20dc3d5a",
   "metadata": {},
   "source": [
    "Run the analysis: check that the stated probability means what we say it means  "
   ]
  },
  {
   "cell_type": "code",
   "execution_count": 6,
   "id": "bf155141-ae51-46a9-bcec-cf8ebb85420e",
   "metadata": {},
   "outputs": [
    {
     "name": "stderr",
     "output_type": "stream",
     "text": [
      "23:12 bilby INFO    : Running for label 'calibration_example', output will be saved to 'outdir'\n"
     ]
    },
    {
     "name": "stdout",
     "output_type": "stream",
     "text": [
      "n = 4\n"
     ]
    },
    {
     "name": "stderr",
     "output_type": "stream",
     "text": [
      "23:12 bilby INFO    : Analysis priors:\n",
      "23:12 bilby INFO    : n_gauss=DiscreteUniform(minimum=1, maximum=4, name='n_gauss', latex_label='n_gauss', unit=None, boundary=None)\n",
      "23:12 bilby INFO    : mu0=TransdimensionalConditionalUniform(name='mu0', componant_function_number=np.int64(0), nested_conditional_transdimensional_params=['mu'], conditional_transdimensional_params=[], conditional_params=['n_gauss'], debug_print_out=True, latex_label='mu0', unit=None, boundary=None, minimum=0, maximum=100)\n",
      "23:12 bilby INFO    : mu1=TransdimensionalConditionalUniform(name='mu1', componant_function_number=np.int64(1), nested_conditional_transdimensional_params=['mu'], conditional_transdimensional_params=[], conditional_params=['n_gauss'], debug_print_out=True, latex_label='mu1', unit=None, boundary=None, minimum=0, maximum=100)\n",
      "23:12 bilby INFO    : mu2=TransdimensionalConditionalUniform(name='mu2', componant_function_number=np.int64(2), nested_conditional_transdimensional_params=['mu'], conditional_transdimensional_params=[], conditional_params=['n_gauss'], debug_print_out=True, latex_label='mu2', unit=None, boundary=None, minimum=0, maximum=100)\n",
      "23:12 bilby INFO    : mu3=TransdimensionalConditionalUniform(name='mu3', componant_function_number=np.int64(3), nested_conditional_transdimensional_params=['mu'], conditional_transdimensional_params=[], conditional_params=['n_gauss'], debug_print_out=True, latex_label='mu3', unit=None, boundary=None, minimum=0, maximum=100)\n",
      "23:12 bilby INFO    : sigma_g=10\n",
      "23:12 bilby INFO    : Analysis likelihood class: <class 'bilby.core.likelihood.GaussianLikelihood'>\n",
      "23:12 bilby INFO    : Analysis likelihood noise evidence: nan\n",
      "23:12 bilby INFO    : Single likelihood evaluation took 7.310e-04 s\n",
      "23:12 bilby INFO    : Using sampler Dynesty with kwargs {'nlive': 20, 'bound': 'live', 'sample': 'act-walk', 'periodic': None, 'reflective': None, 'update_interval': 600, 'first_update': None, 'npdim': None, 'rstate': None, 'queue_size': 1, 'pool': None, 'use_pool': None, 'live_points': None, 'logl_args': None, 'logl_kwargs': None, 'ptform_args': None, 'ptform_kwargs': None, 'gradient': None, 'grad_args': None, 'grad_kwargs': None, 'compute_jac': False, 'enlarge': None, 'bootstrap': None, 'walks': 100, 'facc': 0.2, 'slices': None, 'fmove': 0.9, 'max_move': 100, 'update_func': None, 'ncdim': None, 'blob': False, 'save_history': False, 'history_filename': None, 'maxiter': None, 'maxcall': None, 'dlogz': 0.1, 'logl_max': inf, 'n_effective': None, 'add_live': True, 'print_progress': True, 'print_func': <bound method Dynesty._print_func of <bilby.core.sampler.dynesty.Dynesty object at 0x10455e810>>, 'save_bounds': False, 'checkpoint_file': None, 'checkpoint_every': 60, 'resume': False, 'seed': None}\n",
      "23:12 bilby INFO    : Global meta data was removed from the result object for compatibility. Use the `BILBY_INCLUDE_GLOBAL_METADATA` environment variable to include it. This behaviour will be removed in a future release. For more details see: https://bilby-dev.github.io/bilby/faq.html#global-meta-data\n",
      "23:12 bilby INFO    : Checkpoint every check_point_delta_t = 600s\n",
      "23:12 bilby INFO    : Using dynesty version 2.1.5\n",
      "23:12 bilby INFO    : Using the bilby-implemented act-walk sampling tracking the autocorrelation function and thinning by 2 with maximum length 10000\n",
      "23:12 bilby INFO    : Generating initial points from the prior\n",
      "/Users/ngut0001/anaconda3/lib/python3.11/site-packages/tqdm/auto.py:21: TqdmWarning: IProgress not found. Please update jupyter and ipywidgets. See https://ipywidgets.readthedocs.io/en/stable/user_install.html\n",
      "  from .autonotebook import tqdm as notebook_tqdm\n"
     ]
    },
    {
     "name": "stdout",
     "output_type": "stream",
     "text": [
      "216it [00:15,  9.51it/s, bound:16 nc: 65 ncall:1.0e+04 eff:2.1% logz=492.04+/-0.58 dlogz:0.105>0.1]"
     ]
    },
    {
     "name": "stderr",
     "output_type": "stream",
     "text": [
      "23:13 bilby INFO    : Written checkpoint file outdir/calibration_example_resume.pickle\n"
     ]
    },
    {
     "name": "stdout",
     "output_type": "stream",
     "text": [
      "217it [00:17, 12.66it/s, bound:16 nc:  1 ncall:1.1e+04 eff:2.3% logz=492.13+/-0.58 dlogz:0.00455>0.1]"
     ]
    },
    {
     "name": "stderr",
     "output_type": "stream",
     "text": [
      "23:13 bilby INFO    : Rejection sampling nested samples to obtain 50 posterior samples\n",
      "23:13 bilby INFO    : Sampling time: 0:00:17.063087\n"
     ]
    },
    {
     "name": "stdout",
     "output_type": "stream",
     "text": [
      "\n",
      "\n"
     ]
    },
    {
     "name": "stderr",
     "output_type": "stream",
     "text": [
      "23:13 bilby INFO    : Summary of results:\n",
      "nsamples: 50\n",
      "ln_noise_evidence:    nan\n",
      "ln_evidence: 492.125 +/-  0.637\n",
      "ln_bayes_factor:    nan +/-  0.637\n",
      "\n",
      "23:13 bilby INFO    : Running for label 'calibration_example', output will be saved to 'outdir'\n"
     ]
    },
    {
     "name": "stdout",
     "output_type": "stream",
     "text": [
      "n = 2\n"
     ]
    },
    {
     "name": "stderr",
     "output_type": "stream",
     "text": [
      "23:13 bilby INFO    : Analysis priors:\n",
      "23:13 bilby INFO    : n_gauss=DiscreteUniform(minimum=1, maximum=4, name='n_gauss', latex_label='n_gauss', unit=None, boundary=None)\n",
      "23:13 bilby INFO    : mu0=TransdimensionalConditionalUniform(name='mu0', componant_function_number=np.int64(0), nested_conditional_transdimensional_params=['mu'], conditional_transdimensional_params=[], conditional_params=['n_gauss'], debug_print_out=True, latex_label='mu0', unit=None, boundary=None, minimum=0, maximum=100)\n",
      "23:13 bilby INFO    : mu1=TransdimensionalConditionalUniform(name='mu1', componant_function_number=np.int64(1), nested_conditional_transdimensional_params=['mu'], conditional_transdimensional_params=[], conditional_params=['n_gauss'], debug_print_out=True, latex_label='mu1', unit=None, boundary=None, minimum=0, maximum=100)\n",
      "23:13 bilby INFO    : mu2=TransdimensionalConditionalUniform(name='mu2', componant_function_number=np.int64(2), nested_conditional_transdimensional_params=['mu'], conditional_transdimensional_params=[], conditional_params=['n_gauss'], debug_print_out=True, latex_label='mu2', unit=None, boundary=None, minimum=0, maximum=100)\n",
      "23:13 bilby INFO    : mu3=TransdimensionalConditionalUniform(name='mu3', componant_function_number=np.int64(3), nested_conditional_transdimensional_params=['mu'], conditional_transdimensional_params=[], conditional_params=['n_gauss'], debug_print_out=True, latex_label='mu3', unit=None, boundary=None, minimum=0, maximum=100)\n",
      "23:13 bilby INFO    : sigma_g=10\n",
      "23:13 bilby INFO    : Analysis likelihood class: <class 'bilby.core.likelihood.GaussianLikelihood'>\n",
      "23:13 bilby INFO    : Analysis likelihood noise evidence: nan\n",
      "23:13 bilby INFO    : Single likelihood evaluation took 7.068e-04 s\n",
      "23:13 bilby INFO    : Using sampler Dynesty with kwargs {'nlive': 20, 'bound': 'live', 'sample': 'act-walk', 'periodic': None, 'reflective': None, 'update_interval': 600, 'first_update': None, 'npdim': None, 'rstate': None, 'queue_size': 1, 'pool': None, 'use_pool': None, 'live_points': None, 'logl_args': None, 'logl_kwargs': None, 'ptform_args': None, 'ptform_kwargs': None, 'gradient': None, 'grad_args': None, 'grad_kwargs': None, 'compute_jac': False, 'enlarge': None, 'bootstrap': None, 'walks': 100, 'facc': 0.2, 'slices': None, 'fmove': 0.9, 'max_move': 100, 'update_func': None, 'ncdim': None, 'blob': False, 'save_history': False, 'history_filename': None, 'maxiter': None, 'maxcall': None, 'dlogz': 0.1, 'logl_max': inf, 'n_effective': None, 'add_live': True, 'print_progress': True, 'print_func': <bound method Dynesty._print_func of <bilby.core.sampler.dynesty.Dynesty object at 0x318563f90>>, 'save_bounds': False, 'checkpoint_file': None, 'checkpoint_every': 60, 'resume': False, 'seed': None}\n",
      "23:13 bilby INFO    : Global meta data was removed from the result object for compatibility. Use the `BILBY_INCLUDE_GLOBAL_METADATA` environment variable to include it. This behaviour will be removed in a future release. For more details see: https://bilby-dev.github.io/bilby/faq.html#global-meta-data\n",
      "23:13 bilby INFO    : Checkpoint every check_point_delta_t = 600s\n",
      "23:13 bilby INFO    : Using dynesty version 2.1.5\n",
      "23:13 bilby INFO    : Using the bilby-implemented act-walk sampling tracking the autocorrelation function and thinning by 2 with maximum length 10000\n",
      "23:13 bilby INFO    : Generating initial points from the prior\n"
     ]
    },
    {
     "name": "stdout",
     "output_type": "stream",
     "text": [
      "104it [00:02, 47.10it/s, bound:4 nc: 20 ncall:2.5e+03 eff:4.1% logz=490.22+/-0.34 dlogz:0.135>0.1]"
     ]
    },
    {
     "name": "stderr",
     "output_type": "stream",
     "text": [
      "23:13 bilby INFO    : Written checkpoint file outdir/calibration_example_resume.pickle\n"
     ]
    },
    {
     "name": "stdout",
     "output_type": "stream",
     "text": [
      "109it [00:03, 29.14it/s, bound:4 nc:  1 ncall:2.7e+03 eff:4.9% logz=490.34+/-0.33 dlogz:0.00451>0.1]"
     ]
    },
    {
     "name": "stderr",
     "output_type": "stream",
     "text": [
      "23:13 bilby INFO    : Rejection sampling nested samples to obtain 48 posterior samples\n",
      "23:13 bilby INFO    : Sampling time: 0:00:03.706011\n",
      "23:13 bilby INFO    : Summary of results:\n",
      "nsamples: 48\n",
      "ln_noise_evidence:    nan\n",
      "ln_evidence: 490.342 +/-  0.375\n",
      "ln_bayes_factor:    nan +/-  0.375\n",
      "\n",
      "23:13 bilby INFO    : Running for label 'calibration_example', output will be saved to 'outdir'\n"
     ]
    },
    {
     "name": "stdout",
     "output_type": "stream",
     "text": [
      "\n",
      "\n",
      "n = 4\n"
     ]
    },
    {
     "name": "stderr",
     "output_type": "stream",
     "text": [
      "23:13 bilby INFO    : Analysis priors:\n",
      "23:13 bilby INFO    : n_gauss=DiscreteUniform(minimum=1, maximum=4, name='n_gauss', latex_label='n_gauss', unit=None, boundary=None)\n",
      "23:13 bilby INFO    : mu0=TransdimensionalConditionalUniform(name='mu0', componant_function_number=np.int64(0), nested_conditional_transdimensional_params=['mu'], conditional_transdimensional_params=[], conditional_params=['n_gauss'], debug_print_out=True, latex_label='mu0', unit=None, boundary=None, minimum=0, maximum=100)\n",
      "23:13 bilby INFO    : mu1=TransdimensionalConditionalUniform(name='mu1', componant_function_number=np.int64(1), nested_conditional_transdimensional_params=['mu'], conditional_transdimensional_params=[], conditional_params=['n_gauss'], debug_print_out=True, latex_label='mu1', unit=None, boundary=None, minimum=0, maximum=100)\n",
      "23:13 bilby INFO    : mu2=TransdimensionalConditionalUniform(name='mu2', componant_function_number=np.int64(2), nested_conditional_transdimensional_params=['mu'], conditional_transdimensional_params=[], conditional_params=['n_gauss'], debug_print_out=True, latex_label='mu2', unit=None, boundary=None, minimum=0, maximum=100)\n",
      "23:13 bilby INFO    : mu3=TransdimensionalConditionalUniform(name='mu3', componant_function_number=np.int64(3), nested_conditional_transdimensional_params=['mu'], conditional_transdimensional_params=[], conditional_params=['n_gauss'], debug_print_out=True, latex_label='mu3', unit=None, boundary=None, minimum=0, maximum=100)\n",
      "23:13 bilby INFO    : sigma_g=10\n",
      "23:13 bilby INFO    : Analysis likelihood class: <class 'bilby.core.likelihood.GaussianLikelihood'>\n",
      "23:13 bilby INFO    : Analysis likelihood noise evidence: nan\n",
      "23:13 bilby INFO    : Single likelihood evaluation took 7.980e-04 s\n",
      "23:13 bilby INFO    : Using sampler Dynesty with kwargs {'nlive': 20, 'bound': 'live', 'sample': 'act-walk', 'periodic': None, 'reflective': None, 'update_interval': 600, 'first_update': None, 'npdim': None, 'rstate': None, 'queue_size': 1, 'pool': None, 'use_pool': None, 'live_points': None, 'logl_args': None, 'logl_kwargs': None, 'ptform_args': None, 'ptform_kwargs': None, 'gradient': None, 'grad_args': None, 'grad_kwargs': None, 'compute_jac': False, 'enlarge': None, 'bootstrap': None, 'walks': 100, 'facc': 0.2, 'slices': None, 'fmove': 0.9, 'max_move': 100, 'update_func': None, 'ncdim': None, 'blob': False, 'save_history': False, 'history_filename': None, 'maxiter': None, 'maxcall': None, 'dlogz': 0.1, 'logl_max': inf, 'n_effective': None, 'add_live': True, 'print_progress': True, 'print_func': <bound method Dynesty._print_func of <bilby.core.sampler.dynesty.Dynesty object at 0x318bc0d10>>, 'save_bounds': False, 'checkpoint_file': None, 'checkpoint_every': 60, 'resume': False, 'seed': None}\n",
      "23:13 bilby INFO    : Global meta data was removed from the result object for compatibility. Use the `BILBY_INCLUDE_GLOBAL_METADATA` environment variable to include it. This behaviour will be removed in a future release. For more details see: https://bilby-dev.github.io/bilby/faq.html#global-meta-data\n",
      "23:13 bilby INFO    : Checkpoint every check_point_delta_t = 600s\n",
      "23:13 bilby INFO    : Using dynesty version 2.1.5\n",
      "23:13 bilby INFO    : Using the bilby-implemented act-walk sampling tracking the autocorrelation function and thinning by 2 with maximum length 10000\n",
      "23:13 bilby INFO    : Generating initial points from the prior\n"
     ]
    },
    {
     "name": "stdout",
     "output_type": "stream",
     "text": [
      "189it [00:12,  9.31it/s, bound:12 nc: 74 ncall:8.0e+03 eff:2.3% logz=459.17+/-0.53 dlogz:0.206>0.1]"
     ]
    },
    {
     "name": "stderr",
     "output_type": "stream",
     "text": [
      "23:13 bilby INFO    : Written checkpoint file outdir/calibration_example_resume.pickle\n"
     ]
    },
    {
     "name": "stdout",
     "output_type": "stream",
     "text": [
      "203it [00:13, 14.71it/s, bound:14 nc:  1 ncall:9.1e+03 eff:2.5% logz=459.30+/-0.54 dlogz:0.00456>0.1]"
     ]
    },
    {
     "name": "stderr",
     "output_type": "stream",
     "text": [
      "23:13 bilby INFO    : Rejection sampling nested samples to obtain 55 posterior samples\n",
      "23:13 bilby INFO    : Sampling time: 0:00:13.736470\n",
      "23:13 bilby INFO    : Summary of results:\n",
      "nsamples: 55\n",
      "ln_noise_evidence:    nan\n",
      "ln_evidence: 459.302 +/-  0.589\n",
      "ln_bayes_factor:    nan +/-  0.589\n",
      "\n",
      "23:13 bilby INFO    : Running for label 'calibration_example', output will be saved to 'outdir'\n"
     ]
    },
    {
     "name": "stdout",
     "output_type": "stream",
     "text": [
      "\n",
      "\n",
      "n = 4\n"
     ]
    },
    {
     "name": "stderr",
     "output_type": "stream",
     "text": [
      "23:13 bilby INFO    : Analysis priors:\n",
      "23:13 bilby INFO    : n_gauss=DiscreteUniform(minimum=1, maximum=4, name='n_gauss', latex_label='n_gauss', unit=None, boundary=None)\n",
      "23:13 bilby INFO    : mu0=TransdimensionalConditionalUniform(name='mu0', componant_function_number=np.int64(0), nested_conditional_transdimensional_params=['mu'], conditional_transdimensional_params=[], conditional_params=['n_gauss'], debug_print_out=True, latex_label='mu0', unit=None, boundary=None, minimum=0, maximum=100)\n",
      "23:13 bilby INFO    : mu1=TransdimensionalConditionalUniform(name='mu1', componant_function_number=np.int64(1), nested_conditional_transdimensional_params=['mu'], conditional_transdimensional_params=[], conditional_params=['n_gauss'], debug_print_out=True, latex_label='mu1', unit=None, boundary=None, minimum=0, maximum=100)\n",
      "23:13 bilby INFO    : mu2=TransdimensionalConditionalUniform(name='mu2', componant_function_number=np.int64(2), nested_conditional_transdimensional_params=['mu'], conditional_transdimensional_params=[], conditional_params=['n_gauss'], debug_print_out=True, latex_label='mu2', unit=None, boundary=None, minimum=0, maximum=100)\n",
      "23:13 bilby INFO    : mu3=TransdimensionalConditionalUniform(name='mu3', componant_function_number=np.int64(3), nested_conditional_transdimensional_params=['mu'], conditional_transdimensional_params=[], conditional_params=['n_gauss'], debug_print_out=True, latex_label='mu3', unit=None, boundary=None, minimum=0, maximum=100)\n",
      "23:13 bilby INFO    : sigma_g=10\n",
      "23:13 bilby INFO    : Analysis likelihood class: <class 'bilby.core.likelihood.GaussianLikelihood'>\n",
      "23:13 bilby INFO    : Analysis likelihood noise evidence: nan\n",
      "23:13 bilby INFO    : Single likelihood evaluation took 7.872e-04 s\n",
      "23:13 bilby INFO    : Using sampler Dynesty with kwargs {'nlive': 20, 'bound': 'live', 'sample': 'act-walk', 'periodic': None, 'reflective': None, 'update_interval': 600, 'first_update': None, 'npdim': None, 'rstate': None, 'queue_size': 1, 'pool': None, 'use_pool': None, 'live_points': None, 'logl_args': None, 'logl_kwargs': None, 'ptform_args': None, 'ptform_kwargs': None, 'gradient': None, 'grad_args': None, 'grad_kwargs': None, 'compute_jac': False, 'enlarge': None, 'bootstrap': None, 'walks': 100, 'facc': 0.2, 'slices': None, 'fmove': 0.9, 'max_move': 100, 'update_func': None, 'ncdim': None, 'blob': False, 'save_history': False, 'history_filename': None, 'maxiter': None, 'maxcall': None, 'dlogz': 0.1, 'logl_max': inf, 'n_effective': None, 'add_live': True, 'print_progress': True, 'print_func': <bound method Dynesty._print_func of <bilby.core.sampler.dynesty.Dynesty object at 0x318d2e810>>, 'save_bounds': False, 'checkpoint_file': None, 'checkpoint_every': 60, 'resume': False, 'seed': None}\n",
      "23:13 bilby INFO    : Global meta data was removed from the result object for compatibility. Use the `BILBY_INCLUDE_GLOBAL_METADATA` environment variable to include it. This behaviour will be removed in a future release. For more details see: https://bilby-dev.github.io/bilby/faq.html#global-meta-data\n",
      "23:13 bilby INFO    : Checkpoint every check_point_delta_t = 600s\n",
      "23:13 bilby INFO    : Using dynesty version 2.1.5\n",
      "23:13 bilby INFO    : Using the bilby-implemented act-walk sampling tracking the autocorrelation function and thinning by 2 with maximum length 10000\n",
      "23:13 bilby INFO    : Generating initial points from the prior\n"
     ]
    },
    {
     "name": "stdout",
     "output_type": "stream",
     "text": [
      "247it [00:17, 12.59it/s, bound:16 nc: 35 ncall:1.0e+04 eff:2.4% logz=463.97+/-0.65 dlogz:0.153>0.1]"
     ]
    },
    {
     "name": "stderr",
     "output_type": "stream",
     "text": [
      "23:13 bilby INFO    : Written checkpoint file outdir/calibration_example_resume.pickle\n"
     ]
    },
    {
     "name": "stdout",
     "output_type": "stream",
     "text": [
      "255it [00:18, 13.71it/s, bound:16 nc:  1 ncall:1.1e+04 eff:2.6% logz=464.09+/-0.65 dlogz:0.00446>0.1]"
     ]
    },
    {
     "name": "stderr",
     "output_type": "stream",
     "text": [
      "23:13 bilby INFO    : Rejection sampling nested samples to obtain 45 posterior samples\n",
      "23:13 bilby INFO    : Sampling time: 0:00:18.525876\n",
      "23:13 bilby INFO    : Summary of results:\n",
      "nsamples: 45\n",
      "ln_noise_evidence:    nan\n",
      "ln_evidence: 464.088 +/-  0.710\n",
      "ln_bayes_factor:    nan +/-  0.710\n",
      "\n",
      "23:13 bilby INFO    : Running for label 'calibration_example', output will be saved to 'outdir'\n"
     ]
    },
    {
     "name": "stdout",
     "output_type": "stream",
     "text": [
      "\n",
      "\n",
      "n = 3\n"
     ]
    },
    {
     "name": "stderr",
     "output_type": "stream",
     "text": [
      "23:13 bilby INFO    : Analysis priors:\n",
      "23:13 bilby INFO    : n_gauss=DiscreteUniform(minimum=1, maximum=4, name='n_gauss', latex_label='n_gauss', unit=None, boundary=None)\n",
      "23:13 bilby INFO    : mu0=TransdimensionalConditionalUniform(name='mu0', componant_function_number=np.int64(0), nested_conditional_transdimensional_params=['mu'], conditional_transdimensional_params=[], conditional_params=['n_gauss'], debug_print_out=True, latex_label='mu0', unit=None, boundary=None, minimum=0, maximum=100)\n",
      "23:13 bilby INFO    : mu1=TransdimensionalConditionalUniform(name='mu1', componant_function_number=np.int64(1), nested_conditional_transdimensional_params=['mu'], conditional_transdimensional_params=[], conditional_params=['n_gauss'], debug_print_out=True, latex_label='mu1', unit=None, boundary=None, minimum=0, maximum=100)\n",
      "23:13 bilby INFO    : mu2=TransdimensionalConditionalUniform(name='mu2', componant_function_number=np.int64(2), nested_conditional_transdimensional_params=['mu'], conditional_transdimensional_params=[], conditional_params=['n_gauss'], debug_print_out=True, latex_label='mu2', unit=None, boundary=None, minimum=0, maximum=100)\n",
      "23:13 bilby INFO    : mu3=TransdimensionalConditionalUniform(name='mu3', componant_function_number=np.int64(3), nested_conditional_transdimensional_params=['mu'], conditional_transdimensional_params=[], conditional_params=['n_gauss'], debug_print_out=True, latex_label='mu3', unit=None, boundary=None, minimum=0, maximum=100)\n",
      "23:13 bilby INFO    : sigma_g=10\n",
      "23:13 bilby INFO    : Analysis likelihood class: <class 'bilby.core.likelihood.GaussianLikelihood'>\n",
      "23:13 bilby INFO    : Analysis likelihood noise evidence: nan\n",
      "23:13 bilby INFO    : Single likelihood evaluation took 7.881e-04 s\n",
      "23:13 bilby INFO    : Using sampler Dynesty with kwargs {'nlive': 20, 'bound': 'live', 'sample': 'act-walk', 'periodic': None, 'reflective': None, 'update_interval': 600, 'first_update': None, 'npdim': None, 'rstate': None, 'queue_size': 1, 'pool': None, 'use_pool': None, 'live_points': None, 'logl_args': None, 'logl_kwargs': None, 'ptform_args': None, 'ptform_kwargs': None, 'gradient': None, 'grad_args': None, 'grad_kwargs': None, 'compute_jac': False, 'enlarge': None, 'bootstrap': None, 'walks': 100, 'facc': 0.2, 'slices': None, 'fmove': 0.9, 'max_move': 100, 'update_func': None, 'ncdim': None, 'blob': False, 'save_history': False, 'history_filename': None, 'maxiter': None, 'maxcall': None, 'dlogz': 0.1, 'logl_max': inf, 'n_effective': None, 'add_live': True, 'print_progress': True, 'print_func': <bound method Dynesty._print_func of <bilby.core.sampler.dynesty.Dynesty object at 0x31bf40dd0>>, 'save_bounds': False, 'checkpoint_file': None, 'checkpoint_every': 60, 'resume': False, 'seed': None}\n",
      "23:13 bilby INFO    : Global meta data was removed from the result object for compatibility. Use the `BILBY_INCLUDE_GLOBAL_METADATA` environment variable to include it. This behaviour will be removed in a future release. For more details see: https://bilby-dev.github.io/bilby/faq.html#global-meta-data\n",
      "23:13 bilby INFO    : Checkpoint every check_point_delta_t = 600s\n",
      "23:13 bilby INFO    : Using dynesty version 2.1.5\n",
      "23:13 bilby INFO    : Using the bilby-implemented act-walk sampling tracking the autocorrelation function and thinning by 2 with maximum length 10000\n",
      "23:13 bilby INFO    : Generating initial points from the prior\n"
     ]
    },
    {
     "name": "stdout",
     "output_type": "stream",
     "text": [
      "136it [00:12,  7.14it/s, bound:13 nc: 94 ncall:9.8e+03 eff:1.4% logz=460.21+/-0.37 dlogz:0.115>0.1]"
     ]
    },
    {
     "name": "stderr",
     "output_type": "stream",
     "text": [
      "23:14 bilby INFO    : Written checkpoint file outdir/calibration_example_resume.pickle\n"
     ]
    },
    {
     "name": "stdout",
     "output_type": "stream",
     "text": [
      "139it [00:14,  9.71it/s, bound:14 nc:  1 ncall:1.0e+04 eff:1.6% logz=460.29+/-0.37 dlogz:0.00452>0.1]"
     ]
    },
    {
     "name": "stderr",
     "output_type": "stream",
     "text": [
      "23:14 bilby INFO    : Rejection sampling nested samples to obtain 45 posterior samples\n",
      "23:14 bilby INFO    : Sampling time: 0:00:14.211309\n",
      "23:14 bilby INFO    : Summary of results:\n",
      "nsamples: 45\n",
      "ln_noise_evidence:    nan\n",
      "ln_evidence: 460.289 +/-  0.415\n",
      "ln_bayes_factor:    nan +/-  0.415\n",
      "\n",
      "23:14 bilby INFO    : Running for label 'calibration_example', output will be saved to 'outdir'\n"
     ]
    },
    {
     "name": "stdout",
     "output_type": "stream",
     "text": [
      "\n",
      "\n",
      "n = 3\n"
     ]
    },
    {
     "name": "stderr",
     "output_type": "stream",
     "text": [
      "23:14 bilby INFO    : Analysis priors:\n",
      "23:14 bilby INFO    : n_gauss=DiscreteUniform(minimum=1, maximum=4, name='n_gauss', latex_label='n_gauss', unit=None, boundary=None)\n",
      "23:14 bilby INFO    : mu0=TransdimensionalConditionalUniform(name='mu0', componant_function_number=np.int64(0), nested_conditional_transdimensional_params=['mu'], conditional_transdimensional_params=[], conditional_params=['n_gauss'], debug_print_out=True, latex_label='mu0', unit=None, boundary=None, minimum=0, maximum=100)\n",
      "23:14 bilby INFO    : mu1=TransdimensionalConditionalUniform(name='mu1', componant_function_number=np.int64(1), nested_conditional_transdimensional_params=['mu'], conditional_transdimensional_params=[], conditional_params=['n_gauss'], debug_print_out=True, latex_label='mu1', unit=None, boundary=None, minimum=0, maximum=100)\n",
      "23:14 bilby INFO    : mu2=TransdimensionalConditionalUniform(name='mu2', componant_function_number=np.int64(2), nested_conditional_transdimensional_params=['mu'], conditional_transdimensional_params=[], conditional_params=['n_gauss'], debug_print_out=True, latex_label='mu2', unit=None, boundary=None, minimum=0, maximum=100)\n",
      "23:14 bilby INFO    : mu3=TransdimensionalConditionalUniform(name='mu3', componant_function_number=np.int64(3), nested_conditional_transdimensional_params=['mu'], conditional_transdimensional_params=[], conditional_params=['n_gauss'], debug_print_out=True, latex_label='mu3', unit=None, boundary=None, minimum=0, maximum=100)\n",
      "23:14 bilby INFO    : sigma_g=10\n",
      "23:14 bilby INFO    : Analysis likelihood class: <class 'bilby.core.likelihood.GaussianLikelihood'>\n",
      "23:14 bilby INFO    : Analysis likelihood noise evidence: nan\n",
      "23:14 bilby INFO    : Single likelihood evaluation took 7.618e-04 s\n",
      "23:14 bilby INFO    : Using sampler Dynesty with kwargs {'nlive': 20, 'bound': 'live', 'sample': 'act-walk', 'periodic': None, 'reflective': None, 'update_interval': 600, 'first_update': None, 'npdim': None, 'rstate': None, 'queue_size': 1, 'pool': None, 'use_pool': None, 'live_points': None, 'logl_args': None, 'logl_kwargs': None, 'ptform_args': None, 'ptform_kwargs': None, 'gradient': None, 'grad_args': None, 'grad_kwargs': None, 'compute_jac': False, 'enlarge': None, 'bootstrap': None, 'walks': 100, 'facc': 0.2, 'slices': None, 'fmove': 0.9, 'max_move': 100, 'update_func': None, 'ncdim': None, 'blob': False, 'save_history': False, 'history_filename': None, 'maxiter': None, 'maxcall': None, 'dlogz': 0.1, 'logl_max': inf, 'n_effective': None, 'add_live': True, 'print_progress': True, 'print_func': <bound method Dynesty._print_func of <bilby.core.sampler.dynesty.Dynesty object at 0x31cca8b10>>, 'save_bounds': False, 'checkpoint_file': None, 'checkpoint_every': 60, 'resume': False, 'seed': None}\n",
      "23:14 bilby INFO    : Global meta data was removed from the result object for compatibility. Use the `BILBY_INCLUDE_GLOBAL_METADATA` environment variable to include it. This behaviour will be removed in a future release. For more details see: https://bilby-dev.github.io/bilby/faq.html#global-meta-data\n",
      "23:14 bilby INFO    : Checkpoint every check_point_delta_t = 600s\n",
      "23:14 bilby INFO    : Using dynesty version 2.1.5\n",
      "23:14 bilby INFO    : Using the bilby-implemented act-walk sampling tracking the autocorrelation function and thinning by 2 with maximum length 10000\n",
      "23:14 bilby INFO    : Generating initial points from the prior\n"
     ]
    },
    {
     "name": "stdout",
     "output_type": "stream",
     "text": [
      "183it [00:14, 13.31it/s, bound:17 nc: 47 ncall:1.1e+04 eff:1.6% logz=479.02+/-0.49 dlogz:0.111>0.1]"
     ]
    },
    {
     "name": "stderr",
     "output_type": "stream",
     "text": [
      "23:14 bilby INFO    : Written checkpoint file outdir/calibration_example_resume.pickle\n"
     ]
    },
    {
     "name": "stdout",
     "output_type": "stream",
     "text": [
      "185it [00:15, 11.57it/s, bound:17 nc:  1 ncall:1.1e+04 eff:1.8% logz=479.12+/-0.50 dlogz:0.00439>0.1]"
     ]
    },
    {
     "name": "stderr",
     "output_type": "stream",
     "text": [
      "23:14 bilby INFO    : Rejection sampling nested samples to obtain 76 posterior samples\n",
      "23:14 bilby INFO    : Sampling time: 0:00:15.898585\n",
      "23:14 bilby INFO    : Summary of results:\n",
      "nsamples: 76\n",
      "ln_noise_evidence:    nan\n",
      "ln_evidence: 479.116 +/-  0.545\n",
      "ln_bayes_factor:    nan +/-  0.545\n",
      "\n",
      "23:14 bilby INFO    : Running for label 'calibration_example', output will be saved to 'outdir'\n"
     ]
    },
    {
     "name": "stdout",
     "output_type": "stream",
     "text": [
      "\n",
      "\n",
      "n = 2\n"
     ]
    },
    {
     "name": "stderr",
     "output_type": "stream",
     "text": [
      "23:14 bilby INFO    : Analysis priors:\n",
      "23:14 bilby INFO    : n_gauss=DiscreteUniform(minimum=1, maximum=4, name='n_gauss', latex_label='n_gauss', unit=None, boundary=None)\n",
      "23:14 bilby INFO    : mu0=TransdimensionalConditionalUniform(name='mu0', componant_function_number=np.int64(0), nested_conditional_transdimensional_params=['mu'], conditional_transdimensional_params=[], conditional_params=['n_gauss'], debug_print_out=True, latex_label='mu0', unit=None, boundary=None, minimum=0, maximum=100)\n",
      "23:14 bilby INFO    : mu1=TransdimensionalConditionalUniform(name='mu1', componant_function_number=np.int64(1), nested_conditional_transdimensional_params=['mu'], conditional_transdimensional_params=[], conditional_params=['n_gauss'], debug_print_out=True, latex_label='mu1', unit=None, boundary=None, minimum=0, maximum=100)\n",
      "23:14 bilby INFO    : mu2=TransdimensionalConditionalUniform(name='mu2', componant_function_number=np.int64(2), nested_conditional_transdimensional_params=['mu'], conditional_transdimensional_params=[], conditional_params=['n_gauss'], debug_print_out=True, latex_label='mu2', unit=None, boundary=None, minimum=0, maximum=100)\n",
      "23:14 bilby INFO    : mu3=TransdimensionalConditionalUniform(name='mu3', componant_function_number=np.int64(3), nested_conditional_transdimensional_params=['mu'], conditional_transdimensional_params=[], conditional_params=['n_gauss'], debug_print_out=True, latex_label='mu3', unit=None, boundary=None, minimum=0, maximum=100)\n",
      "23:14 bilby INFO    : sigma_g=10\n",
      "23:14 bilby INFO    : Analysis likelihood class: <class 'bilby.core.likelihood.GaussianLikelihood'>\n",
      "23:14 bilby INFO    : Analysis likelihood noise evidence: nan\n",
      "23:14 bilby INFO    : Single likelihood evaluation took 8.024e-04 s\n",
      "23:14 bilby INFO    : Using sampler Dynesty with kwargs {'nlive': 20, 'bound': 'live', 'sample': 'act-walk', 'periodic': None, 'reflective': None, 'update_interval': 600, 'first_update': None, 'npdim': None, 'rstate': None, 'queue_size': 1, 'pool': None, 'use_pool': None, 'live_points': None, 'logl_args': None, 'logl_kwargs': None, 'ptform_args': None, 'ptform_kwargs': None, 'gradient': None, 'grad_args': None, 'grad_kwargs': None, 'compute_jac': False, 'enlarge': None, 'bootstrap': None, 'walks': 100, 'facc': 0.2, 'slices': None, 'fmove': 0.9, 'max_move': 100, 'update_func': None, 'ncdim': None, 'blob': False, 'save_history': False, 'history_filename': None, 'maxiter': None, 'maxcall': None, 'dlogz': 0.1, 'logl_max': inf, 'n_effective': None, 'add_live': True, 'print_progress': True, 'print_func': <bound method Dynesty._print_func of <bilby.core.sampler.dynesty.Dynesty object at 0x31f9be4d0>>, 'save_bounds': False, 'checkpoint_file': None, 'checkpoint_every': 60, 'resume': False, 'seed': None}\n",
      "23:14 bilby INFO    : Global meta data was removed from the result object for compatibility. Use the `BILBY_INCLUDE_GLOBAL_METADATA` environment variable to include it. This behaviour will be removed in a future release. For more details see: https://bilby-dev.github.io/bilby/faq.html#global-meta-data\n",
      "23:14 bilby INFO    : Checkpoint every check_point_delta_t = 600s\n",
      "23:14 bilby INFO    : Using dynesty version 2.1.5\n",
      "23:14 bilby INFO    : Using the bilby-implemented act-walk sampling tracking the autocorrelation function and thinning by 2 with maximum length 10000\n",
      "23:14 bilby INFO    : Generating initial points from the prior\n"
     ]
    },
    {
     "name": "stdout",
     "output_type": "stream",
     "text": [
      "125it [00:03, 29.10it/s, bound:5 nc: 33 ncall:3.7e+03 eff:3.4% logz=486.09+/-0.37 dlogz:0.172>0.1]"
     ]
    },
    {
     "name": "stderr",
     "output_type": "stream",
     "text": [
      "23:14 bilby INFO    : Written checkpoint file outdir/calibration_example_resume.pickle\n"
     ]
    },
    {
     "name": "stdout",
     "output_type": "stream",
     "text": [
      "135it [00:04, 27.01it/s, bound:6 nc:  1 ncall:4.0e+03 eff:3.9% logz=486.24+/-0.38 dlogz:0.00455>0.1]"
     ]
    },
    {
     "name": "stderr",
     "output_type": "stream",
     "text": [
      "23:14 bilby INFO    : Rejection sampling nested samples to obtain 55 posterior samples\n",
      "23:14 bilby INFO    : Sampling time: 0:00:04.961381\n",
      "23:14 bilby INFO    : Summary of results:\n",
      "nsamples: 55\n",
      "ln_noise_evidence:    nan\n",
      "ln_evidence: 486.237 +/-  0.422\n",
      "ln_bayes_factor:    nan +/-  0.422\n",
      "\n",
      "23:14 bilby INFO    : Running for label 'calibration_example', output will be saved to 'outdir'\n"
     ]
    },
    {
     "name": "stdout",
     "output_type": "stream",
     "text": [
      "\n",
      "\n",
      "n = 4\n"
     ]
    },
    {
     "name": "stderr",
     "output_type": "stream",
     "text": [
      "23:14 bilby INFO    : Analysis priors:\n",
      "23:14 bilby INFO    : n_gauss=DiscreteUniform(minimum=1, maximum=4, name='n_gauss', latex_label='n_gauss', unit=None, boundary=None)\n",
      "23:14 bilby INFO    : mu0=TransdimensionalConditionalUniform(name='mu0', componant_function_number=np.int64(0), nested_conditional_transdimensional_params=['mu'], conditional_transdimensional_params=[], conditional_params=['n_gauss'], debug_print_out=True, latex_label='mu0', unit=None, boundary=None, minimum=0, maximum=100)\n",
      "23:14 bilby INFO    : mu1=TransdimensionalConditionalUniform(name='mu1', componant_function_number=np.int64(1), nested_conditional_transdimensional_params=['mu'], conditional_transdimensional_params=[], conditional_params=['n_gauss'], debug_print_out=True, latex_label='mu1', unit=None, boundary=None, minimum=0, maximum=100)\n",
      "23:14 bilby INFO    : mu2=TransdimensionalConditionalUniform(name='mu2', componant_function_number=np.int64(2), nested_conditional_transdimensional_params=['mu'], conditional_transdimensional_params=[], conditional_params=['n_gauss'], debug_print_out=True, latex_label='mu2', unit=None, boundary=None, minimum=0, maximum=100)\n",
      "23:14 bilby INFO    : mu3=TransdimensionalConditionalUniform(name='mu3', componant_function_number=np.int64(3), nested_conditional_transdimensional_params=['mu'], conditional_transdimensional_params=[], conditional_params=['n_gauss'], debug_print_out=True, latex_label='mu3', unit=None, boundary=None, minimum=0, maximum=100)\n",
      "23:14 bilby INFO    : sigma_g=10\n",
      "23:14 bilby INFO    : Analysis likelihood class: <class 'bilby.core.likelihood.GaussianLikelihood'>\n",
      "23:14 bilby INFO    : Analysis likelihood noise evidence: nan\n",
      "23:14 bilby INFO    : Single likelihood evaluation took 7.718e-04 s\n",
      "23:14 bilby INFO    : Using sampler Dynesty with kwargs {'nlive': 20, 'bound': 'live', 'sample': 'act-walk', 'periodic': None, 'reflective': None, 'update_interval': 600, 'first_update': None, 'npdim': None, 'rstate': None, 'queue_size': 1, 'pool': None, 'use_pool': None, 'live_points': None, 'logl_args': None, 'logl_kwargs': None, 'ptform_args': None, 'ptform_kwargs': None, 'gradient': None, 'grad_args': None, 'grad_kwargs': None, 'compute_jac': False, 'enlarge': None, 'bootstrap': None, 'walks': 100, 'facc': 0.2, 'slices': None, 'fmove': 0.9, 'max_move': 100, 'update_func': None, 'ncdim': None, 'blob': False, 'save_history': False, 'history_filename': None, 'maxiter': None, 'maxcall': None, 'dlogz': 0.1, 'logl_max': inf, 'n_effective': None, 'add_live': True, 'print_progress': True, 'print_func': <bound method Dynesty._print_func of <bilby.core.sampler.dynesty.Dynesty object at 0x31fba9d50>>, 'save_bounds': False, 'checkpoint_file': None, 'checkpoint_every': 60, 'resume': False, 'seed': None}\n",
      "23:14 bilby INFO    : Global meta data was removed from the result object for compatibility. Use the `BILBY_INCLUDE_GLOBAL_METADATA` environment variable to include it. This behaviour will be removed in a future release. For more details see: https://bilby-dev.github.io/bilby/faq.html#global-meta-data\n",
      "23:14 bilby INFO    : Checkpoint every check_point_delta_t = 600s\n",
      "23:14 bilby INFO    : Using dynesty version 2.1.5\n",
      "23:14 bilby INFO    : Using the bilby-implemented act-walk sampling tracking the autocorrelation function and thinning by 2 with maximum length 10000\n",
      "23:14 bilby INFO    : Generating initial points from the prior\n"
     ]
    },
    {
     "name": "stdout",
     "output_type": "stream",
     "text": [
      "192it [00:11, 11.11it/s, bound:11 nc: 51 ncall:7.2e+03 eff:2.7% logz=530.92+/-0.52 dlogz:0.182>0.1]"
     ]
    },
    {
     "name": "stderr",
     "output_type": "stream",
     "text": [
      "23:14 bilby INFO    : Written checkpoint file outdir/calibration_example_resume.pickle\n"
     ]
    },
    {
     "name": "stdout",
     "output_type": "stream",
     "text": [
      "203it [00:13, 15.00it/s, bound:12 nc:  1 ncall:7.8e+03 eff:2.9% logz=531.06+/-0.53 dlogz:0.00459>0.1]"
     ]
    },
    {
     "name": "stderr",
     "output_type": "stream",
     "text": [
      "23:14 bilby INFO    : Rejection sampling nested samples to obtain 71 posterior samples\n",
      "23:14 bilby INFO    : Sampling time: 0:00:13.464247\n",
      "23:14 bilby INFO    : Summary of results:\n",
      "nsamples: 71\n",
      "ln_noise_evidence:    nan\n",
      "ln_evidence: 531.057 +/-  0.581\n",
      "ln_bayes_factor:    nan +/-  0.581\n",
      "\n",
      "23:14 bilby INFO    : Running for label 'calibration_example', output will be saved to 'outdir'\n"
     ]
    },
    {
     "name": "stdout",
     "output_type": "stream",
     "text": [
      "\n",
      "\n",
      "n = 3\n"
     ]
    },
    {
     "name": "stderr",
     "output_type": "stream",
     "text": [
      "23:14 bilby INFO    : Analysis priors:\n",
      "23:14 bilby INFO    : n_gauss=DiscreteUniform(minimum=1, maximum=4, name='n_gauss', latex_label='n_gauss', unit=None, boundary=None)\n",
      "23:14 bilby INFO    : mu0=TransdimensionalConditionalUniform(name='mu0', componant_function_number=np.int64(0), nested_conditional_transdimensional_params=['mu'], conditional_transdimensional_params=[], conditional_params=['n_gauss'], debug_print_out=True, latex_label='mu0', unit=None, boundary=None, minimum=0, maximum=100)\n",
      "23:14 bilby INFO    : mu1=TransdimensionalConditionalUniform(name='mu1', componant_function_number=np.int64(1), nested_conditional_transdimensional_params=['mu'], conditional_transdimensional_params=[], conditional_params=['n_gauss'], debug_print_out=True, latex_label='mu1', unit=None, boundary=None, minimum=0, maximum=100)\n",
      "23:14 bilby INFO    : mu2=TransdimensionalConditionalUniform(name='mu2', componant_function_number=np.int64(2), nested_conditional_transdimensional_params=['mu'], conditional_transdimensional_params=[], conditional_params=['n_gauss'], debug_print_out=True, latex_label='mu2', unit=None, boundary=None, minimum=0, maximum=100)\n",
      "23:14 bilby INFO    : mu3=TransdimensionalConditionalUniform(name='mu3', componant_function_number=np.int64(3), nested_conditional_transdimensional_params=['mu'], conditional_transdimensional_params=[], conditional_params=['n_gauss'], debug_print_out=True, latex_label='mu3', unit=None, boundary=None, minimum=0, maximum=100)\n",
      "23:14 bilby INFO    : sigma_g=10\n",
      "23:14 bilby INFO    : Analysis likelihood class: <class 'bilby.core.likelihood.GaussianLikelihood'>\n",
      "23:14 bilby INFO    : Analysis likelihood noise evidence: nan\n",
      "23:14 bilby INFO    : Single likelihood evaluation took 7.877e-04 s\n",
      "23:14 bilby INFO    : Using sampler Dynesty with kwargs {'nlive': 20, 'bound': 'live', 'sample': 'act-walk', 'periodic': None, 'reflective': None, 'update_interval': 600, 'first_update': None, 'npdim': None, 'rstate': None, 'queue_size': 1, 'pool': None, 'use_pool': None, 'live_points': None, 'logl_args': None, 'logl_kwargs': None, 'ptform_args': None, 'ptform_kwargs': None, 'gradient': None, 'grad_args': None, 'grad_kwargs': None, 'compute_jac': False, 'enlarge': None, 'bootstrap': None, 'walks': 100, 'facc': 0.2, 'slices': None, 'fmove': 0.9, 'max_move': 100, 'update_func': None, 'ncdim': None, 'blob': False, 'save_history': False, 'history_filename': None, 'maxiter': None, 'maxcall': None, 'dlogz': 0.1, 'logl_max': inf, 'n_effective': None, 'add_live': True, 'print_progress': True, 'print_func': <bound method Dynesty._print_func of <bilby.core.sampler.dynesty.Dynesty object at 0x328cd7790>>, 'save_bounds': False, 'checkpoint_file': None, 'checkpoint_every': 60, 'resume': False, 'seed': None}\n",
      "23:14 bilby INFO    : Global meta data was removed from the result object for compatibility. Use the `BILBY_INCLUDE_GLOBAL_METADATA` environment variable to include it. This behaviour will be removed in a future release. For more details see: https://bilby-dev.github.io/bilby/faq.html#global-meta-data\n",
      "23:14 bilby INFO    : Checkpoint every check_point_delta_t = 600s\n",
      "23:14 bilby INFO    : Using dynesty version 2.1.5\n",
      "23:14 bilby INFO    : Using the bilby-implemented act-walk sampling tracking the autocorrelation function and thinning by 2 with maximum length 10000\n",
      "23:14 bilby INFO    : Generating initial points from the prior\n"
     ]
    },
    {
     "name": "stdout",
     "output_type": "stream",
     "text": [
      "170it [00:06, 21.55it/s, bound:8 nc: 51 ncall:5.4e+03 eff:3.1% logz=461.77+/-0.48 dlogz:0.103>0.1]"
     ]
    },
    {
     "name": "stderr",
     "output_type": "stream",
     "text": [
      "23:15 bilby INFO    : Written checkpoint file outdir/calibration_example_resume.pickle\n"
     ]
    },
    {
     "name": "stdout",
     "output_type": "stream",
     "text": [
      "170it [00:07, 22.42it/s, bound:8 nc:  1 ncall:5.4e+03 eff:3.5% logz=461.86+/-0.48 dlogz:0.00446>0.1]"
     ]
    },
    {
     "name": "stderr",
     "output_type": "stream",
     "text": [
      "23:15 bilby INFO    : Rejection sampling nested samples to obtain 49 posterior samples\n",
      "23:15 bilby INFO    : Sampling time: 0:00:07.538643\n",
      "23:15 bilby INFO    : Summary of results:\n",
      "nsamples: 49\n",
      "ln_noise_evidence:    nan\n",
      "ln_evidence: 461.859 +/-  0.533\n",
      "ln_bayes_factor:    nan +/-  0.533\n",
      "\n",
      "23:15 bilby INFO    : Running for label 'calibration_example', output will be saved to 'outdir'\n"
     ]
    },
    {
     "name": "stdout",
     "output_type": "stream",
     "text": [
      "\n",
      "\n",
      "n = 2\n"
     ]
    },
    {
     "name": "stderr",
     "output_type": "stream",
     "text": [
      "23:15 bilby INFO    : Analysis priors:\n",
      "23:15 bilby INFO    : n_gauss=DiscreteUniform(minimum=1, maximum=4, name='n_gauss', latex_label='n_gauss', unit=None, boundary=None)\n",
      "23:15 bilby INFO    : mu0=TransdimensionalConditionalUniform(name='mu0', componant_function_number=np.int64(0), nested_conditional_transdimensional_params=['mu'], conditional_transdimensional_params=[], conditional_params=['n_gauss'], debug_print_out=True, latex_label='mu0', unit=None, boundary=None, minimum=0, maximum=100)\n",
      "23:15 bilby INFO    : mu1=TransdimensionalConditionalUniform(name='mu1', componant_function_number=np.int64(1), nested_conditional_transdimensional_params=['mu'], conditional_transdimensional_params=[], conditional_params=['n_gauss'], debug_print_out=True, latex_label='mu1', unit=None, boundary=None, minimum=0, maximum=100)\n",
      "23:15 bilby INFO    : mu2=TransdimensionalConditionalUniform(name='mu2', componant_function_number=np.int64(2), nested_conditional_transdimensional_params=['mu'], conditional_transdimensional_params=[], conditional_params=['n_gauss'], debug_print_out=True, latex_label='mu2', unit=None, boundary=None, minimum=0, maximum=100)\n",
      "23:15 bilby INFO    : mu3=TransdimensionalConditionalUniform(name='mu3', componant_function_number=np.int64(3), nested_conditional_transdimensional_params=['mu'], conditional_transdimensional_params=[], conditional_params=['n_gauss'], debug_print_out=True, latex_label='mu3', unit=None, boundary=None, minimum=0, maximum=100)\n",
      "23:15 bilby INFO    : sigma_g=10\n",
      "23:15 bilby INFO    : Analysis likelihood class: <class 'bilby.core.likelihood.GaussianLikelihood'>\n",
      "23:15 bilby INFO    : Analysis likelihood noise evidence: nan\n",
      "23:15 bilby INFO    : Single likelihood evaluation took 7.825e-04 s\n",
      "23:15 bilby INFO    : Using sampler Dynesty with kwargs {'nlive': 20, 'bound': 'live', 'sample': 'act-walk', 'periodic': None, 'reflective': None, 'update_interval': 600, 'first_update': None, 'npdim': None, 'rstate': None, 'queue_size': 1, 'pool': None, 'use_pool': None, 'live_points': None, 'logl_args': None, 'logl_kwargs': None, 'ptform_args': None, 'ptform_kwargs': None, 'gradient': None, 'grad_args': None, 'grad_kwargs': None, 'compute_jac': False, 'enlarge': None, 'bootstrap': None, 'walks': 100, 'facc': 0.2, 'slices': None, 'fmove': 0.9, 'max_move': 100, 'update_func': None, 'ncdim': None, 'blob': False, 'save_history': False, 'history_filename': None, 'maxiter': None, 'maxcall': None, 'dlogz': 0.1, 'logl_max': inf, 'n_effective': None, 'add_live': True, 'print_progress': True, 'print_func': <bound method Dynesty._print_func of <bilby.core.sampler.dynesty.Dynesty object at 0x32b72f210>>, 'save_bounds': False, 'checkpoint_file': None, 'checkpoint_every': 60, 'resume': False, 'seed': None}\n",
      "23:15 bilby INFO    : Global meta data was removed from the result object for compatibility. Use the `BILBY_INCLUDE_GLOBAL_METADATA` environment variable to include it. This behaviour will be removed in a future release. For more details see: https://bilby-dev.github.io/bilby/faq.html#global-meta-data\n",
      "23:15 bilby INFO    : Checkpoint every check_point_delta_t = 600s\n",
      "23:15 bilby INFO    : Using dynesty version 2.1.5\n",
      "23:15 bilby INFO    : Using the bilby-implemented act-walk sampling tracking the autocorrelation function and thinning by 2 with maximum length 10000\n",
      "23:15 bilby INFO    : Generating initial points from the prior\n"
     ]
    },
    {
     "name": "stdout",
     "output_type": "stream",
     "text": [
      "124it [00:03, 26.42it/s, bound:4 nc: 49 ncall:2.6e+03 eff:4.7% logz=471.55+/-0.38 dlogz:0.13>0.1] "
     ]
    },
    {
     "name": "stderr",
     "output_type": "stream",
     "text": [
      "23:15 bilby INFO    : Written checkpoint file outdir/calibration_example_resume.pickle\n"
     ]
    },
    {
     "name": "stdout",
     "output_type": "stream",
     "text": [
      "129it [00:04, 28.08it/s, bound:4 nc:  1 ncall:2.9e+03 eff:5.2% logz=471.67+/-0.38 dlogz:0.00435>0.1]"
     ]
    },
    {
     "name": "stderr",
     "output_type": "stream",
     "text": [
      "23:15 bilby INFO    : Rejection sampling nested samples to obtain 42 posterior samples\n",
      "23:15 bilby INFO    : Sampling time: 0:00:04.558514\n",
      "23:15 bilby INFO    : Summary of results:\n",
      "nsamples: 42\n",
      "ln_noise_evidence:    nan\n",
      "ln_evidence: 471.667 +/-  0.424\n",
      "ln_bayes_factor:    nan +/-  0.424\n",
      "\n",
      "23:15 bilby INFO    : Running for label 'calibration_example', output will be saved to 'outdir'\n"
     ]
    },
    {
     "name": "stdout",
     "output_type": "stream",
     "text": [
      "\n",
      "\n",
      "n = 4\n"
     ]
    },
    {
     "name": "stderr",
     "output_type": "stream",
     "text": [
      "23:15 bilby INFO    : Analysis priors:\n",
      "23:15 bilby INFO    : n_gauss=DiscreteUniform(minimum=1, maximum=4, name='n_gauss', latex_label='n_gauss', unit=None, boundary=None)\n",
      "23:15 bilby INFO    : mu0=TransdimensionalConditionalUniform(name='mu0', componant_function_number=np.int64(0), nested_conditional_transdimensional_params=['mu'], conditional_transdimensional_params=[], conditional_params=['n_gauss'], debug_print_out=True, latex_label='mu0', unit=None, boundary=None, minimum=0, maximum=100)\n",
      "23:15 bilby INFO    : mu1=TransdimensionalConditionalUniform(name='mu1', componant_function_number=np.int64(1), nested_conditional_transdimensional_params=['mu'], conditional_transdimensional_params=[], conditional_params=['n_gauss'], debug_print_out=True, latex_label='mu1', unit=None, boundary=None, minimum=0, maximum=100)\n",
      "23:15 bilby INFO    : mu2=TransdimensionalConditionalUniform(name='mu2', componant_function_number=np.int64(2), nested_conditional_transdimensional_params=['mu'], conditional_transdimensional_params=[], conditional_params=['n_gauss'], debug_print_out=True, latex_label='mu2', unit=None, boundary=None, minimum=0, maximum=100)\n",
      "23:15 bilby INFO    : mu3=TransdimensionalConditionalUniform(name='mu3', componant_function_number=np.int64(3), nested_conditional_transdimensional_params=['mu'], conditional_transdimensional_params=[], conditional_params=['n_gauss'], debug_print_out=True, latex_label='mu3', unit=None, boundary=None, minimum=0, maximum=100)\n",
      "23:15 bilby INFO    : sigma_g=10\n",
      "23:15 bilby INFO    : Analysis likelihood class: <class 'bilby.core.likelihood.GaussianLikelihood'>\n",
      "23:15 bilby INFO    : Analysis likelihood noise evidence: nan\n",
      "23:15 bilby INFO    : Single likelihood evaluation took 7.796e-04 s\n",
      "23:15 bilby INFO    : Using sampler Dynesty with kwargs {'nlive': 20, 'bound': 'live', 'sample': 'act-walk', 'periodic': None, 'reflective': None, 'update_interval': 600, 'first_update': None, 'npdim': None, 'rstate': None, 'queue_size': 1, 'pool': None, 'use_pool': None, 'live_points': None, 'logl_args': None, 'logl_kwargs': None, 'ptform_args': None, 'ptform_kwargs': None, 'gradient': None, 'grad_args': None, 'grad_kwargs': None, 'compute_jac': False, 'enlarge': None, 'bootstrap': None, 'walks': 100, 'facc': 0.2, 'slices': None, 'fmove': 0.9, 'max_move': 100, 'update_func': None, 'ncdim': None, 'blob': False, 'save_history': False, 'history_filename': None, 'maxiter': None, 'maxcall': None, 'dlogz': 0.1, 'logl_max': inf, 'n_effective': None, 'add_live': True, 'print_progress': True, 'print_func': <bound method Dynesty._print_func of <bilby.core.sampler.dynesty.Dynesty object at 0x32d3b2250>>, 'save_bounds': False, 'checkpoint_file': None, 'checkpoint_every': 60, 'resume': False, 'seed': None}\n",
      "23:15 bilby INFO    : Global meta data was removed from the result object for compatibility. Use the `BILBY_INCLUDE_GLOBAL_METADATA` environment variable to include it. This behaviour will be removed in a future release. For more details see: https://bilby-dev.github.io/bilby/faq.html#global-meta-data\n",
      "23:15 bilby INFO    : Checkpoint every check_point_delta_t = 600s\n",
      "23:15 bilby INFO    : Using dynesty version 2.1.5\n",
      "23:15 bilby INFO    : Using the bilby-implemented act-walk sampling tracking the autocorrelation function and thinning by 2 with maximum length 10000\n",
      "23:15 bilby INFO    : Generating initial points from the prior\n"
     ]
    },
    {
     "name": "stdout",
     "output_type": "stream",
     "text": [
      "187it [00:06, 21.52it/s, bound:7 nc: 21 ncall:5.0e+03 eff:3.8% logz=478.71+/-0.51 dlogz:0.141>0.1]"
     ]
    },
    {
     "name": "stderr",
     "output_type": "stream",
     "text": [
      "23:15 bilby INFO    : Written checkpoint file outdir/calibration_example_resume.pickle\n"
     ]
    },
    {
     "name": "stdout",
     "output_type": "stream",
     "text": [
      "193it [00:07, 24.53it/s, bound:7 nc:  1 ncall:5.1e+03 eff:4.2% logz=478.81+/-0.52 dlogz:0.00457>0.1]"
     ]
    },
    {
     "name": "stderr",
     "output_type": "stream",
     "text": [
      "23:15 bilby INFO    : Rejection sampling nested samples to obtain 80 posterior samples\n",
      "23:15 bilby INFO    : Sampling time: 0:00:07.828307\n",
      "23:15 bilby INFO    : Summary of results:\n",
      "nsamples: 80\n",
      "ln_noise_evidence:    nan\n",
      "ln_evidence: 478.812 +/-  0.572\n",
      "ln_bayes_factor:    nan +/-  0.572\n",
      "\n",
      "23:15 bilby INFO    : Running for label 'calibration_example', output will be saved to 'outdir'\n"
     ]
    },
    {
     "name": "stdout",
     "output_type": "stream",
     "text": [
      "\n",
      "\n",
      "n = 1\n"
     ]
    },
    {
     "name": "stderr",
     "output_type": "stream",
     "text": [
      "23:15 bilby INFO    : Analysis priors:\n",
      "23:15 bilby INFO    : n_gauss=DiscreteUniform(minimum=1, maximum=4, name='n_gauss', latex_label='n_gauss', unit=None, boundary=None)\n",
      "23:15 bilby INFO    : mu0=TransdimensionalConditionalUniform(name='mu0', componant_function_number=np.int64(0), nested_conditional_transdimensional_params=['mu'], conditional_transdimensional_params=[], conditional_params=['n_gauss'], debug_print_out=True, latex_label='mu0', unit=None, boundary=None, minimum=0, maximum=100)\n",
      "23:15 bilby INFO    : mu1=TransdimensionalConditionalUniform(name='mu1', componant_function_number=np.int64(1), nested_conditional_transdimensional_params=['mu'], conditional_transdimensional_params=[], conditional_params=['n_gauss'], debug_print_out=True, latex_label='mu1', unit=None, boundary=None, minimum=0, maximum=100)\n",
      "23:15 bilby INFO    : mu2=TransdimensionalConditionalUniform(name='mu2', componant_function_number=np.int64(2), nested_conditional_transdimensional_params=['mu'], conditional_transdimensional_params=[], conditional_params=['n_gauss'], debug_print_out=True, latex_label='mu2', unit=None, boundary=None, minimum=0, maximum=100)\n",
      "23:15 bilby INFO    : mu3=TransdimensionalConditionalUniform(name='mu3', componant_function_number=np.int64(3), nested_conditional_transdimensional_params=['mu'], conditional_transdimensional_params=[], conditional_params=['n_gauss'], debug_print_out=True, latex_label='mu3', unit=None, boundary=None, minimum=0, maximum=100)\n",
      "23:15 bilby INFO    : sigma_g=10\n",
      "23:15 bilby INFO    : Analysis likelihood class: <class 'bilby.core.likelihood.GaussianLikelihood'>\n",
      "23:15 bilby INFO    : Analysis likelihood noise evidence: nan\n",
      "23:15 bilby INFO    : Single likelihood evaluation took 7.438e-04 s\n",
      "23:15 bilby INFO    : Using sampler Dynesty with kwargs {'nlive': 20, 'bound': 'live', 'sample': 'act-walk', 'periodic': None, 'reflective': None, 'update_interval': 600, 'first_update': None, 'npdim': None, 'rstate': None, 'queue_size': 1, 'pool': None, 'use_pool': None, 'live_points': None, 'logl_args': None, 'logl_kwargs': None, 'ptform_args': None, 'ptform_kwargs': None, 'gradient': None, 'grad_args': None, 'grad_kwargs': None, 'compute_jac': False, 'enlarge': None, 'bootstrap': None, 'walks': 100, 'facc': 0.2, 'slices': None, 'fmove': 0.9, 'max_move': 100, 'update_func': None, 'ncdim': None, 'blob': False, 'save_history': False, 'history_filename': None, 'maxiter': None, 'maxcall': None, 'dlogz': 0.1, 'logl_max': inf, 'n_effective': None, 'add_live': True, 'print_progress': True, 'print_func': <bound method Dynesty._print_func of <bilby.core.sampler.dynesty.Dynesty object at 0x32e08bf10>>, 'save_bounds': False, 'checkpoint_file': None, 'checkpoint_every': 60, 'resume': False, 'seed': None}\n",
      "23:15 bilby INFO    : Global meta data was removed from the result object for compatibility. Use the `BILBY_INCLUDE_GLOBAL_METADATA` environment variable to include it. This behaviour will be removed in a future release. For more details see: https://bilby-dev.github.io/bilby/faq.html#global-meta-data\n",
      "23:15 bilby INFO    : Checkpoint every check_point_delta_t = 600s\n",
      "23:15 bilby INFO    : Using dynesty version 2.1.5\n",
      "23:15 bilby INFO    : Using the bilby-implemented act-walk sampling tracking the autocorrelation function and thinning by 2 with maximum length 10000\n",
      "23:15 bilby INFO    : Generating initial points from the prior\n"
     ]
    },
    {
     "name": "stdout",
     "output_type": "stream",
     "text": [
      "120it [00:01, 73.70it/s, bound:2 nc: 20 ncall:1.9e+03 eff:6.3% logz=473.74+/-0.38 dlogz:0.147>0.1]"
     ]
    },
    {
     "name": "stderr",
     "output_type": "stream",
     "text": [
      "23:15 bilby INFO    : Written checkpoint file outdir/calibration_example_resume.pickle\n"
     ]
    },
    {
     "name": "stdout",
     "output_type": "stream",
     "text": [
      "127it [00:02, 46.73it/s, bound:3 nc:  1 ncall:2.1e+03 eff:7.2% logz=473.87+/-0.38 dlogz:0.00445>0.1]"
     ]
    },
    {
     "name": "stderr",
     "output_type": "stream",
     "text": [
      "23:15 bilby INFO    : Rejection sampling nested samples to obtain 49 posterior samples\n",
      "23:15 bilby INFO    : Sampling time: 0:00:02.696306\n",
      "23:15 bilby INFO    : Summary of results:\n",
      "nsamples: 49\n",
      "ln_noise_evidence:    nan\n",
      "ln_evidence: 473.874 +/-  0.423\n",
      "ln_bayes_factor:    nan +/-  0.423\n",
      "\n",
      "23:15 bilby INFO    : Running for label 'calibration_example', output will be saved to 'outdir'\n"
     ]
    },
    {
     "name": "stdout",
     "output_type": "stream",
     "text": [
      "\n",
      "\n",
      "n = 3\n"
     ]
    },
    {
     "name": "stderr",
     "output_type": "stream",
     "text": [
      "23:15 bilby INFO    : Analysis priors:\n",
      "23:15 bilby INFO    : n_gauss=DiscreteUniform(minimum=1, maximum=4, name='n_gauss', latex_label='n_gauss', unit=None, boundary=None)\n",
      "23:15 bilby INFO    : mu0=TransdimensionalConditionalUniform(name='mu0', componant_function_number=np.int64(0), nested_conditional_transdimensional_params=['mu'], conditional_transdimensional_params=[], conditional_params=['n_gauss'], debug_print_out=True, latex_label='mu0', unit=None, boundary=None, minimum=0, maximum=100)\n",
      "23:15 bilby INFO    : mu1=TransdimensionalConditionalUniform(name='mu1', componant_function_number=np.int64(1), nested_conditional_transdimensional_params=['mu'], conditional_transdimensional_params=[], conditional_params=['n_gauss'], debug_print_out=True, latex_label='mu1', unit=None, boundary=None, minimum=0, maximum=100)\n",
      "23:15 bilby INFO    : mu2=TransdimensionalConditionalUniform(name='mu2', componant_function_number=np.int64(2), nested_conditional_transdimensional_params=['mu'], conditional_transdimensional_params=[], conditional_params=['n_gauss'], debug_print_out=True, latex_label='mu2', unit=None, boundary=None, minimum=0, maximum=100)\n",
      "23:15 bilby INFO    : mu3=TransdimensionalConditionalUniform(name='mu3', componant_function_number=np.int64(3), nested_conditional_transdimensional_params=['mu'], conditional_transdimensional_params=[], conditional_params=['n_gauss'], debug_print_out=True, latex_label='mu3', unit=None, boundary=None, minimum=0, maximum=100)\n",
      "23:15 bilby INFO    : sigma_g=10\n",
      "23:15 bilby INFO    : Analysis likelihood class: <class 'bilby.core.likelihood.GaussianLikelihood'>\n",
      "23:15 bilby INFO    : Analysis likelihood noise evidence: nan\n",
      "23:15 bilby INFO    : Single likelihood evaluation took 7.992e-04 s\n",
      "23:15 bilby INFO    : Using sampler Dynesty with kwargs {'nlive': 20, 'bound': 'live', 'sample': 'act-walk', 'periodic': None, 'reflective': None, 'update_interval': 600, 'first_update': None, 'npdim': None, 'rstate': None, 'queue_size': 1, 'pool': None, 'use_pool': None, 'live_points': None, 'logl_args': None, 'logl_kwargs': None, 'ptform_args': None, 'ptform_kwargs': None, 'gradient': None, 'grad_args': None, 'grad_kwargs': None, 'compute_jac': False, 'enlarge': None, 'bootstrap': None, 'walks': 100, 'facc': 0.2, 'slices': None, 'fmove': 0.9, 'max_move': 100, 'update_func': None, 'ncdim': None, 'blob': False, 'save_history': False, 'history_filename': None, 'maxiter': None, 'maxcall': None, 'dlogz': 0.1, 'logl_max': inf, 'n_effective': None, 'add_live': True, 'print_progress': True, 'print_func': <bound method Dynesty._print_func of <bilby.core.sampler.dynesty.Dynesty object at 0x32fb76350>>, 'save_bounds': False, 'checkpoint_file': None, 'checkpoint_every': 60, 'resume': False, 'seed': None}\n",
      "23:15 bilby INFO    : Global meta data was removed from the result object for compatibility. Use the `BILBY_INCLUDE_GLOBAL_METADATA` environment variable to include it. This behaviour will be removed in a future release. For more details see: https://bilby-dev.github.io/bilby/faq.html#global-meta-data\n",
      "23:15 bilby INFO    : Checkpoint every check_point_delta_t = 600s\n",
      "23:15 bilby INFO    : Using dynesty version 2.1.5\n",
      "23:15 bilby INFO    : Using the bilby-implemented act-walk sampling tracking the autocorrelation function and thinning by 2 with maximum length 10000\n",
      "23:15 bilby INFO    : Generating initial points from the prior\n"
     ]
    },
    {
     "name": "stdout",
     "output_type": "stream",
     "text": [
      "182it [00:08, 16.84it/s, bound:9 nc: 42 ncall:6.3e+03 eff:2.9% logz=480.36+/-0.51 dlogz:0.12>0.1] "
     ]
    },
    {
     "name": "stderr",
     "output_type": "stream",
     "text": [
      "23:15 bilby INFO    : Written checkpoint file outdir/calibration_example_resume.pickle\n"
     ]
    },
    {
     "name": "stdout",
     "output_type": "stream",
     "text": [
      "186it [00:09, 18.64it/s, bound:9 nc:  1 ncall:6.5e+03 eff:3.2% logz=480.46+/-0.51 dlogz:0.00452>0.1]"
     ]
    },
    {
     "name": "stderr",
     "output_type": "stream",
     "text": [
      "23:15 bilby INFO    : Rejection sampling nested samples to obtain 46 posterior samples\n",
      "23:15 bilby INFO    : Sampling time: 0:00:09.922666\n",
      "23:15 bilby INFO    : Summary of results:\n",
      "nsamples: 46\n",
      "ln_noise_evidence:    nan\n",
      "ln_evidence: 480.464 +/-  0.566\n",
      "ln_bayes_factor:    nan +/-  0.566\n",
      "\n",
      "23:15 bilby INFO    : Running for label 'calibration_example', output will be saved to 'outdir'\n"
     ]
    },
    {
     "name": "stdout",
     "output_type": "stream",
     "text": [
      "\n",
      "\n",
      "n = 4\n"
     ]
    },
    {
     "name": "stderr",
     "output_type": "stream",
     "text": [
      "23:15 bilby INFO    : Analysis priors:\n",
      "23:15 bilby INFO    : n_gauss=DiscreteUniform(minimum=1, maximum=4, name='n_gauss', latex_label='n_gauss', unit=None, boundary=None)\n",
      "23:15 bilby INFO    : mu0=TransdimensionalConditionalUniform(name='mu0', componant_function_number=np.int64(0), nested_conditional_transdimensional_params=['mu'], conditional_transdimensional_params=[], conditional_params=['n_gauss'], debug_print_out=True, latex_label='mu0', unit=None, boundary=None, minimum=0, maximum=100)\n",
      "23:15 bilby INFO    : mu1=TransdimensionalConditionalUniform(name='mu1', componant_function_number=np.int64(1), nested_conditional_transdimensional_params=['mu'], conditional_transdimensional_params=[], conditional_params=['n_gauss'], debug_print_out=True, latex_label='mu1', unit=None, boundary=None, minimum=0, maximum=100)\n",
      "23:15 bilby INFO    : mu2=TransdimensionalConditionalUniform(name='mu2', componant_function_number=np.int64(2), nested_conditional_transdimensional_params=['mu'], conditional_transdimensional_params=[], conditional_params=['n_gauss'], debug_print_out=True, latex_label='mu2', unit=None, boundary=None, minimum=0, maximum=100)\n",
      "23:15 bilby INFO    : mu3=TransdimensionalConditionalUniform(name='mu3', componant_function_number=np.int64(3), nested_conditional_transdimensional_params=['mu'], conditional_transdimensional_params=[], conditional_params=['n_gauss'], debug_print_out=True, latex_label='mu3', unit=None, boundary=None, minimum=0, maximum=100)\n",
      "23:15 bilby INFO    : sigma_g=10\n",
      "23:15 bilby INFO    : Analysis likelihood class: <class 'bilby.core.likelihood.GaussianLikelihood'>\n",
      "23:15 bilby INFO    : Analysis likelihood noise evidence: nan\n",
      "23:15 bilby INFO    : Single likelihood evaluation took 7.730e-04 s\n",
      "23:15 bilby INFO    : Using sampler Dynesty with kwargs {'nlive': 20, 'bound': 'live', 'sample': 'act-walk', 'periodic': None, 'reflective': None, 'update_interval': 600, 'first_update': None, 'npdim': None, 'rstate': None, 'queue_size': 1, 'pool': None, 'use_pool': None, 'live_points': None, 'logl_args': None, 'logl_kwargs': None, 'ptform_args': None, 'ptform_kwargs': None, 'gradient': None, 'grad_args': None, 'grad_kwargs': None, 'compute_jac': False, 'enlarge': None, 'bootstrap': None, 'walks': 100, 'facc': 0.2, 'slices': None, 'fmove': 0.9, 'max_move': 100, 'update_func': None, 'ncdim': None, 'blob': False, 'save_history': False, 'history_filename': None, 'maxiter': None, 'maxcall': None, 'dlogz': 0.1, 'logl_max': inf, 'n_effective': None, 'add_live': True, 'print_progress': True, 'print_func': <bound method Dynesty._print_func of <bilby.core.sampler.dynesty.Dynesty object at 0x32e6b5050>>, 'save_bounds': False, 'checkpoint_file': None, 'checkpoint_every': 60, 'resume': False, 'seed': None}\n",
      "23:15 bilby INFO    : Global meta data was removed from the result object for compatibility. Use the `BILBY_INCLUDE_GLOBAL_METADATA` environment variable to include it. This behaviour will be removed in a future release. For more details see: https://bilby-dev.github.io/bilby/faq.html#global-meta-data\n",
      "23:15 bilby INFO    : Checkpoint every check_point_delta_t = 600s\n",
      "23:15 bilby INFO    : Using dynesty version 2.1.5\n",
      "23:15 bilby INFO    : Using the bilby-implemented act-walk sampling tracking the autocorrelation function and thinning by 2 with maximum length 10000\n",
      "23:15 bilby INFO    : Generating initial points from the prior\n"
     ]
    },
    {
     "name": "stdout",
     "output_type": "stream",
     "text": [
      "224it [00:12, 13.94it/s, bound:12 nc: 31 ncall:8.2e+03 eff:2.7% logz=464.67+/-0.59 dlogz:0.129>0.1]"
     ]
    },
    {
     "name": "stderr",
     "output_type": "stream",
     "text": [
      "23:15 bilby INFO    : Written checkpoint file outdir/calibration_example_resume.pickle\n"
     ]
    },
    {
     "name": "stdout",
     "output_type": "stream",
     "text": [
      "229it [00:13, 16.47it/s, bound:13 nc:  1 ncall:8.4e+03 eff:3.0% logz=464.78+/-0.60 dlogz:0.00437>0.1]"
     ]
    },
    {
     "name": "stderr",
     "output_type": "stream",
     "text": [
      "23:15 bilby INFO    : Rejection sampling nested samples to obtain 69 posterior samples\n",
      "23:15 bilby INFO    : Sampling time: 0:00:13.841193\n",
      "23:15 bilby INFO    : Summary of results:\n",
      "nsamples: 69\n",
      "ln_noise_evidence:    nan\n",
      "ln_evidence: 464.776 +/-  0.654\n",
      "ln_bayes_factor:    nan +/-  0.654\n",
      "\n",
      "23:15 bilby INFO    : Running for label 'calibration_example', output will be saved to 'outdir'\n"
     ]
    },
    {
     "name": "stdout",
     "output_type": "stream",
     "text": [
      "\n",
      "\n",
      "n = 1\n"
     ]
    },
    {
     "name": "stderr",
     "output_type": "stream",
     "text": [
      "23:15 bilby INFO    : Analysis priors:\n",
      "23:15 bilby INFO    : n_gauss=DiscreteUniform(minimum=1, maximum=4, name='n_gauss', latex_label='n_gauss', unit=None, boundary=None)\n",
      "23:15 bilby INFO    : mu0=TransdimensionalConditionalUniform(name='mu0', componant_function_number=np.int64(0), nested_conditional_transdimensional_params=['mu'], conditional_transdimensional_params=[], conditional_params=['n_gauss'], debug_print_out=True, latex_label='mu0', unit=None, boundary=None, minimum=0, maximum=100)\n",
      "23:15 bilby INFO    : mu1=TransdimensionalConditionalUniform(name='mu1', componant_function_number=np.int64(1), nested_conditional_transdimensional_params=['mu'], conditional_transdimensional_params=[], conditional_params=['n_gauss'], debug_print_out=True, latex_label='mu1', unit=None, boundary=None, minimum=0, maximum=100)\n",
      "23:15 bilby INFO    : mu2=TransdimensionalConditionalUniform(name='mu2', componant_function_number=np.int64(2), nested_conditional_transdimensional_params=['mu'], conditional_transdimensional_params=[], conditional_params=['n_gauss'], debug_print_out=True, latex_label='mu2', unit=None, boundary=None, minimum=0, maximum=100)\n",
      "23:15 bilby INFO    : mu3=TransdimensionalConditionalUniform(name='mu3', componant_function_number=np.int64(3), nested_conditional_transdimensional_params=['mu'], conditional_transdimensional_params=[], conditional_params=['n_gauss'], debug_print_out=True, latex_label='mu3', unit=None, boundary=None, minimum=0, maximum=100)\n",
      "23:15 bilby INFO    : sigma_g=10\n",
      "23:15 bilby INFO    : Analysis likelihood class: <class 'bilby.core.likelihood.GaussianLikelihood'>\n",
      "23:15 bilby INFO    : Analysis likelihood noise evidence: nan\n",
      "23:15 bilby INFO    : Single likelihood evaluation took 7.542e-04 s\n",
      "23:15 bilby INFO    : Using sampler Dynesty with kwargs {'nlive': 20, 'bound': 'live', 'sample': 'act-walk', 'periodic': None, 'reflective': None, 'update_interval': 600, 'first_update': None, 'npdim': None, 'rstate': None, 'queue_size': 1, 'pool': None, 'use_pool': None, 'live_points': None, 'logl_args': None, 'logl_kwargs': None, 'ptform_args': None, 'ptform_kwargs': None, 'gradient': None, 'grad_args': None, 'grad_kwargs': None, 'compute_jac': False, 'enlarge': None, 'bootstrap': None, 'walks': 100, 'facc': 0.2, 'slices': None, 'fmove': 0.9, 'max_move': 100, 'update_func': None, 'ncdim': None, 'blob': False, 'save_history': False, 'history_filename': None, 'maxiter': None, 'maxcall': None, 'dlogz': 0.1, 'logl_max': inf, 'n_effective': None, 'add_live': True, 'print_progress': True, 'print_func': <bound method Dynesty._print_func of <bilby.core.sampler.dynesty.Dynesty object at 0x33415e4d0>>, 'save_bounds': False, 'checkpoint_file': None, 'checkpoint_every': 60, 'resume': False, 'seed': None}\n",
      "23:15 bilby INFO    : Global meta data was removed from the result object for compatibility. Use the `BILBY_INCLUDE_GLOBAL_METADATA` environment variable to include it. This behaviour will be removed in a future release. For more details see: https://bilby-dev.github.io/bilby/faq.html#global-meta-data\n",
      "23:15 bilby INFO    : Checkpoint every check_point_delta_t = 600s\n",
      "23:15 bilby INFO    : Using dynesty version 2.1.5\n",
      "23:15 bilby INFO    : Using the bilby-implemented act-walk sampling tracking the autocorrelation function and thinning by 2 with maximum length 10000\n",
      "23:15 bilby INFO    : Generating initial points from the prior\n"
     ]
    },
    {
     "name": "stdout",
     "output_type": "stream",
     "text": [
      "113it [00:01, 57.76it/s, bound:2 nc: 52 ncall:1.9e+03 eff:5.9% logz=489.04+/-0.32 dlogz:0.1>0.1]  "
     ]
    },
    {
     "name": "stderr",
     "output_type": "stream",
     "text": [
      "23:15 bilby INFO    : Written checkpoint file outdir/calibration_example_resume.pickle\n"
     ]
    },
    {
     "name": "stdout",
     "output_type": "stream",
     "text": [
      "113it [00:02, 39.44it/s, bound:2 nc:  1 ncall:1.9e+03 eff:6.9% logz=489.12+/-0.32 dlogz:0.00436>0.1]"
     ]
    },
    {
     "name": "stderr",
     "output_type": "stream",
     "text": [
      "23:15 bilby INFO    : Rejection sampling nested samples to obtain 52 posterior samples\n",
      "23:15 bilby INFO    : Sampling time: 0:00:02.839765\n",
      "23:15 bilby INFO    : Summary of results:\n",
      "nsamples: 52\n",
      "ln_noise_evidence:    nan\n",
      "ln_evidence: 489.122 +/-  0.362\n",
      "ln_bayes_factor:    nan +/-  0.362\n",
      "\n",
      "23:15 bilby INFO    : Running for label 'calibration_example', output will be saved to 'outdir'\n"
     ]
    },
    {
     "name": "stdout",
     "output_type": "stream",
     "text": [
      "\n",
      "\n",
      "n = 4\n"
     ]
    },
    {
     "name": "stderr",
     "output_type": "stream",
     "text": [
      "23:15 bilby INFO    : Analysis priors:\n",
      "23:15 bilby INFO    : n_gauss=DiscreteUniform(minimum=1, maximum=4, name='n_gauss', latex_label='n_gauss', unit=None, boundary=None)\n",
      "23:15 bilby INFO    : mu0=TransdimensionalConditionalUniform(name='mu0', componant_function_number=np.int64(0), nested_conditional_transdimensional_params=['mu'], conditional_transdimensional_params=[], conditional_params=['n_gauss'], debug_print_out=True, latex_label='mu0', unit=None, boundary=None, minimum=0, maximum=100)\n",
      "23:15 bilby INFO    : mu1=TransdimensionalConditionalUniform(name='mu1', componant_function_number=np.int64(1), nested_conditional_transdimensional_params=['mu'], conditional_transdimensional_params=[], conditional_params=['n_gauss'], debug_print_out=True, latex_label='mu1', unit=None, boundary=None, minimum=0, maximum=100)\n",
      "23:15 bilby INFO    : mu2=TransdimensionalConditionalUniform(name='mu2', componant_function_number=np.int64(2), nested_conditional_transdimensional_params=['mu'], conditional_transdimensional_params=[], conditional_params=['n_gauss'], debug_print_out=True, latex_label='mu2', unit=None, boundary=None, minimum=0, maximum=100)\n",
      "23:15 bilby INFO    : mu3=TransdimensionalConditionalUniform(name='mu3', componant_function_number=np.int64(3), nested_conditional_transdimensional_params=['mu'], conditional_transdimensional_params=[], conditional_params=['n_gauss'], debug_print_out=True, latex_label='mu3', unit=None, boundary=None, minimum=0, maximum=100)\n",
      "23:15 bilby INFO    : sigma_g=10\n",
      "23:15 bilby INFO    : Analysis likelihood class: <class 'bilby.core.likelihood.GaussianLikelihood'>\n",
      "23:15 bilby INFO    : Analysis likelihood noise evidence: nan\n",
      "23:15 bilby INFO    : Single likelihood evaluation took 7.378e-04 s\n",
      "23:15 bilby INFO    : Using sampler Dynesty with kwargs {'nlive': 20, 'bound': 'live', 'sample': 'act-walk', 'periodic': None, 'reflective': None, 'update_interval': 600, 'first_update': None, 'npdim': None, 'rstate': None, 'queue_size': 1, 'pool': None, 'use_pool': None, 'live_points': None, 'logl_args': None, 'logl_kwargs': None, 'ptform_args': None, 'ptform_kwargs': None, 'gradient': None, 'grad_args': None, 'grad_kwargs': None, 'compute_jac': False, 'enlarge': None, 'bootstrap': None, 'walks': 100, 'facc': 0.2, 'slices': None, 'fmove': 0.9, 'max_move': 100, 'update_func': None, 'ncdim': None, 'blob': False, 'save_history': False, 'history_filename': None, 'maxiter': None, 'maxcall': None, 'dlogz': 0.1, 'logl_max': inf, 'n_effective': None, 'add_live': True, 'print_progress': True, 'print_func': <bound method Dynesty._print_func of <bilby.core.sampler.dynesty.Dynesty object at 0x3354569d0>>, 'save_bounds': False, 'checkpoint_file': None, 'checkpoint_every': 60, 'resume': False, 'seed': None}\n",
      "23:15 bilby INFO    : Global meta data was removed from the result object for compatibility. Use the `BILBY_INCLUDE_GLOBAL_METADATA` environment variable to include it. This behaviour will be removed in a future release. For more details see: https://bilby-dev.github.io/bilby/faq.html#global-meta-data\n",
      "23:15 bilby INFO    : Checkpoint every check_point_delta_t = 600s\n",
      "23:15 bilby INFO    : Using dynesty version 2.1.5\n",
      "23:15 bilby INFO    : Using the bilby-implemented act-walk sampling tracking the autocorrelation function and thinning by 2 with maximum length 10000\n",
      "23:15 bilby INFO    : Generating initial points from the prior\n"
     ]
    },
    {
     "name": "stdout",
     "output_type": "stream",
     "text": [
      "213it [00:13,  9.34it/s, bound:11 nc: 80 ncall:7.7e+03 eff:2.8% logz=509.28+/-0.56 dlogz:0.132>0.1]"
     ]
    },
    {
     "name": "stderr",
     "output_type": "stream",
     "text": [
      "23:16 bilby INFO    : Written checkpoint file outdir/calibration_example_resume.pickle\n"
     ]
    },
    {
     "name": "stdout",
     "output_type": "stream",
     "text": [
      "218it [00:14, 14.64it/s, bound:12 nc:  1 ncall:8.1e+03 eff:2.9% logz=509.39+/-0.57 dlogz:0.00449>0.1]"
     ]
    },
    {
     "name": "stderr",
     "output_type": "stream",
     "text": [
      "23:16 bilby INFO    : Rejection sampling nested samples to obtain 77 posterior samples\n",
      "23:16 bilby INFO    : Sampling time: 0:00:14.821474\n",
      "23:16 bilby INFO    : Summary of results:\n",
      "nsamples: 77\n",
      "ln_noise_evidence:    nan\n",
      "ln_evidence: 509.385 +/-  0.623\n",
      "ln_bayes_factor:    nan +/-  0.623\n",
      "\n",
      "23:16 bilby INFO    : Running for label 'calibration_example', output will be saved to 'outdir'\n"
     ]
    },
    {
     "name": "stdout",
     "output_type": "stream",
     "text": [
      "\n",
      "\n",
      "n = 3\n"
     ]
    },
    {
     "name": "stderr",
     "output_type": "stream",
     "text": [
      "23:16 bilby INFO    : Analysis priors:\n",
      "23:16 bilby INFO    : n_gauss=DiscreteUniform(minimum=1, maximum=4, name='n_gauss', latex_label='n_gauss', unit=None, boundary=None)\n",
      "23:16 bilby INFO    : mu0=TransdimensionalConditionalUniform(name='mu0', componant_function_number=np.int64(0), nested_conditional_transdimensional_params=['mu'], conditional_transdimensional_params=[], conditional_params=['n_gauss'], debug_print_out=True, latex_label='mu0', unit=None, boundary=None, minimum=0, maximum=100)\n",
      "23:16 bilby INFO    : mu1=TransdimensionalConditionalUniform(name='mu1', componant_function_number=np.int64(1), nested_conditional_transdimensional_params=['mu'], conditional_transdimensional_params=[], conditional_params=['n_gauss'], debug_print_out=True, latex_label='mu1', unit=None, boundary=None, minimum=0, maximum=100)\n",
      "23:16 bilby INFO    : mu2=TransdimensionalConditionalUniform(name='mu2', componant_function_number=np.int64(2), nested_conditional_transdimensional_params=['mu'], conditional_transdimensional_params=[], conditional_params=['n_gauss'], debug_print_out=True, latex_label='mu2', unit=None, boundary=None, minimum=0, maximum=100)\n",
      "23:16 bilby INFO    : mu3=TransdimensionalConditionalUniform(name='mu3', componant_function_number=np.int64(3), nested_conditional_transdimensional_params=['mu'], conditional_transdimensional_params=[], conditional_params=['n_gauss'], debug_print_out=True, latex_label='mu3', unit=None, boundary=None, minimum=0, maximum=100)\n",
      "23:16 bilby INFO    : sigma_g=10\n",
      "23:16 bilby INFO    : Analysis likelihood class: <class 'bilby.core.likelihood.GaussianLikelihood'>\n",
      "23:16 bilby INFO    : Analysis likelihood noise evidence: nan\n",
      "23:16 bilby INFO    : Single likelihood evaluation took 7.398e-04 s\n",
      "23:16 bilby INFO    : Using sampler Dynesty with kwargs {'nlive': 20, 'bound': 'live', 'sample': 'act-walk', 'periodic': None, 'reflective': None, 'update_interval': 600, 'first_update': None, 'npdim': None, 'rstate': None, 'queue_size': 1, 'pool': None, 'use_pool': None, 'live_points': None, 'logl_args': None, 'logl_kwargs': None, 'ptform_args': None, 'ptform_kwargs': None, 'gradient': None, 'grad_args': None, 'grad_kwargs': None, 'compute_jac': False, 'enlarge': None, 'bootstrap': None, 'walks': 100, 'facc': 0.2, 'slices': None, 'fmove': 0.9, 'max_move': 100, 'update_func': None, 'ncdim': None, 'blob': False, 'save_history': False, 'history_filename': None, 'maxiter': None, 'maxcall': None, 'dlogz': 0.1, 'logl_max': inf, 'n_effective': None, 'add_live': True, 'print_progress': True, 'print_func': <bound method Dynesty._print_func of <bilby.core.sampler.dynesty.Dynesty object at 0x33619fad0>>, 'save_bounds': False, 'checkpoint_file': None, 'checkpoint_every': 60, 'resume': False, 'seed': None}\n",
      "23:16 bilby INFO    : Global meta data was removed from the result object for compatibility. Use the `BILBY_INCLUDE_GLOBAL_METADATA` environment variable to include it. This behaviour will be removed in a future release. For more details see: https://bilby-dev.github.io/bilby/faq.html#global-meta-data\n",
      "23:16 bilby INFO    : Checkpoint every check_point_delta_t = 600s\n",
      "23:16 bilby INFO    : Using dynesty version 2.1.5\n",
      "23:16 bilby INFO    : Using the bilby-implemented act-walk sampling tracking the autocorrelation function and thinning by 2 with maximum length 10000\n",
      "23:16 bilby INFO    : Generating initial points from the prior\n"
     ]
    },
    {
     "name": "stdout",
     "output_type": "stream",
     "text": [
      "171it [00:07, 17.02it/s, bound:7 nc: 50 ncall:4.9e+03 eff:3.5% logz=498.07+/-0.45 dlogz:0.146>0.1]"
     ]
    },
    {
     "name": "stderr",
     "output_type": "stream",
     "text": [
      "23:16 bilby INFO    : Written checkpoint file outdir/calibration_example_resume.pickle\n"
     ]
    },
    {
     "name": "stdout",
     "output_type": "stream",
     "text": [
      "178it [00:08, 20.65it/s, bound:8 nc:  1 ncall:5.2e+03 eff:3.8% logz=498.18+/-0.46 dlogz:0.00448>0.1]"
     ]
    },
    {
     "name": "stderr",
     "output_type": "stream",
     "text": [
      "23:16 bilby INFO    : Rejection sampling nested samples to obtain 82 posterior samples\n",
      "23:16 bilby INFO    : Sampling time: 0:00:08.571964\n",
      "23:16 bilby INFO    : Summary of results:\n",
      "nsamples: 82\n",
      "ln_noise_evidence:    nan\n",
      "ln_evidence: 498.177 +/-  0.509\n",
      "ln_bayes_factor:    nan +/-  0.509\n",
      "\n",
      "23:16 bilby INFO    : Running for label 'calibration_example', output will be saved to 'outdir'\n"
     ]
    },
    {
     "name": "stdout",
     "output_type": "stream",
     "text": [
      "\n",
      "\n",
      "n = 3\n"
     ]
    },
    {
     "name": "stderr",
     "output_type": "stream",
     "text": [
      "23:16 bilby INFO    : Analysis priors:\n",
      "23:16 bilby INFO    : n_gauss=DiscreteUniform(minimum=1, maximum=4, name='n_gauss', latex_label='n_gauss', unit=None, boundary=None)\n",
      "23:16 bilby INFO    : mu0=TransdimensionalConditionalUniform(name='mu0', componant_function_number=np.int64(0), nested_conditional_transdimensional_params=['mu'], conditional_transdimensional_params=[], conditional_params=['n_gauss'], debug_print_out=True, latex_label='mu0', unit=None, boundary=None, minimum=0, maximum=100)\n",
      "23:16 bilby INFO    : mu1=TransdimensionalConditionalUniform(name='mu1', componant_function_number=np.int64(1), nested_conditional_transdimensional_params=['mu'], conditional_transdimensional_params=[], conditional_params=['n_gauss'], debug_print_out=True, latex_label='mu1', unit=None, boundary=None, minimum=0, maximum=100)\n",
      "23:16 bilby INFO    : mu2=TransdimensionalConditionalUniform(name='mu2', componant_function_number=np.int64(2), nested_conditional_transdimensional_params=['mu'], conditional_transdimensional_params=[], conditional_params=['n_gauss'], debug_print_out=True, latex_label='mu2', unit=None, boundary=None, minimum=0, maximum=100)\n",
      "23:16 bilby INFO    : mu3=TransdimensionalConditionalUniform(name='mu3', componant_function_number=np.int64(3), nested_conditional_transdimensional_params=['mu'], conditional_transdimensional_params=[], conditional_params=['n_gauss'], debug_print_out=True, latex_label='mu3', unit=None, boundary=None, minimum=0, maximum=100)\n",
      "23:16 bilby INFO    : sigma_g=10\n",
      "23:16 bilby INFO    : Analysis likelihood class: <class 'bilby.core.likelihood.GaussianLikelihood'>\n",
      "23:16 bilby INFO    : Analysis likelihood noise evidence: nan\n",
      "23:16 bilby INFO    : Single likelihood evaluation took 7.822e-04 s\n",
      "23:16 bilby INFO    : Using sampler Dynesty with kwargs {'nlive': 20, 'bound': 'live', 'sample': 'act-walk', 'periodic': None, 'reflective': None, 'update_interval': 600, 'first_update': None, 'npdim': None, 'rstate': None, 'queue_size': 1, 'pool': None, 'use_pool': None, 'live_points': None, 'logl_args': None, 'logl_kwargs': None, 'ptform_args': None, 'ptform_kwargs': None, 'gradient': None, 'grad_args': None, 'grad_kwargs': None, 'compute_jac': False, 'enlarge': None, 'bootstrap': None, 'walks': 100, 'facc': 0.2, 'slices': None, 'fmove': 0.9, 'max_move': 100, 'update_func': None, 'ncdim': None, 'blob': False, 'save_history': False, 'history_filename': None, 'maxiter': None, 'maxcall': None, 'dlogz': 0.1, 'logl_max': inf, 'n_effective': None, 'add_live': True, 'print_progress': True, 'print_func': <bound method Dynesty._print_func of <bilby.core.sampler.dynesty.Dynesty object at 0x338ea34d0>>, 'save_bounds': False, 'checkpoint_file': None, 'checkpoint_every': 60, 'resume': False, 'seed': None}\n",
      "23:16 bilby INFO    : Global meta data was removed from the result object for compatibility. Use the `BILBY_INCLUDE_GLOBAL_METADATA` environment variable to include it. This behaviour will be removed in a future release. For more details see: https://bilby-dev.github.io/bilby/faq.html#global-meta-data\n",
      "23:16 bilby INFO    : Checkpoint every check_point_delta_t = 600s\n",
      "23:16 bilby INFO    : Using dynesty version 2.1.5\n",
      "23:16 bilby INFO    : Using the bilby-implemented act-walk sampling tracking the autocorrelation function and thinning by 2 with maximum length 10000\n",
      "23:16 bilby INFO    : Generating initial points from the prior\n"
     ]
    },
    {
     "name": "stdout",
     "output_type": "stream",
     "text": [
      "200it [00:15,  9.63it/s, bound:16 nc:106 ncall:1.1e+04 eff:1.9% logz=473.13+/-0.47 dlogz:0.109>0.1]"
     ]
    },
    {
     "name": "stderr",
     "output_type": "stream",
     "text": [
      "23:16 bilby INFO    : Written checkpoint file outdir/calibration_example_resume.pickle\n"
     ]
    },
    {
     "name": "stdout",
     "output_type": "stream",
     "text": [
      "201it [00:16, 12.10it/s, bound:16 nc:  1 ncall:1.1e+04 eff:2.0% logz=473.20+/-0.49 dlogz:0.00463>0.1]"
     ]
    },
    {
     "name": "stderr",
     "output_type": "stream",
     "text": [
      "23:16 bilby INFO    : Rejection sampling nested samples to obtain 66 posterior samples\n",
      "23:16 bilby INFO    : Sampling time: 0:00:16.531321\n",
      "23:16 bilby INFO    : Summary of results:\n",
      "nsamples: 66\n",
      "ln_noise_evidence:    nan\n",
      "ln_evidence: 473.197 +/-  0.540\n",
      "ln_bayes_factor:    nan +/-  0.540\n",
      "\n",
      "23:16 bilby INFO    : Running for label 'calibration_example', output will be saved to 'outdir'\n"
     ]
    },
    {
     "name": "stdout",
     "output_type": "stream",
     "text": [
      "\n",
      "\n",
      "n = 4\n"
     ]
    },
    {
     "name": "stderr",
     "output_type": "stream",
     "text": [
      "23:16 bilby INFO    : Analysis priors:\n",
      "23:16 bilby INFO    : n_gauss=DiscreteUniform(minimum=1, maximum=4, name='n_gauss', latex_label='n_gauss', unit=None, boundary=None)\n",
      "23:16 bilby INFO    : mu0=TransdimensionalConditionalUniform(name='mu0', componant_function_number=np.int64(0), nested_conditional_transdimensional_params=['mu'], conditional_transdimensional_params=[], conditional_params=['n_gauss'], debug_print_out=True, latex_label='mu0', unit=None, boundary=None, minimum=0, maximum=100)\n",
      "23:16 bilby INFO    : mu1=TransdimensionalConditionalUniform(name='mu1', componant_function_number=np.int64(1), nested_conditional_transdimensional_params=['mu'], conditional_transdimensional_params=[], conditional_params=['n_gauss'], debug_print_out=True, latex_label='mu1', unit=None, boundary=None, minimum=0, maximum=100)\n",
      "23:16 bilby INFO    : mu2=TransdimensionalConditionalUniform(name='mu2', componant_function_number=np.int64(2), nested_conditional_transdimensional_params=['mu'], conditional_transdimensional_params=[], conditional_params=['n_gauss'], debug_print_out=True, latex_label='mu2', unit=None, boundary=None, minimum=0, maximum=100)\n",
      "23:16 bilby INFO    : mu3=TransdimensionalConditionalUniform(name='mu3', componant_function_number=np.int64(3), nested_conditional_transdimensional_params=['mu'], conditional_transdimensional_params=[], conditional_params=['n_gauss'], debug_print_out=True, latex_label='mu3', unit=None, boundary=None, minimum=0, maximum=100)\n",
      "23:16 bilby INFO    : sigma_g=10\n",
      "23:16 bilby INFO    : Analysis likelihood class: <class 'bilby.core.likelihood.GaussianLikelihood'>\n",
      "23:16 bilby INFO    : Analysis likelihood noise evidence: nan\n",
      "23:16 bilby INFO    : Single likelihood evaluation took 7.684e-04 s\n",
      "23:16 bilby INFO    : Using sampler Dynesty with kwargs {'nlive': 20, 'bound': 'live', 'sample': 'act-walk', 'periodic': None, 'reflective': None, 'update_interval': 600, 'first_update': None, 'npdim': None, 'rstate': None, 'queue_size': 1, 'pool': None, 'use_pool': None, 'live_points': None, 'logl_args': None, 'logl_kwargs': None, 'ptform_args': None, 'ptform_kwargs': None, 'gradient': None, 'grad_args': None, 'grad_kwargs': None, 'compute_jac': False, 'enlarge': None, 'bootstrap': None, 'walks': 100, 'facc': 0.2, 'slices': None, 'fmove': 0.9, 'max_move': 100, 'update_func': None, 'ncdim': None, 'blob': False, 'save_history': False, 'history_filename': None, 'maxiter': None, 'maxcall': None, 'dlogz': 0.1, 'logl_max': inf, 'n_effective': None, 'add_live': True, 'print_progress': True, 'print_func': <bound method Dynesty._print_func of <bilby.core.sampler.dynesty.Dynesty object at 0x339937310>>, 'save_bounds': False, 'checkpoint_file': None, 'checkpoint_every': 60, 'resume': False, 'seed': None}\n",
      "23:16 bilby INFO    : Global meta data was removed from the result object for compatibility. Use the `BILBY_INCLUDE_GLOBAL_METADATA` environment variable to include it. This behaviour will be removed in a future release. For more details see: https://bilby-dev.github.io/bilby/faq.html#global-meta-data\n",
      "23:16 bilby INFO    : Checkpoint every check_point_delta_t = 600s\n",
      "23:16 bilby INFO    : Using dynesty version 2.1.5\n",
      "23:16 bilby INFO    : Using the bilby-implemented act-walk sampling tracking the autocorrelation function and thinning by 2 with maximum length 10000\n",
      "23:16 bilby INFO    : Generating initial points from the prior\n"
     ]
    },
    {
     "name": "stdout",
     "output_type": "stream",
     "text": [
      "197it [00:11, 12.27it/s, bound:11 nc: 37 ncall:7.4e+03 eff:2.6% logz=447.46+/-0.52 dlogz:0.143>0.1]"
     ]
    },
    {
     "name": "stderr",
     "output_type": "stream",
     "text": [
      "23:16 bilby INFO    : Written checkpoint file outdir/calibration_example_resume.pickle\n"
     ]
    },
    {
     "name": "stdout",
     "output_type": "stream",
     "text": [
      "204it [00:12, 16.01it/s, bound:11 nc:  1 ncall:7.7e+03 eff:2.9% logz=447.57+/-0.53 dlogz:0.00442>0.1]"
     ]
    },
    {
     "name": "stderr",
     "output_type": "stream",
     "text": [
      "23:16 bilby INFO    : Rejection sampling nested samples to obtain 85 posterior samples\n",
      "23:16 bilby INFO    : Sampling time: 0:00:12.682758\n",
      "23:16 bilby INFO    : Summary of results:\n",
      "nsamples: 85\n",
      "ln_noise_evidence:    nan\n",
      "ln_evidence: 447.573 +/-  0.584\n",
      "ln_bayes_factor:    nan +/-  0.584\n",
      "\n",
      "23:16 bilby INFO    : Running for label 'calibration_example', output will be saved to 'outdir'\n"
     ]
    },
    {
     "name": "stdout",
     "output_type": "stream",
     "text": [
      "\n",
      "\n",
      "n = 3\n"
     ]
    },
    {
     "name": "stderr",
     "output_type": "stream",
     "text": [
      "23:17 bilby INFO    : Analysis priors:\n",
      "23:17 bilby INFO    : n_gauss=DiscreteUniform(minimum=1, maximum=4, name='n_gauss', latex_label='n_gauss', unit=None, boundary=None)\n",
      "23:17 bilby INFO    : mu0=TransdimensionalConditionalUniform(name='mu0', componant_function_number=np.int64(0), nested_conditional_transdimensional_params=['mu'], conditional_transdimensional_params=[], conditional_params=['n_gauss'], debug_print_out=True, latex_label='mu0', unit=None, boundary=None, minimum=0, maximum=100)\n",
      "23:17 bilby INFO    : mu1=TransdimensionalConditionalUniform(name='mu1', componant_function_number=np.int64(1), nested_conditional_transdimensional_params=['mu'], conditional_transdimensional_params=[], conditional_params=['n_gauss'], debug_print_out=True, latex_label='mu1', unit=None, boundary=None, minimum=0, maximum=100)\n",
      "23:17 bilby INFO    : mu2=TransdimensionalConditionalUniform(name='mu2', componant_function_number=np.int64(2), nested_conditional_transdimensional_params=['mu'], conditional_transdimensional_params=[], conditional_params=['n_gauss'], debug_print_out=True, latex_label='mu2', unit=None, boundary=None, minimum=0, maximum=100)\n",
      "23:17 bilby INFO    : mu3=TransdimensionalConditionalUniform(name='mu3', componant_function_number=np.int64(3), nested_conditional_transdimensional_params=['mu'], conditional_transdimensional_params=[], conditional_params=['n_gauss'], debug_print_out=True, latex_label='mu3', unit=None, boundary=None, minimum=0, maximum=100)\n",
      "23:17 bilby INFO    : sigma_g=10\n",
      "23:17 bilby INFO    : Analysis likelihood class: <class 'bilby.core.likelihood.GaussianLikelihood'>\n",
      "23:17 bilby INFO    : Analysis likelihood noise evidence: nan\n",
      "23:17 bilby INFO    : Single likelihood evaluation took 7.624e-04 s\n",
      "23:17 bilby INFO    : Using sampler Dynesty with kwargs {'nlive': 20, 'bound': 'live', 'sample': 'act-walk', 'periodic': None, 'reflective': None, 'update_interval': 600, 'first_update': None, 'npdim': None, 'rstate': None, 'queue_size': 1, 'pool': None, 'use_pool': None, 'live_points': None, 'logl_args': None, 'logl_kwargs': None, 'ptform_args': None, 'ptform_kwargs': None, 'gradient': None, 'grad_args': None, 'grad_kwargs': None, 'compute_jac': False, 'enlarge': None, 'bootstrap': None, 'walks': 100, 'facc': 0.2, 'slices': None, 'fmove': 0.9, 'max_move': 100, 'update_func': None, 'ncdim': None, 'blob': False, 'save_history': False, 'history_filename': None, 'maxiter': None, 'maxcall': None, 'dlogz': 0.1, 'logl_max': inf, 'n_effective': None, 'add_live': True, 'print_progress': True, 'print_func': <bound method Dynesty._print_func of <bilby.core.sampler.dynesty.Dynesty object at 0x33c3c6550>>, 'save_bounds': False, 'checkpoint_file': None, 'checkpoint_every': 60, 'resume': False, 'seed': None}\n",
      "23:17 bilby INFO    : Global meta data was removed from the result object for compatibility. Use the `BILBY_INCLUDE_GLOBAL_METADATA` environment variable to include it. This behaviour will be removed in a future release. For more details see: https://bilby-dev.github.io/bilby/faq.html#global-meta-data\n",
      "23:17 bilby INFO    : Checkpoint every check_point_delta_t = 600s\n",
      "23:17 bilby INFO    : Using dynesty version 2.1.5\n",
      "23:17 bilby INFO    : Using the bilby-implemented act-walk sampling tracking the autocorrelation function and thinning by 2 with maximum length 10000\n",
      "23:17 bilby INFO    : Generating initial points from the prior\n"
     ]
    },
    {
     "name": "stdout",
     "output_type": "stream",
     "text": [
      "175it [00:07, 21.21it/s, bound:9 nc: 29 ncall:5.8e+03 eff:3.0% logz=494.14+/-0.50 dlogz:0.153>0.1]"
     ]
    },
    {
     "name": "stderr",
     "output_type": "stream",
     "text": [
      "23:17 bilby INFO    : Written checkpoint file outdir/calibration_example_resume.pickle\n"
     ]
    },
    {
     "name": "stdout",
     "output_type": "stream",
     "text": [
      "183it [00:08, 20.88it/s, bound:9 nc:  1 ncall:6.1e+03 eff:3.3% logz=494.27+/-0.50 dlogz:0.00454>0.1]"
     ]
    },
    {
     "name": "stderr",
     "output_type": "stream",
     "text": [
      "23:17 bilby INFO    : Rejection sampling nested samples to obtain 55 posterior samples\n",
      "23:17 bilby INFO    : Sampling time: 0:00:08.717523\n",
      "23:17 bilby INFO    : Summary of results:\n",
      "nsamples: 55\n",
      "ln_noise_evidence:    nan\n",
      "ln_evidence: 494.269 +/-  0.557\n",
      "ln_bayes_factor:    nan +/-  0.557\n",
      "\n",
      "23:17 bilby INFO    : Running for label 'calibration_example', output will be saved to 'outdir'\n"
     ]
    },
    {
     "name": "stdout",
     "output_type": "stream",
     "text": [
      "\n",
      "\n",
      "n = 4\n"
     ]
    },
    {
     "name": "stderr",
     "output_type": "stream",
     "text": [
      "23:17 bilby INFO    : Analysis priors:\n",
      "23:17 bilby INFO    : n_gauss=DiscreteUniform(minimum=1, maximum=4, name='n_gauss', latex_label='n_gauss', unit=None, boundary=None)\n",
      "23:17 bilby INFO    : mu0=TransdimensionalConditionalUniform(name='mu0', componant_function_number=np.int64(0), nested_conditional_transdimensional_params=['mu'], conditional_transdimensional_params=[], conditional_params=['n_gauss'], debug_print_out=True, latex_label='mu0', unit=None, boundary=None, minimum=0, maximum=100)\n",
      "23:17 bilby INFO    : mu1=TransdimensionalConditionalUniform(name='mu1', componant_function_number=np.int64(1), nested_conditional_transdimensional_params=['mu'], conditional_transdimensional_params=[], conditional_params=['n_gauss'], debug_print_out=True, latex_label='mu1', unit=None, boundary=None, minimum=0, maximum=100)\n",
      "23:17 bilby INFO    : mu2=TransdimensionalConditionalUniform(name='mu2', componant_function_number=np.int64(2), nested_conditional_transdimensional_params=['mu'], conditional_transdimensional_params=[], conditional_params=['n_gauss'], debug_print_out=True, latex_label='mu2', unit=None, boundary=None, minimum=0, maximum=100)\n",
      "23:17 bilby INFO    : mu3=TransdimensionalConditionalUniform(name='mu3', componant_function_number=np.int64(3), nested_conditional_transdimensional_params=['mu'], conditional_transdimensional_params=[], conditional_params=['n_gauss'], debug_print_out=True, latex_label='mu3', unit=None, boundary=None, minimum=0, maximum=100)\n",
      "23:17 bilby INFO    : sigma_g=10\n",
      "23:17 bilby INFO    : Analysis likelihood class: <class 'bilby.core.likelihood.GaussianLikelihood'>\n",
      "23:17 bilby INFO    : Analysis likelihood noise evidence: nan\n",
      "23:17 bilby INFO    : Single likelihood evaluation took 7.653e-04 s\n",
      "23:17 bilby INFO    : Using sampler Dynesty with kwargs {'nlive': 20, 'bound': 'live', 'sample': 'act-walk', 'periodic': None, 'reflective': None, 'update_interval': 600, 'first_update': None, 'npdim': None, 'rstate': None, 'queue_size': 1, 'pool': None, 'use_pool': None, 'live_points': None, 'logl_args': None, 'logl_kwargs': None, 'ptform_args': None, 'ptform_kwargs': None, 'gradient': None, 'grad_args': None, 'grad_kwargs': None, 'compute_jac': False, 'enlarge': None, 'bootstrap': None, 'walks': 100, 'facc': 0.2, 'slices': None, 'fmove': 0.9, 'max_move': 100, 'update_func': None, 'ncdim': None, 'blob': False, 'save_history': False, 'history_filename': None, 'maxiter': None, 'maxcall': None, 'dlogz': 0.1, 'logl_max': inf, 'n_effective': None, 'add_live': True, 'print_progress': True, 'print_func': <bound method Dynesty._print_func of <bilby.core.sampler.dynesty.Dynesty object at 0x33d46b490>>, 'save_bounds': False, 'checkpoint_file': None, 'checkpoint_every': 60, 'resume': False, 'seed': None}\n",
      "23:17 bilby INFO    : Global meta data was removed from the result object for compatibility. Use the `BILBY_INCLUDE_GLOBAL_METADATA` environment variable to include it. This behaviour will be removed in a future release. For more details see: https://bilby-dev.github.io/bilby/faq.html#global-meta-data\n",
      "23:17 bilby INFO    : Checkpoint every check_point_delta_t = 600s\n",
      "23:17 bilby INFO    : Using dynesty version 2.1.5\n",
      "23:17 bilby INFO    : Using the bilby-implemented act-walk sampling tracking the autocorrelation function and thinning by 2 with maximum length 10000\n",
      "23:17 bilby INFO    : Generating initial points from the prior\n"
     ]
    },
    {
     "name": "stdout",
     "output_type": "stream",
     "text": [
      "175it [00:10, 12.68it/s, bound:11 nc: 25 ncall:7.4e+03 eff:2.4% logz=455.51+/-0.48 dlogz:0.166>0.1]"
     ]
    },
    {
     "name": "stderr",
     "output_type": "stream",
     "text": [
      "23:17 bilby INFO    : Written checkpoint file outdir/calibration_example_resume.pickle\n"
     ]
    },
    {
     "name": "stdout",
     "output_type": "stream",
     "text": [
      "185it [00:11, 16.34it/s, bound:12 nc:  1 ncall:8.0e+03 eff:2.6% logz=455.64+/-0.49 dlogz:0.00439>0.1]"
     ]
    },
    {
     "name": "stderr",
     "output_type": "stream",
     "text": [
      "23:17 bilby INFO    : Rejection sampling nested samples to obtain 75 posterior samples\n",
      "23:17 bilby INFO    : Sampling time: 0:00:11.259202\n",
      "23:17 bilby INFO    : Summary of results:\n",
      "nsamples: 75\n",
      "ln_noise_evidence:    nan\n",
      "ln_evidence: 455.639 +/-  0.538\n",
      "ln_bayes_factor:    nan +/-  0.538\n",
      "\n",
      "23:17 bilby INFO    : Running for label 'calibration_example', output will be saved to 'outdir'\n"
     ]
    },
    {
     "name": "stdout",
     "output_type": "stream",
     "text": [
      "\n",
      "\n",
      "n = 2\n"
     ]
    },
    {
     "name": "stderr",
     "output_type": "stream",
     "text": [
      "23:17 bilby INFO    : Analysis priors:\n",
      "23:17 bilby INFO    : n_gauss=DiscreteUniform(minimum=1, maximum=4, name='n_gauss', latex_label='n_gauss', unit=None, boundary=None)\n",
      "23:17 bilby INFO    : mu0=TransdimensionalConditionalUniform(name='mu0', componant_function_number=np.int64(0), nested_conditional_transdimensional_params=['mu'], conditional_transdimensional_params=[], conditional_params=['n_gauss'], debug_print_out=True, latex_label='mu0', unit=None, boundary=None, minimum=0, maximum=100)\n",
      "23:17 bilby INFO    : mu1=TransdimensionalConditionalUniform(name='mu1', componant_function_number=np.int64(1), nested_conditional_transdimensional_params=['mu'], conditional_transdimensional_params=[], conditional_params=['n_gauss'], debug_print_out=True, latex_label='mu1', unit=None, boundary=None, minimum=0, maximum=100)\n",
      "23:17 bilby INFO    : mu2=TransdimensionalConditionalUniform(name='mu2', componant_function_number=np.int64(2), nested_conditional_transdimensional_params=['mu'], conditional_transdimensional_params=[], conditional_params=['n_gauss'], debug_print_out=True, latex_label='mu2', unit=None, boundary=None, minimum=0, maximum=100)\n",
      "23:17 bilby INFO    : mu3=TransdimensionalConditionalUniform(name='mu3', componant_function_number=np.int64(3), nested_conditional_transdimensional_params=['mu'], conditional_transdimensional_params=[], conditional_params=['n_gauss'], debug_print_out=True, latex_label='mu3', unit=None, boundary=None, minimum=0, maximum=100)\n",
      "23:17 bilby INFO    : sigma_g=10\n",
      "23:17 bilby INFO    : Analysis likelihood class: <class 'bilby.core.likelihood.GaussianLikelihood'>\n",
      "23:17 bilby INFO    : Analysis likelihood noise evidence: nan\n",
      "23:17 bilby INFO    : Single likelihood evaluation took 8.063e-04 s\n",
      "23:17 bilby INFO    : Using sampler Dynesty with kwargs {'nlive': 20, 'bound': 'live', 'sample': 'act-walk', 'periodic': None, 'reflective': None, 'update_interval': 600, 'first_update': None, 'npdim': None, 'rstate': None, 'queue_size': 1, 'pool': None, 'use_pool': None, 'live_points': None, 'logl_args': None, 'logl_kwargs': None, 'ptform_args': None, 'ptform_kwargs': None, 'gradient': None, 'grad_args': None, 'grad_kwargs': None, 'compute_jac': False, 'enlarge': None, 'bootstrap': None, 'walks': 100, 'facc': 0.2, 'slices': None, 'fmove': 0.9, 'max_move': 100, 'update_func': None, 'ncdim': None, 'blob': False, 'save_history': False, 'history_filename': None, 'maxiter': None, 'maxcall': None, 'dlogz': 0.1, 'logl_max': inf, 'n_effective': None, 'add_live': True, 'print_progress': True, 'print_func': <bound method Dynesty._print_func of <bilby.core.sampler.dynesty.Dynesty object at 0x33e820dd0>>, 'save_bounds': False, 'checkpoint_file': None, 'checkpoint_every': 60, 'resume': False, 'seed': None}\n",
      "23:17 bilby INFO    : Global meta data was removed from the result object for compatibility. Use the `BILBY_INCLUDE_GLOBAL_METADATA` environment variable to include it. This behaviour will be removed in a future release. For more details see: https://bilby-dev.github.io/bilby/faq.html#global-meta-data\n",
      "23:17 bilby INFO    : Checkpoint every check_point_delta_t = 600s\n",
      "23:17 bilby INFO    : Using dynesty version 2.1.5\n",
      "23:17 bilby INFO    : Using the bilby-implemented act-walk sampling tracking the autocorrelation function and thinning by 2 with maximum length 10000\n",
      "23:17 bilby INFO    : Generating initial points from the prior\n"
     ]
    },
    {
     "name": "stdout",
     "output_type": "stream",
     "text": [
      "164it [00:08, 14.47it/s, bound:10 nc: 58 ncall:7.0e+03 eff:2.3% logz=504.98+/-0.46 dlogz:0.203>0.1]"
     ]
    },
    {
     "name": "stderr",
     "output_type": "stream",
     "text": [
      "23:17 bilby INFO    : Written checkpoint file outdir/calibration_example_resume.pickle\n"
     ]
    },
    {
     "name": "stdout",
     "output_type": "stream",
     "text": [
      "179it [00:09, 18.39it/s, bound:12 nc:  1 ncall:7.9e+03 eff:2.5% logz=505.12+/-0.47 dlogz:0.00447>0.1]"
     ]
    },
    {
     "name": "stderr",
     "output_type": "stream",
     "text": [
      "23:17 bilby INFO    : Rejection sampling nested samples to obtain 74 posterior samples\n",
      "23:17 bilby INFO    : Sampling time: 0:00:09.681573\n",
      "23:17 bilby INFO    : Summary of results:\n",
      "nsamples: 74\n",
      "ln_noise_evidence:    nan\n",
      "ln_evidence: 505.123 +/-  0.515\n",
      "ln_bayes_factor:    nan +/-  0.515\n",
      "\n",
      "23:17 bilby INFO    : Running for label 'calibration_example', output will be saved to 'outdir'\n"
     ]
    },
    {
     "name": "stdout",
     "output_type": "stream",
     "text": [
      "\n",
      "\n",
      "n = 4\n"
     ]
    },
    {
     "name": "stderr",
     "output_type": "stream",
     "text": [
      "23:17 bilby INFO    : Analysis priors:\n",
      "23:17 bilby INFO    : n_gauss=DiscreteUniform(minimum=1, maximum=4, name='n_gauss', latex_label='n_gauss', unit=None, boundary=None)\n",
      "23:17 bilby INFO    : mu0=TransdimensionalConditionalUniform(name='mu0', componant_function_number=np.int64(0), nested_conditional_transdimensional_params=['mu'], conditional_transdimensional_params=[], conditional_params=['n_gauss'], debug_print_out=True, latex_label='mu0', unit=None, boundary=None, minimum=0, maximum=100)\n",
      "23:17 bilby INFO    : mu1=TransdimensionalConditionalUniform(name='mu1', componant_function_number=np.int64(1), nested_conditional_transdimensional_params=['mu'], conditional_transdimensional_params=[], conditional_params=['n_gauss'], debug_print_out=True, latex_label='mu1', unit=None, boundary=None, minimum=0, maximum=100)\n",
      "23:17 bilby INFO    : mu2=TransdimensionalConditionalUniform(name='mu2', componant_function_number=np.int64(2), nested_conditional_transdimensional_params=['mu'], conditional_transdimensional_params=[], conditional_params=['n_gauss'], debug_print_out=True, latex_label='mu2', unit=None, boundary=None, minimum=0, maximum=100)\n",
      "23:17 bilby INFO    : mu3=TransdimensionalConditionalUniform(name='mu3', componant_function_number=np.int64(3), nested_conditional_transdimensional_params=['mu'], conditional_transdimensional_params=[], conditional_params=['n_gauss'], debug_print_out=True, latex_label='mu3', unit=None, boundary=None, minimum=0, maximum=100)\n",
      "23:17 bilby INFO    : sigma_g=10\n",
      "23:17 bilby INFO    : Analysis likelihood class: <class 'bilby.core.likelihood.GaussianLikelihood'>\n",
      "23:17 bilby INFO    : Analysis likelihood noise evidence: nan\n",
      "23:17 bilby INFO    : Single likelihood evaluation took 7.135e-04 s\n",
      "23:17 bilby INFO    : Using sampler Dynesty with kwargs {'nlive': 20, 'bound': 'live', 'sample': 'act-walk', 'periodic': None, 'reflective': None, 'update_interval': 600, 'first_update': None, 'npdim': None, 'rstate': None, 'queue_size': 1, 'pool': None, 'use_pool': None, 'live_points': None, 'logl_args': None, 'logl_kwargs': None, 'ptform_args': None, 'ptform_kwargs': None, 'gradient': None, 'grad_args': None, 'grad_kwargs': None, 'compute_jac': False, 'enlarge': None, 'bootstrap': None, 'walks': 100, 'facc': 0.2, 'slices': None, 'fmove': 0.9, 'max_move': 100, 'update_func': None, 'ncdim': None, 'blob': False, 'save_history': False, 'history_filename': None, 'maxiter': None, 'maxcall': None, 'dlogz': 0.1, 'logl_max': inf, 'n_effective': None, 'add_live': True, 'print_progress': True, 'print_func': <bound method Dynesty._print_func of <bilby.core.sampler.dynesty.Dynesty object at 0x338fcae90>>, 'save_bounds': False, 'checkpoint_file': None, 'checkpoint_every': 60, 'resume': False, 'seed': None}\n",
      "23:17 bilby INFO    : Global meta data was removed from the result object for compatibility. Use the `BILBY_INCLUDE_GLOBAL_METADATA` environment variable to include it. This behaviour will be removed in a future release. For more details see: https://bilby-dev.github.io/bilby/faq.html#global-meta-data\n",
      "23:17 bilby INFO    : Checkpoint every check_point_delta_t = 600s\n",
      "23:17 bilby INFO    : Using dynesty version 2.1.5\n",
      "23:17 bilby INFO    : Using the bilby-implemented act-walk sampling tracking the autocorrelation function and thinning by 2 with maximum length 10000\n",
      "23:17 bilby INFO    : Generating initial points from the prior\n"
     ]
    },
    {
     "name": "stdout",
     "output_type": "stream",
     "text": [
      "214it [00:10, 17.09it/s, bound:11 nc: 32 ncall:7.2e+03 eff:3.0% logz=481.88+/-0.52 dlogz:0.142>0.1]"
     ]
    },
    {
     "name": "stderr",
     "output_type": "stream",
     "text": [
      "23:17 bilby INFO    : Written checkpoint file outdir/calibration_example_resume.pickle\n"
     ]
    },
    {
     "name": "stdout",
     "output_type": "stream",
     "text": [
      "220it [00:12, 18.05it/s, bound:11 nc:  1 ncall:7.5e+03 eff:3.2% logz=481.98+/-0.55 dlogz:0.0046>0.1]"
     ]
    },
    {
     "name": "stderr",
     "output_type": "stream",
     "text": [
      "23:17 bilby INFO    : Rejection sampling nested samples to obtain 86 posterior samples\n",
      "23:17 bilby INFO    : Sampling time: 0:00:12.131912\n",
      "23:17 bilby INFO    : Summary of results:\n",
      "nsamples: 86\n",
      "ln_noise_evidence:    nan\n",
      "ln_evidence: 481.985 +/-  0.599\n",
      "ln_bayes_factor:    nan +/-  0.599\n",
      "\n",
      "23:17 bilby INFO    : Running for label 'calibration_example', output will be saved to 'outdir'\n"
     ]
    },
    {
     "name": "stdout",
     "output_type": "stream",
     "text": [
      "\n",
      "\n",
      "n = 1\n"
     ]
    },
    {
     "name": "stderr",
     "output_type": "stream",
     "text": [
      "23:17 bilby INFO    : Analysis priors:\n",
      "23:17 bilby INFO    : n_gauss=DiscreteUniform(minimum=1, maximum=4, name='n_gauss', latex_label='n_gauss', unit=None, boundary=None)\n",
      "23:17 bilby INFO    : mu0=TransdimensionalConditionalUniform(name='mu0', componant_function_number=np.int64(0), nested_conditional_transdimensional_params=['mu'], conditional_transdimensional_params=[], conditional_params=['n_gauss'], debug_print_out=True, latex_label='mu0', unit=None, boundary=None, minimum=0, maximum=100)\n",
      "23:17 bilby INFO    : mu1=TransdimensionalConditionalUniform(name='mu1', componant_function_number=np.int64(1), nested_conditional_transdimensional_params=['mu'], conditional_transdimensional_params=[], conditional_params=['n_gauss'], debug_print_out=True, latex_label='mu1', unit=None, boundary=None, minimum=0, maximum=100)\n",
      "23:17 bilby INFO    : mu2=TransdimensionalConditionalUniform(name='mu2', componant_function_number=np.int64(2), nested_conditional_transdimensional_params=['mu'], conditional_transdimensional_params=[], conditional_params=['n_gauss'], debug_print_out=True, latex_label='mu2', unit=None, boundary=None, minimum=0, maximum=100)\n",
      "23:17 bilby INFO    : mu3=TransdimensionalConditionalUniform(name='mu3', componant_function_number=np.int64(3), nested_conditional_transdimensional_params=['mu'], conditional_transdimensional_params=[], conditional_params=['n_gauss'], debug_print_out=True, latex_label='mu3', unit=None, boundary=None, minimum=0, maximum=100)\n",
      "23:17 bilby INFO    : sigma_g=10\n",
      "23:17 bilby INFO    : Analysis likelihood class: <class 'bilby.core.likelihood.GaussianLikelihood'>\n",
      "23:17 bilby INFO    : Analysis likelihood noise evidence: nan\n",
      "23:17 bilby INFO    : Single likelihood evaluation took 7.461e-04 s\n",
      "23:17 bilby INFO    : Using sampler Dynesty with kwargs {'nlive': 20, 'bound': 'live', 'sample': 'act-walk', 'periodic': None, 'reflective': None, 'update_interval': 600, 'first_update': None, 'npdim': None, 'rstate': None, 'queue_size': 1, 'pool': None, 'use_pool': None, 'live_points': None, 'logl_args': None, 'logl_kwargs': None, 'ptform_args': None, 'ptform_kwargs': None, 'gradient': None, 'grad_args': None, 'grad_kwargs': None, 'compute_jac': False, 'enlarge': None, 'bootstrap': None, 'walks': 100, 'facc': 0.2, 'slices': None, 'fmove': 0.9, 'max_move': 100, 'update_func': None, 'ncdim': None, 'blob': False, 'save_history': False, 'history_filename': None, 'maxiter': None, 'maxcall': None, 'dlogz': 0.1, 'logl_max': inf, 'n_effective': None, 'add_live': True, 'print_progress': True, 'print_func': <bound method Dynesty._print_func of <bilby.core.sampler.dynesty.Dynesty object at 0x34371e090>>, 'save_bounds': False, 'checkpoint_file': None, 'checkpoint_every': 60, 'resume': False, 'seed': None}\n",
      "23:17 bilby INFO    : Global meta data was removed from the result object for compatibility. Use the `BILBY_INCLUDE_GLOBAL_METADATA` environment variable to include it. This behaviour will be removed in a future release. For more details see: https://bilby-dev.github.io/bilby/faq.html#global-meta-data\n",
      "23:17 bilby INFO    : Checkpoint every check_point_delta_t = 600s\n",
      "23:17 bilby INFO    : Using dynesty version 2.1.5\n",
      "23:17 bilby INFO    : Using the bilby-implemented act-walk sampling tracking the autocorrelation function and thinning by 2 with maximum length 10000\n",
      "23:17 bilby INFO    : Generating initial points from the prior\n"
     ]
    },
    {
     "name": "stdout",
     "output_type": "stream",
     "text": [
      "113it [00:01, 56.49it/s, bound:3 nc: 20 ncall:2.3e+03 eff:5.0% logz=475.07+/-0.36 dlogz:0.115>0.1]"
     ]
    },
    {
     "name": "stderr",
     "output_type": "stream",
     "text": [
      "23:17 bilby INFO    : Written checkpoint file outdir/calibration_example_resume.pickle\n"
     ]
    },
    {
     "name": "stdout",
     "output_type": "stream",
     "text": [
      "115it [00:02, 39.19it/s, bound:3 nc:  1 ncall:2.3e+03 eff:5.9% logz=475.17+/-0.36 dlogz:0.00448>0.1]"
     ]
    },
    {
     "name": "stderr",
     "output_type": "stream",
     "text": [
      "23:17 bilby INFO    : Rejection sampling nested samples to obtain 45 posterior samples\n",
      "23:17 bilby INFO    : Sampling time: 0:00:02.908708\n",
      "23:17 bilby INFO    : Summary of results:\n",
      "nsamples: 45\n",
      "ln_noise_evidence:    nan\n",
      "ln_evidence: 475.173 +/-  0.400\n",
      "ln_bayes_factor:    nan +/-  0.400\n",
      "\n",
      "23:17 bilby INFO    : Running for label 'calibration_example', output will be saved to 'outdir'\n"
     ]
    },
    {
     "name": "stdout",
     "output_type": "stream",
     "text": [
      "\n",
      "\n",
      "n = 2\n"
     ]
    },
    {
     "name": "stderr",
     "output_type": "stream",
     "text": [
      "23:17 bilby INFO    : Analysis priors:\n",
      "23:17 bilby INFO    : n_gauss=DiscreteUniform(minimum=1, maximum=4, name='n_gauss', latex_label='n_gauss', unit=None, boundary=None)\n",
      "23:17 bilby INFO    : mu0=TransdimensionalConditionalUniform(name='mu0', componant_function_number=np.int64(0), nested_conditional_transdimensional_params=['mu'], conditional_transdimensional_params=[], conditional_params=['n_gauss'], debug_print_out=True, latex_label='mu0', unit=None, boundary=None, minimum=0, maximum=100)\n",
      "23:17 bilby INFO    : mu1=TransdimensionalConditionalUniform(name='mu1', componant_function_number=np.int64(1), nested_conditional_transdimensional_params=['mu'], conditional_transdimensional_params=[], conditional_params=['n_gauss'], debug_print_out=True, latex_label='mu1', unit=None, boundary=None, minimum=0, maximum=100)\n",
      "23:17 bilby INFO    : mu2=TransdimensionalConditionalUniform(name='mu2', componant_function_number=np.int64(2), nested_conditional_transdimensional_params=['mu'], conditional_transdimensional_params=[], conditional_params=['n_gauss'], debug_print_out=True, latex_label='mu2', unit=None, boundary=None, minimum=0, maximum=100)\n",
      "23:17 bilby INFO    : mu3=TransdimensionalConditionalUniform(name='mu3', componant_function_number=np.int64(3), nested_conditional_transdimensional_params=['mu'], conditional_transdimensional_params=[], conditional_params=['n_gauss'], debug_print_out=True, latex_label='mu3', unit=None, boundary=None, minimum=0, maximum=100)\n",
      "23:17 bilby INFO    : sigma_g=10\n",
      "23:17 bilby INFO    : Analysis likelihood class: <class 'bilby.core.likelihood.GaussianLikelihood'>\n",
      "23:17 bilby INFO    : Analysis likelihood noise evidence: nan\n",
      "23:17 bilby INFO    : Single likelihood evaluation took 7.972e-04 s\n",
      "23:17 bilby INFO    : Using sampler Dynesty with kwargs {'nlive': 20, 'bound': 'live', 'sample': 'act-walk', 'periodic': None, 'reflective': None, 'update_interval': 600, 'first_update': None, 'npdim': None, 'rstate': None, 'queue_size': 1, 'pool': None, 'use_pool': None, 'live_points': None, 'logl_args': None, 'logl_kwargs': None, 'ptform_args': None, 'ptform_kwargs': None, 'gradient': None, 'grad_args': None, 'grad_kwargs': None, 'compute_jac': False, 'enlarge': None, 'bootstrap': None, 'walks': 100, 'facc': 0.2, 'slices': None, 'fmove': 0.9, 'max_move': 100, 'update_func': None, 'ncdim': None, 'blob': False, 'save_history': False, 'history_filename': None, 'maxiter': None, 'maxcall': None, 'dlogz': 0.1, 'logl_max': inf, 'n_effective': None, 'add_live': True, 'print_progress': True, 'print_func': <bound method Dynesty._print_func of <bilby.core.sampler.dynesty.Dynesty object at 0x3441c3310>>, 'save_bounds': False, 'checkpoint_file': None, 'checkpoint_every': 60, 'resume': False, 'seed': None}\n",
      "23:17 bilby INFO    : Global meta data was removed from the result object for compatibility. Use the `BILBY_INCLUDE_GLOBAL_METADATA` environment variable to include it. This behaviour will be removed in a future release. For more details see: https://bilby-dev.github.io/bilby/faq.html#global-meta-data\n",
      "23:17 bilby INFO    : Checkpoint every check_point_delta_t = 600s\n",
      "23:17 bilby INFO    : Using dynesty version 2.1.5\n",
      "23:17 bilby INFO    : Using the bilby-implemented act-walk sampling tracking the autocorrelation function and thinning by 2 with maximum length 10000\n",
      "23:17 bilby INFO    : Generating initial points from the prior\n"
     ]
    },
    {
     "name": "stdout",
     "output_type": "stream",
     "text": [
      "175it [00:05, 22.27it/s, bound:7 nc: 24 ncall:5.0e+03 eff:3.5% logz=461.47+/-0.47 dlogz:0.102>0.1]"
     ]
    },
    {
     "name": "stderr",
     "output_type": "stream",
     "text": [
      "23:18 bilby INFO    : Written checkpoint file outdir/calibration_example_resume.pickle\n"
     ]
    },
    {
     "name": "stdout",
     "output_type": "stream",
     "text": [
      "175it [00:06, 25.59it/s, bound:7 nc:  1 ncall:5.0e+03 eff:3.9% logz=461.55+/-0.48 dlogz:0.00441>0.1]"
     ]
    },
    {
     "name": "stderr",
     "output_type": "stream",
     "text": [
      "23:18 bilby INFO    : Rejection sampling nested samples to obtain 68 posterior samples\n",
      "23:18 bilby INFO    : Sampling time: 0:00:06.799999\n",
      "23:18 bilby INFO    : Summary of results:\n",
      "nsamples: 68\n",
      "ln_noise_evidence:    nan\n",
      "ln_evidence: 461.552 +/-  0.531\n",
      "ln_bayes_factor:    nan +/-  0.531\n",
      "\n",
      "23:18 bilby INFO    : Running for label 'calibration_example', output will be saved to 'outdir'\n"
     ]
    },
    {
     "name": "stdout",
     "output_type": "stream",
     "text": [
      "\n",
      "\n",
      "n = 3\n"
     ]
    },
    {
     "name": "stderr",
     "output_type": "stream",
     "text": [
      "23:18 bilby INFO    : Analysis priors:\n",
      "23:18 bilby INFO    : n_gauss=DiscreteUniform(minimum=1, maximum=4, name='n_gauss', latex_label='n_gauss', unit=None, boundary=None)\n",
      "23:18 bilby INFO    : mu0=TransdimensionalConditionalUniform(name='mu0', componant_function_number=np.int64(0), nested_conditional_transdimensional_params=['mu'], conditional_transdimensional_params=[], conditional_params=['n_gauss'], debug_print_out=True, latex_label='mu0', unit=None, boundary=None, minimum=0, maximum=100)\n",
      "23:18 bilby INFO    : mu1=TransdimensionalConditionalUniform(name='mu1', componant_function_number=np.int64(1), nested_conditional_transdimensional_params=['mu'], conditional_transdimensional_params=[], conditional_params=['n_gauss'], debug_print_out=True, latex_label='mu1', unit=None, boundary=None, minimum=0, maximum=100)\n",
      "23:18 bilby INFO    : mu2=TransdimensionalConditionalUniform(name='mu2', componant_function_number=np.int64(2), nested_conditional_transdimensional_params=['mu'], conditional_transdimensional_params=[], conditional_params=['n_gauss'], debug_print_out=True, latex_label='mu2', unit=None, boundary=None, minimum=0, maximum=100)\n",
      "23:18 bilby INFO    : mu3=TransdimensionalConditionalUniform(name='mu3', componant_function_number=np.int64(3), nested_conditional_transdimensional_params=['mu'], conditional_transdimensional_params=[], conditional_params=['n_gauss'], debug_print_out=True, latex_label='mu3', unit=None, boundary=None, minimum=0, maximum=100)\n",
      "23:18 bilby INFO    : sigma_g=10\n",
      "23:18 bilby INFO    : Analysis likelihood class: <class 'bilby.core.likelihood.GaussianLikelihood'>\n",
      "23:18 bilby INFO    : Analysis likelihood noise evidence: nan\n",
      "23:18 bilby INFO    : Single likelihood evaluation took 7.151e-04 s\n",
      "23:18 bilby INFO    : Using sampler Dynesty with kwargs {'nlive': 20, 'bound': 'live', 'sample': 'act-walk', 'periodic': None, 'reflective': None, 'update_interval': 600, 'first_update': None, 'npdim': None, 'rstate': None, 'queue_size': 1, 'pool': None, 'use_pool': None, 'live_points': None, 'logl_args': None, 'logl_kwargs': None, 'ptform_args': None, 'ptform_kwargs': None, 'gradient': None, 'grad_args': None, 'grad_kwargs': None, 'compute_jac': False, 'enlarge': None, 'bootstrap': None, 'walks': 100, 'facc': 0.2, 'slices': None, 'fmove': 0.9, 'max_move': 100, 'update_func': None, 'ncdim': None, 'blob': False, 'save_history': False, 'history_filename': None, 'maxiter': None, 'maxcall': None, 'dlogz': 0.1, 'logl_max': inf, 'n_effective': None, 'add_live': True, 'print_progress': True, 'print_func': <bound method Dynesty._print_func of <bilby.core.sampler.dynesty.Dynesty object at 0x3455c2990>>, 'save_bounds': False, 'checkpoint_file': None, 'checkpoint_every': 60, 'resume': False, 'seed': None}\n",
      "23:18 bilby INFO    : Global meta data was removed from the result object for compatibility. Use the `BILBY_INCLUDE_GLOBAL_METADATA` environment variable to include it. This behaviour will be removed in a future release. For more details see: https://bilby-dev.github.io/bilby/faq.html#global-meta-data\n",
      "23:18 bilby INFO    : Checkpoint every check_point_delta_t = 600s\n",
      "23:18 bilby INFO    : Using dynesty version 2.1.5\n",
      "23:18 bilby INFO    : Using the bilby-implemented act-walk sampling tracking the autocorrelation function and thinning by 2 with maximum length 10000\n",
      "23:18 bilby INFO    : Generating initial points from the prior\n"
     ]
    },
    {
     "name": "stdout",
     "output_type": "stream",
     "text": [
      "183it [00:08, 11.47it/s, bound:6 nc: 24 ncall:4.3e+03 eff:4.3% logz=482.56+/-0.50 dlogz:0.152>0.1]"
     ]
    },
    {
     "name": "stderr",
     "output_type": "stream",
     "text": [
      "23:18 bilby INFO    : Written checkpoint file outdir/calibration_example_resume.pickle\n"
     ]
    },
    {
     "name": "stdout",
     "output_type": "stream",
     "text": [
      "192it [00:09, 19.22it/s, bound:7 nc:  1 ncall:5.1e+03 eff:4.2% logz=482.68+/-0.51 dlogz:0.00452>0.1]"
     ]
    },
    {
     "name": "stderr",
     "output_type": "stream",
     "text": [
      "23:18 bilby INFO    : Rejection sampling nested samples to obtain 69 posterior samples\n",
      "23:18 bilby INFO    : Sampling time: 0:00:09.939035\n",
      "23:18 bilby INFO    : Summary of results:\n",
      "nsamples: 69\n",
      "ln_noise_evidence:    nan\n",
      "ln_evidence: 482.676 +/-  0.560\n",
      "ln_bayes_factor:    nan +/-  0.560\n",
      "\n",
      "23:18 bilby INFO    : Running for label 'calibration_example', output will be saved to 'outdir'\n"
     ]
    },
    {
     "name": "stdout",
     "output_type": "stream",
     "text": [
      "\n",
      "\n",
      "n = 4\n"
     ]
    },
    {
     "name": "stderr",
     "output_type": "stream",
     "text": [
      "23:18 bilby INFO    : Analysis priors:\n",
      "23:18 bilby INFO    : n_gauss=DiscreteUniform(minimum=1, maximum=4, name='n_gauss', latex_label='n_gauss', unit=None, boundary=None)\n",
      "23:18 bilby INFO    : mu0=TransdimensionalConditionalUniform(name='mu0', componant_function_number=np.int64(0), nested_conditional_transdimensional_params=['mu'], conditional_transdimensional_params=[], conditional_params=['n_gauss'], debug_print_out=True, latex_label='mu0', unit=None, boundary=None, minimum=0, maximum=100)\n",
      "23:18 bilby INFO    : mu1=TransdimensionalConditionalUniform(name='mu1', componant_function_number=np.int64(1), nested_conditional_transdimensional_params=['mu'], conditional_transdimensional_params=[], conditional_params=['n_gauss'], debug_print_out=True, latex_label='mu1', unit=None, boundary=None, minimum=0, maximum=100)\n",
      "23:18 bilby INFO    : mu2=TransdimensionalConditionalUniform(name='mu2', componant_function_number=np.int64(2), nested_conditional_transdimensional_params=['mu'], conditional_transdimensional_params=[], conditional_params=['n_gauss'], debug_print_out=True, latex_label='mu2', unit=None, boundary=None, minimum=0, maximum=100)\n",
      "23:18 bilby INFO    : mu3=TransdimensionalConditionalUniform(name='mu3', componant_function_number=np.int64(3), nested_conditional_transdimensional_params=['mu'], conditional_transdimensional_params=[], conditional_params=['n_gauss'], debug_print_out=True, latex_label='mu3', unit=None, boundary=None, minimum=0, maximum=100)\n",
      "23:18 bilby INFO    : sigma_g=10\n",
      "23:18 bilby INFO    : Analysis likelihood class: <class 'bilby.core.likelihood.GaussianLikelihood'>\n",
      "23:18 bilby INFO    : Analysis likelihood noise evidence: nan\n",
      "23:18 bilby INFO    : Single likelihood evaluation took 8.115e-04 s\n",
      "23:18 bilby INFO    : Using sampler Dynesty with kwargs {'nlive': 20, 'bound': 'live', 'sample': 'act-walk', 'periodic': None, 'reflective': None, 'update_interval': 600, 'first_update': None, 'npdim': None, 'rstate': None, 'queue_size': 1, 'pool': None, 'use_pool': None, 'live_points': None, 'logl_args': None, 'logl_kwargs': None, 'ptform_args': None, 'ptform_kwargs': None, 'gradient': None, 'grad_args': None, 'grad_kwargs': None, 'compute_jac': False, 'enlarge': None, 'bootstrap': None, 'walks': 100, 'facc': 0.2, 'slices': None, 'fmove': 0.9, 'max_move': 100, 'update_func': None, 'ncdim': None, 'blob': False, 'save_history': False, 'history_filename': None, 'maxiter': None, 'maxcall': None, 'dlogz': 0.1, 'logl_max': inf, 'n_effective': None, 'add_live': True, 'print_progress': True, 'print_func': <bound method Dynesty._print_func of <bilby.core.sampler.dynesty.Dynesty object at 0x346290950>>, 'save_bounds': False, 'checkpoint_file': None, 'checkpoint_every': 60, 'resume': False, 'seed': None}\n",
      "23:18 bilby INFO    : Global meta data was removed from the result object for compatibility. Use the `BILBY_INCLUDE_GLOBAL_METADATA` environment variable to include it. This behaviour will be removed in a future release. For more details see: https://bilby-dev.github.io/bilby/faq.html#global-meta-data\n",
      "23:18 bilby INFO    : Checkpoint every check_point_delta_t = 600s\n",
      "23:18 bilby INFO    : Using dynesty version 2.1.5\n",
      "23:18 bilby INFO    : Using the bilby-implemented act-walk sampling tracking the autocorrelation function and thinning by 2 with maximum length 10000\n",
      "23:18 bilby INFO    : Generating initial points from the prior\n"
     ]
    },
    {
     "name": "stdout",
     "output_type": "stream",
     "text": [
      "287it [00:16, 16.03it/s, bound:16 nc: 45 ncall:1.0e+04 eff:2.8% logz=462.02+/-0.70 dlogz:0.117>0.1]"
     ]
    },
    {
     "name": "stderr",
     "output_type": "stream",
     "text": [
      "23:18 bilby INFO    : Written checkpoint file outdir/calibration_example_resume.pickle\n"
     ]
    },
    {
     "name": "stdout",
     "output_type": "stream",
     "text": [
      "290it [00:17, 16.22it/s, bound:16 nc:  1 ncall:1.1e+04 eff:2.9% logz=462.10+/-0.71 dlogz:0.00444>0.1]"
     ]
    },
    {
     "name": "stderr",
     "output_type": "stream",
     "text": [
      "23:18 bilby INFO    : Rejection sampling nested samples to obtain 47 posterior samples\n",
      "23:18 bilby INFO    : Sampling time: 0:00:17.812511\n",
      "23:18 bilby INFO    : Summary of results:\n",
      "nsamples: 47\n",
      "ln_noise_evidence:    nan\n",
      "ln_evidence: 462.104 +/-  0.771\n",
      "ln_bayes_factor:    nan +/-  0.771\n",
      "\n",
      "23:18 bilby INFO    : Running for label 'calibration_example', output will be saved to 'outdir'\n"
     ]
    },
    {
     "name": "stdout",
     "output_type": "stream",
     "text": [
      "\n",
      "\n",
      "n = 1\n"
     ]
    },
    {
     "name": "stderr",
     "output_type": "stream",
     "text": [
      "23:18 bilby INFO    : Analysis priors:\n",
      "23:18 bilby INFO    : n_gauss=DiscreteUniform(minimum=1, maximum=4, name='n_gauss', latex_label='n_gauss', unit=None, boundary=None)\n",
      "23:18 bilby INFO    : mu0=TransdimensionalConditionalUniform(name='mu0', componant_function_number=np.int64(0), nested_conditional_transdimensional_params=['mu'], conditional_transdimensional_params=[], conditional_params=['n_gauss'], debug_print_out=True, latex_label='mu0', unit=None, boundary=None, minimum=0, maximum=100)\n",
      "23:18 bilby INFO    : mu1=TransdimensionalConditionalUniform(name='mu1', componant_function_number=np.int64(1), nested_conditional_transdimensional_params=['mu'], conditional_transdimensional_params=[], conditional_params=['n_gauss'], debug_print_out=True, latex_label='mu1', unit=None, boundary=None, minimum=0, maximum=100)\n",
      "23:18 bilby INFO    : mu2=TransdimensionalConditionalUniform(name='mu2', componant_function_number=np.int64(2), nested_conditional_transdimensional_params=['mu'], conditional_transdimensional_params=[], conditional_params=['n_gauss'], debug_print_out=True, latex_label='mu2', unit=None, boundary=None, minimum=0, maximum=100)\n",
      "23:18 bilby INFO    : mu3=TransdimensionalConditionalUniform(name='mu3', componant_function_number=np.int64(3), nested_conditional_transdimensional_params=['mu'], conditional_transdimensional_params=[], conditional_params=['n_gauss'], debug_print_out=True, latex_label='mu3', unit=None, boundary=None, minimum=0, maximum=100)\n",
      "23:18 bilby INFO    : sigma_g=10\n",
      "23:18 bilby INFO    : Analysis likelihood class: <class 'bilby.core.likelihood.GaussianLikelihood'>\n",
      "23:18 bilby INFO    : Analysis likelihood noise evidence: nan\n",
      "23:18 bilby INFO    : Single likelihood evaluation took 6.846e-04 s\n",
      "23:18 bilby INFO    : Using sampler Dynesty with kwargs {'nlive': 20, 'bound': 'live', 'sample': 'act-walk', 'periodic': None, 'reflective': None, 'update_interval': 600, 'first_update': None, 'npdim': None, 'rstate': None, 'queue_size': 1, 'pool': None, 'use_pool': None, 'live_points': None, 'logl_args': None, 'logl_kwargs': None, 'ptform_args': None, 'ptform_kwargs': None, 'gradient': None, 'grad_args': None, 'grad_kwargs': None, 'compute_jac': False, 'enlarge': None, 'bootstrap': None, 'walks': 100, 'facc': 0.2, 'slices': None, 'fmove': 0.9, 'max_move': 100, 'update_func': None, 'ncdim': None, 'blob': False, 'save_history': False, 'history_filename': None, 'maxiter': None, 'maxcall': None, 'dlogz': 0.1, 'logl_max': inf, 'n_effective': None, 'add_live': True, 'print_progress': True, 'print_func': <bound method Dynesty._print_func of <bilby.core.sampler.dynesty.Dynesty object at 0x3482d8e50>>, 'save_bounds': False, 'checkpoint_file': None, 'checkpoint_every': 60, 'resume': False, 'seed': None}\n",
      "23:18 bilby INFO    : Global meta data was removed from the result object for compatibility. Use the `BILBY_INCLUDE_GLOBAL_METADATA` environment variable to include it. This behaviour will be removed in a future release. For more details see: https://bilby-dev.github.io/bilby/faq.html#global-meta-data\n",
      "23:18 bilby INFO    : Checkpoint every check_point_delta_t = 600s\n",
      "23:18 bilby INFO    : Using dynesty version 2.1.5\n",
      "23:18 bilby INFO    : Using the bilby-implemented act-walk sampling tracking the autocorrelation function and thinning by 2 with maximum length 10000\n",
      "23:18 bilby INFO    : Generating initial points from the prior\n"
     ]
    },
    {
     "name": "stdout",
     "output_type": "stream",
     "text": [
      "104it [00:02, 44.02it/s, bound:4 nc: 40 ncall:2.6e+03 eff:4.1% logz=465.95+/-0.33 dlogz:0.145>0.1]"
     ]
    },
    {
     "name": "stderr",
     "output_type": "stream",
     "text": [
      "23:18 bilby INFO    : Written checkpoint file outdir/calibration_example_resume.pickle\n"
     ]
    },
    {
     "name": "stdout",
     "output_type": "stream",
     "text": [
      "111it [00:03, 32.63it/s, bound:4 nc:  1 ncall:2.7e+03 eff:4.9% logz=466.09+/-0.33 dlogz:0.00437>0.1]"
     ]
    },
    {
     "name": "stderr",
     "output_type": "stream",
     "text": [
      "23:18 bilby INFO    : Rejection sampling nested samples to obtain 45 posterior samples\n",
      "23:18 bilby INFO    : Sampling time: 0:00:03.371148\n",
      "23:18 bilby INFO    : Summary of results:\n",
      "nsamples: 45\n",
      "ln_noise_evidence:    nan\n",
      "ln_evidence: 466.085 +/-  0.371\n",
      "ln_bayes_factor:    nan +/-  0.371\n",
      "\n",
      "23:18 bilby INFO    : Running for label 'calibration_example', output will be saved to 'outdir'\n"
     ]
    },
    {
     "name": "stdout",
     "output_type": "stream",
     "text": [
      "\n",
      "\n",
      "n = 3\n"
     ]
    },
    {
     "name": "stderr",
     "output_type": "stream",
     "text": [
      "23:18 bilby INFO    : Analysis priors:\n",
      "23:18 bilby INFO    : n_gauss=DiscreteUniform(minimum=1, maximum=4, name='n_gauss', latex_label='n_gauss', unit=None, boundary=None)\n",
      "23:18 bilby INFO    : mu0=TransdimensionalConditionalUniform(name='mu0', componant_function_number=np.int64(0), nested_conditional_transdimensional_params=['mu'], conditional_transdimensional_params=[], conditional_params=['n_gauss'], debug_print_out=True, latex_label='mu0', unit=None, boundary=None, minimum=0, maximum=100)\n",
      "23:18 bilby INFO    : mu1=TransdimensionalConditionalUniform(name='mu1', componant_function_number=np.int64(1), nested_conditional_transdimensional_params=['mu'], conditional_transdimensional_params=[], conditional_params=['n_gauss'], debug_print_out=True, latex_label='mu1', unit=None, boundary=None, minimum=0, maximum=100)\n",
      "23:18 bilby INFO    : mu2=TransdimensionalConditionalUniform(name='mu2', componant_function_number=np.int64(2), nested_conditional_transdimensional_params=['mu'], conditional_transdimensional_params=[], conditional_params=['n_gauss'], debug_print_out=True, latex_label='mu2', unit=None, boundary=None, minimum=0, maximum=100)\n",
      "23:18 bilby INFO    : mu3=TransdimensionalConditionalUniform(name='mu3', componant_function_number=np.int64(3), nested_conditional_transdimensional_params=['mu'], conditional_transdimensional_params=[], conditional_params=['n_gauss'], debug_print_out=True, latex_label='mu3', unit=None, boundary=None, minimum=0, maximum=100)\n",
      "23:18 bilby INFO    : sigma_g=10\n",
      "23:18 bilby INFO    : Analysis likelihood class: <class 'bilby.core.likelihood.GaussianLikelihood'>\n",
      "23:18 bilby INFO    : Analysis likelihood noise evidence: nan\n",
      "23:18 bilby INFO    : Single likelihood evaluation took 7.540e-04 s\n",
      "23:18 bilby INFO    : Using sampler Dynesty with kwargs {'nlive': 20, 'bound': 'live', 'sample': 'act-walk', 'periodic': None, 'reflective': None, 'update_interval': 600, 'first_update': None, 'npdim': None, 'rstate': None, 'queue_size': 1, 'pool': None, 'use_pool': None, 'live_points': None, 'logl_args': None, 'logl_kwargs': None, 'ptform_args': None, 'ptform_kwargs': None, 'gradient': None, 'grad_args': None, 'grad_kwargs': None, 'compute_jac': False, 'enlarge': None, 'bootstrap': None, 'walks': 100, 'facc': 0.2, 'slices': None, 'fmove': 0.9, 'max_move': 100, 'update_func': None, 'ncdim': None, 'blob': False, 'save_history': False, 'history_filename': None, 'maxiter': None, 'maxcall': None, 'dlogz': 0.1, 'logl_max': inf, 'n_effective': None, 'add_live': True, 'print_progress': True, 'print_func': <bound method Dynesty._print_func of <bilby.core.sampler.dynesty.Dynesty object at 0x34a923250>>, 'save_bounds': False, 'checkpoint_file': None, 'checkpoint_every': 60, 'resume': False, 'seed': None}\n",
      "23:18 bilby INFO    : Global meta data was removed from the result object for compatibility. Use the `BILBY_INCLUDE_GLOBAL_METADATA` environment variable to include it. This behaviour will be removed in a future release. For more details see: https://bilby-dev.github.io/bilby/faq.html#global-meta-data\n",
      "23:18 bilby INFO    : Checkpoint every check_point_delta_t = 600s\n",
      "23:18 bilby INFO    : Using dynesty version 2.1.5\n",
      "23:18 bilby INFO    : Using the bilby-implemented act-walk sampling tracking the autocorrelation function and thinning by 2 with maximum length 10000\n",
      "23:18 bilby INFO    : Generating initial points from the prior\n"
     ]
    },
    {
     "name": "stdout",
     "output_type": "stream",
     "text": [
      "170it [00:06, 21.65it/s, bound:6 nc: 24 ncall:4.2e+03 eff:4.0% logz=490.95+/-0.41 dlogz:0.172>0.1]"
     ]
    },
    {
     "name": "stderr",
     "output_type": "stream",
     "text": [
      "23:18 bilby INFO    : Written checkpoint file outdir/calibration_example_resume.pickle\n"
     ]
    },
    {
     "name": "stdout",
     "output_type": "stream",
     "text": [
      "180it [00:07, 24.06it/s, bound:7 nc:  1 ncall:4.6e+03 eff:4.3% logz=491.07+/-0.44 dlogz:0.00462>0.1]"
     ]
    },
    {
     "name": "stderr",
     "output_type": "stream",
     "text": [
      "23:18 bilby INFO    : Rejection sampling nested samples to obtain 98 posterior samples\n",
      "23:18 bilby INFO    : Sampling time: 0:00:07.440426\n",
      "23:18 bilby INFO    : Summary of results:\n",
      "nsamples: 98\n",
      "ln_noise_evidence:    nan\n",
      "ln_evidence: 491.066 +/-  0.483\n",
      "ln_bayes_factor:    nan +/-  0.483\n",
      "\n",
      "23:18 bilby INFO    : Running for label 'calibration_example', output will be saved to 'outdir'\n"
     ]
    },
    {
     "name": "stdout",
     "output_type": "stream",
     "text": [
      "\n",
      "\n",
      "n = 4\n"
     ]
    },
    {
     "name": "stderr",
     "output_type": "stream",
     "text": [
      "23:18 bilby INFO    : Analysis priors:\n",
      "23:18 bilby INFO    : n_gauss=DiscreteUniform(minimum=1, maximum=4, name='n_gauss', latex_label='n_gauss', unit=None, boundary=None)\n",
      "23:18 bilby INFO    : mu0=TransdimensionalConditionalUniform(name='mu0', componant_function_number=np.int64(0), nested_conditional_transdimensional_params=['mu'], conditional_transdimensional_params=[], conditional_params=['n_gauss'], debug_print_out=True, latex_label='mu0', unit=None, boundary=None, minimum=0, maximum=100)\n",
      "23:18 bilby INFO    : mu1=TransdimensionalConditionalUniform(name='mu1', componant_function_number=np.int64(1), nested_conditional_transdimensional_params=['mu'], conditional_transdimensional_params=[], conditional_params=['n_gauss'], debug_print_out=True, latex_label='mu1', unit=None, boundary=None, minimum=0, maximum=100)\n",
      "23:18 bilby INFO    : mu2=TransdimensionalConditionalUniform(name='mu2', componant_function_number=np.int64(2), nested_conditional_transdimensional_params=['mu'], conditional_transdimensional_params=[], conditional_params=['n_gauss'], debug_print_out=True, latex_label='mu2', unit=None, boundary=None, minimum=0, maximum=100)\n",
      "23:18 bilby INFO    : mu3=TransdimensionalConditionalUniform(name='mu3', componant_function_number=np.int64(3), nested_conditional_transdimensional_params=['mu'], conditional_transdimensional_params=[], conditional_params=['n_gauss'], debug_print_out=True, latex_label='mu3', unit=None, boundary=None, minimum=0, maximum=100)\n",
      "23:18 bilby INFO    : sigma_g=10\n",
      "23:18 bilby INFO    : Analysis likelihood class: <class 'bilby.core.likelihood.GaussianLikelihood'>\n",
      "23:18 bilby INFO    : Analysis likelihood noise evidence: nan\n",
      "23:18 bilby INFO    : Single likelihood evaluation took 7.391e-04 s\n",
      "23:18 bilby INFO    : Using sampler Dynesty with kwargs {'nlive': 20, 'bound': 'live', 'sample': 'act-walk', 'periodic': None, 'reflective': None, 'update_interval': 600, 'first_update': None, 'npdim': None, 'rstate': None, 'queue_size': 1, 'pool': None, 'use_pool': None, 'live_points': None, 'logl_args': None, 'logl_kwargs': None, 'ptform_args': None, 'ptform_kwargs': None, 'gradient': None, 'grad_args': None, 'grad_kwargs': None, 'compute_jac': False, 'enlarge': None, 'bootstrap': None, 'walks': 100, 'facc': 0.2, 'slices': None, 'fmove': 0.9, 'max_move': 100, 'update_func': None, 'ncdim': None, 'blob': False, 'save_history': False, 'history_filename': None, 'maxiter': None, 'maxcall': None, 'dlogz': 0.1, 'logl_max': inf, 'n_effective': None, 'add_live': True, 'print_progress': True, 'print_func': <bound method Dynesty._print_func of <bilby.core.sampler.dynesty.Dynesty object at 0x34ba36dd0>>, 'save_bounds': False, 'checkpoint_file': None, 'checkpoint_every': 60, 'resume': False, 'seed': None}\n",
      "23:18 bilby INFO    : Global meta data was removed from the result object for compatibility. Use the `BILBY_INCLUDE_GLOBAL_METADATA` environment variable to include it. This behaviour will be removed in a future release. For more details see: https://bilby-dev.github.io/bilby/faq.html#global-meta-data\n",
      "23:18 bilby INFO    : Checkpoint every check_point_delta_t = 600s\n",
      "23:18 bilby INFO    : Using dynesty version 2.1.5\n",
      "23:18 bilby INFO    : Using the bilby-implemented act-walk sampling tracking the autocorrelation function and thinning by 2 with maximum length 10000\n",
      "23:18 bilby INFO    : Generating initial points from the prior\n"
     ]
    },
    {
     "name": "stdout",
     "output_type": "stream",
     "text": [
      "226it [00:15, 11.39it/s, bound:16 nc: 36 ncall:1.1e+04 eff:2.1% logz=464.22+/-0.59 dlogz:0.185>0.1]"
     ]
    },
    {
     "name": "stderr",
     "output_type": "stream",
     "text": [
      "23:19 bilby INFO    : Written checkpoint file outdir/calibration_example_resume.pickle\n"
     ]
    },
    {
     "name": "stdout",
     "output_type": "stream",
     "text": [
      "240it [00:17, 13.88it/s, bound:17 nc:  1 ncall:1.1e+04 eff:2.3% logz=464.37+/-0.60 dlogz:0.00461>0.1]"
     ]
    },
    {
     "name": "stderr",
     "output_type": "stream",
     "text": [
      "23:19 bilby INFO    : Rejection sampling nested samples to obtain 79 posterior samples\n",
      "23:19 bilby INFO    : Sampling time: 0:00:17.216755\n",
      "23:19 bilby INFO    : Summary of results:\n",
      "nsamples: 79\n",
      "ln_noise_evidence:    nan\n",
      "ln_evidence: 464.369 +/-  0.653\n",
      "ln_bayes_factor:    nan +/-  0.653\n",
      "\n",
      "23:19 bilby INFO    : Running for label 'calibration_example', output will be saved to 'outdir'\n"
     ]
    },
    {
     "name": "stdout",
     "output_type": "stream",
     "text": [
      "\n",
      "\n",
      "n = 1\n"
     ]
    },
    {
     "name": "stderr",
     "output_type": "stream",
     "text": [
      "23:19 bilby INFO    : Analysis priors:\n",
      "23:19 bilby INFO    : n_gauss=DiscreteUniform(minimum=1, maximum=4, name='n_gauss', latex_label='n_gauss', unit=None, boundary=None)\n",
      "23:19 bilby INFO    : mu0=TransdimensionalConditionalUniform(name='mu0', componant_function_number=np.int64(0), nested_conditional_transdimensional_params=['mu'], conditional_transdimensional_params=[], conditional_params=['n_gauss'], debug_print_out=True, latex_label='mu0', unit=None, boundary=None, minimum=0, maximum=100)\n",
      "23:19 bilby INFO    : mu1=TransdimensionalConditionalUniform(name='mu1', componant_function_number=np.int64(1), nested_conditional_transdimensional_params=['mu'], conditional_transdimensional_params=[], conditional_params=['n_gauss'], debug_print_out=True, latex_label='mu1', unit=None, boundary=None, minimum=0, maximum=100)\n",
      "23:19 bilby INFO    : mu2=TransdimensionalConditionalUniform(name='mu2', componant_function_number=np.int64(2), nested_conditional_transdimensional_params=['mu'], conditional_transdimensional_params=[], conditional_params=['n_gauss'], debug_print_out=True, latex_label='mu2', unit=None, boundary=None, minimum=0, maximum=100)\n",
      "23:19 bilby INFO    : mu3=TransdimensionalConditionalUniform(name='mu3', componant_function_number=np.int64(3), nested_conditional_transdimensional_params=['mu'], conditional_transdimensional_params=[], conditional_params=['n_gauss'], debug_print_out=True, latex_label='mu3', unit=None, boundary=None, minimum=0, maximum=100)\n",
      "23:19 bilby INFO    : sigma_g=10\n",
      "23:19 bilby INFO    : Analysis likelihood class: <class 'bilby.core.likelihood.GaussianLikelihood'>\n",
      "23:19 bilby INFO    : Analysis likelihood noise evidence: nan\n",
      "23:19 bilby INFO    : Single likelihood evaluation took 8.197e-04 s\n",
      "23:19 bilby INFO    : Using sampler Dynesty with kwargs {'nlive': 20, 'bound': 'live', 'sample': 'act-walk', 'periodic': None, 'reflective': None, 'update_interval': 600, 'first_update': None, 'npdim': None, 'rstate': None, 'queue_size': 1, 'pool': None, 'use_pool': None, 'live_points': None, 'logl_args': None, 'logl_kwargs': None, 'ptform_args': None, 'ptform_kwargs': None, 'gradient': None, 'grad_args': None, 'grad_kwargs': None, 'compute_jac': False, 'enlarge': None, 'bootstrap': None, 'walks': 100, 'facc': 0.2, 'slices': None, 'fmove': 0.9, 'max_move': 100, 'update_func': None, 'ncdim': None, 'blob': False, 'save_history': False, 'history_filename': None, 'maxiter': None, 'maxcall': None, 'dlogz': 0.1, 'logl_max': inf, 'n_effective': None, 'add_live': True, 'print_progress': True, 'print_func': <bound method Dynesty._print_func of <bilby.core.sampler.dynesty.Dynesty object at 0x34e507b90>>, 'save_bounds': False, 'checkpoint_file': None, 'checkpoint_every': 60, 'resume': False, 'seed': None}\n",
      "23:19 bilby INFO    : Global meta data was removed from the result object for compatibility. Use the `BILBY_INCLUDE_GLOBAL_METADATA` environment variable to include it. This behaviour will be removed in a future release. For more details see: https://bilby-dev.github.io/bilby/faq.html#global-meta-data\n",
      "23:19 bilby INFO    : Checkpoint every check_point_delta_t = 600s\n",
      "23:19 bilby INFO    : Using dynesty version 2.1.5\n",
      "23:19 bilby INFO    : Using the bilby-implemented act-walk sampling tracking the autocorrelation function and thinning by 2 with maximum length 10000\n",
      "23:19 bilby INFO    : Generating initial points from the prior\n"
     ]
    },
    {
     "name": "stdout",
     "output_type": "stream",
     "text": [
      "121it [00:01, 69.08it/s, bound:2 nc: 29 ncall:1.9e+03 eff:6.5% logz=480.21+/-0.41 dlogz:0.183>0.1]"
     ]
    },
    {
     "name": "stderr",
     "output_type": "stream",
     "text": [
      "23:19 bilby INFO    : Written checkpoint file outdir/calibration_example_resume.pickle\n"
     ]
    },
    {
     "name": "stdout",
     "output_type": "stream",
     "text": [
      "132it [00:02, 47.60it/s, bound:3 nc:  1 ncall:2.2e+03 eff:7.0% logz=480.37+/-0.41 dlogz:0.00446>0.1]"
     ]
    },
    {
     "name": "stderr",
     "output_type": "stream",
     "text": [
      "23:19 bilby INFO    : Rejection sampling nested samples to obtain 36 posterior samples\n",
      "23:19 bilby INFO    : Sampling time: 0:00:02.751735\n",
      "23:19 bilby INFO    : Summary of results:\n",
      "nsamples: 36\n",
      "ln_noise_evidence:    nan\n",
      "ln_evidence: 480.373 +/-  0.453\n",
      "ln_bayes_factor:    nan +/-  0.453\n",
      "\n",
      "23:19 bilby INFO    : Running for label 'calibration_example', output will be saved to 'outdir'\n"
     ]
    },
    {
     "name": "stdout",
     "output_type": "stream",
     "text": [
      "\n",
      "\n",
      "n = 3\n"
     ]
    },
    {
     "name": "stderr",
     "output_type": "stream",
     "text": [
      "23:19 bilby INFO    : Analysis priors:\n",
      "23:19 bilby INFO    : n_gauss=DiscreteUniform(minimum=1, maximum=4, name='n_gauss', latex_label='n_gauss', unit=None, boundary=None)\n",
      "23:19 bilby INFO    : mu0=TransdimensionalConditionalUniform(name='mu0', componant_function_number=np.int64(0), nested_conditional_transdimensional_params=['mu'], conditional_transdimensional_params=[], conditional_params=['n_gauss'], debug_print_out=True, latex_label='mu0', unit=None, boundary=None, minimum=0, maximum=100)\n",
      "23:19 bilby INFO    : mu1=TransdimensionalConditionalUniform(name='mu1', componant_function_number=np.int64(1), nested_conditional_transdimensional_params=['mu'], conditional_transdimensional_params=[], conditional_params=['n_gauss'], debug_print_out=True, latex_label='mu1', unit=None, boundary=None, minimum=0, maximum=100)\n",
      "23:19 bilby INFO    : mu2=TransdimensionalConditionalUniform(name='mu2', componant_function_number=np.int64(2), nested_conditional_transdimensional_params=['mu'], conditional_transdimensional_params=[], conditional_params=['n_gauss'], debug_print_out=True, latex_label='mu2', unit=None, boundary=None, minimum=0, maximum=100)\n",
      "23:19 bilby INFO    : mu3=TransdimensionalConditionalUniform(name='mu3', componant_function_number=np.int64(3), nested_conditional_transdimensional_params=['mu'], conditional_transdimensional_params=[], conditional_params=['n_gauss'], debug_print_out=True, latex_label='mu3', unit=None, boundary=None, minimum=0, maximum=100)\n",
      "23:19 bilby INFO    : sigma_g=10\n",
      "23:19 bilby INFO    : Analysis likelihood class: <class 'bilby.core.likelihood.GaussianLikelihood'>\n",
      "23:19 bilby INFO    : Analysis likelihood noise evidence: nan\n",
      "23:19 bilby INFO    : Single likelihood evaluation took 7.283e-04 s\n",
      "23:19 bilby INFO    : Using sampler Dynesty with kwargs {'nlive': 20, 'bound': 'live', 'sample': 'act-walk', 'periodic': None, 'reflective': None, 'update_interval': 600, 'first_update': None, 'npdim': None, 'rstate': None, 'queue_size': 1, 'pool': None, 'use_pool': None, 'live_points': None, 'logl_args': None, 'logl_kwargs': None, 'ptform_args': None, 'ptform_kwargs': None, 'gradient': None, 'grad_args': None, 'grad_kwargs': None, 'compute_jac': False, 'enlarge': None, 'bootstrap': None, 'walks': 100, 'facc': 0.2, 'slices': None, 'fmove': 0.9, 'max_move': 100, 'update_func': None, 'ncdim': None, 'blob': False, 'save_history': False, 'history_filename': None, 'maxiter': None, 'maxcall': None, 'dlogz': 0.1, 'logl_max': inf, 'n_effective': None, 'add_live': True, 'print_progress': True, 'print_func': <bound method Dynesty._print_func of <bilby.core.sampler.dynesty.Dynesty object at 0x350025850>>, 'save_bounds': False, 'checkpoint_file': None, 'checkpoint_every': 60, 'resume': False, 'seed': None}\n",
      "23:19 bilby INFO    : Global meta data was removed from the result object for compatibility. Use the `BILBY_INCLUDE_GLOBAL_METADATA` environment variable to include it. This behaviour will be removed in a future release. For more details see: https://bilby-dev.github.io/bilby/faq.html#global-meta-data\n",
      "23:19 bilby INFO    : Checkpoint every check_point_delta_t = 600s\n",
      "23:19 bilby INFO    : Using dynesty version 2.1.5\n",
      "23:19 bilby INFO    : Using the bilby-implemented act-walk sampling tracking the autocorrelation function and thinning by 2 with maximum length 10000\n",
      "23:19 bilby INFO    : Generating initial points from the prior\n"
     ]
    },
    {
     "name": "stdout",
     "output_type": "stream",
     "text": [
      "172it [00:12, 12.13it/s, bound:14 nc: 45 ncall:9.8e+03 eff:1.8% logz=436.69+/-0.47 dlogz:0.133>0.1]"
     ]
    },
    {
     "name": "stderr",
     "output_type": "stream",
     "text": [
      "23:19 bilby INFO    : Written checkpoint file outdir/calibration_example_resume.pickle\n"
     ]
    },
    {
     "name": "stdout",
     "output_type": "stream",
     "text": [
      "178it [00:13, 12.72it/s, bound:15 nc:  1 ncall:1.0e+04 eff:2.0% logz=436.80+/-0.48 dlogz:0.00446>0.1]"
     ]
    },
    {
     "name": "stderr",
     "output_type": "stream",
     "text": [
      "23:19 bilby INFO    : Rejection sampling nested samples to obtain 68 posterior samples\n",
      "23:19 bilby INFO    : Sampling time: 0:00:13.919038\n",
      "23:19 bilby INFO    : Summary of results:\n",
      "nsamples: 68\n",
      "ln_noise_evidence:    nan\n",
      "ln_evidence: 436.797 +/-  0.524\n",
      "ln_bayes_factor:    nan +/-  0.524\n",
      "\n",
      "23:19 bilby INFO    : Running for label 'calibration_example', output will be saved to 'outdir'\n"
     ]
    },
    {
     "name": "stdout",
     "output_type": "stream",
     "text": [
      "\n",
      "\n",
      "n = 4\n"
     ]
    },
    {
     "name": "stderr",
     "output_type": "stream",
     "text": [
      "23:19 bilby INFO    : Analysis priors:\n",
      "23:19 bilby INFO    : n_gauss=DiscreteUniform(minimum=1, maximum=4, name='n_gauss', latex_label='n_gauss', unit=None, boundary=None)\n",
      "23:19 bilby INFO    : mu0=TransdimensionalConditionalUniform(name='mu0', componant_function_number=np.int64(0), nested_conditional_transdimensional_params=['mu'], conditional_transdimensional_params=[], conditional_params=['n_gauss'], debug_print_out=True, latex_label='mu0', unit=None, boundary=None, minimum=0, maximum=100)\n",
      "23:19 bilby INFO    : mu1=TransdimensionalConditionalUniform(name='mu1', componant_function_number=np.int64(1), nested_conditional_transdimensional_params=['mu'], conditional_transdimensional_params=[], conditional_params=['n_gauss'], debug_print_out=True, latex_label='mu1', unit=None, boundary=None, minimum=0, maximum=100)\n",
      "23:19 bilby INFO    : mu2=TransdimensionalConditionalUniform(name='mu2', componant_function_number=np.int64(2), nested_conditional_transdimensional_params=['mu'], conditional_transdimensional_params=[], conditional_params=['n_gauss'], debug_print_out=True, latex_label='mu2', unit=None, boundary=None, minimum=0, maximum=100)\n",
      "23:19 bilby INFO    : mu3=TransdimensionalConditionalUniform(name='mu3', componant_function_number=np.int64(3), nested_conditional_transdimensional_params=['mu'], conditional_transdimensional_params=[], conditional_params=['n_gauss'], debug_print_out=True, latex_label='mu3', unit=None, boundary=None, minimum=0, maximum=100)\n",
      "23:19 bilby INFO    : sigma_g=10\n",
      "23:19 bilby INFO    : Analysis likelihood class: <class 'bilby.core.likelihood.GaussianLikelihood'>\n",
      "23:19 bilby INFO    : Analysis likelihood noise evidence: nan\n",
      "23:19 bilby INFO    : Single likelihood evaluation took 7.844e-04 s\n",
      "23:19 bilby INFO    : Using sampler Dynesty with kwargs {'nlive': 20, 'bound': 'live', 'sample': 'act-walk', 'periodic': None, 'reflective': None, 'update_interval': 600, 'first_update': None, 'npdim': None, 'rstate': None, 'queue_size': 1, 'pool': None, 'use_pool': None, 'live_points': None, 'logl_args': None, 'logl_kwargs': None, 'ptform_args': None, 'ptform_kwargs': None, 'gradient': None, 'grad_args': None, 'grad_kwargs': None, 'compute_jac': False, 'enlarge': None, 'bootstrap': None, 'walks': 100, 'facc': 0.2, 'slices': None, 'fmove': 0.9, 'max_move': 100, 'update_func': None, 'ncdim': None, 'blob': False, 'save_history': False, 'history_filename': None, 'maxiter': None, 'maxcall': None, 'dlogz': 0.1, 'logl_max': inf, 'n_effective': None, 'add_live': True, 'print_progress': True, 'print_func': <bound method Dynesty._print_func of <bilby.core.sampler.dynesty.Dynesty object at 0x350743fd0>>, 'save_bounds': False, 'checkpoint_file': None, 'checkpoint_every': 60, 'resume': False, 'seed': None}\n",
      "23:19 bilby INFO    : Global meta data was removed from the result object for compatibility. Use the `BILBY_INCLUDE_GLOBAL_METADATA` environment variable to include it. This behaviour will be removed in a future release. For more details see: https://bilby-dev.github.io/bilby/faq.html#global-meta-data\n",
      "23:19 bilby INFO    : Checkpoint every check_point_delta_t = 600s\n",
      "23:19 bilby INFO    : Using dynesty version 2.1.5\n",
      "23:19 bilby INFO    : Using the bilby-implemented act-walk sampling tracking the autocorrelation function and thinning by 2 with maximum length 10000\n",
      "23:19 bilby INFO    : Generating initial points from the prior\n"
     ]
    },
    {
     "name": "stdout",
     "output_type": "stream",
     "text": [
      "222it [00:11, 15.89it/s, bound:12 nc: 30 ncall:7.9e+03 eff:2.8% logz=472.34+/-0.58 dlogz:0.215>0.1]"
     ]
    },
    {
     "name": "stderr",
     "output_type": "stream",
     "text": [
      "23:19 bilby INFO    : Written checkpoint file outdir/calibration_example_resume.pickle\n"
     ]
    },
    {
     "name": "stdout",
     "output_type": "stream",
     "text": [
      "237it [00:13, 17.94it/s, bound:13 nc:  1 ncall:8.4e+03 eff:3.1% logz=472.50+/-0.59 dlogz:0.00444>0.1]"
     ]
    },
    {
     "name": "stderr",
     "output_type": "stream",
     "text": [
      "23:19 bilby INFO    : Rejection sampling nested samples to obtain 79 posterior samples\n",
      "23:19 bilby INFO    : Sampling time: 0:00:13.152878\n",
      "23:19 bilby INFO    : Summary of results:\n",
      "nsamples: 79\n",
      "ln_noise_evidence:    nan\n",
      "ln_evidence: 472.500 +/-  0.649\n",
      "ln_bayes_factor:    nan +/-  0.649\n",
      "\n",
      "23:19 bilby INFO    : Running for label 'calibration_example', output will be saved to 'outdir'\n"
     ]
    },
    {
     "name": "stdout",
     "output_type": "stream",
     "text": [
      "\n",
      "\n",
      "n = 4\n"
     ]
    },
    {
     "name": "stderr",
     "output_type": "stream",
     "text": [
      "23:19 bilby INFO    : Analysis priors:\n",
      "23:19 bilby INFO    : n_gauss=DiscreteUniform(minimum=1, maximum=4, name='n_gauss', latex_label='n_gauss', unit=None, boundary=None)\n",
      "23:19 bilby INFO    : mu0=TransdimensionalConditionalUniform(name='mu0', componant_function_number=np.int64(0), nested_conditional_transdimensional_params=['mu'], conditional_transdimensional_params=[], conditional_params=['n_gauss'], debug_print_out=True, latex_label='mu0', unit=None, boundary=None, minimum=0, maximum=100)\n",
      "23:19 bilby INFO    : mu1=TransdimensionalConditionalUniform(name='mu1', componant_function_number=np.int64(1), nested_conditional_transdimensional_params=['mu'], conditional_transdimensional_params=[], conditional_params=['n_gauss'], debug_print_out=True, latex_label='mu1', unit=None, boundary=None, minimum=0, maximum=100)\n",
      "23:19 bilby INFO    : mu2=TransdimensionalConditionalUniform(name='mu2', componant_function_number=np.int64(2), nested_conditional_transdimensional_params=['mu'], conditional_transdimensional_params=[], conditional_params=['n_gauss'], debug_print_out=True, latex_label='mu2', unit=None, boundary=None, minimum=0, maximum=100)\n",
      "23:19 bilby INFO    : mu3=TransdimensionalConditionalUniform(name='mu3', componant_function_number=np.int64(3), nested_conditional_transdimensional_params=['mu'], conditional_transdimensional_params=[], conditional_params=['n_gauss'], debug_print_out=True, latex_label='mu3', unit=None, boundary=None, minimum=0, maximum=100)\n",
      "23:19 bilby INFO    : sigma_g=10\n",
      "23:19 bilby INFO    : Analysis likelihood class: <class 'bilby.core.likelihood.GaussianLikelihood'>\n",
      "23:19 bilby INFO    : Analysis likelihood noise evidence: nan\n",
      "23:19 bilby INFO    : Single likelihood evaluation took 7.503e-04 s\n",
      "23:19 bilby INFO    : Using sampler Dynesty with kwargs {'nlive': 20, 'bound': 'live', 'sample': 'act-walk', 'periodic': None, 'reflective': None, 'update_interval': 600, 'first_update': None, 'npdim': None, 'rstate': None, 'queue_size': 1, 'pool': None, 'use_pool': None, 'live_points': None, 'logl_args': None, 'logl_kwargs': None, 'ptform_args': None, 'ptform_kwargs': None, 'gradient': None, 'grad_args': None, 'grad_kwargs': None, 'compute_jac': False, 'enlarge': None, 'bootstrap': None, 'walks': 100, 'facc': 0.2, 'slices': None, 'fmove': 0.9, 'max_move': 100, 'update_func': None, 'ncdim': None, 'blob': False, 'save_history': False, 'history_filename': None, 'maxiter': None, 'maxcall': None, 'dlogz': 0.1, 'logl_max': inf, 'n_effective': None, 'add_live': True, 'print_progress': True, 'print_func': <bound method Dynesty._print_func of <bilby.core.sampler.dynesty.Dynesty object at 0x352218450>>, 'save_bounds': False, 'checkpoint_file': None, 'checkpoint_every': 60, 'resume': False, 'seed': None}\n",
      "23:19 bilby INFO    : Global meta data was removed from the result object for compatibility. Use the `BILBY_INCLUDE_GLOBAL_METADATA` environment variable to include it. This behaviour will be removed in a future release. For more details see: https://bilby-dev.github.io/bilby/faq.html#global-meta-data\n",
      "23:19 bilby INFO    : Checkpoint every check_point_delta_t = 600s\n",
      "23:19 bilby INFO    : Using dynesty version 2.1.5\n",
      "23:19 bilby INFO    : Using the bilby-implemented act-walk sampling tracking the autocorrelation function and thinning by 2 with maximum length 10000\n",
      "23:19 bilby INFO    : Generating initial points from the prior\n"
     ]
    },
    {
     "name": "stdout",
     "output_type": "stream",
     "text": [
      "222it [00:13, 14.94it/s, bound:12 nc: 33 ncall:8.7e+03 eff:2.6% logz=483.49+/-0.59 dlogz:0.158>0.1]"
     ]
    },
    {
     "name": "stderr",
     "output_type": "stream",
     "text": [
      "23:20 bilby INFO    : Written checkpoint file outdir/calibration_example_resume.pickle\n"
     ]
    },
    {
     "name": "stdout",
     "output_type": "stream",
     "text": [
      "231it [00:15, 15.29it/s, bound:13 nc:  1 ncall:9.1e+03 eff:2.8% logz=483.61+/-0.60 dlogz:0.00441>0.1]"
     ]
    },
    {
     "name": "stderr",
     "output_type": "stream",
     "text": [
      "23:20 bilby INFO    : Rejection sampling nested samples to obtain 71 posterior samples\n",
      "23:20 bilby INFO    : Sampling time: 0:00:15.044488\n",
      "23:20 bilby INFO    : Summary of results:\n",
      "nsamples: 71\n",
      "ln_noise_evidence:    nan\n",
      "ln_evidence: 483.613 +/-  0.655\n",
      "ln_bayes_factor:    nan +/-  0.655\n",
      "\n",
      "23:20 bilby INFO    : Running for label 'calibration_example', output will be saved to 'outdir'\n"
     ]
    },
    {
     "name": "stdout",
     "output_type": "stream",
     "text": [
      "\n",
      "\n",
      "n = 1\n"
     ]
    },
    {
     "name": "stderr",
     "output_type": "stream",
     "text": [
      "23:20 bilby INFO    : Analysis priors:\n",
      "23:20 bilby INFO    : n_gauss=DiscreteUniform(minimum=1, maximum=4, name='n_gauss', latex_label='n_gauss', unit=None, boundary=None)\n",
      "23:20 bilby INFO    : mu0=TransdimensionalConditionalUniform(name='mu0', componant_function_number=np.int64(0), nested_conditional_transdimensional_params=['mu'], conditional_transdimensional_params=[], conditional_params=['n_gauss'], debug_print_out=True, latex_label='mu0', unit=None, boundary=None, minimum=0, maximum=100)\n",
      "23:20 bilby INFO    : mu1=TransdimensionalConditionalUniform(name='mu1', componant_function_number=np.int64(1), nested_conditional_transdimensional_params=['mu'], conditional_transdimensional_params=[], conditional_params=['n_gauss'], debug_print_out=True, latex_label='mu1', unit=None, boundary=None, minimum=0, maximum=100)\n",
      "23:20 bilby INFO    : mu2=TransdimensionalConditionalUniform(name='mu2', componant_function_number=np.int64(2), nested_conditional_transdimensional_params=['mu'], conditional_transdimensional_params=[], conditional_params=['n_gauss'], debug_print_out=True, latex_label='mu2', unit=None, boundary=None, minimum=0, maximum=100)\n",
      "23:20 bilby INFO    : mu3=TransdimensionalConditionalUniform(name='mu3', componant_function_number=np.int64(3), nested_conditional_transdimensional_params=['mu'], conditional_transdimensional_params=[], conditional_params=['n_gauss'], debug_print_out=True, latex_label='mu3', unit=None, boundary=None, minimum=0, maximum=100)\n",
      "23:20 bilby INFO    : sigma_g=10\n",
      "23:20 bilby INFO    : Analysis likelihood class: <class 'bilby.core.likelihood.GaussianLikelihood'>\n",
      "23:20 bilby INFO    : Analysis likelihood noise evidence: nan\n",
      "23:20 bilby INFO    : Single likelihood evaluation took 7.657e-04 s\n",
      "23:20 bilby INFO    : Using sampler Dynesty with kwargs {'nlive': 20, 'bound': 'live', 'sample': 'act-walk', 'periodic': None, 'reflective': None, 'update_interval': 600, 'first_update': None, 'npdim': None, 'rstate': None, 'queue_size': 1, 'pool': None, 'use_pool': None, 'live_points': None, 'logl_args': None, 'logl_kwargs': None, 'ptform_args': None, 'ptform_kwargs': None, 'gradient': None, 'grad_args': None, 'grad_kwargs': None, 'compute_jac': False, 'enlarge': None, 'bootstrap': None, 'walks': 100, 'facc': 0.2, 'slices': None, 'fmove': 0.9, 'max_move': 100, 'update_func': None, 'ncdim': None, 'blob': False, 'save_history': False, 'history_filename': None, 'maxiter': None, 'maxcall': None, 'dlogz': 0.1, 'logl_max': inf, 'n_effective': None, 'add_live': True, 'print_progress': True, 'print_func': <bound method Dynesty._print_func of <bilby.core.sampler.dynesty.Dynesty object at 0x35457c450>>, 'save_bounds': False, 'checkpoint_file': None, 'checkpoint_every': 60, 'resume': False, 'seed': None}\n",
      "23:20 bilby INFO    : Global meta data was removed from the result object for compatibility. Use the `BILBY_INCLUDE_GLOBAL_METADATA` environment variable to include it. This behaviour will be removed in a future release. For more details see: https://bilby-dev.github.io/bilby/faq.html#global-meta-data\n",
      "23:20 bilby INFO    : Checkpoint every check_point_delta_t = 600s\n",
      "23:20 bilby INFO    : Using dynesty version 2.1.5\n",
      "23:20 bilby INFO    : Using the bilby-implemented act-walk sampling tracking the autocorrelation function and thinning by 2 with maximum length 10000\n",
      "23:20 bilby INFO    : Generating initial points from the prior\n"
     ]
    },
    {
     "name": "stdout",
     "output_type": "stream",
     "text": [
      "113it [00:01, 74.59it/s, bound:2 nc: 15 ncall:1.8e+03 eff:6.3% logz=486.36+/-0.38 dlogz:0.105>0.1]"
     ]
    },
    {
     "name": "stderr",
     "output_type": "stream",
     "text": [
      "23:20 bilby INFO    : Written checkpoint file outdir/calibration_example_resume.pickle\n"
     ]
    },
    {
     "name": "stdout",
     "output_type": "stream",
     "text": [
      "113it [00:02, 43.45it/s, bound:2 nc:  1 ncall:1.8e+03 eff:7.4% logz=486.46+/-0.37 dlogz:0.00453>0.1]"
     ]
    },
    {
     "name": "stderr",
     "output_type": "stream",
     "text": [
      "23:20 bilby INFO    : Rejection sampling nested samples to obtain 32 posterior samples\n",
      "23:20 bilby INFO    : Sampling time: 0:00:02.577672\n",
      "23:20 bilby INFO    : Summary of results:\n",
      "nsamples: 32\n",
      "ln_noise_evidence:    nan\n",
      "ln_evidence: 486.457 +/-  0.413\n",
      "ln_bayes_factor:    nan +/-  0.413\n",
      "\n",
      "23:20 bilby INFO    : Running for label 'calibration_example', output will be saved to 'outdir'\n"
     ]
    },
    {
     "name": "stdout",
     "output_type": "stream",
     "text": [
      "\n",
      "\n",
      "n = 1\n"
     ]
    },
    {
     "name": "stderr",
     "output_type": "stream",
     "text": [
      "23:20 bilby INFO    : Analysis priors:\n",
      "23:20 bilby INFO    : n_gauss=DiscreteUniform(minimum=1, maximum=4, name='n_gauss', latex_label='n_gauss', unit=None, boundary=None)\n",
      "23:20 bilby INFO    : mu0=TransdimensionalConditionalUniform(name='mu0', componant_function_number=np.int64(0), nested_conditional_transdimensional_params=['mu'], conditional_transdimensional_params=[], conditional_params=['n_gauss'], debug_print_out=True, latex_label='mu0', unit=None, boundary=None, minimum=0, maximum=100)\n",
      "23:20 bilby INFO    : mu1=TransdimensionalConditionalUniform(name='mu1', componant_function_number=np.int64(1), nested_conditional_transdimensional_params=['mu'], conditional_transdimensional_params=[], conditional_params=['n_gauss'], debug_print_out=True, latex_label='mu1', unit=None, boundary=None, minimum=0, maximum=100)\n",
      "23:20 bilby INFO    : mu2=TransdimensionalConditionalUniform(name='mu2', componant_function_number=np.int64(2), nested_conditional_transdimensional_params=['mu'], conditional_transdimensional_params=[], conditional_params=['n_gauss'], debug_print_out=True, latex_label='mu2', unit=None, boundary=None, minimum=0, maximum=100)\n",
      "23:20 bilby INFO    : mu3=TransdimensionalConditionalUniform(name='mu3', componant_function_number=np.int64(3), nested_conditional_transdimensional_params=['mu'], conditional_transdimensional_params=[], conditional_params=['n_gauss'], debug_print_out=True, latex_label='mu3', unit=None, boundary=None, minimum=0, maximum=100)\n",
      "23:20 bilby INFO    : sigma_g=10\n",
      "23:20 bilby INFO    : Analysis likelihood class: <class 'bilby.core.likelihood.GaussianLikelihood'>\n",
      "23:20 bilby INFO    : Analysis likelihood noise evidence: nan\n",
      "23:20 bilby INFO    : Single likelihood evaluation took 7.283e-04 s\n",
      "23:20 bilby INFO    : Using sampler Dynesty with kwargs {'nlive': 20, 'bound': 'live', 'sample': 'act-walk', 'periodic': None, 'reflective': None, 'update_interval': 600, 'first_update': None, 'npdim': None, 'rstate': None, 'queue_size': 1, 'pool': None, 'use_pool': None, 'live_points': None, 'logl_args': None, 'logl_kwargs': None, 'ptform_args': None, 'ptform_kwargs': None, 'gradient': None, 'grad_args': None, 'grad_kwargs': None, 'compute_jac': False, 'enlarge': None, 'bootstrap': None, 'walks': 100, 'facc': 0.2, 'slices': None, 'fmove': 0.9, 'max_move': 100, 'update_func': None, 'ncdim': None, 'blob': False, 'save_history': False, 'history_filename': None, 'maxiter': None, 'maxcall': None, 'dlogz': 0.1, 'logl_max': inf, 'n_effective': None, 'add_live': True, 'print_progress': True, 'print_func': <bound method Dynesty._print_func of <bilby.core.sampler.dynesty.Dynesty object at 0x35679af50>>, 'save_bounds': False, 'checkpoint_file': None, 'checkpoint_every': 60, 'resume': False, 'seed': None}\n",
      "23:20 bilby INFO    : Global meta data was removed from the result object for compatibility. Use the `BILBY_INCLUDE_GLOBAL_METADATA` environment variable to include it. This behaviour will be removed in a future release. For more details see: https://bilby-dev.github.io/bilby/faq.html#global-meta-data\n",
      "23:20 bilby INFO    : Checkpoint every check_point_delta_t = 600s\n",
      "23:20 bilby INFO    : Using dynesty version 2.1.5\n",
      "23:20 bilby INFO    : Using the bilby-implemented act-walk sampling tracking the autocorrelation function and thinning by 2 with maximum length 10000\n",
      "23:20 bilby INFO    : Generating initial points from the prior\n"
     ]
    },
    {
     "name": "stdout",
     "output_type": "stream",
     "text": [
      "114it [00:02, 35.86it/s, bound:3 nc: 76 ncall:2.4e+03 eff:4.8% logz=506.14+/-0.34 dlogz:0.125>0.1]"
     ]
    },
    {
     "name": "stderr",
     "output_type": "stream",
     "text": [
      "23:20 bilby INFO    : Written checkpoint file outdir/calibration_example_resume.pickle\n"
     ]
    },
    {
     "name": "stdout",
     "output_type": "stream",
     "text": [
      "120it [00:03, 32.92it/s, bound:4 nc:  1 ncall:2.8e+03 eff:5.0% logz=506.24+/-0.34 dlogz:0.00448>0.1]"
     ]
    },
    {
     "name": "stderr",
     "output_type": "stream",
     "text": [
      "23:20 bilby INFO    : Rejection sampling nested samples to obtain 59 posterior samples\n",
      "23:20 bilby INFO    : Sampling time: 0:00:03.614843\n",
      "23:20 bilby INFO    : Summary of results:\n",
      "nsamples: 59\n",
      "ln_noise_evidence:    nan\n",
      "ln_evidence: 506.244 +/-  0.377\n",
      "ln_bayes_factor:    nan +/-  0.377\n",
      "\n",
      "23:20 bilby INFO    : Running for label 'calibration_example', output will be saved to 'outdir'\n"
     ]
    },
    {
     "name": "stdout",
     "output_type": "stream",
     "text": [
      "\n",
      "\n",
      "n = 2\n"
     ]
    },
    {
     "name": "stderr",
     "output_type": "stream",
     "text": [
      "23:20 bilby INFO    : Analysis priors:\n",
      "23:20 bilby INFO    : n_gauss=DiscreteUniform(minimum=1, maximum=4, name='n_gauss', latex_label='n_gauss', unit=None, boundary=None)\n",
      "23:20 bilby INFO    : mu0=TransdimensionalConditionalUniform(name='mu0', componant_function_number=np.int64(0), nested_conditional_transdimensional_params=['mu'], conditional_transdimensional_params=[], conditional_params=['n_gauss'], debug_print_out=True, latex_label='mu0', unit=None, boundary=None, minimum=0, maximum=100)\n",
      "23:20 bilby INFO    : mu1=TransdimensionalConditionalUniform(name='mu1', componant_function_number=np.int64(1), nested_conditional_transdimensional_params=['mu'], conditional_transdimensional_params=[], conditional_params=['n_gauss'], debug_print_out=True, latex_label='mu1', unit=None, boundary=None, minimum=0, maximum=100)\n",
      "23:20 bilby INFO    : mu2=TransdimensionalConditionalUniform(name='mu2', componant_function_number=np.int64(2), nested_conditional_transdimensional_params=['mu'], conditional_transdimensional_params=[], conditional_params=['n_gauss'], debug_print_out=True, latex_label='mu2', unit=None, boundary=None, minimum=0, maximum=100)\n",
      "23:20 bilby INFO    : mu3=TransdimensionalConditionalUniform(name='mu3', componant_function_number=np.int64(3), nested_conditional_transdimensional_params=['mu'], conditional_transdimensional_params=[], conditional_params=['n_gauss'], debug_print_out=True, latex_label='mu3', unit=None, boundary=None, minimum=0, maximum=100)\n",
      "23:20 bilby INFO    : sigma_g=10\n",
      "23:20 bilby INFO    : Analysis likelihood class: <class 'bilby.core.likelihood.GaussianLikelihood'>\n",
      "23:20 bilby INFO    : Analysis likelihood noise evidence: nan\n",
      "23:20 bilby INFO    : Single likelihood evaluation took 7.313e-04 s\n",
      "23:20 bilby INFO    : Using sampler Dynesty with kwargs {'nlive': 20, 'bound': 'live', 'sample': 'act-walk', 'periodic': None, 'reflective': None, 'update_interval': 600, 'first_update': None, 'npdim': None, 'rstate': None, 'queue_size': 1, 'pool': None, 'use_pool': None, 'live_points': None, 'logl_args': None, 'logl_kwargs': None, 'ptform_args': None, 'ptform_kwargs': None, 'gradient': None, 'grad_args': None, 'grad_kwargs': None, 'compute_jac': False, 'enlarge': None, 'bootstrap': None, 'walks': 100, 'facc': 0.2, 'slices': None, 'fmove': 0.9, 'max_move': 100, 'update_func': None, 'ncdim': None, 'blob': False, 'save_history': False, 'history_filename': None, 'maxiter': None, 'maxcall': None, 'dlogz': 0.1, 'logl_max': inf, 'n_effective': None, 'add_live': True, 'print_progress': True, 'print_func': <bound method Dynesty._print_func of <bilby.core.sampler.dynesty.Dynesty object at 0x358689010>>, 'save_bounds': False, 'checkpoint_file': None, 'checkpoint_every': 60, 'resume': False, 'seed': None}\n",
      "23:20 bilby INFO    : Global meta data was removed from the result object for compatibility. Use the `BILBY_INCLUDE_GLOBAL_METADATA` environment variable to include it. This behaviour will be removed in a future release. For more details see: https://bilby-dev.github.io/bilby/faq.html#global-meta-data\n",
      "23:20 bilby INFO    : Checkpoint every check_point_delta_t = 600s\n",
      "23:20 bilby INFO    : Using dynesty version 2.1.5\n",
      "23:20 bilby INFO    : Using the bilby-implemented act-walk sampling tracking the autocorrelation function and thinning by 2 with maximum length 10000\n",
      "23:20 bilby INFO    : Generating initial points from the prior\n"
     ]
    },
    {
     "name": "stdout",
     "output_type": "stream",
     "text": [
      "147it [00:04, 30.64it/s, bound:6 nc: 26 ncall:3.9e+03 eff:3.7% logz=518.64+/-0.40 dlogz:0.102>0.1]"
     ]
    },
    {
     "name": "stderr",
     "output_type": "stream",
     "text": [
      "23:20 bilby INFO    : Written checkpoint file outdir/calibration_example_resume.pickle\n"
     ]
    },
    {
     "name": "stdout",
     "output_type": "stream",
     "text": [
      "147it [00:05, 26.92it/s, bound:6 nc:  1 ncall:4.0e+03 eff:4.2% logz=518.73+/-0.41 dlogz:0.00443>0.1]"
     ]
    },
    {
     "name": "stderr",
     "output_type": "stream",
     "text": [
      "23:20 bilby INFO    : Rejection sampling nested samples to obtain 62 posterior samples\n",
      "23:20 bilby INFO    : Sampling time: 0:00:05.423138\n",
      "23:20 bilby INFO    : Summary of results:\n",
      "nsamples: 62\n",
      "ln_noise_evidence:    nan\n",
      "ln_evidence: 518.730 +/-  0.454\n",
      "ln_bayes_factor:    nan +/-  0.454\n",
      "\n",
      "23:20 bilby INFO    : Running for label 'calibration_example', output will be saved to 'outdir'\n"
     ]
    },
    {
     "name": "stdout",
     "output_type": "stream",
     "text": [
      "\n",
      "\n",
      "n = 1\n"
     ]
    },
    {
     "name": "stderr",
     "output_type": "stream",
     "text": [
      "23:20 bilby INFO    : Analysis priors:\n",
      "23:20 bilby INFO    : n_gauss=DiscreteUniform(minimum=1, maximum=4, name='n_gauss', latex_label='n_gauss', unit=None, boundary=None)\n",
      "23:20 bilby INFO    : mu0=TransdimensionalConditionalUniform(name='mu0', componant_function_number=np.int64(0), nested_conditional_transdimensional_params=['mu'], conditional_transdimensional_params=[], conditional_params=['n_gauss'], debug_print_out=True, latex_label='mu0', unit=None, boundary=None, minimum=0, maximum=100)\n",
      "23:20 bilby INFO    : mu1=TransdimensionalConditionalUniform(name='mu1', componant_function_number=np.int64(1), nested_conditional_transdimensional_params=['mu'], conditional_transdimensional_params=[], conditional_params=['n_gauss'], debug_print_out=True, latex_label='mu1', unit=None, boundary=None, minimum=0, maximum=100)\n",
      "23:20 bilby INFO    : mu2=TransdimensionalConditionalUniform(name='mu2', componant_function_number=np.int64(2), nested_conditional_transdimensional_params=['mu'], conditional_transdimensional_params=[], conditional_params=['n_gauss'], debug_print_out=True, latex_label='mu2', unit=None, boundary=None, minimum=0, maximum=100)\n",
      "23:20 bilby INFO    : mu3=TransdimensionalConditionalUniform(name='mu3', componant_function_number=np.int64(3), nested_conditional_transdimensional_params=['mu'], conditional_transdimensional_params=[], conditional_params=['n_gauss'], debug_print_out=True, latex_label='mu3', unit=None, boundary=None, minimum=0, maximum=100)\n",
      "23:20 bilby INFO    : sigma_g=10\n",
      "23:20 bilby INFO    : Analysis likelihood class: <class 'bilby.core.likelihood.GaussianLikelihood'>\n",
      "23:20 bilby INFO    : Analysis likelihood noise evidence: nan\n",
      "23:20 bilby INFO    : Single likelihood evaluation took 6.983e-04 s\n",
      "23:20 bilby INFO    : Using sampler Dynesty with kwargs {'nlive': 20, 'bound': 'live', 'sample': 'act-walk', 'periodic': None, 'reflective': None, 'update_interval': 600, 'first_update': None, 'npdim': None, 'rstate': None, 'queue_size': 1, 'pool': None, 'use_pool': None, 'live_points': None, 'logl_args': None, 'logl_kwargs': None, 'ptform_args': None, 'ptform_kwargs': None, 'gradient': None, 'grad_args': None, 'grad_kwargs': None, 'compute_jac': False, 'enlarge': None, 'bootstrap': None, 'walks': 100, 'facc': 0.2, 'slices': None, 'fmove': 0.9, 'max_move': 100, 'update_func': None, 'ncdim': None, 'blob': False, 'save_history': False, 'history_filename': None, 'maxiter': None, 'maxcall': None, 'dlogz': 0.1, 'logl_max': inf, 'n_effective': None, 'add_live': True, 'print_progress': True, 'print_func': <bound method Dynesty._print_func of <bilby.core.sampler.dynesty.Dynesty object at 0x35a558f10>>, 'save_bounds': False, 'checkpoint_file': None, 'checkpoint_every': 60, 'resume': False, 'seed': None}\n",
      "23:20 bilby INFO    : Global meta data was removed from the result object for compatibility. Use the `BILBY_INCLUDE_GLOBAL_METADATA` environment variable to include it. This behaviour will be removed in a future release. For more details see: https://bilby-dev.github.io/bilby/faq.html#global-meta-data\n",
      "23:20 bilby INFO    : Checkpoint every check_point_delta_t = 600s\n",
      "23:20 bilby INFO    : Using dynesty version 2.1.5\n",
      "23:20 bilby INFO    : Using the bilby-implemented act-walk sampling tracking the autocorrelation function and thinning by 2 with maximum length 10000\n",
      "23:20 bilby INFO    : Generating initial points from the prior\n"
     ]
    },
    {
     "name": "stdout",
     "output_type": "stream",
     "text": [
      "112it [00:01, 54.85it/s, bound:3 nc: 35 ncall:2.3e+03 eff:4.8% logz=480.50+/-0.37 dlogz:0.191>0.1]"
     ]
    },
    {
     "name": "stderr",
     "output_type": "stream",
     "text": [
      "23:20 bilby INFO    : Written checkpoint file outdir/calibration_example_resume.pickle\n"
     ]
    },
    {
     "name": "stdout",
     "output_type": "stream",
     "text": [
      "124it [00:03, 37.07it/s, bound:4 nc:  1 ncall:2.7e+03 eff:5.3% logz=480.67+/-0.37 dlogz:0.00445>0.1]"
     ]
    },
    {
     "name": "stderr",
     "output_type": "stream",
     "text": [
      "23:20 bilby INFO    : Rejection sampling nested samples to obtain 46 posterior samples\n",
      "23:20 bilby INFO    : Sampling time: 0:00:03.317534\n",
      "23:20 bilby INFO    : Summary of results:\n",
      "nsamples: 46\n",
      "ln_noise_evidence:    nan\n",
      "ln_evidence: 480.669 +/-  0.409\n",
      "ln_bayes_factor:    nan +/-  0.409\n",
      "\n",
      "23:20 bilby INFO    : Running for label 'calibration_example', output will be saved to 'outdir'\n"
     ]
    },
    {
     "name": "stdout",
     "output_type": "stream",
     "text": [
      "\n",
      "\n",
      "n = 1\n"
     ]
    },
    {
     "name": "stderr",
     "output_type": "stream",
     "text": [
      "23:20 bilby INFO    : Analysis priors:\n",
      "23:20 bilby INFO    : n_gauss=DiscreteUniform(minimum=1, maximum=4, name='n_gauss', latex_label='n_gauss', unit=None, boundary=None)\n",
      "23:20 bilby INFO    : mu0=TransdimensionalConditionalUniform(name='mu0', componant_function_number=np.int64(0), nested_conditional_transdimensional_params=['mu'], conditional_transdimensional_params=[], conditional_params=['n_gauss'], debug_print_out=True, latex_label='mu0', unit=None, boundary=None, minimum=0, maximum=100)\n",
      "23:20 bilby INFO    : mu1=TransdimensionalConditionalUniform(name='mu1', componant_function_number=np.int64(1), nested_conditional_transdimensional_params=['mu'], conditional_transdimensional_params=[], conditional_params=['n_gauss'], debug_print_out=True, latex_label='mu1', unit=None, boundary=None, minimum=0, maximum=100)\n",
      "23:20 bilby INFO    : mu2=TransdimensionalConditionalUniform(name='mu2', componant_function_number=np.int64(2), nested_conditional_transdimensional_params=['mu'], conditional_transdimensional_params=[], conditional_params=['n_gauss'], debug_print_out=True, latex_label='mu2', unit=None, boundary=None, minimum=0, maximum=100)\n",
      "23:20 bilby INFO    : mu3=TransdimensionalConditionalUniform(name='mu3', componant_function_number=np.int64(3), nested_conditional_transdimensional_params=['mu'], conditional_transdimensional_params=[], conditional_params=['n_gauss'], debug_print_out=True, latex_label='mu3', unit=None, boundary=None, minimum=0, maximum=100)\n",
      "23:20 bilby INFO    : sigma_g=10\n",
      "23:20 bilby INFO    : Analysis likelihood class: <class 'bilby.core.likelihood.GaussianLikelihood'>\n",
      "23:20 bilby INFO    : Analysis likelihood noise evidence: nan\n",
      "23:20 bilby INFO    : Single likelihood evaluation took 7.519e-04 s\n",
      "23:20 bilby INFO    : Using sampler Dynesty with kwargs {'nlive': 20, 'bound': 'live', 'sample': 'act-walk', 'periodic': None, 'reflective': None, 'update_interval': 600, 'first_update': None, 'npdim': None, 'rstate': None, 'queue_size': 1, 'pool': None, 'use_pool': None, 'live_points': None, 'logl_args': None, 'logl_kwargs': None, 'ptform_args': None, 'ptform_kwargs': None, 'gradient': None, 'grad_args': None, 'grad_kwargs': None, 'compute_jac': False, 'enlarge': None, 'bootstrap': None, 'walks': 100, 'facc': 0.2, 'slices': None, 'fmove': 0.9, 'max_move': 100, 'update_func': None, 'ncdim': None, 'blob': False, 'save_history': False, 'history_filename': None, 'maxiter': None, 'maxcall': None, 'dlogz': 0.1, 'logl_max': inf, 'n_effective': None, 'add_live': True, 'print_progress': True, 'print_func': <bound method Dynesty._print_func of <bilby.core.sampler.dynesty.Dynesty object at 0x35cb3e050>>, 'save_bounds': False, 'checkpoint_file': None, 'checkpoint_every': 60, 'resume': False, 'seed': None}\n",
      "23:20 bilby INFO    : Global meta data was removed from the result object for compatibility. Use the `BILBY_INCLUDE_GLOBAL_METADATA` environment variable to include it. This behaviour will be removed in a future release. For more details see: https://bilby-dev.github.io/bilby/faq.html#global-meta-data\n",
      "23:20 bilby INFO    : Checkpoint every check_point_delta_t = 600s\n",
      "23:20 bilby INFO    : Using dynesty version 2.1.5\n",
      "23:20 bilby INFO    : Using the bilby-implemented act-walk sampling tracking the autocorrelation function and thinning by 2 with maximum length 10000\n",
      "23:20 bilby INFO    : Generating initial points from the prior\n"
     ]
    },
    {
     "name": "stdout",
     "output_type": "stream",
     "text": [
      "143it [00:03, 36.97it/s, bound:5 nc: 31 ncall:3.2e+03 eff:4.4% logz=511.11+/-0.39 dlogz:0.129>0.1]"
     ]
    },
    {
     "name": "stderr",
     "output_type": "stream",
     "text": [
      "23:20 bilby INFO    : Written checkpoint file outdir/calibration_example_resume.pickle\n"
     ]
    },
    {
     "name": "stdout",
     "output_type": "stream",
     "text": [
      "147it [00:05, 28.26it/s, bound:5 nc:  1 ncall:3.4e+03 eff:5.0% logz=511.22+/-0.40 dlogz:0.00456>0.1]"
     ]
    },
    {
     "name": "stderr",
     "output_type": "stream",
     "text": [
      "23:20 bilby INFO    : Rejection sampling nested samples to obtain 52 posterior samples\n",
      "23:20 bilby INFO    : Sampling time: 0:00:05.166745\n",
      "23:20 bilby INFO    : Summary of results:\n",
      "nsamples: 52\n",
      "ln_noise_evidence:    nan\n",
      "ln_evidence: 511.221 +/-  0.450\n",
      "ln_bayes_factor:    nan +/-  0.450\n",
      "\n",
      "23:20 bilby INFO    : Running for label 'calibration_example', output will be saved to 'outdir'\n"
     ]
    },
    {
     "name": "stdout",
     "output_type": "stream",
     "text": [
      "\n",
      "\n",
      "n = 4\n"
     ]
    },
    {
     "name": "stderr",
     "output_type": "stream",
     "text": [
      "23:20 bilby INFO    : Analysis priors:\n",
      "23:20 bilby INFO    : n_gauss=DiscreteUniform(minimum=1, maximum=4, name='n_gauss', latex_label='n_gauss', unit=None, boundary=None)\n",
      "23:20 bilby INFO    : mu0=TransdimensionalConditionalUniform(name='mu0', componant_function_number=np.int64(0), nested_conditional_transdimensional_params=['mu'], conditional_transdimensional_params=[], conditional_params=['n_gauss'], debug_print_out=True, latex_label='mu0', unit=None, boundary=None, minimum=0, maximum=100)\n",
      "23:20 bilby INFO    : mu1=TransdimensionalConditionalUniform(name='mu1', componant_function_number=np.int64(1), nested_conditional_transdimensional_params=['mu'], conditional_transdimensional_params=[], conditional_params=['n_gauss'], debug_print_out=True, latex_label='mu1', unit=None, boundary=None, minimum=0, maximum=100)\n",
      "23:20 bilby INFO    : mu2=TransdimensionalConditionalUniform(name='mu2', componant_function_number=np.int64(2), nested_conditional_transdimensional_params=['mu'], conditional_transdimensional_params=[], conditional_params=['n_gauss'], debug_print_out=True, latex_label='mu2', unit=None, boundary=None, minimum=0, maximum=100)\n",
      "23:20 bilby INFO    : mu3=TransdimensionalConditionalUniform(name='mu3', componant_function_number=np.int64(3), nested_conditional_transdimensional_params=['mu'], conditional_transdimensional_params=[], conditional_params=['n_gauss'], debug_print_out=True, latex_label='mu3', unit=None, boundary=None, minimum=0, maximum=100)\n",
      "23:20 bilby INFO    : sigma_g=10\n",
      "23:20 bilby INFO    : Analysis likelihood class: <class 'bilby.core.likelihood.GaussianLikelihood'>\n",
      "23:20 bilby INFO    : Analysis likelihood noise evidence: nan\n",
      "23:20 bilby INFO    : Single likelihood evaluation took 7.599e-04 s\n",
      "23:20 bilby INFO    : Using sampler Dynesty with kwargs {'nlive': 20, 'bound': 'live', 'sample': 'act-walk', 'periodic': None, 'reflective': None, 'update_interval': 600, 'first_update': None, 'npdim': None, 'rstate': None, 'queue_size': 1, 'pool': None, 'use_pool': None, 'live_points': None, 'logl_args': None, 'logl_kwargs': None, 'ptform_args': None, 'ptform_kwargs': None, 'gradient': None, 'grad_args': None, 'grad_kwargs': None, 'compute_jac': False, 'enlarge': None, 'bootstrap': None, 'walks': 100, 'facc': 0.2, 'slices': None, 'fmove': 0.9, 'max_move': 100, 'update_func': None, 'ncdim': None, 'blob': False, 'save_history': False, 'history_filename': None, 'maxiter': None, 'maxcall': None, 'dlogz': 0.1, 'logl_max': inf, 'n_effective': None, 'add_live': True, 'print_progress': True, 'print_func': <bound method Dynesty._print_func of <bilby.core.sampler.dynesty.Dynesty object at 0x35cc9c590>>, 'save_bounds': False, 'checkpoint_file': None, 'checkpoint_every': 60, 'resume': False, 'seed': None}\n",
      "23:20 bilby INFO    : Global meta data was removed from the result object for compatibility. Use the `BILBY_INCLUDE_GLOBAL_METADATA` environment variable to include it. This behaviour will be removed in a future release. For more details see: https://bilby-dev.github.io/bilby/faq.html#global-meta-data\n",
      "23:20 bilby INFO    : Checkpoint every check_point_delta_t = 600s\n",
      "23:20 bilby INFO    : Using dynesty version 2.1.5\n",
      "23:20 bilby INFO    : Using the bilby-implemented act-walk sampling tracking the autocorrelation function and thinning by 2 with maximum length 10000\n",
      "23:20 bilby INFO    : Generating initial points from the prior\n"
     ]
    },
    {
     "name": "stdout",
     "output_type": "stream",
     "text": [
      "226it [00:19,  8.74it/s, bound:18 nc: 52 ncall:1.2e+04 eff:1.9% logz=482.91+/-0.56 dlogz:0.112>0.1]"
     ]
    },
    {
     "name": "stderr",
     "output_type": "stream",
     "text": [
      "23:20 bilby INFO    : Written checkpoint file outdir/calibration_example_resume.pickle\n"
     ]
    },
    {
     "name": "stdout",
     "output_type": "stream",
     "text": [
      "228it [00:20, 10.88it/s, bound:18 nc:  1 ncall:1.2e+04 eff:2.1% logz=483.00+/-0.57 dlogz:0.00444>0.1]"
     ]
    },
    {
     "name": "stderr",
     "output_type": "stream",
     "text": [
      "23:21 bilby INFO    : Rejection sampling nested samples to obtain 92 posterior samples\n",
      "23:21 bilby INFO    : Sampling time: 0:00:20.860078\n",
      "23:21 bilby INFO    : Summary of results:\n",
      "nsamples: 92\n",
      "ln_noise_evidence:    nan\n",
      "ln_evidence: 482.996 +/-  0.625\n",
      "ln_bayes_factor:    nan +/-  0.625\n",
      "\n",
      "23:21 bilby INFO    : Running for label 'calibration_example', output will be saved to 'outdir'\n"
     ]
    },
    {
     "name": "stdout",
     "output_type": "stream",
     "text": [
      "\n",
      "\n",
      "n = 3\n"
     ]
    },
    {
     "name": "stderr",
     "output_type": "stream",
     "text": [
      "23:21 bilby INFO    : Analysis priors:\n",
      "23:21 bilby INFO    : n_gauss=DiscreteUniform(minimum=1, maximum=4, name='n_gauss', latex_label='n_gauss', unit=None, boundary=None)\n",
      "23:21 bilby INFO    : mu0=TransdimensionalConditionalUniform(name='mu0', componant_function_number=np.int64(0), nested_conditional_transdimensional_params=['mu'], conditional_transdimensional_params=[], conditional_params=['n_gauss'], debug_print_out=True, latex_label='mu0', unit=None, boundary=None, minimum=0, maximum=100)\n",
      "23:21 bilby INFO    : mu1=TransdimensionalConditionalUniform(name='mu1', componant_function_number=np.int64(1), nested_conditional_transdimensional_params=['mu'], conditional_transdimensional_params=[], conditional_params=['n_gauss'], debug_print_out=True, latex_label='mu1', unit=None, boundary=None, minimum=0, maximum=100)\n",
      "23:21 bilby INFO    : mu2=TransdimensionalConditionalUniform(name='mu2', componant_function_number=np.int64(2), nested_conditional_transdimensional_params=['mu'], conditional_transdimensional_params=[], conditional_params=['n_gauss'], debug_print_out=True, latex_label='mu2', unit=None, boundary=None, minimum=0, maximum=100)\n",
      "23:21 bilby INFO    : mu3=TransdimensionalConditionalUniform(name='mu3', componant_function_number=np.int64(3), nested_conditional_transdimensional_params=['mu'], conditional_transdimensional_params=[], conditional_params=['n_gauss'], debug_print_out=True, latex_label='mu3', unit=None, boundary=None, minimum=0, maximum=100)\n",
      "23:21 bilby INFO    : sigma_g=10\n",
      "23:21 bilby INFO    : Analysis likelihood class: <class 'bilby.core.likelihood.GaussianLikelihood'>\n",
      "23:21 bilby INFO    : Analysis likelihood noise evidence: nan\n",
      "23:21 bilby INFO    : Single likelihood evaluation took 7.639e-04 s\n",
      "23:21 bilby INFO    : Using sampler Dynesty with kwargs {'nlive': 20, 'bound': 'live', 'sample': 'act-walk', 'periodic': None, 'reflective': None, 'update_interval': 600, 'first_update': None, 'npdim': None, 'rstate': None, 'queue_size': 1, 'pool': None, 'use_pool': None, 'live_points': None, 'logl_args': None, 'logl_kwargs': None, 'ptform_args': None, 'ptform_kwargs': None, 'gradient': None, 'grad_args': None, 'grad_kwargs': None, 'compute_jac': False, 'enlarge': None, 'bootstrap': None, 'walks': 100, 'facc': 0.2, 'slices': None, 'fmove': 0.9, 'max_move': 100, 'update_func': None, 'ncdim': None, 'blob': False, 'save_history': False, 'history_filename': None, 'maxiter': None, 'maxcall': None, 'dlogz': 0.1, 'logl_max': inf, 'n_effective': None, 'add_live': True, 'print_progress': True, 'print_func': <bound method Dynesty._print_func of <bilby.core.sampler.dynesty.Dynesty object at 0x35ecd0dd0>>, 'save_bounds': False, 'checkpoint_file': None, 'checkpoint_every': 60, 'resume': False, 'seed': None}\n",
      "23:21 bilby INFO    : Global meta data was removed from the result object for compatibility. Use the `BILBY_INCLUDE_GLOBAL_METADATA` environment variable to include it. This behaviour will be removed in a future release. For more details see: https://bilby-dev.github.io/bilby/faq.html#global-meta-data\n",
      "23:21 bilby INFO    : Checkpoint every check_point_delta_t = 600s\n",
      "23:21 bilby INFO    : Using dynesty version 2.1.5\n",
      "23:21 bilby INFO    : Using the bilby-implemented act-walk sampling tracking the autocorrelation function and thinning by 2 with maximum length 10000\n",
      "23:21 bilby INFO    : Generating initial points from the prior\n"
     ]
    },
    {
     "name": "stdout",
     "output_type": "stream",
     "text": [
      "172it [00:06, 22.26it/s, bound:8 nc: 44 ncall:5.2e+03 eff:3.3% logz=451.13+/-0.42 dlogz:0.159>0.1]"
     ]
    },
    {
     "name": "stderr",
     "output_type": "stream",
     "text": [
      "23:21 bilby INFO    : Written checkpoint file outdir/calibration_example_resume.pickle\n"
     ]
    },
    {
     "name": "stdout",
     "output_type": "stream",
     "text": [
      "181it [00:07, 23.30it/s, bound:9 nc:  1 ncall:5.6e+03 eff:3.6% logz=451.26+/-0.45 dlogz:0.00452>0.1]"
     ]
    },
    {
     "name": "stderr",
     "output_type": "stream",
     "text": [
      "23:21 bilby INFO    : Rejection sampling nested samples to obtain 96 posterior samples\n",
      "23:21 bilby INFO    : Sampling time: 0:00:07.723975\n",
      "23:21 bilby INFO    : Summary of results:\n",
      "nsamples: 96\n",
      "ln_noise_evidence:    nan\n",
      "ln_evidence: 451.262 +/-  0.493\n",
      "ln_bayes_factor:    nan +/-  0.493\n",
      "\n",
      "23:21 bilby INFO    : Running for label 'calibration_example', output will be saved to 'outdir'\n"
     ]
    },
    {
     "name": "stdout",
     "output_type": "stream",
     "text": [
      "\n",
      "\n",
      "n = 3\n"
     ]
    },
    {
     "name": "stderr",
     "output_type": "stream",
     "text": [
      "23:21 bilby INFO    : Analysis priors:\n",
      "23:21 bilby INFO    : n_gauss=DiscreteUniform(minimum=1, maximum=4, name='n_gauss', latex_label='n_gauss', unit=None, boundary=None)\n",
      "23:21 bilby INFO    : mu0=TransdimensionalConditionalUniform(name='mu0', componant_function_number=np.int64(0), nested_conditional_transdimensional_params=['mu'], conditional_transdimensional_params=[], conditional_params=['n_gauss'], debug_print_out=True, latex_label='mu0', unit=None, boundary=None, minimum=0, maximum=100)\n",
      "23:21 bilby INFO    : mu1=TransdimensionalConditionalUniform(name='mu1', componant_function_number=np.int64(1), nested_conditional_transdimensional_params=['mu'], conditional_transdimensional_params=[], conditional_params=['n_gauss'], debug_print_out=True, latex_label='mu1', unit=None, boundary=None, minimum=0, maximum=100)\n",
      "23:21 bilby INFO    : mu2=TransdimensionalConditionalUniform(name='mu2', componant_function_number=np.int64(2), nested_conditional_transdimensional_params=['mu'], conditional_transdimensional_params=[], conditional_params=['n_gauss'], debug_print_out=True, latex_label='mu2', unit=None, boundary=None, minimum=0, maximum=100)\n",
      "23:21 bilby INFO    : mu3=TransdimensionalConditionalUniform(name='mu3', componant_function_number=np.int64(3), nested_conditional_transdimensional_params=['mu'], conditional_transdimensional_params=[], conditional_params=['n_gauss'], debug_print_out=True, latex_label='mu3', unit=None, boundary=None, minimum=0, maximum=100)\n",
      "23:21 bilby INFO    : sigma_g=10\n",
      "23:21 bilby INFO    : Analysis likelihood class: <class 'bilby.core.likelihood.GaussianLikelihood'>\n",
      "23:21 bilby INFO    : Analysis likelihood noise evidence: nan\n",
      "23:21 bilby INFO    : Single likelihood evaluation took 8.063e-04 s\n",
      "23:21 bilby INFO    : Using sampler Dynesty with kwargs {'nlive': 20, 'bound': 'live', 'sample': 'act-walk', 'periodic': None, 'reflective': None, 'update_interval': 600, 'first_update': None, 'npdim': None, 'rstate': None, 'queue_size': 1, 'pool': None, 'use_pool': None, 'live_points': None, 'logl_args': None, 'logl_kwargs': None, 'ptform_args': None, 'ptform_kwargs': None, 'gradient': None, 'grad_args': None, 'grad_kwargs': None, 'compute_jac': False, 'enlarge': None, 'bootstrap': None, 'walks': 100, 'facc': 0.2, 'slices': None, 'fmove': 0.9, 'max_move': 100, 'update_func': None, 'ncdim': None, 'blob': False, 'save_history': False, 'history_filename': None, 'maxiter': None, 'maxcall': None, 'dlogz': 0.1, 'logl_max': inf, 'n_effective': None, 'add_live': True, 'print_progress': True, 'print_func': <bound method Dynesty._print_func of <bilby.core.sampler.dynesty.Dynesty object at 0x3616c0590>>, 'save_bounds': False, 'checkpoint_file': None, 'checkpoint_every': 60, 'resume': False, 'seed': None}\n",
      "23:21 bilby INFO    : Global meta data was removed from the result object for compatibility. Use the `BILBY_INCLUDE_GLOBAL_METADATA` environment variable to include it. This behaviour will be removed in a future release. For more details see: https://bilby-dev.github.io/bilby/faq.html#global-meta-data\n",
      "23:21 bilby INFO    : Checkpoint every check_point_delta_t = 600s\n",
      "23:21 bilby INFO    : Using dynesty version 2.1.5\n",
      "23:21 bilby INFO    : Using the bilby-implemented act-walk sampling tracking the autocorrelation function and thinning by 2 with maximum length 10000\n",
      "23:21 bilby INFO    : Generating initial points from the prior\n"
     ]
    },
    {
     "name": "stdout",
     "output_type": "stream",
     "text": [
      "136it [00:04, 25.27it/s, bound:5 nc: 35 ncall:3.3e+03 eff:4.1% logz=459.00+/-0.40 dlogz:0.12>0.1] "
     ]
    },
    {
     "name": "stderr",
     "output_type": "stream",
     "text": [
      "23:21 bilby INFO    : Written checkpoint file outdir/calibration_example_resume.pickle\n"
     ]
    },
    {
     "name": "stdout",
     "output_type": "stream",
     "text": [
      "139it [00:05, 23.39it/s, bound:5 nc:  1 ncall:3.4e+03 eff:4.7% logz=459.11+/-0.40 dlogz:0.00447>0.1]"
     ]
    },
    {
     "name": "stderr",
     "output_type": "stream",
     "text": [
      "23:21 bilby INFO    : Rejection sampling nested samples to obtain 62 posterior samples\n",
      "23:21 bilby INFO    : Sampling time: 0:00:05.899422\n",
      "23:21 bilby INFO    : Summary of results:\n",
      "nsamples: 62\n",
      "ln_noise_evidence:    nan\n",
      "ln_evidence: 459.105 +/-  0.447\n",
      "ln_bayes_factor:    nan +/-  0.447\n",
      "\n",
      "23:21 bilby INFO    : Running for label 'calibration_example', output will be saved to 'outdir'\n"
     ]
    },
    {
     "name": "stdout",
     "output_type": "stream",
     "text": [
      "\n",
      "\n",
      "n = 1\n"
     ]
    },
    {
     "name": "stderr",
     "output_type": "stream",
     "text": [
      "23:21 bilby INFO    : Analysis priors:\n",
      "23:21 bilby INFO    : n_gauss=DiscreteUniform(minimum=1, maximum=4, name='n_gauss', latex_label='n_gauss', unit=None, boundary=None)\n",
      "23:21 bilby INFO    : mu0=TransdimensionalConditionalUniform(name='mu0', componant_function_number=np.int64(0), nested_conditional_transdimensional_params=['mu'], conditional_transdimensional_params=[], conditional_params=['n_gauss'], debug_print_out=True, latex_label='mu0', unit=None, boundary=None, minimum=0, maximum=100)\n",
      "23:21 bilby INFO    : mu1=TransdimensionalConditionalUniform(name='mu1', componant_function_number=np.int64(1), nested_conditional_transdimensional_params=['mu'], conditional_transdimensional_params=[], conditional_params=['n_gauss'], debug_print_out=True, latex_label='mu1', unit=None, boundary=None, minimum=0, maximum=100)\n",
      "23:21 bilby INFO    : mu2=TransdimensionalConditionalUniform(name='mu2', componant_function_number=np.int64(2), nested_conditional_transdimensional_params=['mu'], conditional_transdimensional_params=[], conditional_params=['n_gauss'], debug_print_out=True, latex_label='mu2', unit=None, boundary=None, minimum=0, maximum=100)\n",
      "23:21 bilby INFO    : mu3=TransdimensionalConditionalUniform(name='mu3', componant_function_number=np.int64(3), nested_conditional_transdimensional_params=['mu'], conditional_transdimensional_params=[], conditional_params=['n_gauss'], debug_print_out=True, latex_label='mu3', unit=None, boundary=None, minimum=0, maximum=100)\n",
      "23:21 bilby INFO    : sigma_g=10\n",
      "23:21 bilby INFO    : Analysis likelihood class: <class 'bilby.core.likelihood.GaussianLikelihood'>\n",
      "23:21 bilby INFO    : Analysis likelihood noise evidence: nan\n",
      "23:21 bilby INFO    : Single likelihood evaluation took 7.431e-04 s\n",
      "23:21 bilby INFO    : Using sampler Dynesty with kwargs {'nlive': 20, 'bound': 'live', 'sample': 'act-walk', 'periodic': None, 'reflective': None, 'update_interval': 600, 'first_update': None, 'npdim': None, 'rstate': None, 'queue_size': 1, 'pool': None, 'use_pool': None, 'live_points': None, 'logl_args': None, 'logl_kwargs': None, 'ptform_args': None, 'ptform_kwargs': None, 'gradient': None, 'grad_args': None, 'grad_kwargs': None, 'compute_jac': False, 'enlarge': None, 'bootstrap': None, 'walks': 100, 'facc': 0.2, 'slices': None, 'fmove': 0.9, 'max_move': 100, 'update_func': None, 'ncdim': None, 'blob': False, 'save_history': False, 'history_filename': None, 'maxiter': None, 'maxcall': None, 'dlogz': 0.1, 'logl_max': inf, 'n_effective': None, 'add_live': True, 'print_progress': True, 'print_func': <bound method Dynesty._print_func of <bilby.core.sampler.dynesty.Dynesty object at 0x36310ff50>>, 'save_bounds': False, 'checkpoint_file': None, 'checkpoint_every': 60, 'resume': False, 'seed': None}\n",
      "23:21 bilby INFO    : Global meta data was removed from the result object for compatibility. Use the `BILBY_INCLUDE_GLOBAL_METADATA` environment variable to include it. This behaviour will be removed in a future release. For more details see: https://bilby-dev.github.io/bilby/faq.html#global-meta-data\n",
      "23:21 bilby INFO    : Checkpoint every check_point_delta_t = 600s\n",
      "23:21 bilby INFO    : Using dynesty version 2.1.5\n",
      "23:21 bilby INFO    : Using the bilby-implemented act-walk sampling tracking the autocorrelation function and thinning by 2 with maximum length 10000\n",
      "23:21 bilby INFO    : Generating initial points from the prior\n"
     ]
    },
    {
     "name": "stdout",
     "output_type": "stream",
     "text": [
      "112it [00:01, 68.83it/s, bound:2 nc: 25 ncall:1.4e+03 eff:7.8% logz=486.19+/-0.38 dlogz:0.194>0.1]"
     ]
    },
    {
     "name": "stderr",
     "output_type": "stream",
     "text": [
      "23:21 bilby INFO    : Written checkpoint file outdir/calibration_example_resume.pickle\n"
     ]
    },
    {
     "name": "stdout",
     "output_type": "stream",
     "text": [
      "124it [00:02, 48.13it/s, bound:2 nc:  1 ncall:1.7e+03 eff:8.3% logz=486.36+/-0.38 dlogz:0.00448>0.1]"
     ]
    },
    {
     "name": "stderr",
     "output_type": "stream",
     "text": [
      "23:21 bilby INFO    : Rejection sampling nested samples to obtain 41 posterior samples\n",
      "23:21 bilby INFO    : Sampling time: 0:00:02.555597\n",
      "23:21 bilby INFO    : Summary of results:\n",
      "nsamples: 41\n",
      "ln_noise_evidence:    nan\n",
      "ln_evidence: 486.364 +/-  0.421\n",
      "ln_bayes_factor:    nan +/-  0.421\n",
      "\n",
      "23:21 bilby INFO    : Running for label 'calibration_example', output will be saved to 'outdir'\n"
     ]
    },
    {
     "name": "stdout",
     "output_type": "stream",
     "text": [
      "\n",
      "\n",
      "n = 3\n"
     ]
    },
    {
     "name": "stderr",
     "output_type": "stream",
     "text": [
      "23:21 bilby INFO    : Analysis priors:\n",
      "23:21 bilby INFO    : n_gauss=DiscreteUniform(minimum=1, maximum=4, name='n_gauss', latex_label='n_gauss', unit=None, boundary=None)\n",
      "23:21 bilby INFO    : mu0=TransdimensionalConditionalUniform(name='mu0', componant_function_number=np.int64(0), nested_conditional_transdimensional_params=['mu'], conditional_transdimensional_params=[], conditional_params=['n_gauss'], debug_print_out=True, latex_label='mu0', unit=None, boundary=None, minimum=0, maximum=100)\n",
      "23:21 bilby INFO    : mu1=TransdimensionalConditionalUniform(name='mu1', componant_function_number=np.int64(1), nested_conditional_transdimensional_params=['mu'], conditional_transdimensional_params=[], conditional_params=['n_gauss'], debug_print_out=True, latex_label='mu1', unit=None, boundary=None, minimum=0, maximum=100)\n",
      "23:21 bilby INFO    : mu2=TransdimensionalConditionalUniform(name='mu2', componant_function_number=np.int64(2), nested_conditional_transdimensional_params=['mu'], conditional_transdimensional_params=[], conditional_params=['n_gauss'], debug_print_out=True, latex_label='mu2', unit=None, boundary=None, minimum=0, maximum=100)\n",
      "23:21 bilby INFO    : mu3=TransdimensionalConditionalUniform(name='mu3', componant_function_number=np.int64(3), nested_conditional_transdimensional_params=['mu'], conditional_transdimensional_params=[], conditional_params=['n_gauss'], debug_print_out=True, latex_label='mu3', unit=None, boundary=None, minimum=0, maximum=100)\n",
      "23:21 bilby INFO    : sigma_g=10\n",
      "23:21 bilby INFO    : Analysis likelihood class: <class 'bilby.core.likelihood.GaussianLikelihood'>\n",
      "23:21 bilby INFO    : Analysis likelihood noise evidence: nan\n",
      "23:21 bilby INFO    : Single likelihood evaluation took 7.475e-04 s\n",
      "23:21 bilby INFO    : Using sampler Dynesty with kwargs {'nlive': 20, 'bound': 'live', 'sample': 'act-walk', 'periodic': None, 'reflective': None, 'update_interval': 600, 'first_update': None, 'npdim': None, 'rstate': None, 'queue_size': 1, 'pool': None, 'use_pool': None, 'live_points': None, 'logl_args': None, 'logl_kwargs': None, 'ptform_args': None, 'ptform_kwargs': None, 'gradient': None, 'grad_args': None, 'grad_kwargs': None, 'compute_jac': False, 'enlarge': None, 'bootstrap': None, 'walks': 100, 'facc': 0.2, 'slices': None, 'fmove': 0.9, 'max_move': 100, 'update_func': None, 'ncdim': None, 'blob': False, 'save_history': False, 'history_filename': None, 'maxiter': None, 'maxcall': None, 'dlogz': 0.1, 'logl_max': inf, 'n_effective': None, 'add_live': True, 'print_progress': True, 'print_func': <bound method Dynesty._print_func of <bilby.core.sampler.dynesty.Dynesty object at 0x3627c4d90>>, 'save_bounds': False, 'checkpoint_file': None, 'checkpoint_every': 60, 'resume': False, 'seed': None}\n",
      "23:21 bilby INFO    : Global meta data was removed from the result object for compatibility. Use the `BILBY_INCLUDE_GLOBAL_METADATA` environment variable to include it. This behaviour will be removed in a future release. For more details see: https://bilby-dev.github.io/bilby/faq.html#global-meta-data\n",
      "23:21 bilby INFO    : Checkpoint every check_point_delta_t = 600s\n",
      "23:21 bilby INFO    : Using dynesty version 2.1.5\n",
      "23:21 bilby INFO    : Using the bilby-implemented act-walk sampling tracking the autocorrelation function and thinning by 2 with maximum length 10000\n",
      "23:21 bilby INFO    : Generating initial points from the prior\n"
     ]
    },
    {
     "name": "stdout",
     "output_type": "stream",
     "text": [
      "162it [00:07, 16.13it/s, bound:8 nc: 47 ncall:5.8e+03 eff:2.8% logz=473.49+/-0.45 dlogz:0.15>0.1] "
     ]
    },
    {
     "name": "stderr",
     "output_type": "stream",
     "text": [
      "23:21 bilby INFO    : Written checkpoint file outdir/calibration_example_resume.pickle\n"
     ]
    },
    {
     "name": "stdout",
     "output_type": "stream",
     "text": [
      "171it [00:08, 19.49it/s, bound:9 nc:  1 ncall:6.2e+03 eff:3.1% logz=473.60+/-0.46 dlogz:0.00457>0.1]"
     ]
    },
    {
     "name": "stderr",
     "output_type": "stream",
     "text": [
      "23:21 bilby INFO    : Rejection sampling nested samples to obtain 59 posterior samples\n",
      "23:21 bilby INFO    : Sampling time: 0:00:08.723636\n",
      "23:21 bilby INFO    : Summary of results:\n",
      "nsamples: 59\n",
      "ln_noise_evidence:    nan\n",
      "ln_evidence: 473.605 +/-  0.504\n",
      "ln_bayes_factor:    nan +/-  0.504\n",
      "\n",
      "23:21 bilby INFO    : Running for label 'calibration_example', output will be saved to 'outdir'\n"
     ]
    },
    {
     "name": "stdout",
     "output_type": "stream",
     "text": [
      "\n",
      "\n",
      "n = 3\n"
     ]
    },
    {
     "name": "stderr",
     "output_type": "stream",
     "text": [
      "23:21 bilby INFO    : Analysis priors:\n",
      "23:21 bilby INFO    : n_gauss=DiscreteUniform(minimum=1, maximum=4, name='n_gauss', latex_label='n_gauss', unit=None, boundary=None)\n",
      "23:21 bilby INFO    : mu0=TransdimensionalConditionalUniform(name='mu0', componant_function_number=np.int64(0), nested_conditional_transdimensional_params=['mu'], conditional_transdimensional_params=[], conditional_params=['n_gauss'], debug_print_out=True, latex_label='mu0', unit=None, boundary=None, minimum=0, maximum=100)\n",
      "23:21 bilby INFO    : mu1=TransdimensionalConditionalUniform(name='mu1', componant_function_number=np.int64(1), nested_conditional_transdimensional_params=['mu'], conditional_transdimensional_params=[], conditional_params=['n_gauss'], debug_print_out=True, latex_label='mu1', unit=None, boundary=None, minimum=0, maximum=100)\n",
      "23:21 bilby INFO    : mu2=TransdimensionalConditionalUniform(name='mu2', componant_function_number=np.int64(2), nested_conditional_transdimensional_params=['mu'], conditional_transdimensional_params=[], conditional_params=['n_gauss'], debug_print_out=True, latex_label='mu2', unit=None, boundary=None, minimum=0, maximum=100)\n",
      "23:21 bilby INFO    : mu3=TransdimensionalConditionalUniform(name='mu3', componant_function_number=np.int64(3), nested_conditional_transdimensional_params=['mu'], conditional_transdimensional_params=[], conditional_params=['n_gauss'], debug_print_out=True, latex_label='mu3', unit=None, boundary=None, minimum=0, maximum=100)\n",
      "23:21 bilby INFO    : sigma_g=10\n",
      "23:21 bilby INFO    : Analysis likelihood class: <class 'bilby.core.likelihood.GaussianLikelihood'>\n",
      "23:21 bilby INFO    : Analysis likelihood noise evidence: nan\n",
      "23:21 bilby INFO    : Single likelihood evaluation took 8.336e-04 s\n",
      "23:21 bilby INFO    : Using sampler Dynesty with kwargs {'nlive': 20, 'bound': 'live', 'sample': 'act-walk', 'periodic': None, 'reflective': None, 'update_interval': 600, 'first_update': None, 'npdim': None, 'rstate': None, 'queue_size': 1, 'pool': None, 'use_pool': None, 'live_points': None, 'logl_args': None, 'logl_kwargs': None, 'ptform_args': None, 'ptform_kwargs': None, 'gradient': None, 'grad_args': None, 'grad_kwargs': None, 'compute_jac': False, 'enlarge': None, 'bootstrap': None, 'walks': 100, 'facc': 0.2, 'slices': None, 'fmove': 0.9, 'max_move': 100, 'update_func': None, 'ncdim': None, 'blob': False, 'save_history': False, 'history_filename': None, 'maxiter': None, 'maxcall': None, 'dlogz': 0.1, 'logl_max': inf, 'n_effective': None, 'add_live': True, 'print_progress': True, 'print_func': <bound method Dynesty._print_func of <bilby.core.sampler.dynesty.Dynesty object at 0x367705490>>, 'save_bounds': False, 'checkpoint_file': None, 'checkpoint_every': 60, 'resume': False, 'seed': None}\n",
      "23:21 bilby INFO    : Global meta data was removed from the result object for compatibility. Use the `BILBY_INCLUDE_GLOBAL_METADATA` environment variable to include it. This behaviour will be removed in a future release. For more details see: https://bilby-dev.github.io/bilby/faq.html#global-meta-data\n",
      "23:21 bilby INFO    : Checkpoint every check_point_delta_t = 600s\n",
      "23:21 bilby INFO    : Using dynesty version 2.1.5\n",
      "23:21 bilby INFO    : Using the bilby-implemented act-walk sampling tracking the autocorrelation function and thinning by 2 with maximum length 10000\n",
      "23:21 bilby INFO    : Generating initial points from the prior\n"
     ]
    },
    {
     "name": "stdout",
     "output_type": "stream",
     "text": [
      "175it [00:15,  7.08it/s, bound:14 nc:206 ncall:8.8e+03 eff:2.0% logz=466.01+/-0.46 dlogz:0.126>0.1]"
     ]
    },
    {
     "name": "stderr",
     "output_type": "stream",
     "text": [
      "23:21 bilby INFO    : Written checkpoint file outdir/calibration_example_resume.pickle\n"
     ]
    },
    {
     "name": "stdout",
     "output_type": "stream",
     "text": [
      "179it [00:16, 10.81it/s, bound:15 nc:  1 ncall:9.6e+03 eff:2.1% logz=466.10+/-0.47 dlogz:0.00455>0.1]"
     ]
    },
    {
     "name": "stderr",
     "output_type": "stream",
     "text": [
      "23:21 bilby INFO    : Rejection sampling nested samples to obtain 64 posterior samples\n",
      "23:21 bilby INFO    : Sampling time: 0:00:16.459341\n",
      "23:21 bilby INFO    : Summary of results:\n",
      "nsamples: 64\n",
      "ln_noise_evidence:    nan\n",
      "ln_evidence: 466.097 +/-  0.521\n",
      "ln_bayes_factor:    nan +/-  0.521\n",
      "\n",
      "23:21 bilby INFO    : Running for label 'calibration_example', output will be saved to 'outdir'\n"
     ]
    },
    {
     "name": "stdout",
     "output_type": "stream",
     "text": [
      "\n",
      "\n",
      "n = 4\n"
     ]
    },
    {
     "name": "stderr",
     "output_type": "stream",
     "text": [
      "23:21 bilby INFO    : Analysis priors:\n",
      "23:21 bilby INFO    : n_gauss=DiscreteUniform(minimum=1, maximum=4, name='n_gauss', latex_label='n_gauss', unit=None, boundary=None)\n",
      "23:21 bilby INFO    : mu0=TransdimensionalConditionalUniform(name='mu0', componant_function_number=np.int64(0), nested_conditional_transdimensional_params=['mu'], conditional_transdimensional_params=[], conditional_params=['n_gauss'], debug_print_out=True, latex_label='mu0', unit=None, boundary=None, minimum=0, maximum=100)\n",
      "23:21 bilby INFO    : mu1=TransdimensionalConditionalUniform(name='mu1', componant_function_number=np.int64(1), nested_conditional_transdimensional_params=['mu'], conditional_transdimensional_params=[], conditional_params=['n_gauss'], debug_print_out=True, latex_label='mu1', unit=None, boundary=None, minimum=0, maximum=100)\n",
      "23:21 bilby INFO    : mu2=TransdimensionalConditionalUniform(name='mu2', componant_function_number=np.int64(2), nested_conditional_transdimensional_params=['mu'], conditional_transdimensional_params=[], conditional_params=['n_gauss'], debug_print_out=True, latex_label='mu2', unit=None, boundary=None, minimum=0, maximum=100)\n",
      "23:21 bilby INFO    : mu3=TransdimensionalConditionalUniform(name='mu3', componant_function_number=np.int64(3), nested_conditional_transdimensional_params=['mu'], conditional_transdimensional_params=[], conditional_params=['n_gauss'], debug_print_out=True, latex_label='mu3', unit=None, boundary=None, minimum=0, maximum=100)\n",
      "23:21 bilby INFO    : sigma_g=10\n",
      "23:21 bilby INFO    : Analysis likelihood class: <class 'bilby.core.likelihood.GaussianLikelihood'>\n",
      "23:21 bilby INFO    : Analysis likelihood noise evidence: nan\n",
      "23:21 bilby INFO    : Single likelihood evaluation took 7.195e-04 s\n",
      "23:21 bilby INFO    : Using sampler Dynesty with kwargs {'nlive': 20, 'bound': 'live', 'sample': 'act-walk', 'periodic': None, 'reflective': None, 'update_interval': 600, 'first_update': None, 'npdim': None, 'rstate': None, 'queue_size': 1, 'pool': None, 'use_pool': None, 'live_points': None, 'logl_args': None, 'logl_kwargs': None, 'ptform_args': None, 'ptform_kwargs': None, 'gradient': None, 'grad_args': None, 'grad_kwargs': None, 'compute_jac': False, 'enlarge': None, 'bootstrap': None, 'walks': 100, 'facc': 0.2, 'slices': None, 'fmove': 0.9, 'max_move': 100, 'update_func': None, 'ncdim': None, 'blob': False, 'save_history': False, 'history_filename': None, 'maxiter': None, 'maxcall': None, 'dlogz': 0.1, 'logl_max': inf, 'n_effective': None, 'add_live': True, 'print_progress': True, 'print_func': <bound method Dynesty._print_func of <bilby.core.sampler.dynesty.Dynesty object at 0x37017f090>>, 'save_bounds': False, 'checkpoint_file': None, 'checkpoint_every': 60, 'resume': False, 'seed': None}\n",
      "23:21 bilby INFO    : Global meta data was removed from the result object for compatibility. Use the `BILBY_INCLUDE_GLOBAL_METADATA` environment variable to include it. This behaviour will be removed in a future release. For more details see: https://bilby-dev.github.io/bilby/faq.html#global-meta-data\n",
      "23:21 bilby INFO    : Checkpoint every check_point_delta_t = 600s\n",
      "23:21 bilby INFO    : Using dynesty version 2.1.5\n",
      "23:21 bilby INFO    : Using the bilby-implemented act-walk sampling tracking the autocorrelation function and thinning by 2 with maximum length 10000\n",
      "23:21 bilby INFO    : Generating initial points from the prior\n"
     ]
    },
    {
     "name": "stdout",
     "output_type": "stream",
     "text": [
      "219it [00:10, 18.74it/s, bound:11 nc: 31 ncall:7.0e+03 eff:3.1% logz=439.63+/-0.53 dlogz:0.104>0.1]"
     ]
    },
    {
     "name": "stderr",
     "output_type": "stream",
     "text": [
      "23:22 bilby INFO    : Written checkpoint file outdir/calibration_example_resume.pickle\n"
     ]
    },
    {
     "name": "stdout",
     "output_type": "stream",
     "text": [
      "219it [00:11, 18.69it/s, bound:11 nc:  1 ncall:7.0e+03 eff:3.4% logz=439.71+/-0.54 dlogz:0.00457>0.1]"
     ]
    },
    {
     "name": "stderr",
     "output_type": "stream",
     "text": [
      "23:22 bilby INFO    : Rejection sampling nested samples to obtain 103 posterior samples\n",
      "23:22 bilby INFO    : Sampling time: 0:00:11.665055\n",
      "23:22 bilby INFO    : Summary of results:\n",
      "nsamples: 103\n",
      "ln_noise_evidence:    nan\n",
      "ln_evidence: 439.708 +/-  0.595\n",
      "ln_bayes_factor:    nan +/-  0.595\n",
      "\n",
      "23:22 bilby INFO    : Running for label 'calibration_example', output will be saved to 'outdir'\n"
     ]
    },
    {
     "name": "stdout",
     "output_type": "stream",
     "text": [
      "\n",
      "\n",
      "n = 3\n"
     ]
    },
    {
     "name": "stderr",
     "output_type": "stream",
     "text": [
      "23:22 bilby INFO    : Analysis priors:\n",
      "23:22 bilby INFO    : n_gauss=DiscreteUniform(minimum=1, maximum=4, name='n_gauss', latex_label='n_gauss', unit=None, boundary=None)\n",
      "23:22 bilby INFO    : mu0=TransdimensionalConditionalUniform(name='mu0', componant_function_number=np.int64(0), nested_conditional_transdimensional_params=['mu'], conditional_transdimensional_params=[], conditional_params=['n_gauss'], debug_print_out=True, latex_label='mu0', unit=None, boundary=None, minimum=0, maximum=100)\n",
      "23:22 bilby INFO    : mu1=TransdimensionalConditionalUniform(name='mu1', componant_function_number=np.int64(1), nested_conditional_transdimensional_params=['mu'], conditional_transdimensional_params=[], conditional_params=['n_gauss'], debug_print_out=True, latex_label='mu1', unit=None, boundary=None, minimum=0, maximum=100)\n",
      "23:22 bilby INFO    : mu2=TransdimensionalConditionalUniform(name='mu2', componant_function_number=np.int64(2), nested_conditional_transdimensional_params=['mu'], conditional_transdimensional_params=[], conditional_params=['n_gauss'], debug_print_out=True, latex_label='mu2', unit=None, boundary=None, minimum=0, maximum=100)\n",
      "23:22 bilby INFO    : mu3=TransdimensionalConditionalUniform(name='mu3', componant_function_number=np.int64(3), nested_conditional_transdimensional_params=['mu'], conditional_transdimensional_params=[], conditional_params=['n_gauss'], debug_print_out=True, latex_label='mu3', unit=None, boundary=None, minimum=0, maximum=100)\n",
      "23:22 bilby INFO    : sigma_g=10\n",
      "23:22 bilby INFO    : Analysis likelihood class: <class 'bilby.core.likelihood.GaussianLikelihood'>\n",
      "23:22 bilby INFO    : Analysis likelihood noise evidence: nan\n",
      "23:22 bilby INFO    : Single likelihood evaluation took 7.682e-04 s\n",
      "23:22 bilby INFO    : Using sampler Dynesty with kwargs {'nlive': 20, 'bound': 'live', 'sample': 'act-walk', 'periodic': None, 'reflective': None, 'update_interval': 600, 'first_update': None, 'npdim': None, 'rstate': None, 'queue_size': 1, 'pool': None, 'use_pool': None, 'live_points': None, 'logl_args': None, 'logl_kwargs': None, 'ptform_args': None, 'ptform_kwargs': None, 'gradient': None, 'grad_args': None, 'grad_kwargs': None, 'compute_jac': False, 'enlarge': None, 'bootstrap': None, 'walks': 100, 'facc': 0.2, 'slices': None, 'fmove': 0.9, 'max_move': 100, 'update_func': None, 'ncdim': None, 'blob': False, 'save_history': False, 'history_filename': None, 'maxiter': None, 'maxcall': None, 'dlogz': 0.1, 'logl_max': inf, 'n_effective': None, 'add_live': True, 'print_progress': True, 'print_func': <bound method Dynesty._print_func of <bilby.core.sampler.dynesty.Dynesty object at 0x37237e350>>, 'save_bounds': False, 'checkpoint_file': None, 'checkpoint_every': 60, 'resume': False, 'seed': None}\n",
      "23:22 bilby INFO    : Global meta data was removed from the result object for compatibility. Use the `BILBY_INCLUDE_GLOBAL_METADATA` environment variable to include it. This behaviour will be removed in a future release. For more details see: https://bilby-dev.github.io/bilby/faq.html#global-meta-data\n",
      "23:22 bilby INFO    : Checkpoint every check_point_delta_t = 600s\n",
      "23:22 bilby INFO    : Using dynesty version 2.1.5\n",
      "23:22 bilby INFO    : Using the bilby-implemented act-walk sampling tracking the autocorrelation function and thinning by 2 with maximum length 10000\n",
      "23:22 bilby INFO    : Generating initial points from the prior\n"
     ]
    },
    {
     "name": "stdout",
     "output_type": "stream",
     "text": [
      "215it [00:12, 14.29it/s, bound:13 nc: 31 ncall:9.3e+03 eff:2.3% logz=492.17+/-0.55 dlogz:0.175>0.1]"
     ]
    },
    {
     "name": "stderr",
     "output_type": "stream",
     "text": [
      "23:22 bilby INFO    : Written checkpoint file outdir/calibration_example_resume.pickle\n"
     ]
    },
    {
     "name": "stdout",
     "output_type": "stream",
     "text": [
      "226it [00:13, 16.67it/s, bound:14 nc:  1 ncall:9.7e+03 eff:2.5% logz=492.30+/-0.57 dlogz:0.0044>0.1]"
     ]
    },
    {
     "name": "stderr",
     "output_type": "stream",
     "text": [
      "23:22 bilby INFO    : Rejection sampling nested samples to obtain 74 posterior samples\n",
      "23:22 bilby INFO    : Sampling time: 0:00:13.495414\n",
      "23:22 bilby INFO    : Summary of results:\n",
      "nsamples: 74\n",
      "ln_noise_evidence:    nan\n",
      "ln_evidence: 492.300 +/-  0.624\n",
      "ln_bayes_factor:    nan +/-  0.624\n",
      "\n",
      "23:22 bilby INFO    : Running for label 'calibration_example', output will be saved to 'outdir'\n"
     ]
    },
    {
     "name": "stdout",
     "output_type": "stream",
     "text": [
      "\n",
      "\n",
      "n = 1\n"
     ]
    },
    {
     "name": "stderr",
     "output_type": "stream",
     "text": [
      "23:22 bilby INFO    : Analysis priors:\n",
      "23:22 bilby INFO    : n_gauss=DiscreteUniform(minimum=1, maximum=4, name='n_gauss', latex_label='n_gauss', unit=None, boundary=None)\n",
      "23:22 bilby INFO    : mu0=TransdimensionalConditionalUniform(name='mu0', componant_function_number=np.int64(0), nested_conditional_transdimensional_params=['mu'], conditional_transdimensional_params=[], conditional_params=['n_gauss'], debug_print_out=True, latex_label='mu0', unit=None, boundary=None, minimum=0, maximum=100)\n",
      "23:22 bilby INFO    : mu1=TransdimensionalConditionalUniform(name='mu1', componant_function_number=np.int64(1), nested_conditional_transdimensional_params=['mu'], conditional_transdimensional_params=[], conditional_params=['n_gauss'], debug_print_out=True, latex_label='mu1', unit=None, boundary=None, minimum=0, maximum=100)\n",
      "23:22 bilby INFO    : mu2=TransdimensionalConditionalUniform(name='mu2', componant_function_number=np.int64(2), nested_conditional_transdimensional_params=['mu'], conditional_transdimensional_params=[], conditional_params=['n_gauss'], debug_print_out=True, latex_label='mu2', unit=None, boundary=None, minimum=0, maximum=100)\n",
      "23:22 bilby INFO    : mu3=TransdimensionalConditionalUniform(name='mu3', componant_function_number=np.int64(3), nested_conditional_transdimensional_params=['mu'], conditional_transdimensional_params=[], conditional_params=['n_gauss'], debug_print_out=True, latex_label='mu3', unit=None, boundary=None, minimum=0, maximum=100)\n",
      "23:22 bilby INFO    : sigma_g=10\n",
      "23:22 bilby INFO    : Analysis likelihood class: <class 'bilby.core.likelihood.GaussianLikelihood'>\n",
      "23:22 bilby INFO    : Analysis likelihood noise evidence: nan\n",
      "23:22 bilby INFO    : Single likelihood evaluation took 7.007e-04 s\n",
      "23:22 bilby INFO    : Using sampler Dynesty with kwargs {'nlive': 20, 'bound': 'live', 'sample': 'act-walk', 'periodic': None, 'reflective': None, 'update_interval': 600, 'first_update': None, 'npdim': None, 'rstate': None, 'queue_size': 1, 'pool': None, 'use_pool': None, 'live_points': None, 'logl_args': None, 'logl_kwargs': None, 'ptform_args': None, 'ptform_kwargs': None, 'gradient': None, 'grad_args': None, 'grad_kwargs': None, 'compute_jac': False, 'enlarge': None, 'bootstrap': None, 'walks': 100, 'facc': 0.2, 'slices': None, 'fmove': 0.9, 'max_move': 100, 'update_func': None, 'ncdim': None, 'blob': False, 'save_history': False, 'history_filename': None, 'maxiter': None, 'maxcall': None, 'dlogz': 0.1, 'logl_max': inf, 'n_effective': None, 'add_live': True, 'print_progress': True, 'print_func': <bound method Dynesty._print_func of <bilby.core.sampler.dynesty.Dynesty object at 0x372212450>>, 'save_bounds': False, 'checkpoint_file': None, 'checkpoint_every': 60, 'resume': False, 'seed': None}\n",
      "23:22 bilby INFO    : Global meta data was removed from the result object for compatibility. Use the `BILBY_INCLUDE_GLOBAL_METADATA` environment variable to include it. This behaviour will be removed in a future release. For more details see: https://bilby-dev.github.io/bilby/faq.html#global-meta-data\n",
      "23:22 bilby INFO    : Checkpoint every check_point_delta_t = 600s\n",
      "23:22 bilby INFO    : Using dynesty version 2.1.5\n",
      "23:22 bilby INFO    : Using the bilby-implemented act-walk sampling tracking the autocorrelation function and thinning by 2 with maximum length 10000\n",
      "23:22 bilby INFO    : Generating initial points from the prior\n"
     ]
    },
    {
     "name": "stdout",
     "output_type": "stream",
     "text": [
      "105it [00:01, 81.92it/s, bound:2 nc: 18 ncall:1.5e+03 eff:7.0% logz=515.61+/-0.34 dlogz:0.136>0.1]"
     ]
    },
    {
     "name": "stderr",
     "output_type": "stream",
     "text": [
      "23:22 bilby INFO    : Written checkpoint file outdir/calibration_example_resume.pickle\n"
     ]
    },
    {
     "name": "stdout",
     "output_type": "stream",
     "text": [
      "111it [00:03, 32.90it/s, bound:2 nc:  1 ncall:1.6e+03 eff:8.1% logz=515.74+/-0.33 dlogz:0.00433>0.1]"
     ]
    },
    {
     "name": "stderr",
     "output_type": "stream",
     "text": [
      "23:22 bilby INFO    : Rejection sampling nested samples to obtain 50 posterior samples\n",
      "23:22 bilby INFO    : Sampling time: 0:00:03.343310\n",
      "23:22 bilby INFO    : Summary of results:\n",
      "nsamples: 50\n",
      "ln_noise_evidence:    nan\n",
      "ln_evidence: 515.737 +/-  0.373\n",
      "ln_bayes_factor:    nan +/-  0.373\n",
      "\n",
      "23:22 bilby INFO    : Running for label 'calibration_example', output will be saved to 'outdir'\n"
     ]
    },
    {
     "name": "stdout",
     "output_type": "stream",
     "text": [
      "\n",
      "\n",
      "n = 1\n"
     ]
    },
    {
     "name": "stderr",
     "output_type": "stream",
     "text": [
      "23:22 bilby INFO    : Analysis priors:\n",
      "23:22 bilby INFO    : n_gauss=DiscreteUniform(minimum=1, maximum=4, name='n_gauss', latex_label='n_gauss', unit=None, boundary=None)\n",
      "23:22 bilby INFO    : mu0=TransdimensionalConditionalUniform(name='mu0', componant_function_number=np.int64(0), nested_conditional_transdimensional_params=['mu'], conditional_transdimensional_params=[], conditional_params=['n_gauss'], debug_print_out=True, latex_label='mu0', unit=None, boundary=None, minimum=0, maximum=100)\n",
      "23:22 bilby INFO    : mu1=TransdimensionalConditionalUniform(name='mu1', componant_function_number=np.int64(1), nested_conditional_transdimensional_params=['mu'], conditional_transdimensional_params=[], conditional_params=['n_gauss'], debug_print_out=True, latex_label='mu1', unit=None, boundary=None, minimum=0, maximum=100)\n",
      "23:22 bilby INFO    : mu2=TransdimensionalConditionalUniform(name='mu2', componant_function_number=np.int64(2), nested_conditional_transdimensional_params=['mu'], conditional_transdimensional_params=[], conditional_params=['n_gauss'], debug_print_out=True, latex_label='mu2', unit=None, boundary=None, minimum=0, maximum=100)\n",
      "23:22 bilby INFO    : mu3=TransdimensionalConditionalUniform(name='mu3', componant_function_number=np.int64(3), nested_conditional_transdimensional_params=['mu'], conditional_transdimensional_params=[], conditional_params=['n_gauss'], debug_print_out=True, latex_label='mu3', unit=None, boundary=None, minimum=0, maximum=100)\n",
      "23:22 bilby INFO    : sigma_g=10\n",
      "23:22 bilby INFO    : Analysis likelihood class: <class 'bilby.core.likelihood.GaussianLikelihood'>\n",
      "23:22 bilby INFO    : Analysis likelihood noise evidence: nan\n",
      "23:22 bilby INFO    : Single likelihood evaluation took 7.046e-04 s\n",
      "23:22 bilby INFO    : Using sampler Dynesty with kwargs {'nlive': 20, 'bound': 'live', 'sample': 'act-walk', 'periodic': None, 'reflective': None, 'update_interval': 600, 'first_update': None, 'npdim': None, 'rstate': None, 'queue_size': 1, 'pool': None, 'use_pool': None, 'live_points': None, 'logl_args': None, 'logl_kwargs': None, 'ptform_args': None, 'ptform_kwargs': None, 'gradient': None, 'grad_args': None, 'grad_kwargs': None, 'compute_jac': False, 'enlarge': None, 'bootstrap': None, 'walks': 100, 'facc': 0.2, 'slices': None, 'fmove': 0.9, 'max_move': 100, 'update_func': None, 'ncdim': None, 'blob': False, 'save_history': False, 'history_filename': None, 'maxiter': None, 'maxcall': None, 'dlogz': 0.1, 'logl_max': inf, 'n_effective': None, 'add_live': True, 'print_progress': True, 'print_func': <bound method Dynesty._print_func of <bilby.core.sampler.dynesty.Dynesty object at 0x35d9aff50>>, 'save_bounds': False, 'checkpoint_file': None, 'checkpoint_every': 60, 'resume': False, 'seed': None}\n",
      "23:22 bilby INFO    : Global meta data was removed from the result object for compatibility. Use the `BILBY_INCLUDE_GLOBAL_METADATA` environment variable to include it. This behaviour will be removed in a future release. For more details see: https://bilby-dev.github.io/bilby/faq.html#global-meta-data\n",
      "23:22 bilby INFO    : Checkpoint every check_point_delta_t = 600s\n",
      "23:22 bilby INFO    : Using dynesty version 2.1.5\n",
      "23:22 bilby INFO    : Using the bilby-implemented act-walk sampling tracking the autocorrelation function and thinning by 2 with maximum length 10000\n",
      "23:22 bilby INFO    : Generating initial points from the prior\n"
     ]
    },
    {
     "name": "stdout",
     "output_type": "stream",
     "text": [
      "143it [00:09,  6.35it/s, bound:6 nc:432 ncall:3.9e+03 eff:3.7% logz=464.13+/-0.39 dlogz:0.103>0.1]"
     ]
    },
    {
     "name": "stderr",
     "output_type": "stream",
     "text": [
      "23:22 bilby INFO    : Written checkpoint file outdir/calibration_example_resume.pickle\n"
     ]
    },
    {
     "name": "stdout",
     "output_type": "stream",
     "text": [
      "143it [00:10, 13.90it/s, bound:6 nc:  1 ncall:3.9e+03 eff:4.2% logz=464.19+/-0.39 dlogz:0.00466>0.1]"
     ]
    },
    {
     "name": "stderr",
     "output_type": "stream",
     "text": [
      "23:22 bilby INFO    : Rejection sampling nested samples to obtain 48 posterior samples\n",
      "23:22 bilby INFO    : Sampling time: 0:00:10.212482\n",
      "23:22 bilby INFO    : Summary of results:\n",
      "nsamples: 48\n",
      "ln_noise_evidence:    nan\n",
      "ln_evidence: 464.186 +/-  0.428\n",
      "ln_bayes_factor:    nan +/-  0.428\n",
      "\n",
      "23:22 bilby INFO    : Running for label 'calibration_example', output will be saved to 'outdir'\n"
     ]
    },
    {
     "name": "stdout",
     "output_type": "stream",
     "text": [
      "\n",
      "\n",
      "n = 1\n"
     ]
    },
    {
     "name": "stderr",
     "output_type": "stream",
     "text": [
      "23:22 bilby INFO    : Analysis priors:\n",
      "23:22 bilby INFO    : n_gauss=DiscreteUniform(minimum=1, maximum=4, name='n_gauss', latex_label='n_gauss', unit=None, boundary=None)\n",
      "23:22 bilby INFO    : mu0=TransdimensionalConditionalUniform(name='mu0', componant_function_number=np.int64(0), nested_conditional_transdimensional_params=['mu'], conditional_transdimensional_params=[], conditional_params=['n_gauss'], debug_print_out=True, latex_label='mu0', unit=None, boundary=None, minimum=0, maximum=100)\n",
      "23:22 bilby INFO    : mu1=TransdimensionalConditionalUniform(name='mu1', componant_function_number=np.int64(1), nested_conditional_transdimensional_params=['mu'], conditional_transdimensional_params=[], conditional_params=['n_gauss'], debug_print_out=True, latex_label='mu1', unit=None, boundary=None, minimum=0, maximum=100)\n",
      "23:22 bilby INFO    : mu2=TransdimensionalConditionalUniform(name='mu2', componant_function_number=np.int64(2), nested_conditional_transdimensional_params=['mu'], conditional_transdimensional_params=[], conditional_params=['n_gauss'], debug_print_out=True, latex_label='mu2', unit=None, boundary=None, minimum=0, maximum=100)\n",
      "23:22 bilby INFO    : mu3=TransdimensionalConditionalUniform(name='mu3', componant_function_number=np.int64(3), nested_conditional_transdimensional_params=['mu'], conditional_transdimensional_params=[], conditional_params=['n_gauss'], debug_print_out=True, latex_label='mu3', unit=None, boundary=None, minimum=0, maximum=100)\n",
      "23:22 bilby INFO    : sigma_g=10\n",
      "23:22 bilby INFO    : Analysis likelihood class: <class 'bilby.core.likelihood.GaussianLikelihood'>\n",
      "23:22 bilby INFO    : Analysis likelihood noise evidence: nan\n",
      "23:22 bilby INFO    : Single likelihood evaluation took 7.707e-04 s\n",
      "23:22 bilby INFO    : Using sampler Dynesty with kwargs {'nlive': 20, 'bound': 'live', 'sample': 'act-walk', 'periodic': None, 'reflective': None, 'update_interval': 600, 'first_update': None, 'npdim': None, 'rstate': None, 'queue_size': 1, 'pool': None, 'use_pool': None, 'live_points': None, 'logl_args': None, 'logl_kwargs': None, 'ptform_args': None, 'ptform_kwargs': None, 'gradient': None, 'grad_args': None, 'grad_kwargs': None, 'compute_jac': False, 'enlarge': None, 'bootstrap': None, 'walks': 100, 'facc': 0.2, 'slices': None, 'fmove': 0.9, 'max_move': 100, 'update_func': None, 'ncdim': None, 'blob': False, 'save_history': False, 'history_filename': None, 'maxiter': None, 'maxcall': None, 'dlogz': 0.1, 'logl_max': inf, 'n_effective': None, 'add_live': True, 'print_progress': True, 'print_func': <bound method Dynesty._print_func of <bilby.core.sampler.dynesty.Dynesty object at 0x3761c0590>>, 'save_bounds': False, 'checkpoint_file': None, 'checkpoint_every': 60, 'resume': False, 'seed': None}\n",
      "23:22 bilby INFO    : Global meta data was removed from the result object for compatibility. Use the `BILBY_INCLUDE_GLOBAL_METADATA` environment variable to include it. This behaviour will be removed in a future release. For more details see: https://bilby-dev.github.io/bilby/faq.html#global-meta-data\n",
      "23:22 bilby INFO    : Checkpoint every check_point_delta_t = 600s\n",
      "23:22 bilby INFO    : Using dynesty version 2.1.5\n",
      "23:22 bilby INFO    : Using the bilby-implemented act-walk sampling tracking the autocorrelation function and thinning by 2 with maximum length 10000\n",
      "23:22 bilby INFO    : Generating initial points from the prior\n"
     ]
    },
    {
     "name": "stdout",
     "output_type": "stream",
     "text": [
      "142it [00:03, 29.12it/s, bound:6 nc: 29 ncall:4.2e+03 eff:3.4% logz=489.00+/-0.38 dlogz:0.136>0.1]"
     ]
    },
    {
     "name": "stderr",
     "output_type": "stream",
     "text": [
      "23:22 bilby INFO    : Written checkpoint file outdir/calibration_example_resume.pickle\n"
     ]
    },
    {
     "name": "stdout",
     "output_type": "stream",
     "text": [
      "148it [00:04, 29.88it/s, bound:6 nc:  1 ncall:4.4e+03 eff:3.9% logz=489.08+/-0.39 dlogz:0.00453>0.1]"
     ]
    },
    {
     "name": "stderr",
     "output_type": "stream",
     "text": [
      "23:22 bilby INFO    : Rejection sampling nested samples to obtain 58 posterior samples\n",
      "23:22 bilby INFO    : Sampling time: 0:00:04.919347\n",
      "23:22 bilby INFO    : Summary of results:\n",
      "nsamples: 58\n",
      "ln_noise_evidence:    nan\n",
      "ln_evidence: 489.084 +/-  0.426\n",
      "ln_bayes_factor:    nan +/-  0.426\n",
      "\n",
      "23:22 bilby INFO    : Running for label 'calibration_example', output will be saved to 'outdir'\n"
     ]
    },
    {
     "name": "stdout",
     "output_type": "stream",
     "text": [
      "\n",
      "\n",
      "n = 4\n"
     ]
    },
    {
     "name": "stderr",
     "output_type": "stream",
     "text": [
      "23:22 bilby INFO    : Analysis priors:\n",
      "23:22 bilby INFO    : n_gauss=DiscreteUniform(minimum=1, maximum=4, name='n_gauss', latex_label='n_gauss', unit=None, boundary=None)\n",
      "23:22 bilby INFO    : mu0=TransdimensionalConditionalUniform(name='mu0', componant_function_number=np.int64(0), nested_conditional_transdimensional_params=['mu'], conditional_transdimensional_params=[], conditional_params=['n_gauss'], debug_print_out=True, latex_label='mu0', unit=None, boundary=None, minimum=0, maximum=100)\n",
      "23:22 bilby INFO    : mu1=TransdimensionalConditionalUniform(name='mu1', componant_function_number=np.int64(1), nested_conditional_transdimensional_params=['mu'], conditional_transdimensional_params=[], conditional_params=['n_gauss'], debug_print_out=True, latex_label='mu1', unit=None, boundary=None, minimum=0, maximum=100)\n",
      "23:22 bilby INFO    : mu2=TransdimensionalConditionalUniform(name='mu2', componant_function_number=np.int64(2), nested_conditional_transdimensional_params=['mu'], conditional_transdimensional_params=[], conditional_params=['n_gauss'], debug_print_out=True, latex_label='mu2', unit=None, boundary=None, minimum=0, maximum=100)\n",
      "23:22 bilby INFO    : mu3=TransdimensionalConditionalUniform(name='mu3', componant_function_number=np.int64(3), nested_conditional_transdimensional_params=['mu'], conditional_transdimensional_params=[], conditional_params=['n_gauss'], debug_print_out=True, latex_label='mu3', unit=None, boundary=None, minimum=0, maximum=100)\n",
      "23:22 bilby INFO    : sigma_g=10\n",
      "23:22 bilby INFO    : Analysis likelihood class: <class 'bilby.core.likelihood.GaussianLikelihood'>\n",
      "23:22 bilby INFO    : Analysis likelihood noise evidence: nan\n",
      "23:22 bilby INFO    : Single likelihood evaluation took 7.847e-04 s\n",
      "23:22 bilby INFO    : Using sampler Dynesty with kwargs {'nlive': 20, 'bound': 'live', 'sample': 'act-walk', 'periodic': None, 'reflective': None, 'update_interval': 600, 'first_update': None, 'npdim': None, 'rstate': None, 'queue_size': 1, 'pool': None, 'use_pool': None, 'live_points': None, 'logl_args': None, 'logl_kwargs': None, 'ptform_args': None, 'ptform_kwargs': None, 'gradient': None, 'grad_args': None, 'grad_kwargs': None, 'compute_jac': False, 'enlarge': None, 'bootstrap': None, 'walks': 100, 'facc': 0.2, 'slices': None, 'fmove': 0.9, 'max_move': 100, 'update_func': None, 'ncdim': None, 'blob': False, 'save_history': False, 'history_filename': None, 'maxiter': None, 'maxcall': None, 'dlogz': 0.1, 'logl_max': inf, 'n_effective': None, 'add_live': True, 'print_progress': True, 'print_func': <bound method Dynesty._print_func of <bilby.core.sampler.dynesty.Dynesty object at 0x377665750>>, 'save_bounds': False, 'checkpoint_file': None, 'checkpoint_every': 60, 'resume': False, 'seed': None}\n",
      "23:22 bilby INFO    : Global meta data was removed from the result object for compatibility. Use the `BILBY_INCLUDE_GLOBAL_METADATA` environment variable to include it. This behaviour will be removed in a future release. For more details see: https://bilby-dev.github.io/bilby/faq.html#global-meta-data\n",
      "23:22 bilby INFO    : Checkpoint every check_point_delta_t = 600s\n",
      "23:22 bilby INFO    : Using dynesty version 2.1.5\n",
      "23:22 bilby INFO    : Using the bilby-implemented act-walk sampling tracking the autocorrelation function and thinning by 2 with maximum length 10000\n",
      "23:22 bilby INFO    : Generating initial points from the prior\n"
     ]
    },
    {
     "name": "stdout",
     "output_type": "stream",
     "text": [
      "230it [00:09, 19.88it/s, bound:10 nc: 25 ncall:6.8e+03 eff:3.4% logz=493.97+/-0.62 dlogz:0.162>0.1]"
     ]
    },
    {
     "name": "stderr",
     "output_type": "stream",
     "text": [
      "23:23 bilby INFO    : Written checkpoint file outdir/calibration_example_resume.pickle\n"
     ]
    },
    {
     "name": "stdout",
     "output_type": "stream",
     "text": [
      "240it [00:11, 21.42it/s, bound:10 nc:  1 ncall:7.1e+03 eff:3.7% logz=494.11+/-0.63 dlogz:0.00437>0.1]"
     ]
    },
    {
     "name": "stderr",
     "output_type": "stream",
     "text": [
      "23:23 bilby INFO    : Rejection sampling nested samples to obtain 57 posterior samples\n",
      "23:23 bilby INFO    : Sampling time: 0:00:11.159531\n",
      "23:23 bilby INFO    : Summary of results:\n",
      "nsamples: 57\n",
      "ln_noise_evidence:    nan\n",
      "ln_evidence: 494.112 +/-  0.686\n",
      "ln_bayes_factor:    nan +/-  0.686\n",
      "\n",
      "23:23 bilby INFO    : Running for label 'calibration_example', output will be saved to 'outdir'\n"
     ]
    },
    {
     "name": "stdout",
     "output_type": "stream",
     "text": [
      "\n",
      "\n",
      "n = 2\n"
     ]
    },
    {
     "name": "stderr",
     "output_type": "stream",
     "text": [
      "23:23 bilby INFO    : Analysis priors:\n",
      "23:23 bilby INFO    : n_gauss=DiscreteUniform(minimum=1, maximum=4, name='n_gauss', latex_label='n_gauss', unit=None, boundary=None)\n",
      "23:23 bilby INFO    : mu0=TransdimensionalConditionalUniform(name='mu0', componant_function_number=np.int64(0), nested_conditional_transdimensional_params=['mu'], conditional_transdimensional_params=[], conditional_params=['n_gauss'], debug_print_out=True, latex_label='mu0', unit=None, boundary=None, minimum=0, maximum=100)\n",
      "23:23 bilby INFO    : mu1=TransdimensionalConditionalUniform(name='mu1', componant_function_number=np.int64(1), nested_conditional_transdimensional_params=['mu'], conditional_transdimensional_params=[], conditional_params=['n_gauss'], debug_print_out=True, latex_label='mu1', unit=None, boundary=None, minimum=0, maximum=100)\n",
      "23:23 bilby INFO    : mu2=TransdimensionalConditionalUniform(name='mu2', componant_function_number=np.int64(2), nested_conditional_transdimensional_params=['mu'], conditional_transdimensional_params=[], conditional_params=['n_gauss'], debug_print_out=True, latex_label='mu2', unit=None, boundary=None, minimum=0, maximum=100)\n",
      "23:23 bilby INFO    : mu3=TransdimensionalConditionalUniform(name='mu3', componant_function_number=np.int64(3), nested_conditional_transdimensional_params=['mu'], conditional_transdimensional_params=[], conditional_params=['n_gauss'], debug_print_out=True, latex_label='mu3', unit=None, boundary=None, minimum=0, maximum=100)\n",
      "23:23 bilby INFO    : sigma_g=10\n",
      "23:23 bilby INFO    : Analysis likelihood class: <class 'bilby.core.likelihood.GaussianLikelihood'>\n",
      "23:23 bilby INFO    : Analysis likelihood noise evidence: nan\n",
      "23:23 bilby INFO    : Single likelihood evaluation took 7.181e-04 s\n",
      "23:23 bilby INFO    : Using sampler Dynesty with kwargs {'nlive': 20, 'bound': 'live', 'sample': 'act-walk', 'periodic': None, 'reflective': None, 'update_interval': 600, 'first_update': None, 'npdim': None, 'rstate': None, 'queue_size': 1, 'pool': None, 'use_pool': None, 'live_points': None, 'logl_args': None, 'logl_kwargs': None, 'ptform_args': None, 'ptform_kwargs': None, 'gradient': None, 'grad_args': None, 'grad_kwargs': None, 'compute_jac': False, 'enlarge': None, 'bootstrap': None, 'walks': 100, 'facc': 0.2, 'slices': None, 'fmove': 0.9, 'max_move': 100, 'update_func': None, 'ncdim': None, 'blob': False, 'save_history': False, 'history_filename': None, 'maxiter': None, 'maxcall': None, 'dlogz': 0.1, 'logl_max': inf, 'n_effective': None, 'add_live': True, 'print_progress': True, 'print_func': <bound method Dynesty._print_func of <bilby.core.sampler.dynesty.Dynesty object at 0x378c21650>>, 'save_bounds': False, 'checkpoint_file': None, 'checkpoint_every': 60, 'resume': False, 'seed': None}\n",
      "23:23 bilby INFO    : Global meta data was removed from the result object for compatibility. Use the `BILBY_INCLUDE_GLOBAL_METADATA` environment variable to include it. This behaviour will be removed in a future release. For more details see: https://bilby-dev.github.io/bilby/faq.html#global-meta-data\n",
      "23:23 bilby INFO    : Checkpoint every check_point_delta_t = 600s\n",
      "23:23 bilby INFO    : Using dynesty version 2.1.5\n",
      "23:23 bilby INFO    : Using the bilby-implemented act-walk sampling tracking the autocorrelation function and thinning by 2 with maximum length 10000\n",
      "23:23 bilby INFO    : Generating initial points from the prior\n"
     ]
    },
    {
     "name": "stdout",
     "output_type": "stream",
     "text": [
      "147it [00:02, 46.95it/s, bound:4 nc: 25 ncall:2.8e+03 eff:5.3% logz=434.66+/-0.43 dlogz:0.107>0.1]"
     ]
    },
    {
     "name": "stderr",
     "output_type": "stream",
     "text": [
      "23:23 bilby INFO    : Written checkpoint file outdir/calibration_example_resume.pickle\n"
     ]
    },
    {
     "name": "stdout",
     "output_type": "stream",
     "text": [
      "148it [00:03, 38.00it/s, bound:4 nc:  1 ncall:2.8e+03 eff:6.0% logz=434.75+/-0.43 dlogz:0.00442>0.1]"
     ]
    },
    {
     "name": "stderr",
     "output_type": "stream",
     "text": [
      "23:23 bilby INFO    : Rejection sampling nested samples to obtain 57 posterior samples\n",
      "23:23 bilby INFO    : Sampling time: 0:00:03.868333\n",
      "23:23 bilby INFO    : Summary of results:\n",
      "nsamples: 57\n",
      "ln_noise_evidence:    nan\n",
      "ln_evidence: 434.751 +/-  0.477\n",
      "ln_bayes_factor:    nan +/-  0.477\n",
      "\n",
      "23:23 bilby INFO    : Running for label 'calibration_example', output will be saved to 'outdir'\n"
     ]
    },
    {
     "name": "stdout",
     "output_type": "stream",
     "text": [
      "\n",
      "\n",
      "n = 4\n"
     ]
    },
    {
     "name": "stderr",
     "output_type": "stream",
     "text": [
      "23:23 bilby INFO    : Analysis priors:\n",
      "23:23 bilby INFO    : n_gauss=DiscreteUniform(minimum=1, maximum=4, name='n_gauss', latex_label='n_gauss', unit=None, boundary=None)\n",
      "23:23 bilby INFO    : mu0=TransdimensionalConditionalUniform(name='mu0', componant_function_number=np.int64(0), nested_conditional_transdimensional_params=['mu'], conditional_transdimensional_params=[], conditional_params=['n_gauss'], debug_print_out=True, latex_label='mu0', unit=None, boundary=None, minimum=0, maximum=100)\n",
      "23:23 bilby INFO    : mu1=TransdimensionalConditionalUniform(name='mu1', componant_function_number=np.int64(1), nested_conditional_transdimensional_params=['mu'], conditional_transdimensional_params=[], conditional_params=['n_gauss'], debug_print_out=True, latex_label='mu1', unit=None, boundary=None, minimum=0, maximum=100)\n",
      "23:23 bilby INFO    : mu2=TransdimensionalConditionalUniform(name='mu2', componant_function_number=np.int64(2), nested_conditional_transdimensional_params=['mu'], conditional_transdimensional_params=[], conditional_params=['n_gauss'], debug_print_out=True, latex_label='mu2', unit=None, boundary=None, minimum=0, maximum=100)\n",
      "23:23 bilby INFO    : mu3=TransdimensionalConditionalUniform(name='mu3', componant_function_number=np.int64(3), nested_conditional_transdimensional_params=['mu'], conditional_transdimensional_params=[], conditional_params=['n_gauss'], debug_print_out=True, latex_label='mu3', unit=None, boundary=None, minimum=0, maximum=100)\n",
      "23:23 bilby INFO    : sigma_g=10\n",
      "23:23 bilby INFO    : Analysis likelihood class: <class 'bilby.core.likelihood.GaussianLikelihood'>\n",
      "23:23 bilby INFO    : Analysis likelihood noise evidence: nan\n",
      "23:23 bilby INFO    : Single likelihood evaluation took 7.661e-04 s\n",
      "23:23 bilby INFO    : Using sampler Dynesty with kwargs {'nlive': 20, 'bound': 'live', 'sample': 'act-walk', 'periodic': None, 'reflective': None, 'update_interval': 600, 'first_update': None, 'npdim': None, 'rstate': None, 'queue_size': 1, 'pool': None, 'use_pool': None, 'live_points': None, 'logl_args': None, 'logl_kwargs': None, 'ptform_args': None, 'ptform_kwargs': None, 'gradient': None, 'grad_args': None, 'grad_kwargs': None, 'compute_jac': False, 'enlarge': None, 'bootstrap': None, 'walks': 100, 'facc': 0.2, 'slices': None, 'fmove': 0.9, 'max_move': 100, 'update_func': None, 'ncdim': None, 'blob': False, 'save_history': False, 'history_filename': None, 'maxiter': None, 'maxcall': None, 'dlogz': 0.1, 'logl_max': inf, 'n_effective': None, 'add_live': True, 'print_progress': True, 'print_func': <bound method Dynesty._print_func of <bilby.core.sampler.dynesty.Dynesty object at 0x37a980250>>, 'save_bounds': False, 'checkpoint_file': None, 'checkpoint_every': 60, 'resume': False, 'seed': None}\n",
      "23:23 bilby INFO    : Global meta data was removed from the result object for compatibility. Use the `BILBY_INCLUDE_GLOBAL_METADATA` environment variable to include it. This behaviour will be removed in a future release. For more details see: https://bilby-dev.github.io/bilby/faq.html#global-meta-data\n",
      "23:23 bilby INFO    : Checkpoint every check_point_delta_t = 600s\n",
      "23:23 bilby INFO    : Using dynesty version 2.1.5\n",
      "23:23 bilby INFO    : Using the bilby-implemented act-walk sampling tracking the autocorrelation function and thinning by 2 with maximum length 10000\n",
      "23:23 bilby INFO    : Generating initial points from the prior\n"
     ]
    },
    {
     "name": "stdout",
     "output_type": "stream",
     "text": [
      "171it [00:09, 12.64it/s, bound:11 nc: 95 ncall:7.2e+03 eff:2.4% logz=488.98+/-0.46 dlogz:0.125>0.1]"
     ]
    },
    {
     "name": "stderr",
     "output_type": "stream",
     "text": [
      "23:23 bilby INFO    : Written checkpoint file outdir/calibration_example_resume.pickle\n"
     ]
    },
    {
     "name": "stdout",
     "output_type": "stream",
     "text": [
      "175it [00:10, 16.37it/s, bound:11 nc:  1 ncall:7.4e+03 eff:2.6% logz=489.08+/-0.47 dlogz:0.00447>0.1]"
     ]
    },
    {
     "name": "stderr",
     "output_type": "stream",
     "text": [
      "23:23 bilby INFO    : Rejection sampling nested samples to obtain 76 posterior samples\n",
      "23:23 bilby INFO    : Sampling time: 0:00:10.626833\n",
      "23:23 bilby INFO    : Summary of results:\n",
      "nsamples: 76\n",
      "ln_noise_evidence:    nan\n",
      "ln_evidence: 489.084 +/-  0.520\n",
      "ln_bayes_factor:    nan +/-  0.520\n",
      "\n",
      "23:23 bilby INFO    : Running for label 'calibration_example', output will be saved to 'outdir'\n"
     ]
    },
    {
     "name": "stdout",
     "output_type": "stream",
     "text": [
      "\n",
      "\n",
      "n = 4\n"
     ]
    },
    {
     "name": "stderr",
     "output_type": "stream",
     "text": [
      "23:23 bilby INFO    : Analysis priors:\n",
      "23:23 bilby INFO    : n_gauss=DiscreteUniform(minimum=1, maximum=4, name='n_gauss', latex_label='n_gauss', unit=None, boundary=None)\n",
      "23:23 bilby INFO    : mu0=TransdimensionalConditionalUniform(name='mu0', componant_function_number=np.int64(0), nested_conditional_transdimensional_params=['mu'], conditional_transdimensional_params=[], conditional_params=['n_gauss'], debug_print_out=True, latex_label='mu0', unit=None, boundary=None, minimum=0, maximum=100)\n",
      "23:23 bilby INFO    : mu1=TransdimensionalConditionalUniform(name='mu1', componant_function_number=np.int64(1), nested_conditional_transdimensional_params=['mu'], conditional_transdimensional_params=[], conditional_params=['n_gauss'], debug_print_out=True, latex_label='mu1', unit=None, boundary=None, minimum=0, maximum=100)\n",
      "23:23 bilby INFO    : mu2=TransdimensionalConditionalUniform(name='mu2', componant_function_number=np.int64(2), nested_conditional_transdimensional_params=['mu'], conditional_transdimensional_params=[], conditional_params=['n_gauss'], debug_print_out=True, latex_label='mu2', unit=None, boundary=None, minimum=0, maximum=100)\n",
      "23:23 bilby INFO    : mu3=TransdimensionalConditionalUniform(name='mu3', componant_function_number=np.int64(3), nested_conditional_transdimensional_params=['mu'], conditional_transdimensional_params=[], conditional_params=['n_gauss'], debug_print_out=True, latex_label='mu3', unit=None, boundary=None, minimum=0, maximum=100)\n",
      "23:23 bilby INFO    : sigma_g=10\n",
      "23:23 bilby INFO    : Analysis likelihood class: <class 'bilby.core.likelihood.GaussianLikelihood'>\n",
      "23:23 bilby INFO    : Analysis likelihood noise evidence: nan\n",
      "23:23 bilby INFO    : Single likelihood evaluation took 8.281e-04 s\n",
      "23:23 bilby INFO    : Using sampler Dynesty with kwargs {'nlive': 20, 'bound': 'live', 'sample': 'act-walk', 'periodic': None, 'reflective': None, 'update_interval': 600, 'first_update': None, 'npdim': None, 'rstate': None, 'queue_size': 1, 'pool': None, 'use_pool': None, 'live_points': None, 'logl_args': None, 'logl_kwargs': None, 'ptform_args': None, 'ptform_kwargs': None, 'gradient': None, 'grad_args': None, 'grad_kwargs': None, 'compute_jac': False, 'enlarge': None, 'bootstrap': None, 'walks': 100, 'facc': 0.2, 'slices': None, 'fmove': 0.9, 'max_move': 100, 'update_func': None, 'ncdim': None, 'blob': False, 'save_history': False, 'history_filename': None, 'maxiter': None, 'maxcall': None, 'dlogz': 0.1, 'logl_max': inf, 'n_effective': None, 'add_live': True, 'print_progress': True, 'print_func': <bound method Dynesty._print_func of <bilby.core.sampler.dynesty.Dynesty object at 0x37bab2550>>, 'save_bounds': False, 'checkpoint_file': None, 'checkpoint_every': 60, 'resume': False, 'seed': None}\n",
      "23:23 bilby INFO    : Global meta data was removed from the result object for compatibility. Use the `BILBY_INCLUDE_GLOBAL_METADATA` environment variable to include it. This behaviour will be removed in a future release. For more details see: https://bilby-dev.github.io/bilby/faq.html#global-meta-data\n",
      "23:23 bilby INFO    : Checkpoint every check_point_delta_t = 600s\n",
      "23:23 bilby INFO    : Using dynesty version 2.1.5\n",
      "23:23 bilby INFO    : Using the bilby-implemented act-walk sampling tracking the autocorrelation function and thinning by 2 with maximum length 10000\n",
      "23:23 bilby INFO    : Generating initial points from the prior\n"
     ]
    },
    {
     "name": "stdout",
     "output_type": "stream",
     "text": [
      "168it [00:14,  6.25it/s, bound:12 nc:216 ncall:7.9e+03 eff:2.1% logz=474.26+/-0.48 dlogz:0.136>0.1]"
     ]
    },
    {
     "name": "stderr",
     "output_type": "stream",
     "text": [
      "23:23 bilby INFO    : Written checkpoint file outdir/calibration_example_resume.pickle\n"
     ]
    },
    {
     "name": "stdout",
     "output_type": "stream",
     "text": [
      "173it [00:16, 10.74it/s, bound:13 nc:  1 ncall:9.0e+03 eff:2.1% logz=474.37+/-0.49 dlogz:0.00457>0.1]"
     ]
    },
    {
     "name": "stderr",
     "output_type": "stream",
     "text": [
      "23:23 bilby INFO    : Rejection sampling nested samples to obtain 56 posterior samples\n",
      "23:23 bilby INFO    : Sampling time: 0:00:16.018385\n",
      "23:23 bilby INFO    : Summary of results:\n",
      "nsamples: 56\n",
      "ln_noise_evidence:    nan\n",
      "ln_evidence: 474.371 +/-  0.540\n",
      "ln_bayes_factor:    nan +/-  0.540\n",
      "\n",
      "23:23 bilby INFO    : Running for label 'calibration_example', output will be saved to 'outdir'\n"
     ]
    },
    {
     "name": "stdout",
     "output_type": "stream",
     "text": [
      "\n",
      "\n",
      "n = 2\n"
     ]
    },
    {
     "name": "stderr",
     "output_type": "stream",
     "text": [
      "23:23 bilby INFO    : Analysis priors:\n",
      "23:23 bilby INFO    : n_gauss=DiscreteUniform(minimum=1, maximum=4, name='n_gauss', latex_label='n_gauss', unit=None, boundary=None)\n",
      "23:23 bilby INFO    : mu0=TransdimensionalConditionalUniform(name='mu0', componant_function_number=np.int64(0), nested_conditional_transdimensional_params=['mu'], conditional_transdimensional_params=[], conditional_params=['n_gauss'], debug_print_out=True, latex_label='mu0', unit=None, boundary=None, minimum=0, maximum=100)\n",
      "23:23 bilby INFO    : mu1=TransdimensionalConditionalUniform(name='mu1', componant_function_number=np.int64(1), nested_conditional_transdimensional_params=['mu'], conditional_transdimensional_params=[], conditional_params=['n_gauss'], debug_print_out=True, latex_label='mu1', unit=None, boundary=None, minimum=0, maximum=100)\n",
      "23:23 bilby INFO    : mu2=TransdimensionalConditionalUniform(name='mu2', componant_function_number=np.int64(2), nested_conditional_transdimensional_params=['mu'], conditional_transdimensional_params=[], conditional_params=['n_gauss'], debug_print_out=True, latex_label='mu2', unit=None, boundary=None, minimum=0, maximum=100)\n",
      "23:23 bilby INFO    : mu3=TransdimensionalConditionalUniform(name='mu3', componant_function_number=np.int64(3), nested_conditional_transdimensional_params=['mu'], conditional_transdimensional_params=[], conditional_params=['n_gauss'], debug_print_out=True, latex_label='mu3', unit=None, boundary=None, minimum=0, maximum=100)\n",
      "23:23 bilby INFO    : sigma_g=10\n",
      "23:23 bilby INFO    : Analysis likelihood class: <class 'bilby.core.likelihood.GaussianLikelihood'>\n",
      "23:23 bilby INFO    : Analysis likelihood noise evidence: nan\n",
      "23:23 bilby INFO    : Single likelihood evaluation took 8.036e-04 s\n",
      "23:23 bilby INFO    : Using sampler Dynesty with kwargs {'nlive': 20, 'bound': 'live', 'sample': 'act-walk', 'periodic': None, 'reflective': None, 'update_interval': 600, 'first_update': None, 'npdim': None, 'rstate': None, 'queue_size': 1, 'pool': None, 'use_pool': None, 'live_points': None, 'logl_args': None, 'logl_kwargs': None, 'ptform_args': None, 'ptform_kwargs': None, 'gradient': None, 'grad_args': None, 'grad_kwargs': None, 'compute_jac': False, 'enlarge': None, 'bootstrap': None, 'walks': 100, 'facc': 0.2, 'slices': None, 'fmove': 0.9, 'max_move': 100, 'update_func': None, 'ncdim': None, 'blob': False, 'save_history': False, 'history_filename': None, 'maxiter': None, 'maxcall': None, 'dlogz': 0.1, 'logl_max': inf, 'n_effective': None, 'add_live': True, 'print_progress': True, 'print_func': <bound method Dynesty._print_func of <bilby.core.sampler.dynesty.Dynesty object at 0x37cb4b190>>, 'save_bounds': False, 'checkpoint_file': None, 'checkpoint_every': 60, 'resume': False, 'seed': None}\n",
      "23:23 bilby INFO    : Global meta data was removed from the result object for compatibility. Use the `BILBY_INCLUDE_GLOBAL_METADATA` environment variable to include it. This behaviour will be removed in a future release. For more details see: https://bilby-dev.github.io/bilby/faq.html#global-meta-data\n",
      "23:23 bilby INFO    : Checkpoint every check_point_delta_t = 600s\n",
      "23:23 bilby INFO    : Using dynesty version 2.1.5\n",
      "23:23 bilby INFO    : Using the bilby-implemented act-walk sampling tracking the autocorrelation function and thinning by 2 with maximum length 10000\n",
      "23:23 bilby INFO    : Generating initial points from the prior\n"
     ]
    },
    {
     "name": "stdout",
     "output_type": "stream",
     "text": [
      "181it [00:07, 22.72it/s, bound:11 nc: 49 ncall:7.2e+03 eff:2.5% logz=484.62+/-0.51 dlogz:0.114>0.1]"
     ]
    },
    {
     "name": "stderr",
     "output_type": "stream",
     "text": [
      "23:23 bilby INFO    : Written checkpoint file outdir/calibration_example_resume.pickle\n"
     ]
    },
    {
     "name": "stdout",
     "output_type": "stream",
     "text": [
      "183it [00:08, 20.55it/s, bound:11 nc:  1 ncall:7.3e+03 eff:2.8% logz=484.72+/-0.51 dlogz:0.00448>0.1]"
     ]
    },
    {
     "name": "stderr",
     "output_type": "stream",
     "text": [
      "23:23 bilby INFO    : Rejection sampling nested samples to obtain 50 posterior samples\n",
      "23:23 bilby INFO    : Sampling time: 0:00:08.856188\n",
      "23:23 bilby INFO    : Summary of results:\n",
      "nsamples: 50\n",
      "ln_noise_evidence:    nan\n",
      "ln_evidence: 484.719 +/-  0.563\n",
      "ln_bayes_factor:    nan +/-  0.563\n",
      "\n",
      "23:23 bilby INFO    : Running for label 'calibration_example', output will be saved to 'outdir'\n"
     ]
    },
    {
     "name": "stdout",
     "output_type": "stream",
     "text": [
      "\n",
      "\n",
      "n = 4\n"
     ]
    },
    {
     "name": "stderr",
     "output_type": "stream",
     "text": [
      "23:23 bilby INFO    : Analysis priors:\n",
      "23:23 bilby INFO    : n_gauss=DiscreteUniform(minimum=1, maximum=4, name='n_gauss', latex_label='n_gauss', unit=None, boundary=None)\n",
      "23:23 bilby INFO    : mu0=TransdimensionalConditionalUniform(name='mu0', componant_function_number=np.int64(0), nested_conditional_transdimensional_params=['mu'], conditional_transdimensional_params=[], conditional_params=['n_gauss'], debug_print_out=True, latex_label='mu0', unit=None, boundary=None, minimum=0, maximum=100)\n",
      "23:23 bilby INFO    : mu1=TransdimensionalConditionalUniform(name='mu1', componant_function_number=np.int64(1), nested_conditional_transdimensional_params=['mu'], conditional_transdimensional_params=[], conditional_params=['n_gauss'], debug_print_out=True, latex_label='mu1', unit=None, boundary=None, minimum=0, maximum=100)\n",
      "23:23 bilby INFO    : mu2=TransdimensionalConditionalUniform(name='mu2', componant_function_number=np.int64(2), nested_conditional_transdimensional_params=['mu'], conditional_transdimensional_params=[], conditional_params=['n_gauss'], debug_print_out=True, latex_label='mu2', unit=None, boundary=None, minimum=0, maximum=100)\n",
      "23:23 bilby INFO    : mu3=TransdimensionalConditionalUniform(name='mu3', componant_function_number=np.int64(3), nested_conditional_transdimensional_params=['mu'], conditional_transdimensional_params=[], conditional_params=['n_gauss'], debug_print_out=True, latex_label='mu3', unit=None, boundary=None, minimum=0, maximum=100)\n",
      "23:23 bilby INFO    : sigma_g=10\n",
      "23:23 bilby INFO    : Analysis likelihood class: <class 'bilby.core.likelihood.GaussianLikelihood'>\n",
      "23:23 bilby INFO    : Analysis likelihood noise evidence: nan\n",
      "23:23 bilby INFO    : Single likelihood evaluation took 7.407e-04 s\n",
      "23:23 bilby INFO    : Using sampler Dynesty with kwargs {'nlive': 20, 'bound': 'live', 'sample': 'act-walk', 'periodic': None, 'reflective': None, 'update_interval': 600, 'first_update': None, 'npdim': None, 'rstate': None, 'queue_size': 1, 'pool': None, 'use_pool': None, 'live_points': None, 'logl_args': None, 'logl_kwargs': None, 'ptform_args': None, 'ptform_kwargs': None, 'gradient': None, 'grad_args': None, 'grad_kwargs': None, 'compute_jac': False, 'enlarge': None, 'bootstrap': None, 'walks': 100, 'facc': 0.2, 'slices': None, 'fmove': 0.9, 'max_move': 100, 'update_func': None, 'ncdim': None, 'blob': False, 'save_history': False, 'history_filename': None, 'maxiter': None, 'maxcall': None, 'dlogz': 0.1, 'logl_max': inf, 'n_effective': None, 'add_live': True, 'print_progress': True, 'print_func': <bound method Dynesty._print_func of <bilby.core.sampler.dynesty.Dynesty object at 0x37e934310>>, 'save_bounds': False, 'checkpoint_file': None, 'checkpoint_every': 60, 'resume': False, 'seed': None}\n",
      "23:23 bilby INFO    : Global meta data was removed from the result object for compatibility. Use the `BILBY_INCLUDE_GLOBAL_METADATA` environment variable to include it. This behaviour will be removed in a future release. For more details see: https://bilby-dev.github.io/bilby/faq.html#global-meta-data\n",
      "23:23 bilby INFO    : Checkpoint every check_point_delta_t = 600s\n",
      "23:23 bilby INFO    : Using dynesty version 2.1.5\n",
      "23:23 bilby INFO    : Using the bilby-implemented act-walk sampling tracking the autocorrelation function and thinning by 2 with maximum length 10000\n",
      "23:23 bilby INFO    : Generating initial points from the prior\n"
     ]
    },
    {
     "name": "stdout",
     "output_type": "stream",
     "text": [
      "182it [00:13, 12.38it/s, bound:12 nc: 53 ncall:8.2e+03 eff:2.2% logz=460.40+/-0.48 dlogz:0.197>0.1]"
     ]
    },
    {
     "name": "stderr",
     "output_type": "stream",
     "text": [
      "23:24 bilby INFO    : Written checkpoint file outdir/calibration_example_resume.pickle\n"
     ]
    },
    {
     "name": "stdout",
     "output_type": "stream",
     "text": [
      "196it [00:14, 13.14it/s, bound:14 nc:  1 ncall:9.0e+03 eff:2.4% logz=460.53+/-0.50 dlogz:0.00452>0.1]"
     ]
    },
    {
     "name": "stderr",
     "output_type": "stream",
     "text": [
      "23:24 bilby INFO    : Rejection sampling nested samples to obtain 80 posterior samples\n",
      "23:24 bilby INFO    : Sampling time: 0:00:14.843295\n",
      "23:24 bilby INFO    : Summary of results:\n",
      "nsamples: 80\n",
      "ln_noise_evidence:    nan\n",
      "ln_evidence: 460.534 +/-  0.544\n",
      "ln_bayes_factor:    nan +/-  0.544\n",
      "\n",
      "23:24 bilby INFO    : Running for label 'calibration_example', output will be saved to 'outdir'\n"
     ]
    },
    {
     "name": "stdout",
     "output_type": "stream",
     "text": [
      "\n",
      "\n",
      "n = 2\n"
     ]
    },
    {
     "name": "stderr",
     "output_type": "stream",
     "text": [
      "23:24 bilby INFO    : Analysis priors:\n",
      "23:24 bilby INFO    : n_gauss=DiscreteUniform(minimum=1, maximum=4, name='n_gauss', latex_label='n_gauss', unit=None, boundary=None)\n",
      "23:24 bilby INFO    : mu0=TransdimensionalConditionalUniform(name='mu0', componant_function_number=np.int64(0), nested_conditional_transdimensional_params=['mu'], conditional_transdimensional_params=[], conditional_params=['n_gauss'], debug_print_out=True, latex_label='mu0', unit=None, boundary=None, minimum=0, maximum=100)\n",
      "23:24 bilby INFO    : mu1=TransdimensionalConditionalUniform(name='mu1', componant_function_number=np.int64(1), nested_conditional_transdimensional_params=['mu'], conditional_transdimensional_params=[], conditional_params=['n_gauss'], debug_print_out=True, latex_label='mu1', unit=None, boundary=None, minimum=0, maximum=100)\n",
      "23:24 bilby INFO    : mu2=TransdimensionalConditionalUniform(name='mu2', componant_function_number=np.int64(2), nested_conditional_transdimensional_params=['mu'], conditional_transdimensional_params=[], conditional_params=['n_gauss'], debug_print_out=True, latex_label='mu2', unit=None, boundary=None, minimum=0, maximum=100)\n",
      "23:24 bilby INFO    : mu3=TransdimensionalConditionalUniform(name='mu3', componant_function_number=np.int64(3), nested_conditional_transdimensional_params=['mu'], conditional_transdimensional_params=[], conditional_params=['n_gauss'], debug_print_out=True, latex_label='mu3', unit=None, boundary=None, minimum=0, maximum=100)\n",
      "23:24 bilby INFO    : sigma_g=10\n",
      "23:24 bilby INFO    : Analysis likelihood class: <class 'bilby.core.likelihood.GaussianLikelihood'>\n",
      "23:24 bilby INFO    : Analysis likelihood noise evidence: nan\n",
      "23:24 bilby INFO    : Single likelihood evaluation took 7.693e-04 s\n",
      "23:24 bilby INFO    : Using sampler Dynesty with kwargs {'nlive': 20, 'bound': 'live', 'sample': 'act-walk', 'periodic': None, 'reflective': None, 'update_interval': 600, 'first_update': None, 'npdim': None, 'rstate': None, 'queue_size': 1, 'pool': None, 'use_pool': None, 'live_points': None, 'logl_args': None, 'logl_kwargs': None, 'ptform_args': None, 'ptform_kwargs': None, 'gradient': None, 'grad_args': None, 'grad_kwargs': None, 'compute_jac': False, 'enlarge': None, 'bootstrap': None, 'walks': 100, 'facc': 0.2, 'slices': None, 'fmove': 0.9, 'max_move': 100, 'update_func': None, 'ncdim': None, 'blob': False, 'save_history': False, 'history_filename': None, 'maxiter': None, 'maxcall': None, 'dlogz': 0.1, 'logl_max': inf, 'n_effective': None, 'add_live': True, 'print_progress': True, 'print_func': <bound method Dynesty._print_func of <bilby.core.sampler.dynesty.Dynesty object at 0x382cdbe10>>, 'save_bounds': False, 'checkpoint_file': None, 'checkpoint_every': 60, 'resume': False, 'seed': None}\n",
      "23:24 bilby INFO    : Global meta data was removed from the result object for compatibility. Use the `BILBY_INCLUDE_GLOBAL_METADATA` environment variable to include it. This behaviour will be removed in a future release. For more details see: https://bilby-dev.github.io/bilby/faq.html#global-meta-data\n",
      "23:24 bilby INFO    : Checkpoint every check_point_delta_t = 600s\n",
      "23:24 bilby INFO    : Using dynesty version 2.1.5\n",
      "23:24 bilby INFO    : Using the bilby-implemented act-walk sampling tracking the autocorrelation function and thinning by 2 with maximum length 10000\n",
      "23:24 bilby INFO    : Generating initial points from the prior\n"
     ]
    },
    {
     "name": "stdout",
     "output_type": "stream",
     "text": [
      "176it [00:07, 22.27it/s, bound:11 nc: 48 ncall:7.5e+03 eff:2.4% logz=475.11+/-0.45 dlogz:0.126>0.1]"
     ]
    },
    {
     "name": "stderr",
     "output_type": "stream",
     "text": [
      "23:24 bilby INFO    : Written checkpoint file outdir/calibration_example_resume.pickle\n"
     ]
    },
    {
     "name": "stdout",
     "output_type": "stream",
     "text": [
      "180it [00:08, 20.15it/s, bound:11 nc:  1 ncall:7.7e+03 eff:2.6% logz=475.22+/-0.47 dlogz:0.00447>0.1]"
     ]
    },
    {
     "name": "stderr",
     "output_type": "stream",
     "text": [
      "23:24 bilby INFO    : Rejection sampling nested samples to obtain 83 posterior samples\n",
      "23:24 bilby INFO    : Sampling time: 0:00:08.881820\n",
      "23:24 bilby INFO    : Summary of results:\n",
      "nsamples: 83\n",
      "ln_noise_evidence:    nan\n",
      "ln_evidence: 475.217 +/-  0.518\n",
      "ln_bayes_factor:    nan +/-  0.518\n",
      "\n",
      "23:24 bilby INFO    : Running for label 'calibration_example', output will be saved to 'outdir'\n"
     ]
    },
    {
     "name": "stdout",
     "output_type": "stream",
     "text": [
      "\n",
      "\n",
      "n = 1\n"
     ]
    },
    {
     "name": "stderr",
     "output_type": "stream",
     "text": [
      "23:24 bilby INFO    : Analysis priors:\n",
      "23:24 bilby INFO    : n_gauss=DiscreteUniform(minimum=1, maximum=4, name='n_gauss', latex_label='n_gauss', unit=None, boundary=None)\n",
      "23:24 bilby INFO    : mu0=TransdimensionalConditionalUniform(name='mu0', componant_function_number=np.int64(0), nested_conditional_transdimensional_params=['mu'], conditional_transdimensional_params=[], conditional_params=['n_gauss'], debug_print_out=True, latex_label='mu0', unit=None, boundary=None, minimum=0, maximum=100)\n",
      "23:24 bilby INFO    : mu1=TransdimensionalConditionalUniform(name='mu1', componant_function_number=np.int64(1), nested_conditional_transdimensional_params=['mu'], conditional_transdimensional_params=[], conditional_params=['n_gauss'], debug_print_out=True, latex_label='mu1', unit=None, boundary=None, minimum=0, maximum=100)\n",
      "23:24 bilby INFO    : mu2=TransdimensionalConditionalUniform(name='mu2', componant_function_number=np.int64(2), nested_conditional_transdimensional_params=['mu'], conditional_transdimensional_params=[], conditional_params=['n_gauss'], debug_print_out=True, latex_label='mu2', unit=None, boundary=None, minimum=0, maximum=100)\n",
      "23:24 bilby INFO    : mu3=TransdimensionalConditionalUniform(name='mu3', componant_function_number=np.int64(3), nested_conditional_transdimensional_params=['mu'], conditional_transdimensional_params=[], conditional_params=['n_gauss'], debug_print_out=True, latex_label='mu3', unit=None, boundary=None, minimum=0, maximum=100)\n",
      "23:24 bilby INFO    : sigma_g=10\n",
      "23:24 bilby INFO    : Analysis likelihood class: <class 'bilby.core.likelihood.GaussianLikelihood'>\n",
      "23:24 bilby INFO    : Analysis likelihood noise evidence: nan\n",
      "23:24 bilby INFO    : Single likelihood evaluation took 7.520e-04 s\n",
      "23:24 bilby INFO    : Using sampler Dynesty with kwargs {'nlive': 20, 'bound': 'live', 'sample': 'act-walk', 'periodic': None, 'reflective': None, 'update_interval': 600, 'first_update': None, 'npdim': None, 'rstate': None, 'queue_size': 1, 'pool': None, 'use_pool': None, 'live_points': None, 'logl_args': None, 'logl_kwargs': None, 'ptform_args': None, 'ptform_kwargs': None, 'gradient': None, 'grad_args': None, 'grad_kwargs': None, 'compute_jac': False, 'enlarge': None, 'bootstrap': None, 'walks': 100, 'facc': 0.2, 'slices': None, 'fmove': 0.9, 'max_move': 100, 'update_func': None, 'ncdim': None, 'blob': False, 'save_history': False, 'history_filename': None, 'maxiter': None, 'maxcall': None, 'dlogz': 0.1, 'logl_max': inf, 'n_effective': None, 'add_live': True, 'print_progress': True, 'print_func': <bound method Dynesty._print_func of <bilby.core.sampler.dynesty.Dynesty object at 0x382d52190>>, 'save_bounds': False, 'checkpoint_file': None, 'checkpoint_every': 60, 'resume': False, 'seed': None}\n",
      "23:24 bilby INFO    : Global meta data was removed from the result object for compatibility. Use the `BILBY_INCLUDE_GLOBAL_METADATA` environment variable to include it. This behaviour will be removed in a future release. For more details see: https://bilby-dev.github.io/bilby/faq.html#global-meta-data\n",
      "23:24 bilby INFO    : Checkpoint every check_point_delta_t = 600s\n",
      "23:24 bilby INFO    : Using dynesty version 2.1.5\n",
      "23:24 bilby INFO    : Using the bilby-implemented act-walk sampling tracking the autocorrelation function and thinning by 2 with maximum length 10000\n",
      "23:24 bilby INFO    : Generating initial points from the prior\n"
     ]
    },
    {
     "name": "stdout",
     "output_type": "stream",
     "text": [
      "113it [00:01, 68.14it/s, bound:3 nc: 17 ncall:2.0e+03 eff:5.6% logz=510.67+/-0.37 dlogz:0.127>0.1]"
     ]
    },
    {
     "name": "stderr",
     "output_type": "stream",
     "text": [
      "23:24 bilby INFO    : Written checkpoint file outdir/calibration_example_resume.pickle\n"
     ]
    },
    {
     "name": "stdout",
     "output_type": "stream",
     "text": [
      "117it [00:04, 27.54it/s, bound:3 nc:  1 ncall:2.1e+03 eff:6.6% logz=510.78+/-0.36 dlogz:0.00447>0.1]"
     ]
    },
    {
     "name": "stderr",
     "output_type": "stream",
     "text": [
      "23:24 bilby INFO    : Rejection sampling nested samples to obtain 45 posterior samples\n",
      "23:24 bilby INFO    : Sampling time: 0:00:04.212604\n",
      "23:24 bilby INFO    : Summary of results:\n",
      "nsamples: 45\n",
      "ln_noise_evidence:    nan\n",
      "ln_evidence: 510.783 +/-  0.407\n",
      "ln_bayes_factor:    nan +/-  0.407\n",
      "\n",
      "23:24 bilby INFO    : Running for label 'calibration_example', output will be saved to 'outdir'\n"
     ]
    },
    {
     "name": "stdout",
     "output_type": "stream",
     "text": [
      "\n",
      "\n",
      "n = 3\n"
     ]
    },
    {
     "name": "stderr",
     "output_type": "stream",
     "text": [
      "23:24 bilby INFO    : Analysis priors:\n",
      "23:24 bilby INFO    : n_gauss=DiscreteUniform(minimum=1, maximum=4, name='n_gauss', latex_label='n_gauss', unit=None, boundary=None)\n",
      "23:24 bilby INFO    : mu0=TransdimensionalConditionalUniform(name='mu0', componant_function_number=np.int64(0), nested_conditional_transdimensional_params=['mu'], conditional_transdimensional_params=[], conditional_params=['n_gauss'], debug_print_out=True, latex_label='mu0', unit=None, boundary=None, minimum=0, maximum=100)\n",
      "23:24 bilby INFO    : mu1=TransdimensionalConditionalUniform(name='mu1', componant_function_number=np.int64(1), nested_conditional_transdimensional_params=['mu'], conditional_transdimensional_params=[], conditional_params=['n_gauss'], debug_print_out=True, latex_label='mu1', unit=None, boundary=None, minimum=0, maximum=100)\n",
      "23:24 bilby INFO    : mu2=TransdimensionalConditionalUniform(name='mu2', componant_function_number=np.int64(2), nested_conditional_transdimensional_params=['mu'], conditional_transdimensional_params=[], conditional_params=['n_gauss'], debug_print_out=True, latex_label='mu2', unit=None, boundary=None, minimum=0, maximum=100)\n",
      "23:24 bilby INFO    : mu3=TransdimensionalConditionalUniform(name='mu3', componant_function_number=np.int64(3), nested_conditional_transdimensional_params=['mu'], conditional_transdimensional_params=[], conditional_params=['n_gauss'], debug_print_out=True, latex_label='mu3', unit=None, boundary=None, minimum=0, maximum=100)\n",
      "23:24 bilby INFO    : sigma_g=10\n",
      "23:24 bilby INFO    : Analysis likelihood class: <class 'bilby.core.likelihood.GaussianLikelihood'>\n",
      "23:24 bilby INFO    : Analysis likelihood noise evidence: nan\n",
      "23:24 bilby INFO    : Single likelihood evaluation took 8.784e-04 s\n",
      "23:24 bilby INFO    : Using sampler Dynesty with kwargs {'nlive': 20, 'bound': 'live', 'sample': 'act-walk', 'periodic': None, 'reflective': None, 'update_interval': 600, 'first_update': None, 'npdim': None, 'rstate': None, 'queue_size': 1, 'pool': None, 'use_pool': None, 'live_points': None, 'logl_args': None, 'logl_kwargs': None, 'ptform_args': None, 'ptform_kwargs': None, 'gradient': None, 'grad_args': None, 'grad_kwargs': None, 'compute_jac': False, 'enlarge': None, 'bootstrap': None, 'walks': 100, 'facc': 0.2, 'slices': None, 'fmove': 0.9, 'max_move': 100, 'update_func': None, 'ncdim': None, 'blob': False, 'save_history': False, 'history_filename': None, 'maxiter': None, 'maxcall': None, 'dlogz': 0.1, 'logl_max': inf, 'n_effective': None, 'add_live': True, 'print_progress': True, 'print_func': <bound method Dynesty._print_func of <bilby.core.sampler.dynesty.Dynesty object at 0x37fb7bd50>>, 'save_bounds': False, 'checkpoint_file': None, 'checkpoint_every': 60, 'resume': False, 'seed': None}\n",
      "23:24 bilby INFO    : Global meta data was removed from the result object for compatibility. Use the `BILBY_INCLUDE_GLOBAL_METADATA` environment variable to include it. This behaviour will be removed in a future release. For more details see: https://bilby-dev.github.io/bilby/faq.html#global-meta-data\n",
      "23:24 bilby INFO    : Checkpoint every check_point_delta_t = 600s\n",
      "23:24 bilby INFO    : Using dynesty version 2.1.5\n",
      "23:24 bilby INFO    : Using the bilby-implemented act-walk sampling tracking the autocorrelation function and thinning by 2 with maximum length 10000\n",
      "23:24 bilby INFO    : Generating initial points from the prior\n"
     ]
    },
    {
     "name": "stdout",
     "output_type": "stream",
     "text": [
      "205it [00:12, 13.08it/s, bound:14 nc: 70 ncall:9.1e+03 eff:2.2% logz=450.17+/-0.54 dlogz:0.146>0.1]"
     ]
    },
    {
     "name": "stderr",
     "output_type": "stream",
     "text": [
      "23:24 bilby INFO    : Written checkpoint file outdir/calibration_example_resume.pickle\n"
     ]
    },
    {
     "name": "stdout",
     "output_type": "stream",
     "text": [
      "212it [00:14, 14.94it/s, bound:15 nc:  1 ncall:9.7e+03 eff:2.4% logz=450.29+/-0.56 dlogz:0.00453>0.1]"
     ]
    },
    {
     "name": "stderr",
     "output_type": "stream",
     "text": [
      "23:24 bilby INFO    : Rejection sampling nested samples to obtain 76 posterior samples\n",
      "23:24 bilby INFO    : Sampling time: 0:00:14.123087\n",
      "23:24 bilby INFO    : Summary of results:\n",
      "nsamples: 76\n",
      "ln_noise_evidence:    nan\n",
      "ln_evidence: 450.293 +/-  0.610\n",
      "ln_bayes_factor:    nan +/-  0.610\n",
      "\n",
      "23:24 bilby INFO    : Running for label 'calibration_example', output will be saved to 'outdir'\n"
     ]
    },
    {
     "name": "stdout",
     "output_type": "stream",
     "text": [
      "\n",
      "\n",
      "n = 4\n"
     ]
    },
    {
     "name": "stderr",
     "output_type": "stream",
     "text": [
      "23:24 bilby INFO    : Analysis priors:\n",
      "23:24 bilby INFO    : n_gauss=DiscreteUniform(minimum=1, maximum=4, name='n_gauss', latex_label='n_gauss', unit=None, boundary=None)\n",
      "23:24 bilby INFO    : mu0=TransdimensionalConditionalUniform(name='mu0', componant_function_number=np.int64(0), nested_conditional_transdimensional_params=['mu'], conditional_transdimensional_params=[], conditional_params=['n_gauss'], debug_print_out=True, latex_label='mu0', unit=None, boundary=None, minimum=0, maximum=100)\n",
      "23:24 bilby INFO    : mu1=TransdimensionalConditionalUniform(name='mu1', componant_function_number=np.int64(1), nested_conditional_transdimensional_params=['mu'], conditional_transdimensional_params=[], conditional_params=['n_gauss'], debug_print_out=True, latex_label='mu1', unit=None, boundary=None, minimum=0, maximum=100)\n",
      "23:24 bilby INFO    : mu2=TransdimensionalConditionalUniform(name='mu2', componant_function_number=np.int64(2), nested_conditional_transdimensional_params=['mu'], conditional_transdimensional_params=[], conditional_params=['n_gauss'], debug_print_out=True, latex_label='mu2', unit=None, boundary=None, minimum=0, maximum=100)\n",
      "23:24 bilby INFO    : mu3=TransdimensionalConditionalUniform(name='mu3', componant_function_number=np.int64(3), nested_conditional_transdimensional_params=['mu'], conditional_transdimensional_params=[], conditional_params=['n_gauss'], debug_print_out=True, latex_label='mu3', unit=None, boundary=None, minimum=0, maximum=100)\n",
      "23:24 bilby INFO    : sigma_g=10\n",
      "23:24 bilby INFO    : Analysis likelihood class: <class 'bilby.core.likelihood.GaussianLikelihood'>\n",
      "23:24 bilby INFO    : Analysis likelihood noise evidence: nan\n",
      "23:24 bilby INFO    : Single likelihood evaluation took 8.842e-04 s\n",
      "23:24 bilby INFO    : Using sampler Dynesty with kwargs {'nlive': 20, 'bound': 'live', 'sample': 'act-walk', 'periodic': None, 'reflective': None, 'update_interval': 600, 'first_update': None, 'npdim': None, 'rstate': None, 'queue_size': 1, 'pool': None, 'use_pool': None, 'live_points': None, 'logl_args': None, 'logl_kwargs': None, 'ptform_args': None, 'ptform_kwargs': None, 'gradient': None, 'grad_args': None, 'grad_kwargs': None, 'compute_jac': False, 'enlarge': None, 'bootstrap': None, 'walks': 100, 'facc': 0.2, 'slices': None, 'fmove': 0.9, 'max_move': 100, 'update_func': None, 'ncdim': None, 'blob': False, 'save_history': False, 'history_filename': None, 'maxiter': None, 'maxcall': None, 'dlogz': 0.1, 'logl_max': inf, 'n_effective': None, 'add_live': True, 'print_progress': True, 'print_func': <bound method Dynesty._print_func of <bilby.core.sampler.dynesty.Dynesty object at 0x386400dd0>>, 'save_bounds': False, 'checkpoint_file': None, 'checkpoint_every': 60, 'resume': False, 'seed': None}\n",
      "23:24 bilby INFO    : Global meta data was removed from the result object for compatibility. Use the `BILBY_INCLUDE_GLOBAL_METADATA` environment variable to include it. This behaviour will be removed in a future release. For more details see: https://bilby-dev.github.io/bilby/faq.html#global-meta-data\n",
      "23:24 bilby INFO    : Checkpoint every check_point_delta_t = 600s\n",
      "23:24 bilby INFO    : Using dynesty version 2.1.5\n",
      "23:24 bilby INFO    : Using the bilby-implemented act-walk sampling tracking the autocorrelation function and thinning by 2 with maximum length 10000\n",
      "23:24 bilby INFO    : Generating initial points from the prior\n"
     ]
    },
    {
     "name": "stdout",
     "output_type": "stream",
     "text": [
      "188it [00:11, 12.96it/s, bound:11 nc: 55 ncall:7.3e+03 eff:2.6% logz=517.10+/-0.48 dlogz:0.149>0.1]"
     ]
    },
    {
     "name": "stderr",
     "output_type": "stream",
     "text": [
      "23:24 bilby INFO    : Written checkpoint file outdir/calibration_example_resume.pickle\n"
     ]
    },
    {
     "name": "stdout",
     "output_type": "stream",
     "text": [
      "195it [00:13, 14.92it/s, bound:12 nc:  1 ncall:7.7e+03 eff:2.8% logz=517.20+/-0.50 dlogz:0.00463>0.1]"
     ]
    },
    {
     "name": "stderr",
     "output_type": "stream",
     "text": [
      "23:24 bilby INFO    : Rejection sampling nested samples to obtain 84 posterior samples\n",
      "23:24 bilby INFO    : Sampling time: 0:00:13.000493\n",
      "23:24 bilby INFO    : Summary of results:\n",
      "nsamples: 84\n",
      "ln_noise_evidence:    nan\n",
      "ln_evidence: 517.202 +/-  0.540\n",
      "ln_bayes_factor:    nan +/-  0.540\n",
      "\n",
      "23:24 bilby INFO    : Running for label 'calibration_example', output will be saved to 'outdir'\n"
     ]
    },
    {
     "name": "stdout",
     "output_type": "stream",
     "text": [
      "\n",
      "\n",
      "n = 1\n"
     ]
    },
    {
     "name": "stderr",
     "output_type": "stream",
     "text": [
      "23:24 bilby INFO    : Analysis priors:\n",
      "23:24 bilby INFO    : n_gauss=DiscreteUniform(minimum=1, maximum=4, name='n_gauss', latex_label='n_gauss', unit=None, boundary=None)\n",
      "23:24 bilby INFO    : mu0=TransdimensionalConditionalUniform(name='mu0', componant_function_number=np.int64(0), nested_conditional_transdimensional_params=['mu'], conditional_transdimensional_params=[], conditional_params=['n_gauss'], debug_print_out=True, latex_label='mu0', unit=None, boundary=None, minimum=0, maximum=100)\n",
      "23:24 bilby INFO    : mu1=TransdimensionalConditionalUniform(name='mu1', componant_function_number=np.int64(1), nested_conditional_transdimensional_params=['mu'], conditional_transdimensional_params=[], conditional_params=['n_gauss'], debug_print_out=True, latex_label='mu1', unit=None, boundary=None, minimum=0, maximum=100)\n",
      "23:24 bilby INFO    : mu2=TransdimensionalConditionalUniform(name='mu2', componant_function_number=np.int64(2), nested_conditional_transdimensional_params=['mu'], conditional_transdimensional_params=[], conditional_params=['n_gauss'], debug_print_out=True, latex_label='mu2', unit=None, boundary=None, minimum=0, maximum=100)\n",
      "23:24 bilby INFO    : mu3=TransdimensionalConditionalUniform(name='mu3', componant_function_number=np.int64(3), nested_conditional_transdimensional_params=['mu'], conditional_transdimensional_params=[], conditional_params=['n_gauss'], debug_print_out=True, latex_label='mu3', unit=None, boundary=None, minimum=0, maximum=100)\n",
      "23:24 bilby INFO    : sigma_g=10\n",
      "23:24 bilby INFO    : Analysis likelihood class: <class 'bilby.core.likelihood.GaussianLikelihood'>\n",
      "23:24 bilby INFO    : Analysis likelihood noise evidence: nan\n",
      "23:24 bilby INFO    : Single likelihood evaluation took 8.465e-04 s\n",
      "23:24 bilby INFO    : Using sampler Dynesty with kwargs {'nlive': 20, 'bound': 'live', 'sample': 'act-walk', 'periodic': None, 'reflective': None, 'update_interval': 600, 'first_update': None, 'npdim': None, 'rstate': None, 'queue_size': 1, 'pool': None, 'use_pool': None, 'live_points': None, 'logl_args': None, 'logl_kwargs': None, 'ptform_args': None, 'ptform_kwargs': None, 'gradient': None, 'grad_args': None, 'grad_kwargs': None, 'compute_jac': False, 'enlarge': None, 'bootstrap': None, 'walks': 100, 'facc': 0.2, 'slices': None, 'fmove': 0.9, 'max_move': 100, 'update_func': None, 'ncdim': None, 'blob': False, 'save_history': False, 'history_filename': None, 'maxiter': None, 'maxcall': None, 'dlogz': 0.1, 'logl_max': inf, 'n_effective': None, 'add_live': True, 'print_progress': True, 'print_func': <bound method Dynesty._print_func of <bilby.core.sampler.dynesty.Dynesty object at 0x3879f1c90>>, 'save_bounds': False, 'checkpoint_file': None, 'checkpoint_every': 60, 'resume': False, 'seed': None}\n",
      "23:24 bilby INFO    : Global meta data was removed from the result object for compatibility. Use the `BILBY_INCLUDE_GLOBAL_METADATA` environment variable to include it. This behaviour will be removed in a future release. For more details see: https://bilby-dev.github.io/bilby/faq.html#global-meta-data\n",
      "23:24 bilby INFO    : Checkpoint every check_point_delta_t = 600s\n",
      "23:24 bilby INFO    : Using dynesty version 2.1.5\n",
      "23:24 bilby INFO    : Using the bilby-implemented act-walk sampling tracking the autocorrelation function and thinning by 2 with maximum length 10000\n",
      "23:24 bilby INFO    : Generating initial points from the prior\n"
     ]
    },
    {
     "name": "stdout",
     "output_type": "stream",
     "text": [
      "119it [00:02, 33.81it/s, bound:3 nc: 35 ncall:2.5e+03 eff:4.8% logz=496.61+/-0.34 dlogz:0.137>0.1]"
     ]
    },
    {
     "name": "stderr",
     "output_type": "stream",
     "text": [
      "23:25 bilby INFO    : Written checkpoint file outdir/calibration_example_resume.pickle\n"
     ]
    },
    {
     "name": "stdout",
     "output_type": "stream",
     "text": [
      "125it [00:03, 33.03it/s, bound:4 nc:  1 ncall:2.7e+03 eff:5.3% logz=496.72+/-0.34 dlogz:0.00445>0.1]"
     ]
    },
    {
     "name": "stderr",
     "output_type": "stream",
     "text": [
      "23:25 bilby INFO    : Rejection sampling nested samples to obtain 47 posterior samples\n",
      "23:25 bilby INFO    : Sampling time: 0:00:03.754307\n",
      "23:25 bilby INFO    : Summary of results:\n",
      "nsamples: 47\n",
      "ln_noise_evidence:    nan\n",
      "ln_evidence: 496.719 +/-  0.385\n",
      "ln_bayes_factor:    nan +/-  0.385\n",
      "\n",
      "23:25 bilby INFO    : Running for label 'calibration_example', output will be saved to 'outdir'\n"
     ]
    },
    {
     "name": "stdout",
     "output_type": "stream",
     "text": [
      "\n",
      "\n",
      "n = 2\n"
     ]
    },
    {
     "name": "stderr",
     "output_type": "stream",
     "text": [
      "23:25 bilby INFO    : Analysis priors:\n",
      "23:25 bilby INFO    : n_gauss=DiscreteUniform(minimum=1, maximum=4, name='n_gauss', latex_label='n_gauss', unit=None, boundary=None)\n",
      "23:25 bilby INFO    : mu0=TransdimensionalConditionalUniform(name='mu0', componant_function_number=np.int64(0), nested_conditional_transdimensional_params=['mu'], conditional_transdimensional_params=[], conditional_params=['n_gauss'], debug_print_out=True, latex_label='mu0', unit=None, boundary=None, minimum=0, maximum=100)\n",
      "23:25 bilby INFO    : mu1=TransdimensionalConditionalUniform(name='mu1', componant_function_number=np.int64(1), nested_conditional_transdimensional_params=['mu'], conditional_transdimensional_params=[], conditional_params=['n_gauss'], debug_print_out=True, latex_label='mu1', unit=None, boundary=None, minimum=0, maximum=100)\n",
      "23:25 bilby INFO    : mu2=TransdimensionalConditionalUniform(name='mu2', componant_function_number=np.int64(2), nested_conditional_transdimensional_params=['mu'], conditional_transdimensional_params=[], conditional_params=['n_gauss'], debug_print_out=True, latex_label='mu2', unit=None, boundary=None, minimum=0, maximum=100)\n",
      "23:25 bilby INFO    : mu3=TransdimensionalConditionalUniform(name='mu3', componant_function_number=np.int64(3), nested_conditional_transdimensional_params=['mu'], conditional_transdimensional_params=[], conditional_params=['n_gauss'], debug_print_out=True, latex_label='mu3', unit=None, boundary=None, minimum=0, maximum=100)\n",
      "23:25 bilby INFO    : sigma_g=10\n",
      "23:25 bilby INFO    : Analysis likelihood class: <class 'bilby.core.likelihood.GaussianLikelihood'>\n",
      "23:25 bilby INFO    : Analysis likelihood noise evidence: nan\n",
      "23:25 bilby INFO    : Single likelihood evaluation took 7.727e-04 s\n",
      "23:25 bilby INFO    : Using sampler Dynesty with kwargs {'nlive': 20, 'bound': 'live', 'sample': 'act-walk', 'periodic': None, 'reflective': None, 'update_interval': 600, 'first_update': None, 'npdim': None, 'rstate': None, 'queue_size': 1, 'pool': None, 'use_pool': None, 'live_points': None, 'logl_args': None, 'logl_kwargs': None, 'ptform_args': None, 'ptform_kwargs': None, 'gradient': None, 'grad_args': None, 'grad_kwargs': None, 'compute_jac': False, 'enlarge': None, 'bootstrap': None, 'walks': 100, 'facc': 0.2, 'slices': None, 'fmove': 0.9, 'max_move': 100, 'update_func': None, 'ncdim': None, 'blob': False, 'save_history': False, 'history_filename': None, 'maxiter': None, 'maxcall': None, 'dlogz': 0.1, 'logl_max': inf, 'n_effective': None, 'add_live': True, 'print_progress': True, 'print_func': <bound method Dynesty._print_func of <bilby.core.sampler.dynesty.Dynesty object at 0x3908f8f10>>, 'save_bounds': False, 'checkpoint_file': None, 'checkpoint_every': 60, 'resume': False, 'seed': None}\n",
      "23:25 bilby INFO    : Global meta data was removed from the result object for compatibility. Use the `BILBY_INCLUDE_GLOBAL_METADATA` environment variable to include it. This behaviour will be removed in a future release. For more details see: https://bilby-dev.github.io/bilby/faq.html#global-meta-data\n",
      "23:25 bilby INFO    : Checkpoint every check_point_delta_t = 600s\n",
      "23:25 bilby INFO    : Using dynesty version 2.1.5\n",
      "23:25 bilby INFO    : Using the bilby-implemented act-walk sampling tracking the autocorrelation function and thinning by 2 with maximum length 10000\n",
      "23:25 bilby INFO    : Generating initial points from the prior\n"
     ]
    },
    {
     "name": "stdout",
     "output_type": "stream",
     "text": [
      "127it [00:03, 26.29it/s, bound:6 nc: 75 ncall:4.0e+03 eff:3.2% logz=468.01+/-0.39 dlogz:0.124>0.1]"
     ]
    },
    {
     "name": "stderr",
     "output_type": "stream",
     "text": [
      "23:25 bilby INFO    : Written checkpoint file outdir/calibration_example_resume.pickle\n"
     ]
    },
    {
     "name": "stdout",
     "output_type": "stream",
     "text": [
      "131it [00:04, 26.76it/s, bound:6 nc:  1 ncall:4.3e+03 eff:3.5% logz=468.10+/-0.39 dlogz:0.00447>0.1]"
     ]
    },
    {
     "name": "stderr",
     "output_type": "stream",
     "text": [
      "23:25 bilby INFO    : Rejection sampling nested samples to obtain 38 posterior samples\n",
      "23:25 bilby INFO    : Sampling time: 0:00:04.858004\n",
      "23:25 bilby INFO    : Summary of results:\n",
      "nsamples: 38\n",
      "ln_noise_evidence:    nan\n",
      "ln_evidence: 468.100 +/-  0.428\n",
      "ln_bayes_factor:    nan +/-  0.428\n",
      "\n",
      "23:25 bilby INFO    : Running for label 'calibration_example', output will be saved to 'outdir'\n"
     ]
    },
    {
     "name": "stdout",
     "output_type": "stream",
     "text": [
      "\n",
      "\n",
      "n = 2\n"
     ]
    },
    {
     "name": "stderr",
     "output_type": "stream",
     "text": [
      "23:25 bilby INFO    : Analysis priors:\n",
      "23:25 bilby INFO    : n_gauss=DiscreteUniform(minimum=1, maximum=4, name='n_gauss', latex_label='n_gauss', unit=None, boundary=None)\n",
      "23:25 bilby INFO    : mu0=TransdimensionalConditionalUniform(name='mu0', componant_function_number=np.int64(0), nested_conditional_transdimensional_params=['mu'], conditional_transdimensional_params=[], conditional_params=['n_gauss'], debug_print_out=True, latex_label='mu0', unit=None, boundary=None, minimum=0, maximum=100)\n",
      "23:25 bilby INFO    : mu1=TransdimensionalConditionalUniform(name='mu1', componant_function_number=np.int64(1), nested_conditional_transdimensional_params=['mu'], conditional_transdimensional_params=[], conditional_params=['n_gauss'], debug_print_out=True, latex_label='mu1', unit=None, boundary=None, minimum=0, maximum=100)\n",
      "23:25 bilby INFO    : mu2=TransdimensionalConditionalUniform(name='mu2', componant_function_number=np.int64(2), nested_conditional_transdimensional_params=['mu'], conditional_transdimensional_params=[], conditional_params=['n_gauss'], debug_print_out=True, latex_label='mu2', unit=None, boundary=None, minimum=0, maximum=100)\n",
      "23:25 bilby INFO    : mu3=TransdimensionalConditionalUniform(name='mu3', componant_function_number=np.int64(3), nested_conditional_transdimensional_params=['mu'], conditional_transdimensional_params=[], conditional_params=['n_gauss'], debug_print_out=True, latex_label='mu3', unit=None, boundary=None, minimum=0, maximum=100)\n",
      "23:25 bilby INFO    : sigma_g=10\n",
      "23:25 bilby INFO    : Analysis likelihood class: <class 'bilby.core.likelihood.GaussianLikelihood'>\n",
      "23:25 bilby INFO    : Analysis likelihood noise evidence: nan\n",
      "23:25 bilby INFO    : Single likelihood evaluation took 7.372e-04 s\n",
      "23:25 bilby INFO    : Using sampler Dynesty with kwargs {'nlive': 20, 'bound': 'live', 'sample': 'act-walk', 'periodic': None, 'reflective': None, 'update_interval': 600, 'first_update': None, 'npdim': None, 'rstate': None, 'queue_size': 1, 'pool': None, 'use_pool': None, 'live_points': None, 'logl_args': None, 'logl_kwargs': None, 'ptform_args': None, 'ptform_kwargs': None, 'gradient': None, 'grad_args': None, 'grad_kwargs': None, 'compute_jac': False, 'enlarge': None, 'bootstrap': None, 'walks': 100, 'facc': 0.2, 'slices': None, 'fmove': 0.9, 'max_move': 100, 'update_func': None, 'ncdim': None, 'blob': False, 'save_history': False, 'history_filename': None, 'maxiter': None, 'maxcall': None, 'dlogz': 0.1, 'logl_max': inf, 'n_effective': None, 'add_live': True, 'print_progress': True, 'print_func': <bound method Dynesty._print_func of <bilby.core.sampler.dynesty.Dynesty object at 0x391f11d50>>, 'save_bounds': False, 'checkpoint_file': None, 'checkpoint_every': 60, 'resume': False, 'seed': None}\n",
      "23:25 bilby INFO    : Global meta data was removed from the result object for compatibility. Use the `BILBY_INCLUDE_GLOBAL_METADATA` environment variable to include it. This behaviour will be removed in a future release. For more details see: https://bilby-dev.github.io/bilby/faq.html#global-meta-data\n",
      "23:25 bilby INFO    : Checkpoint every check_point_delta_t = 600s\n",
      "23:25 bilby INFO    : Using dynesty version 2.1.5\n",
      "23:25 bilby INFO    : Using the bilby-implemented act-walk sampling tracking the autocorrelation function and thinning by 2 with maximum length 10000\n",
      "23:25 bilby INFO    : Generating initial points from the prior\n"
     ]
    },
    {
     "name": "stdout",
     "output_type": "stream",
     "text": [
      "132it [00:03, 31.17it/s, bound:4 nc: 39 ncall:2.8e+03 eff:4.7% logz=507.49+/-0.40 dlogz:0.108>0.1]"
     ]
    },
    {
     "name": "stderr",
     "output_type": "stream",
     "text": [
      "23:25 bilby INFO    : Written checkpoint file outdir/calibration_example_resume.pickle\n"
     ]
    },
    {
     "name": "stdout",
     "output_type": "stream",
     "text": [
      "133it [00:04, 28.07it/s, bound:4 nc:  1 ncall:2.9e+03 eff:5.4% logz=507.59+/-0.40 dlogz:0.00444>0.1]"
     ]
    },
    {
     "name": "stderr",
     "output_type": "stream",
     "text": [
      "23:25 bilby INFO    : Rejection sampling nested samples to obtain 41 posterior samples\n",
      "23:25 bilby INFO    : Sampling time: 0:00:04.701820\n",
      "23:25 bilby INFO    : Summary of results:\n",
      "nsamples: 41\n",
      "ln_noise_evidence:    nan\n",
      "ln_evidence: 507.589 +/-  0.448\n",
      "ln_bayes_factor:    nan +/-  0.448\n",
      "\n",
      "23:25 bilby INFO    : Running for label 'calibration_example', output will be saved to 'outdir'\n"
     ]
    },
    {
     "name": "stdout",
     "output_type": "stream",
     "text": [
      "\n",
      "\n",
      "n = 2\n"
     ]
    },
    {
     "name": "stderr",
     "output_type": "stream",
     "text": [
      "23:25 bilby INFO    : Analysis priors:\n",
      "23:25 bilby INFO    : n_gauss=DiscreteUniform(minimum=1, maximum=4, name='n_gauss', latex_label='n_gauss', unit=None, boundary=None)\n",
      "23:25 bilby INFO    : mu0=TransdimensionalConditionalUniform(name='mu0', componant_function_number=np.int64(0), nested_conditional_transdimensional_params=['mu'], conditional_transdimensional_params=[], conditional_params=['n_gauss'], debug_print_out=True, latex_label='mu0', unit=None, boundary=None, minimum=0, maximum=100)\n",
      "23:25 bilby INFO    : mu1=TransdimensionalConditionalUniform(name='mu1', componant_function_number=np.int64(1), nested_conditional_transdimensional_params=['mu'], conditional_transdimensional_params=[], conditional_params=['n_gauss'], debug_print_out=True, latex_label='mu1', unit=None, boundary=None, minimum=0, maximum=100)\n",
      "23:25 bilby INFO    : mu2=TransdimensionalConditionalUniform(name='mu2', componant_function_number=np.int64(2), nested_conditional_transdimensional_params=['mu'], conditional_transdimensional_params=[], conditional_params=['n_gauss'], debug_print_out=True, latex_label='mu2', unit=None, boundary=None, minimum=0, maximum=100)\n",
      "23:25 bilby INFO    : mu3=TransdimensionalConditionalUniform(name='mu3', componant_function_number=np.int64(3), nested_conditional_transdimensional_params=['mu'], conditional_transdimensional_params=[], conditional_params=['n_gauss'], debug_print_out=True, latex_label='mu3', unit=None, boundary=None, minimum=0, maximum=100)\n",
      "23:25 bilby INFO    : sigma_g=10\n",
      "23:25 bilby INFO    : Analysis likelihood class: <class 'bilby.core.likelihood.GaussianLikelihood'>\n",
      "23:25 bilby INFO    : Analysis likelihood noise evidence: nan\n",
      "23:25 bilby INFO    : Single likelihood evaluation took 8.166e-04 s\n",
      "23:25 bilby INFO    : Using sampler Dynesty with kwargs {'nlive': 20, 'bound': 'live', 'sample': 'act-walk', 'periodic': None, 'reflective': None, 'update_interval': 600, 'first_update': None, 'npdim': None, 'rstate': None, 'queue_size': 1, 'pool': None, 'use_pool': None, 'live_points': None, 'logl_args': None, 'logl_kwargs': None, 'ptform_args': None, 'ptform_kwargs': None, 'gradient': None, 'grad_args': None, 'grad_kwargs': None, 'compute_jac': False, 'enlarge': None, 'bootstrap': None, 'walks': 100, 'facc': 0.2, 'slices': None, 'fmove': 0.9, 'max_move': 100, 'update_func': None, 'ncdim': None, 'blob': False, 'save_history': False, 'history_filename': None, 'maxiter': None, 'maxcall': None, 'dlogz': 0.1, 'logl_max': inf, 'n_effective': None, 'add_live': True, 'print_progress': True, 'print_func': <bound method Dynesty._print_func of <bilby.core.sampler.dynesty.Dynesty object at 0x39340f7d0>>, 'save_bounds': False, 'checkpoint_file': None, 'checkpoint_every': 60, 'resume': False, 'seed': None}\n",
      "23:25 bilby INFO    : Global meta data was removed from the result object for compatibility. Use the `BILBY_INCLUDE_GLOBAL_METADATA` environment variable to include it. This behaviour will be removed in a future release. For more details see: https://bilby-dev.github.io/bilby/faq.html#global-meta-data\n",
      "23:25 bilby INFO    : Checkpoint every check_point_delta_t = 600s\n",
      "23:25 bilby INFO    : Using dynesty version 2.1.5\n",
      "23:25 bilby INFO    : Using the bilby-implemented act-walk sampling tracking the autocorrelation function and thinning by 2 with maximum length 10000\n",
      "23:25 bilby INFO    : Generating initial points from the prior\n"
     ]
    },
    {
     "name": "stdout",
     "output_type": "stream",
     "text": [
      "133it [00:04, 27.49it/s, bound:6 nc: 48 ncall:3.9e+03 eff:3.4% logz=422.16+/-0.37 dlogz:0.13>0.1] "
     ]
    },
    {
     "name": "stderr",
     "output_type": "stream",
     "text": [
      "23:25 bilby INFO    : Written checkpoint file outdir/calibration_example_resume.pickle\n"
     ]
    },
    {
     "name": "stdout",
     "output_type": "stream",
     "text": [
      "138it [00:05, 24.98it/s, bound:6 nc:  1 ncall:4.0e+03 eff:3.9% logz=422.28+/-0.38 dlogz:0.00439>0.1]"
     ]
    },
    {
     "name": "stderr",
     "output_type": "stream",
     "text": [
      "23:25 bilby INFO    : Rejection sampling nested samples to obtain 67 posterior samples\n",
      "23:25 bilby INFO    : Sampling time: 0:00:05.483617\n",
      "23:25 bilby INFO    : Summary of results:\n",
      "nsamples: 67\n",
      "ln_noise_evidence:    nan\n",
      "ln_evidence: 422.277 +/-  0.421\n",
      "ln_bayes_factor:    nan +/-  0.421\n",
      "\n",
      "23:25 bilby INFO    : Running for label 'calibration_example', output will be saved to 'outdir'\n"
     ]
    },
    {
     "name": "stdout",
     "output_type": "stream",
     "text": [
      "\n",
      "\n",
      "n = 3\n"
     ]
    },
    {
     "name": "stderr",
     "output_type": "stream",
     "text": [
      "23:25 bilby INFO    : Analysis priors:\n",
      "23:25 bilby INFO    : n_gauss=DiscreteUniform(minimum=1, maximum=4, name='n_gauss', latex_label='n_gauss', unit=None, boundary=None)\n",
      "23:25 bilby INFO    : mu0=TransdimensionalConditionalUniform(name='mu0', componant_function_number=np.int64(0), nested_conditional_transdimensional_params=['mu'], conditional_transdimensional_params=[], conditional_params=['n_gauss'], debug_print_out=True, latex_label='mu0', unit=None, boundary=None, minimum=0, maximum=100)\n",
      "23:25 bilby INFO    : mu1=TransdimensionalConditionalUniform(name='mu1', componant_function_number=np.int64(1), nested_conditional_transdimensional_params=['mu'], conditional_transdimensional_params=[], conditional_params=['n_gauss'], debug_print_out=True, latex_label='mu1', unit=None, boundary=None, minimum=0, maximum=100)\n",
      "23:25 bilby INFO    : mu2=TransdimensionalConditionalUniform(name='mu2', componant_function_number=np.int64(2), nested_conditional_transdimensional_params=['mu'], conditional_transdimensional_params=[], conditional_params=['n_gauss'], debug_print_out=True, latex_label='mu2', unit=None, boundary=None, minimum=0, maximum=100)\n",
      "23:25 bilby INFO    : mu3=TransdimensionalConditionalUniform(name='mu3', componant_function_number=np.int64(3), nested_conditional_transdimensional_params=['mu'], conditional_transdimensional_params=[], conditional_params=['n_gauss'], debug_print_out=True, latex_label='mu3', unit=None, boundary=None, minimum=0, maximum=100)\n",
      "23:25 bilby INFO    : sigma_g=10\n",
      "23:25 bilby INFO    : Analysis likelihood class: <class 'bilby.core.likelihood.GaussianLikelihood'>\n",
      "23:25 bilby INFO    : Analysis likelihood noise evidence: nan\n",
      "23:25 bilby INFO    : Single likelihood evaluation took 8.703e-04 s\n",
      "23:25 bilby INFO    : Using sampler Dynesty with kwargs {'nlive': 20, 'bound': 'live', 'sample': 'act-walk', 'periodic': None, 'reflective': None, 'update_interval': 600, 'first_update': None, 'npdim': None, 'rstate': None, 'queue_size': 1, 'pool': None, 'use_pool': None, 'live_points': None, 'logl_args': None, 'logl_kwargs': None, 'ptform_args': None, 'ptform_kwargs': None, 'gradient': None, 'grad_args': None, 'grad_kwargs': None, 'compute_jac': False, 'enlarge': None, 'bootstrap': None, 'walks': 100, 'facc': 0.2, 'slices': None, 'fmove': 0.9, 'max_move': 100, 'update_func': None, 'ncdim': None, 'blob': False, 'save_history': False, 'history_filename': None, 'maxiter': None, 'maxcall': None, 'dlogz': 0.1, 'logl_max': inf, 'n_effective': None, 'add_live': True, 'print_progress': True, 'print_func': <bound method Dynesty._print_func of <bilby.core.sampler.dynesty.Dynesty object at 0x394716350>>, 'save_bounds': False, 'checkpoint_file': None, 'checkpoint_every': 60, 'resume': False, 'seed': None}\n",
      "23:25 bilby INFO    : Global meta data was removed from the result object for compatibility. Use the `BILBY_INCLUDE_GLOBAL_METADATA` environment variable to include it. This behaviour will be removed in a future release. For more details see: https://bilby-dev.github.io/bilby/faq.html#global-meta-data\n",
      "23:25 bilby INFO    : Checkpoint every check_point_delta_t = 600s\n",
      "23:25 bilby INFO    : Using dynesty version 2.1.5\n",
      "23:25 bilby INFO    : Using the bilby-implemented act-walk sampling tracking the autocorrelation function and thinning by 2 with maximum length 10000\n",
      "23:25 bilby INFO    : Generating initial points from the prior\n"
     ]
    },
    {
     "name": "stdout",
     "output_type": "stream",
     "text": [
      "157it [00:15,  9.58it/s, bound:17 nc: 65 ncall:1.2e+04 eff:1.3% logz=505.78+/-0.37 dlogz:0.223>0.1]"
     ]
    },
    {
     "name": "stderr",
     "output_type": "stream",
     "text": [
      "23:25 bilby INFO    : Written checkpoint file outdir/calibration_example_resume.pickle\n"
     ]
    },
    {
     "name": "stdout",
     "output_type": "stream",
     "text": [
      "174it [00:16, 10.47it/s, bound:18 nc:  1 ncall:1.3e+04 eff:1.5% logz=505.85+/-0.39 dlogz:0.00458>0.1]"
     ]
    },
    {
     "name": "stderr",
     "output_type": "stream",
     "text": [
      "23:25 bilby INFO    : Rejection sampling nested samples to obtain 92 posterior samples\n",
      "23:25 bilby INFO    : Sampling time: 0:00:16.529040\n",
      "23:25 bilby INFO    : Summary of results:\n",
      "nsamples: 92\n",
      "ln_noise_evidence:    nan\n",
      "ln_evidence: 505.853 +/-  0.417\n",
      "ln_bayes_factor:    nan +/-  0.417\n",
      "\n",
      "23:25 bilby INFO    : Running for label 'calibration_example', output will be saved to 'outdir'\n"
     ]
    },
    {
     "name": "stdout",
     "output_type": "stream",
     "text": [
      "\n",
      "\n",
      "n = 1\n"
     ]
    },
    {
     "name": "stderr",
     "output_type": "stream",
     "text": [
      "23:25 bilby INFO    : Analysis priors:\n",
      "23:25 bilby INFO    : n_gauss=DiscreteUniform(minimum=1, maximum=4, name='n_gauss', latex_label='n_gauss', unit=None, boundary=None)\n",
      "23:25 bilby INFO    : mu0=TransdimensionalConditionalUniform(name='mu0', componant_function_number=np.int64(0), nested_conditional_transdimensional_params=['mu'], conditional_transdimensional_params=[], conditional_params=['n_gauss'], debug_print_out=True, latex_label='mu0', unit=None, boundary=None, minimum=0, maximum=100)\n",
      "23:25 bilby INFO    : mu1=TransdimensionalConditionalUniform(name='mu1', componant_function_number=np.int64(1), nested_conditional_transdimensional_params=['mu'], conditional_transdimensional_params=[], conditional_params=['n_gauss'], debug_print_out=True, latex_label='mu1', unit=None, boundary=None, minimum=0, maximum=100)\n",
      "23:25 bilby INFO    : mu2=TransdimensionalConditionalUniform(name='mu2', componant_function_number=np.int64(2), nested_conditional_transdimensional_params=['mu'], conditional_transdimensional_params=[], conditional_params=['n_gauss'], debug_print_out=True, latex_label='mu2', unit=None, boundary=None, minimum=0, maximum=100)\n",
      "23:25 bilby INFO    : mu3=TransdimensionalConditionalUniform(name='mu3', componant_function_number=np.int64(3), nested_conditional_transdimensional_params=['mu'], conditional_transdimensional_params=[], conditional_params=['n_gauss'], debug_print_out=True, latex_label='mu3', unit=None, boundary=None, minimum=0, maximum=100)\n",
      "23:25 bilby INFO    : sigma_g=10\n",
      "23:25 bilby INFO    : Analysis likelihood class: <class 'bilby.core.likelihood.GaussianLikelihood'>\n",
      "23:25 bilby INFO    : Analysis likelihood noise evidence: nan\n",
      "23:25 bilby INFO    : Single likelihood evaluation took 7.539e-04 s\n",
      "23:25 bilby INFO    : Using sampler Dynesty with kwargs {'nlive': 20, 'bound': 'live', 'sample': 'act-walk', 'periodic': None, 'reflective': None, 'update_interval': 600, 'first_update': None, 'npdim': None, 'rstate': None, 'queue_size': 1, 'pool': None, 'use_pool': None, 'live_points': None, 'logl_args': None, 'logl_kwargs': None, 'ptform_args': None, 'ptform_kwargs': None, 'gradient': None, 'grad_args': None, 'grad_kwargs': None, 'compute_jac': False, 'enlarge': None, 'bootstrap': None, 'walks': 100, 'facc': 0.2, 'slices': None, 'fmove': 0.9, 'max_move': 100, 'update_func': None, 'ncdim': None, 'blob': False, 'save_history': False, 'history_filename': None, 'maxiter': None, 'maxcall': None, 'dlogz': 0.1, 'logl_max': inf, 'n_effective': None, 'add_live': True, 'print_progress': True, 'print_func': <bound method Dynesty._print_func of <bilby.core.sampler.dynesty.Dynesty object at 0x39854ba50>>, 'save_bounds': False, 'checkpoint_file': None, 'checkpoint_every': 60, 'resume': False, 'seed': None}\n",
      "23:25 bilby INFO    : Global meta data was removed from the result object for compatibility. Use the `BILBY_INCLUDE_GLOBAL_METADATA` environment variable to include it. This behaviour will be removed in a future release. For more details see: https://bilby-dev.github.io/bilby/faq.html#global-meta-data\n",
      "23:25 bilby INFO    : Checkpoint every check_point_delta_t = 600s\n",
      "23:25 bilby INFO    : Using dynesty version 2.1.5\n",
      "23:25 bilby INFO    : Using the bilby-implemented act-walk sampling tracking the autocorrelation function and thinning by 2 with maximum length 10000\n",
      "23:25 bilby INFO    : Generating initial points from the prior\n"
     ]
    },
    {
     "name": "stdout",
     "output_type": "stream",
     "text": [
      "140it [00:02, 40.51it/s, bound:4 nc: 25 ncall:3.1e+03 eff:4.6% logz=426.23+/-0.40 dlogz:0.167>0.1]"
     ]
    },
    {
     "name": "stderr",
     "output_type": "stream",
     "text": [
      "23:25 bilby INFO    : Written checkpoint file outdir/calibration_example_resume.pickle\n"
     ]
    },
    {
     "name": "stdout",
     "output_type": "stream",
     "text": [
      "152it [00:03, 38.23it/s, bound:5 nc:  1 ncall:3.4e+03 eff:5.1% logz=426.36+/-0.41 dlogz:0.00454>0.1]"
     ]
    },
    {
     "name": "stderr",
     "output_type": "stream",
     "text": [
      "23:25 bilby INFO    : Rejection sampling nested samples to obtain 61 posterior samples\n",
      "23:25 bilby INFO    : Sampling time: 0:00:03.949942\n",
      "23:25 bilby INFO    : Summary of results:\n",
      "nsamples: 61\n",
      "ln_noise_evidence:    nan\n",
      "ln_evidence: 426.356 +/-  0.448\n",
      "ln_bayes_factor:    nan +/-  0.448\n",
      "\n",
      "23:25 bilby INFO    : Running for label 'calibration_example', output will be saved to 'outdir'\n"
     ]
    },
    {
     "name": "stdout",
     "output_type": "stream",
     "text": [
      "\n",
      "\n",
      "n = 4\n"
     ]
    },
    {
     "name": "stderr",
     "output_type": "stream",
     "text": [
      "23:25 bilby INFO    : Analysis priors:\n",
      "23:25 bilby INFO    : n_gauss=DiscreteUniform(minimum=1, maximum=4, name='n_gauss', latex_label='n_gauss', unit=None, boundary=None)\n",
      "23:25 bilby INFO    : mu0=TransdimensionalConditionalUniform(name='mu0', componant_function_number=np.int64(0), nested_conditional_transdimensional_params=['mu'], conditional_transdimensional_params=[], conditional_params=['n_gauss'], debug_print_out=True, latex_label='mu0', unit=None, boundary=None, minimum=0, maximum=100)\n",
      "23:25 bilby INFO    : mu1=TransdimensionalConditionalUniform(name='mu1', componant_function_number=np.int64(1), nested_conditional_transdimensional_params=['mu'], conditional_transdimensional_params=[], conditional_params=['n_gauss'], debug_print_out=True, latex_label='mu1', unit=None, boundary=None, minimum=0, maximum=100)\n",
      "23:25 bilby INFO    : mu2=TransdimensionalConditionalUniform(name='mu2', componant_function_number=np.int64(2), nested_conditional_transdimensional_params=['mu'], conditional_transdimensional_params=[], conditional_params=['n_gauss'], debug_print_out=True, latex_label='mu2', unit=None, boundary=None, minimum=0, maximum=100)\n",
      "23:25 bilby INFO    : mu3=TransdimensionalConditionalUniform(name='mu3', componant_function_number=np.int64(3), nested_conditional_transdimensional_params=['mu'], conditional_transdimensional_params=[], conditional_params=['n_gauss'], debug_print_out=True, latex_label='mu3', unit=None, boundary=None, minimum=0, maximum=100)\n",
      "23:25 bilby INFO    : sigma_g=10\n",
      "23:25 bilby INFO    : Analysis likelihood class: <class 'bilby.core.likelihood.GaussianLikelihood'>\n",
      "23:25 bilby INFO    : Analysis likelihood noise evidence: nan\n",
      "23:25 bilby INFO    : Single likelihood evaluation took 7.637e-04 s\n",
      "23:25 bilby INFO    : Using sampler Dynesty with kwargs {'nlive': 20, 'bound': 'live', 'sample': 'act-walk', 'periodic': None, 'reflective': None, 'update_interval': 600, 'first_update': None, 'npdim': None, 'rstate': None, 'queue_size': 1, 'pool': None, 'use_pool': None, 'live_points': None, 'logl_args': None, 'logl_kwargs': None, 'ptform_args': None, 'ptform_kwargs': None, 'gradient': None, 'grad_args': None, 'grad_kwargs': None, 'compute_jac': False, 'enlarge': None, 'bootstrap': None, 'walks': 100, 'facc': 0.2, 'slices': None, 'fmove': 0.9, 'max_move': 100, 'update_func': None, 'ncdim': None, 'blob': False, 'save_history': False, 'history_filename': None, 'maxiter': None, 'maxcall': None, 'dlogz': 0.1, 'logl_max': inf, 'n_effective': None, 'add_live': True, 'print_progress': True, 'print_func': <bound method Dynesty._print_func of <bilby.core.sampler.dynesty.Dynesty object at 0x398d35b90>>, 'save_bounds': False, 'checkpoint_file': None, 'checkpoint_every': 60, 'resume': False, 'seed': None}\n",
      "23:25 bilby INFO    : Global meta data was removed from the result object for compatibility. Use the `BILBY_INCLUDE_GLOBAL_METADATA` environment variable to include it. This behaviour will be removed in a future release. For more details see: https://bilby-dev.github.io/bilby/faq.html#global-meta-data\n",
      "23:25 bilby INFO    : Checkpoint every check_point_delta_t = 600s\n",
      "23:25 bilby INFO    : Using dynesty version 2.1.5\n",
      "23:25 bilby INFO    : Using the bilby-implemented act-walk sampling tracking the autocorrelation function and thinning by 2 with maximum length 10000\n",
      "23:25 bilby INFO    : Generating initial points from the prior\n"
     ]
    },
    {
     "name": "stdout",
     "output_type": "stream",
     "text": [
      "211it [00:11, 14.20it/s, bound:11 nc: 45 ncall:7.6e+03 eff:2.8% logz=490.64+/-0.54 dlogz:0.149>0.1]"
     ]
    },
    {
     "name": "stderr",
     "output_type": "stream",
     "text": [
      "23:26 bilby INFO    : Written checkpoint file outdir/calibration_example_resume.pickle\n"
     ]
    },
    {
     "name": "stdout",
     "output_type": "stream",
     "text": [
      "219it [00:12, 17.42it/s, bound:12 nc:  1 ncall:8.0e+03 eff:3.0% logz=490.73+/-0.55 dlogz:0.00449>0.1]"
     ]
    },
    {
     "name": "stderr",
     "output_type": "stream",
     "text": [
      "23:26 bilby INFO    : Rejection sampling nested samples to obtain 60 posterior samples\n",
      "23:26 bilby INFO    : Sampling time: 0:00:12.512773\n",
      "23:26 bilby INFO    : Summary of results:\n",
      "nsamples: 60\n",
      "ln_noise_evidence:    nan\n",
      "ln_evidence: 490.728 +/-  0.603\n",
      "ln_bayes_factor:    nan +/-  0.603\n",
      "\n",
      "23:26 bilby INFO    : Running for label 'calibration_example', output will be saved to 'outdir'\n"
     ]
    },
    {
     "name": "stdout",
     "output_type": "stream",
     "text": [
      "\n",
      "\n",
      "n = 4\n"
     ]
    },
    {
     "name": "stderr",
     "output_type": "stream",
     "text": [
      "23:26 bilby INFO    : Analysis priors:\n",
      "23:26 bilby INFO    : n_gauss=DiscreteUniform(minimum=1, maximum=4, name='n_gauss', latex_label='n_gauss', unit=None, boundary=None)\n",
      "23:26 bilby INFO    : mu0=TransdimensionalConditionalUniform(name='mu0', componant_function_number=np.int64(0), nested_conditional_transdimensional_params=['mu'], conditional_transdimensional_params=[], conditional_params=['n_gauss'], debug_print_out=True, latex_label='mu0', unit=None, boundary=None, minimum=0, maximum=100)\n",
      "23:26 bilby INFO    : mu1=TransdimensionalConditionalUniform(name='mu1', componant_function_number=np.int64(1), nested_conditional_transdimensional_params=['mu'], conditional_transdimensional_params=[], conditional_params=['n_gauss'], debug_print_out=True, latex_label='mu1', unit=None, boundary=None, minimum=0, maximum=100)\n",
      "23:26 bilby INFO    : mu2=TransdimensionalConditionalUniform(name='mu2', componant_function_number=np.int64(2), nested_conditional_transdimensional_params=['mu'], conditional_transdimensional_params=[], conditional_params=['n_gauss'], debug_print_out=True, latex_label='mu2', unit=None, boundary=None, minimum=0, maximum=100)\n",
      "23:26 bilby INFO    : mu3=TransdimensionalConditionalUniform(name='mu3', componant_function_number=np.int64(3), nested_conditional_transdimensional_params=['mu'], conditional_transdimensional_params=[], conditional_params=['n_gauss'], debug_print_out=True, latex_label='mu3', unit=None, boundary=None, minimum=0, maximum=100)\n",
      "23:26 bilby INFO    : sigma_g=10\n",
      "23:26 bilby INFO    : Analysis likelihood class: <class 'bilby.core.likelihood.GaussianLikelihood'>\n",
      "23:26 bilby INFO    : Analysis likelihood noise evidence: nan\n",
      "23:26 bilby INFO    : Single likelihood evaluation took 8.845e-04 s\n",
      "23:26 bilby INFO    : Using sampler Dynesty with kwargs {'nlive': 20, 'bound': 'live', 'sample': 'act-walk', 'periodic': None, 'reflective': None, 'update_interval': 600, 'first_update': None, 'npdim': None, 'rstate': None, 'queue_size': 1, 'pool': None, 'use_pool': None, 'live_points': None, 'logl_args': None, 'logl_kwargs': None, 'ptform_args': None, 'ptform_kwargs': None, 'gradient': None, 'grad_args': None, 'grad_kwargs': None, 'compute_jac': False, 'enlarge': None, 'bootstrap': None, 'walks': 100, 'facc': 0.2, 'slices': None, 'fmove': 0.9, 'max_move': 100, 'update_func': None, 'ncdim': None, 'blob': False, 'save_history': False, 'history_filename': None, 'maxiter': None, 'maxcall': None, 'dlogz': 0.1, 'logl_max': inf, 'n_effective': None, 'add_live': True, 'print_progress': True, 'print_func': <bound method Dynesty._print_func of <bilby.core.sampler.dynesty.Dynesty object at 0x39b719c50>>, 'save_bounds': False, 'checkpoint_file': None, 'checkpoint_every': 60, 'resume': False, 'seed': None}\n",
      "23:26 bilby INFO    : Global meta data was removed from the result object for compatibility. Use the `BILBY_INCLUDE_GLOBAL_METADATA` environment variable to include it. This behaviour will be removed in a future release. For more details see: https://bilby-dev.github.io/bilby/faq.html#global-meta-data\n",
      "23:26 bilby INFO    : Checkpoint every check_point_delta_t = 600s\n",
      "23:26 bilby INFO    : Using dynesty version 2.1.5\n",
      "23:26 bilby INFO    : Using the bilby-implemented act-walk sampling tracking the autocorrelation function and thinning by 2 with maximum length 10000\n",
      "23:26 bilby INFO    : Generating initial points from the prior\n"
     ]
    },
    {
     "name": "stdout",
     "output_type": "stream",
     "text": [
      "249it [00:14, 13.19it/s, bound:15 nc: 40 ncall:9.9e+03 eff:2.5% logz=462.96+/-0.63 dlogz:0.111>0.1]"
     ]
    },
    {
     "name": "stderr",
     "output_type": "stream",
     "text": [
      "23:26 bilby INFO    : Written checkpoint file outdir/calibration_example_resume.pickle\n"
     ]
    },
    {
     "name": "stdout",
     "output_type": "stream",
     "text": [
      "251it [00:16, 15.40it/s, bound:15 nc:  1 ncall:1.0e+04 eff:2.7% logz=463.06+/-0.63 dlogz:0.00439>0.1]"
     ]
    },
    {
     "name": "stderr",
     "output_type": "stream",
     "text": [
      "23:26 bilby INFO    : Rejection sampling nested samples to obtain 69 posterior samples\n",
      "23:26 bilby INFO    : Sampling time: 0:00:16.233063\n",
      "23:26 bilby INFO    : Summary of results:\n",
      "nsamples: 69\n",
      "ln_noise_evidence:    nan\n",
      "ln_evidence: 463.056 +/-  0.694\n",
      "ln_bayes_factor:    nan +/-  0.694\n",
      "\n",
      "23:26 bilby INFO    : Running for label 'calibration_example', output will be saved to 'outdir'\n"
     ]
    },
    {
     "name": "stdout",
     "output_type": "stream",
     "text": [
      "\n",
      "\n",
      "n = 2\n"
     ]
    },
    {
     "name": "stderr",
     "output_type": "stream",
     "text": [
      "23:26 bilby INFO    : Analysis priors:\n",
      "23:26 bilby INFO    : n_gauss=DiscreteUniform(minimum=1, maximum=4, name='n_gauss', latex_label='n_gauss', unit=None, boundary=None)\n",
      "23:26 bilby INFO    : mu0=TransdimensionalConditionalUniform(name='mu0', componant_function_number=np.int64(0), nested_conditional_transdimensional_params=['mu'], conditional_transdimensional_params=[], conditional_params=['n_gauss'], debug_print_out=True, latex_label='mu0', unit=None, boundary=None, minimum=0, maximum=100)\n",
      "23:26 bilby INFO    : mu1=TransdimensionalConditionalUniform(name='mu1', componant_function_number=np.int64(1), nested_conditional_transdimensional_params=['mu'], conditional_transdimensional_params=[], conditional_params=['n_gauss'], debug_print_out=True, latex_label='mu1', unit=None, boundary=None, minimum=0, maximum=100)\n",
      "23:26 bilby INFO    : mu2=TransdimensionalConditionalUniform(name='mu2', componant_function_number=np.int64(2), nested_conditional_transdimensional_params=['mu'], conditional_transdimensional_params=[], conditional_params=['n_gauss'], debug_print_out=True, latex_label='mu2', unit=None, boundary=None, minimum=0, maximum=100)\n",
      "23:26 bilby INFO    : mu3=TransdimensionalConditionalUniform(name='mu3', componant_function_number=np.int64(3), nested_conditional_transdimensional_params=['mu'], conditional_transdimensional_params=[], conditional_params=['n_gauss'], debug_print_out=True, latex_label='mu3', unit=None, boundary=None, minimum=0, maximum=100)\n",
      "23:26 bilby INFO    : sigma_g=10\n",
      "23:26 bilby INFO    : Analysis likelihood class: <class 'bilby.core.likelihood.GaussianLikelihood'>\n",
      "23:26 bilby INFO    : Analysis likelihood noise evidence: nan\n",
      "23:26 bilby INFO    : Single likelihood evaluation took 8.178e-04 s\n",
      "23:26 bilby INFO    : Using sampler Dynesty with kwargs {'nlive': 20, 'bound': 'live', 'sample': 'act-walk', 'periodic': None, 'reflective': None, 'update_interval': 600, 'first_update': None, 'npdim': None, 'rstate': None, 'queue_size': 1, 'pool': None, 'use_pool': None, 'live_points': None, 'logl_args': None, 'logl_kwargs': None, 'ptform_args': None, 'ptform_kwargs': None, 'gradient': None, 'grad_args': None, 'grad_kwargs': None, 'compute_jac': False, 'enlarge': None, 'bootstrap': None, 'walks': 100, 'facc': 0.2, 'slices': None, 'fmove': 0.9, 'max_move': 100, 'update_func': None, 'ncdim': None, 'blob': False, 'save_history': False, 'history_filename': None, 'maxiter': None, 'maxcall': None, 'dlogz': 0.1, 'logl_max': inf, 'n_effective': None, 'add_live': True, 'print_progress': True, 'print_func': <bound method Dynesty._print_func of <bilby.core.sampler.dynesty.Dynesty object at 0x39caf1d50>>, 'save_bounds': False, 'checkpoint_file': None, 'checkpoint_every': 60, 'resume': False, 'seed': None}\n",
      "23:26 bilby INFO    : Global meta data was removed from the result object for compatibility. Use the `BILBY_INCLUDE_GLOBAL_METADATA` environment variable to include it. This behaviour will be removed in a future release. For more details see: https://bilby-dev.github.io/bilby/faq.html#global-meta-data\n",
      "23:26 bilby INFO    : Checkpoint every check_point_delta_t = 600s\n",
      "23:26 bilby INFO    : Using dynesty version 2.1.5\n",
      "23:26 bilby INFO    : Using the bilby-implemented act-walk sampling tracking the autocorrelation function and thinning by 2 with maximum length 10000\n",
      "23:26 bilby INFO    : Generating initial points from the prior\n"
     ]
    },
    {
     "name": "stdout",
     "output_type": "stream",
     "text": [
      "159it [00:05, 19.79it/s, bound:8 nc: 62 ncall:5.2e+03 eff:3.0% logz=484.91+/-0.47 dlogz:0.118>0.1]"
     ]
    },
    {
     "name": "stderr",
     "output_type": "stream",
     "text": [
      "23:26 bilby INFO    : Written checkpoint file outdir/calibration_example_resume.pickle\n"
     ]
    },
    {
     "name": "stdout",
     "output_type": "stream",
     "text": [
      "162it [00:07, 22.47it/s, bound:8 nc:  1 ncall:5.4e+03 eff:3.4% logz=485.01+/-0.47 dlogz:0.00439>0.1]"
     ]
    },
    {
     "name": "stderr",
     "output_type": "stream",
     "text": [
      "23:26 bilby INFO    : Rejection sampling nested samples to obtain 62 posterior samples\n",
      "23:26 bilby INFO    : Sampling time: 0:00:07.166050\n",
      "23:26 bilby INFO    : Summary of results:\n",
      "nsamples: 62\n",
      "ln_noise_evidence:    nan\n",
      "ln_evidence: 485.010 +/-  0.523\n",
      "ln_bayes_factor:    nan +/-  0.523\n",
      "\n",
      "23:26 bilby INFO    : Running for label 'calibration_example', output will be saved to 'outdir'\n"
     ]
    },
    {
     "name": "stdout",
     "output_type": "stream",
     "text": [
      "\n",
      "\n",
      "n = 1\n"
     ]
    },
    {
     "name": "stderr",
     "output_type": "stream",
     "text": [
      "23:26 bilby INFO    : Analysis priors:\n",
      "23:26 bilby INFO    : n_gauss=DiscreteUniform(minimum=1, maximum=4, name='n_gauss', latex_label='n_gauss', unit=None, boundary=None)\n",
      "23:26 bilby INFO    : mu0=TransdimensionalConditionalUniform(name='mu0', componant_function_number=np.int64(0), nested_conditional_transdimensional_params=['mu'], conditional_transdimensional_params=[], conditional_params=['n_gauss'], debug_print_out=True, latex_label='mu0', unit=None, boundary=None, minimum=0, maximum=100)\n",
      "23:26 bilby INFO    : mu1=TransdimensionalConditionalUniform(name='mu1', componant_function_number=np.int64(1), nested_conditional_transdimensional_params=['mu'], conditional_transdimensional_params=[], conditional_params=['n_gauss'], debug_print_out=True, latex_label='mu1', unit=None, boundary=None, minimum=0, maximum=100)\n",
      "23:26 bilby INFO    : mu2=TransdimensionalConditionalUniform(name='mu2', componant_function_number=np.int64(2), nested_conditional_transdimensional_params=['mu'], conditional_transdimensional_params=[], conditional_params=['n_gauss'], debug_print_out=True, latex_label='mu2', unit=None, boundary=None, minimum=0, maximum=100)\n",
      "23:26 bilby INFO    : mu3=TransdimensionalConditionalUniform(name='mu3', componant_function_number=np.int64(3), nested_conditional_transdimensional_params=['mu'], conditional_transdimensional_params=[], conditional_params=['n_gauss'], debug_print_out=True, latex_label='mu3', unit=None, boundary=None, minimum=0, maximum=100)\n",
      "23:26 bilby INFO    : sigma_g=10\n",
      "23:26 bilby INFO    : Analysis likelihood class: <class 'bilby.core.likelihood.GaussianLikelihood'>\n",
      "23:26 bilby INFO    : Analysis likelihood noise evidence: nan\n",
      "23:26 bilby INFO    : Single likelihood evaluation took 7.180e-04 s\n",
      "23:26 bilby INFO    : Using sampler Dynesty with kwargs {'nlive': 20, 'bound': 'live', 'sample': 'act-walk', 'periodic': None, 'reflective': None, 'update_interval': 600, 'first_update': None, 'npdim': None, 'rstate': None, 'queue_size': 1, 'pool': None, 'use_pool': None, 'live_points': None, 'logl_args': None, 'logl_kwargs': None, 'ptform_args': None, 'ptform_kwargs': None, 'gradient': None, 'grad_args': None, 'grad_kwargs': None, 'compute_jac': False, 'enlarge': None, 'bootstrap': None, 'walks': 100, 'facc': 0.2, 'slices': None, 'fmove': 0.9, 'max_move': 100, 'update_func': None, 'ncdim': None, 'blob': False, 'save_history': False, 'history_filename': None, 'maxiter': None, 'maxcall': None, 'dlogz': 0.1, 'logl_max': inf, 'n_effective': None, 'add_live': True, 'print_progress': True, 'print_func': <bound method Dynesty._print_func of <bilby.core.sampler.dynesty.Dynesty object at 0x39fb58f90>>, 'save_bounds': False, 'checkpoint_file': None, 'checkpoint_every': 60, 'resume': False, 'seed': None}\n",
      "23:26 bilby INFO    : Global meta data was removed from the result object for compatibility. Use the `BILBY_INCLUDE_GLOBAL_METADATA` environment variable to include it. This behaviour will be removed in a future release. For more details see: https://bilby-dev.github.io/bilby/faq.html#global-meta-data\n",
      "23:26 bilby INFO    : Checkpoint every check_point_delta_t = 600s\n",
      "23:26 bilby INFO    : Using dynesty version 2.1.5\n",
      "23:26 bilby INFO    : Using the bilby-implemented act-walk sampling tracking the autocorrelation function and thinning by 2 with maximum length 10000\n",
      "23:26 bilby INFO    : Generating initial points from the prior\n"
     ]
    },
    {
     "name": "stdout",
     "output_type": "stream",
     "text": [
      "110it [00:01, 70.78it/s, bound:2 nc: 28 ncall:1.8e+03 eff:6.0% logz=479.35+/-0.36 dlogz:0.109>0.1]"
     ]
    },
    {
     "name": "stderr",
     "output_type": "stream",
     "text": [
      "23:26 bilby INFO    : Written checkpoint file outdir/calibration_example_resume.pickle\n"
     ]
    },
    {
     "name": "stdout",
     "output_type": "stream",
     "text": [
      "111it [00:02, 44.35it/s, bound:2 nc:  1 ncall:1.9e+03 eff:7.0% logz=479.45+/-0.35 dlogz:0.00447>0.1]"
     ]
    },
    {
     "name": "stderr",
     "output_type": "stream",
     "text": [
      "23:26 bilby INFO    : Rejection sampling nested samples to obtain 27 posterior samples\n",
      "23:26 bilby INFO    : Sampling time: 0:00:02.480042\n",
      "23:26 bilby INFO    : Summary of results:\n",
      "nsamples: 27\n",
      "ln_noise_evidence:    nan\n",
      "ln_evidence: 479.447 +/-  0.395\n",
      "ln_bayes_factor:    nan +/-  0.395\n",
      "\n",
      "23:26 bilby INFO    : Running for label 'calibration_example', output will be saved to 'outdir'\n"
     ]
    },
    {
     "name": "stdout",
     "output_type": "stream",
     "text": [
      "\n",
      "\n",
      "n = 3\n"
     ]
    },
    {
     "name": "stderr",
     "output_type": "stream",
     "text": [
      "23:26 bilby INFO    : Analysis priors:\n",
      "23:26 bilby INFO    : n_gauss=DiscreteUniform(minimum=1, maximum=4, name='n_gauss', latex_label='n_gauss', unit=None, boundary=None)\n",
      "23:26 bilby INFO    : mu0=TransdimensionalConditionalUniform(name='mu0', componant_function_number=np.int64(0), nested_conditional_transdimensional_params=['mu'], conditional_transdimensional_params=[], conditional_params=['n_gauss'], debug_print_out=True, latex_label='mu0', unit=None, boundary=None, minimum=0, maximum=100)\n",
      "23:26 bilby INFO    : mu1=TransdimensionalConditionalUniform(name='mu1', componant_function_number=np.int64(1), nested_conditional_transdimensional_params=['mu'], conditional_transdimensional_params=[], conditional_params=['n_gauss'], debug_print_out=True, latex_label='mu1', unit=None, boundary=None, minimum=0, maximum=100)\n",
      "23:26 bilby INFO    : mu2=TransdimensionalConditionalUniform(name='mu2', componant_function_number=np.int64(2), nested_conditional_transdimensional_params=['mu'], conditional_transdimensional_params=[], conditional_params=['n_gauss'], debug_print_out=True, latex_label='mu2', unit=None, boundary=None, minimum=0, maximum=100)\n",
      "23:26 bilby INFO    : mu3=TransdimensionalConditionalUniform(name='mu3', componant_function_number=np.int64(3), nested_conditional_transdimensional_params=['mu'], conditional_transdimensional_params=[], conditional_params=['n_gauss'], debug_print_out=True, latex_label='mu3', unit=None, boundary=None, minimum=0, maximum=100)\n",
      "23:26 bilby INFO    : sigma_g=10\n",
      "23:26 bilby INFO    : Analysis likelihood class: <class 'bilby.core.likelihood.GaussianLikelihood'>\n",
      "23:26 bilby INFO    : Analysis likelihood noise evidence: nan\n",
      "23:26 bilby INFO    : Single likelihood evaluation took 7.822e-04 s\n",
      "23:26 bilby INFO    : Using sampler Dynesty with kwargs {'nlive': 20, 'bound': 'live', 'sample': 'act-walk', 'periodic': None, 'reflective': None, 'update_interval': 600, 'first_update': None, 'npdim': None, 'rstate': None, 'queue_size': 1, 'pool': None, 'use_pool': None, 'live_points': None, 'logl_args': None, 'logl_kwargs': None, 'ptform_args': None, 'ptform_kwargs': None, 'gradient': None, 'grad_args': None, 'grad_kwargs': None, 'compute_jac': False, 'enlarge': None, 'bootstrap': None, 'walks': 100, 'facc': 0.2, 'slices': None, 'fmove': 0.9, 'max_move': 100, 'update_func': None, 'ncdim': None, 'blob': False, 'save_history': False, 'history_filename': None, 'maxiter': None, 'maxcall': None, 'dlogz': 0.1, 'logl_max': inf, 'n_effective': None, 'add_live': True, 'print_progress': True, 'print_func': <bound method Dynesty._print_func of <bilby.core.sampler.dynesty.Dynesty object at 0x3a8be2cd0>>, 'save_bounds': False, 'checkpoint_file': None, 'checkpoint_every': 60, 'resume': False, 'seed': None}\n",
      "23:26 bilby INFO    : Global meta data was removed from the result object for compatibility. Use the `BILBY_INCLUDE_GLOBAL_METADATA` environment variable to include it. This behaviour will be removed in a future release. For more details see: https://bilby-dev.github.io/bilby/faq.html#global-meta-data\n",
      "23:26 bilby INFO    : Checkpoint every check_point_delta_t = 600s\n",
      "23:26 bilby INFO    : Using dynesty version 2.1.5\n",
      "23:26 bilby INFO    : Using the bilby-implemented act-walk sampling tracking the autocorrelation function and thinning by 2 with maximum length 10000\n",
      "23:26 bilby INFO    : Generating initial points from the prior\n"
     ]
    },
    {
     "name": "stdout",
     "output_type": "stream",
     "text": [
      "135it [00:05, 15.17it/s, bound:6 nc: 52 ncall:4.4e+03 eff:3.1% logz=468.08+/-0.37 dlogz:0.175>0.1]"
     ]
    },
    {
     "name": "stderr",
     "output_type": "stream",
     "text": [
      "23:26 bilby INFO    : Written checkpoint file outdir/calibration_example_resume.pickle\n"
     ]
    },
    {
     "name": "stdout",
     "output_type": "stream",
     "text": [
      "146it [00:09, 16.03it/s, bound:7 nc:  1 ncall:5.0e+03 eff:3.4% logz=468.17+/-0.38 dlogz:0.0046>0.1]"
     ]
    },
    {
     "name": "stderr",
     "output_type": "stream",
     "text": [
      "23:26 bilby INFO    : Rejection sampling nested samples to obtain 57 posterior samples\n",
      "23:26 bilby INFO    : Sampling time: 0:00:09.047321\n",
      "23:26 bilby INFO    : Summary of results:\n",
      "nsamples: 57\n",
      "ln_noise_evidence:    nan\n",
      "ln_evidence: 468.171 +/-  0.412\n",
      "ln_bayes_factor:    nan +/-  0.412\n",
      "\n",
      "23:26 bilby INFO    : Running for label 'calibration_example', output will be saved to 'outdir'\n"
     ]
    },
    {
     "name": "stdout",
     "output_type": "stream",
     "text": [
      "\n",
      "\n",
      "n = 4\n"
     ]
    },
    {
     "name": "stderr",
     "output_type": "stream",
     "text": [
      "23:26 bilby INFO    : Analysis priors:\n",
      "23:26 bilby INFO    : n_gauss=DiscreteUniform(minimum=1, maximum=4, name='n_gauss', latex_label='n_gauss', unit=None, boundary=None)\n",
      "23:26 bilby INFO    : mu0=TransdimensionalConditionalUniform(name='mu0', componant_function_number=np.int64(0), nested_conditional_transdimensional_params=['mu'], conditional_transdimensional_params=[], conditional_params=['n_gauss'], debug_print_out=True, latex_label='mu0', unit=None, boundary=None, minimum=0, maximum=100)\n",
      "23:26 bilby INFO    : mu1=TransdimensionalConditionalUniform(name='mu1', componant_function_number=np.int64(1), nested_conditional_transdimensional_params=['mu'], conditional_transdimensional_params=[], conditional_params=['n_gauss'], debug_print_out=True, latex_label='mu1', unit=None, boundary=None, minimum=0, maximum=100)\n",
      "23:26 bilby INFO    : mu2=TransdimensionalConditionalUniform(name='mu2', componant_function_number=np.int64(2), nested_conditional_transdimensional_params=['mu'], conditional_transdimensional_params=[], conditional_params=['n_gauss'], debug_print_out=True, latex_label='mu2', unit=None, boundary=None, minimum=0, maximum=100)\n",
      "23:26 bilby INFO    : mu3=TransdimensionalConditionalUniform(name='mu3', componant_function_number=np.int64(3), nested_conditional_transdimensional_params=['mu'], conditional_transdimensional_params=[], conditional_params=['n_gauss'], debug_print_out=True, latex_label='mu3', unit=None, boundary=None, minimum=0, maximum=100)\n",
      "23:26 bilby INFO    : sigma_g=10\n",
      "23:26 bilby INFO    : Analysis likelihood class: <class 'bilby.core.likelihood.GaussianLikelihood'>\n",
      "23:26 bilby INFO    : Analysis likelihood noise evidence: nan\n",
      "23:26 bilby INFO    : Single likelihood evaluation took 7.683e-04 s\n",
      "23:26 bilby INFO    : Using sampler Dynesty with kwargs {'nlive': 20, 'bound': 'live', 'sample': 'act-walk', 'periodic': None, 'reflective': None, 'update_interval': 600, 'first_update': None, 'npdim': None, 'rstate': None, 'queue_size': 1, 'pool': None, 'use_pool': None, 'live_points': None, 'logl_args': None, 'logl_kwargs': None, 'ptform_args': None, 'ptform_kwargs': None, 'gradient': None, 'grad_args': None, 'grad_kwargs': None, 'compute_jac': False, 'enlarge': None, 'bootstrap': None, 'walks': 100, 'facc': 0.2, 'slices': None, 'fmove': 0.9, 'max_move': 100, 'update_func': None, 'ncdim': None, 'blob': False, 'save_history': False, 'history_filename': None, 'maxiter': None, 'maxcall': None, 'dlogz': 0.1, 'logl_max': inf, 'n_effective': None, 'add_live': True, 'print_progress': True, 'print_func': <bound method Dynesty._print_func of <bilby.core.sampler.dynesty.Dynesty object at 0x3aa1c55d0>>, 'save_bounds': False, 'checkpoint_file': None, 'checkpoint_every': 60, 'resume': False, 'seed': None}\n",
      "23:26 bilby INFO    : Global meta data was removed from the result object for compatibility. Use the `BILBY_INCLUDE_GLOBAL_METADATA` environment variable to include it. This behaviour will be removed in a future release. For more details see: https://bilby-dev.github.io/bilby/faq.html#global-meta-data\n",
      "23:26 bilby INFO    : Checkpoint every check_point_delta_t = 600s\n",
      "23:26 bilby INFO    : Using dynesty version 2.1.5\n",
      "23:26 bilby INFO    : Using the bilby-implemented act-walk sampling tracking the autocorrelation function and thinning by 2 with maximum length 10000\n",
      "23:26 bilby INFO    : Generating initial points from the prior\n"
     ]
    },
    {
     "name": "stdout",
     "output_type": "stream",
     "text": [
      "226it [00:13, 15.84it/s, bound:12 nc: 43 ncall:8.0e+03 eff:2.8% logz=516.22+/-0.57 dlogz:0.124>0.1]"
     ]
    },
    {
     "name": "stderr",
     "output_type": "stream",
     "text": [
      "23:27 bilby INFO    : Written checkpoint file outdir/calibration_example_resume.pickle\n"
     ]
    },
    {
     "name": "stdout",
     "output_type": "stream",
     "text": [
      "230it [00:14, 15.98it/s, bound:12 nc:  1 ncall:8.2e+03 eff:3.1% logz=516.32+/-0.59 dlogz:0.00446>0.1]"
     ]
    },
    {
     "name": "stderr",
     "output_type": "stream",
     "text": [
      "23:27 bilby INFO    : Rejection sampling nested samples to obtain 70 posterior samples\n",
      "23:27 bilby INFO    : Sampling time: 0:00:14.327886\n",
      "23:27 bilby INFO    : Summary of results:\n",
      "nsamples: 70\n",
      "ln_noise_evidence:    nan\n",
      "ln_evidence: 516.323 +/-  0.642\n",
      "ln_bayes_factor:    nan +/-  0.642\n",
      "\n",
      "23:27 bilby INFO    : Running for label 'calibration_example', output will be saved to 'outdir'\n"
     ]
    },
    {
     "name": "stdout",
     "output_type": "stream",
     "text": [
      "\n",
      "\n",
      "n = 4\n"
     ]
    },
    {
     "name": "stderr",
     "output_type": "stream",
     "text": [
      "23:27 bilby INFO    : Analysis priors:\n",
      "23:27 bilby INFO    : n_gauss=DiscreteUniform(minimum=1, maximum=4, name='n_gauss', latex_label='n_gauss', unit=None, boundary=None)\n",
      "23:27 bilby INFO    : mu0=TransdimensionalConditionalUniform(name='mu0', componant_function_number=np.int64(0), nested_conditional_transdimensional_params=['mu'], conditional_transdimensional_params=[], conditional_params=['n_gauss'], debug_print_out=True, latex_label='mu0', unit=None, boundary=None, minimum=0, maximum=100)\n",
      "23:27 bilby INFO    : mu1=TransdimensionalConditionalUniform(name='mu1', componant_function_number=np.int64(1), nested_conditional_transdimensional_params=['mu'], conditional_transdimensional_params=[], conditional_params=['n_gauss'], debug_print_out=True, latex_label='mu1', unit=None, boundary=None, minimum=0, maximum=100)\n",
      "23:27 bilby INFO    : mu2=TransdimensionalConditionalUniform(name='mu2', componant_function_number=np.int64(2), nested_conditional_transdimensional_params=['mu'], conditional_transdimensional_params=[], conditional_params=['n_gauss'], debug_print_out=True, latex_label='mu2', unit=None, boundary=None, minimum=0, maximum=100)\n",
      "23:27 bilby INFO    : mu3=TransdimensionalConditionalUniform(name='mu3', componant_function_number=np.int64(3), nested_conditional_transdimensional_params=['mu'], conditional_transdimensional_params=[], conditional_params=['n_gauss'], debug_print_out=True, latex_label='mu3', unit=None, boundary=None, minimum=0, maximum=100)\n",
      "23:27 bilby INFO    : sigma_g=10\n",
      "23:27 bilby INFO    : Analysis likelihood class: <class 'bilby.core.likelihood.GaussianLikelihood'>\n",
      "23:27 bilby INFO    : Analysis likelihood noise evidence: nan\n",
      "23:27 bilby INFO    : Single likelihood evaluation took 7.799e-04 s\n",
      "23:27 bilby INFO    : Using sampler Dynesty with kwargs {'nlive': 20, 'bound': 'live', 'sample': 'act-walk', 'periodic': None, 'reflective': None, 'update_interval': 600, 'first_update': None, 'npdim': None, 'rstate': None, 'queue_size': 1, 'pool': None, 'use_pool': None, 'live_points': None, 'logl_args': None, 'logl_kwargs': None, 'ptform_args': None, 'ptform_kwargs': None, 'gradient': None, 'grad_args': None, 'grad_kwargs': None, 'compute_jac': False, 'enlarge': None, 'bootstrap': None, 'walks': 100, 'facc': 0.2, 'slices': None, 'fmove': 0.9, 'max_move': 100, 'update_func': None, 'ncdim': None, 'blob': False, 'save_history': False, 'history_filename': None, 'maxiter': None, 'maxcall': None, 'dlogz': 0.1, 'logl_max': inf, 'n_effective': None, 'add_live': True, 'print_progress': True, 'print_func': <bound method Dynesty._print_func of <bilby.core.sampler.dynesty.Dynesty object at 0x3ac2ee190>>, 'save_bounds': False, 'checkpoint_file': None, 'checkpoint_every': 60, 'resume': False, 'seed': None}\n",
      "23:27 bilby INFO    : Global meta data was removed from the result object for compatibility. Use the `BILBY_INCLUDE_GLOBAL_METADATA` environment variable to include it. This behaviour will be removed in a future release. For more details see: https://bilby-dev.github.io/bilby/faq.html#global-meta-data\n",
      "23:27 bilby INFO    : Checkpoint every check_point_delta_t = 600s\n",
      "23:27 bilby INFO    : Using dynesty version 2.1.5\n",
      "23:27 bilby INFO    : Using the bilby-implemented act-walk sampling tracking the autocorrelation function and thinning by 2 with maximum length 10000\n",
      "23:27 bilby INFO    : Generating initial points from the prior\n"
     ]
    },
    {
     "name": "stdout",
     "output_type": "stream",
     "text": [
      "166it [00:11, 10.17it/s, bound:12 nc: 58 ncall:8.0e+03 eff:2.1% logz=465.21+/-0.49 dlogz:0.189>0.1]"
     ]
    },
    {
     "name": "stderr",
     "output_type": "stream",
     "text": [
      "23:27 bilby INFO    : Written checkpoint file outdir/calibration_example_resume.pickle\n"
     ]
    },
    {
     "name": "stdout",
     "output_type": "stream",
     "text": [
      "180it [00:12, 14.19it/s, bound:13 nc:  1 ncall:8.9e+03 eff:2.3% logz=465.36+/-0.50 dlogz:0.00452>0.1]"
     ]
    },
    {
     "name": "stderr",
     "output_type": "stream",
     "text": [
      "23:27 bilby INFO    : Rejection sampling nested samples to obtain 56 posterior samples\n",
      "23:27 bilby INFO    : Sampling time: 0:00:12.614076\n",
      "23:27 bilby INFO    : Summary of results:\n",
      "nsamples: 56\n",
      "ln_noise_evidence:    nan\n",
      "ln_evidence: 465.363 +/-  0.548\n",
      "ln_bayes_factor:    nan +/-  0.548\n",
      "\n",
      "23:27 bilby INFO    : Running for label 'calibration_example', output will be saved to 'outdir'\n"
     ]
    },
    {
     "name": "stdout",
     "output_type": "stream",
     "text": [
      "\n",
      "\n",
      "n = 4\n"
     ]
    },
    {
     "name": "stderr",
     "output_type": "stream",
     "text": [
      "23:27 bilby INFO    : Analysis priors:\n",
      "23:27 bilby INFO    : n_gauss=DiscreteUniform(minimum=1, maximum=4, name='n_gauss', latex_label='n_gauss', unit=None, boundary=None)\n",
      "23:27 bilby INFO    : mu0=TransdimensionalConditionalUniform(name='mu0', componant_function_number=np.int64(0), nested_conditional_transdimensional_params=['mu'], conditional_transdimensional_params=[], conditional_params=['n_gauss'], debug_print_out=True, latex_label='mu0', unit=None, boundary=None, minimum=0, maximum=100)\n",
      "23:27 bilby INFO    : mu1=TransdimensionalConditionalUniform(name='mu1', componant_function_number=np.int64(1), nested_conditional_transdimensional_params=['mu'], conditional_transdimensional_params=[], conditional_params=['n_gauss'], debug_print_out=True, latex_label='mu1', unit=None, boundary=None, minimum=0, maximum=100)\n",
      "23:27 bilby INFO    : mu2=TransdimensionalConditionalUniform(name='mu2', componant_function_number=np.int64(2), nested_conditional_transdimensional_params=['mu'], conditional_transdimensional_params=[], conditional_params=['n_gauss'], debug_print_out=True, latex_label='mu2', unit=None, boundary=None, minimum=0, maximum=100)\n",
      "23:27 bilby INFO    : mu3=TransdimensionalConditionalUniform(name='mu3', componant_function_number=np.int64(3), nested_conditional_transdimensional_params=['mu'], conditional_transdimensional_params=[], conditional_params=['n_gauss'], debug_print_out=True, latex_label='mu3', unit=None, boundary=None, minimum=0, maximum=100)\n",
      "23:27 bilby INFO    : sigma_g=10\n",
      "23:27 bilby INFO    : Analysis likelihood class: <class 'bilby.core.likelihood.GaussianLikelihood'>\n",
      "23:27 bilby INFO    : Analysis likelihood noise evidence: nan\n",
      "23:27 bilby INFO    : Single likelihood evaluation took 8.146e-04 s\n",
      "23:27 bilby INFO    : Using sampler Dynesty with kwargs {'nlive': 20, 'bound': 'live', 'sample': 'act-walk', 'periodic': None, 'reflective': None, 'update_interval': 600, 'first_update': None, 'npdim': None, 'rstate': None, 'queue_size': 1, 'pool': None, 'use_pool': None, 'live_points': None, 'logl_args': None, 'logl_kwargs': None, 'ptform_args': None, 'ptform_kwargs': None, 'gradient': None, 'grad_args': None, 'grad_kwargs': None, 'compute_jac': False, 'enlarge': None, 'bootstrap': None, 'walks': 100, 'facc': 0.2, 'slices': None, 'fmove': 0.9, 'max_move': 100, 'update_func': None, 'ncdim': None, 'blob': False, 'save_history': False, 'history_filename': None, 'maxiter': None, 'maxcall': None, 'dlogz': 0.1, 'logl_max': inf, 'n_effective': None, 'add_live': True, 'print_progress': True, 'print_func': <bound method Dynesty._print_func of <bilby.core.sampler.dynesty.Dynesty object at 0x3acc28ad0>>, 'save_bounds': False, 'checkpoint_file': None, 'checkpoint_every': 60, 'resume': False, 'seed': None}\n",
      "23:27 bilby INFO    : Global meta data was removed from the result object for compatibility. Use the `BILBY_INCLUDE_GLOBAL_METADATA` environment variable to include it. This behaviour will be removed in a future release. For more details see: https://bilby-dev.github.io/bilby/faq.html#global-meta-data\n",
      "23:27 bilby INFO    : Checkpoint every check_point_delta_t = 600s\n",
      "23:27 bilby INFO    : Using dynesty version 2.1.5\n",
      "23:27 bilby INFO    : Using the bilby-implemented act-walk sampling tracking the autocorrelation function and thinning by 2 with maximum length 10000\n",
      "23:27 bilby INFO    : Generating initial points from the prior\n"
     ]
    },
    {
     "name": "stdout",
     "output_type": "stream",
     "text": [
      "209it [00:16,  9.03it/s, bound:14 nc:101 ncall:9.2e+03 eff:2.3% logz=482.39+/-0.54 dlogz:0.118>0.1]"
     ]
    },
    {
     "name": "stderr",
     "output_type": "stream",
     "text": [
      "23:27 bilby INFO    : Written checkpoint file outdir/calibration_example_resume.pickle\n"
     ]
    },
    {
     "name": "stdout",
     "output_type": "stream",
     "text": [
      "212it [00:17, 12.04it/s, bound:15 nc:  1 ncall:9.5e+03 eff:2.4% logz=482.48+/-0.55 dlogz:0.00445>0.1]"
     ]
    },
    {
     "name": "stderr",
     "output_type": "stream",
     "text": [
      "23:27 bilby INFO    : Rejection sampling nested samples to obtain 64 posterior samples\n",
      "23:27 bilby INFO    : Sampling time: 0:00:17.518158\n",
      "23:27 bilby INFO    : Summary of results:\n",
      "nsamples: 64\n",
      "ln_noise_evidence:    nan\n",
      "ln_evidence: 482.477 +/-  0.607\n",
      "ln_bayes_factor:    nan +/-  0.607\n",
      "\n",
      "23:27 bilby INFO    : Running for label 'calibration_example', output will be saved to 'outdir'\n"
     ]
    },
    {
     "name": "stdout",
     "output_type": "stream",
     "text": [
      "\n",
      "\n",
      "n = 1\n"
     ]
    },
    {
     "name": "stderr",
     "output_type": "stream",
     "text": [
      "23:27 bilby INFO    : Analysis priors:\n",
      "23:27 bilby INFO    : n_gauss=DiscreteUniform(minimum=1, maximum=4, name='n_gauss', latex_label='n_gauss', unit=None, boundary=None)\n",
      "23:27 bilby INFO    : mu0=TransdimensionalConditionalUniform(name='mu0', componant_function_number=np.int64(0), nested_conditional_transdimensional_params=['mu'], conditional_transdimensional_params=[], conditional_params=['n_gauss'], debug_print_out=True, latex_label='mu0', unit=None, boundary=None, minimum=0, maximum=100)\n",
      "23:27 bilby INFO    : mu1=TransdimensionalConditionalUniform(name='mu1', componant_function_number=np.int64(1), nested_conditional_transdimensional_params=['mu'], conditional_transdimensional_params=[], conditional_params=['n_gauss'], debug_print_out=True, latex_label='mu1', unit=None, boundary=None, minimum=0, maximum=100)\n",
      "23:27 bilby INFO    : mu2=TransdimensionalConditionalUniform(name='mu2', componant_function_number=np.int64(2), nested_conditional_transdimensional_params=['mu'], conditional_transdimensional_params=[], conditional_params=['n_gauss'], debug_print_out=True, latex_label='mu2', unit=None, boundary=None, minimum=0, maximum=100)\n",
      "23:27 bilby INFO    : mu3=TransdimensionalConditionalUniform(name='mu3', componant_function_number=np.int64(3), nested_conditional_transdimensional_params=['mu'], conditional_transdimensional_params=[], conditional_params=['n_gauss'], debug_print_out=True, latex_label='mu3', unit=None, boundary=None, minimum=0, maximum=100)\n",
      "23:27 bilby INFO    : sigma_g=10\n",
      "23:27 bilby INFO    : Analysis likelihood class: <class 'bilby.core.likelihood.GaussianLikelihood'>\n",
      "23:27 bilby INFO    : Analysis likelihood noise evidence: nan\n",
      "23:27 bilby INFO    : Single likelihood evaluation took 7.910e-04 s\n",
      "23:27 bilby INFO    : Using sampler Dynesty with kwargs {'nlive': 20, 'bound': 'live', 'sample': 'act-walk', 'periodic': None, 'reflective': None, 'update_interval': 600, 'first_update': None, 'npdim': None, 'rstate': None, 'queue_size': 1, 'pool': None, 'use_pool': None, 'live_points': None, 'logl_args': None, 'logl_kwargs': None, 'ptform_args': None, 'ptform_kwargs': None, 'gradient': None, 'grad_args': None, 'grad_kwargs': None, 'compute_jac': False, 'enlarge': None, 'bootstrap': None, 'walks': 100, 'facc': 0.2, 'slices': None, 'fmove': 0.9, 'max_move': 100, 'update_func': None, 'ncdim': None, 'blob': False, 'save_history': False, 'history_filename': None, 'maxiter': None, 'maxcall': None, 'dlogz': 0.1, 'logl_max': inf, 'n_effective': None, 'add_live': True, 'print_progress': True, 'print_func': <bound method Dynesty._print_func of <bilby.core.sampler.dynesty.Dynesty object at 0x3c023e810>>, 'save_bounds': False, 'checkpoint_file': None, 'checkpoint_every': 60, 'resume': False, 'seed': None}\n",
      "23:27 bilby INFO    : Global meta data was removed from the result object for compatibility. Use the `BILBY_INCLUDE_GLOBAL_METADATA` environment variable to include it. This behaviour will be removed in a future release. For more details see: https://bilby-dev.github.io/bilby/faq.html#global-meta-data\n",
      "23:27 bilby INFO    : Checkpoint every check_point_delta_t = 600s\n",
      "23:27 bilby INFO    : Using dynesty version 2.1.5\n",
      "23:27 bilby INFO    : Using the bilby-implemented act-walk sampling tracking the autocorrelation function and thinning by 2 with maximum length 10000\n",
      "23:27 bilby INFO    : Generating initial points from the prior\n"
     ]
    },
    {
     "name": "stdout",
     "output_type": "stream",
     "text": [
      "114it [00:02, 38.74it/s, bound:4 nc: 18 ncall:3.0e+03 eff:3.9% logz=452.84+/-0.32 dlogz:0.129>0.1]"
     ]
    },
    {
     "name": "stderr",
     "output_type": "stream",
     "text": [
      "23:27 bilby INFO    : Written checkpoint file outdir/calibration_example_resume.pickle\n"
     ]
    },
    {
     "name": "stdout",
     "output_type": "stream",
     "text": [
      "119it [00:03, 32.90it/s, bound:4 nc:  1 ncall:3.1e+03 eff:4.6% logz=452.95+/-0.32 dlogz:0.00438>0.1]"
     ]
    },
    {
     "name": "stderr",
     "output_type": "stream",
     "text": [
      "23:27 bilby INFO    : Rejection sampling nested samples to obtain 34 posterior samples\n",
      "23:27 bilby INFO    : Sampling time: 0:00:03.586202\n",
      "23:27 bilby INFO    : Summary of results:\n",
      "nsamples: 34\n",
      "ln_noise_evidence:    nan\n",
      "ln_evidence: 452.949 +/-  0.363\n",
      "ln_bayes_factor:    nan +/-  0.363\n",
      "\n",
      "23:27 bilby INFO    : Running for label 'calibration_example', output will be saved to 'outdir'\n"
     ]
    },
    {
     "name": "stdout",
     "output_type": "stream",
     "text": [
      "\n",
      "\n",
      "n = 3\n"
     ]
    },
    {
     "name": "stderr",
     "output_type": "stream",
     "text": [
      "23:27 bilby INFO    : Analysis priors:\n",
      "23:27 bilby INFO    : n_gauss=DiscreteUniform(minimum=1, maximum=4, name='n_gauss', latex_label='n_gauss', unit=None, boundary=None)\n",
      "23:27 bilby INFO    : mu0=TransdimensionalConditionalUniform(name='mu0', componant_function_number=np.int64(0), nested_conditional_transdimensional_params=['mu'], conditional_transdimensional_params=[], conditional_params=['n_gauss'], debug_print_out=True, latex_label='mu0', unit=None, boundary=None, minimum=0, maximum=100)\n",
      "23:27 bilby INFO    : mu1=TransdimensionalConditionalUniform(name='mu1', componant_function_number=np.int64(1), nested_conditional_transdimensional_params=['mu'], conditional_transdimensional_params=[], conditional_params=['n_gauss'], debug_print_out=True, latex_label='mu1', unit=None, boundary=None, minimum=0, maximum=100)\n",
      "23:27 bilby INFO    : mu2=TransdimensionalConditionalUniform(name='mu2', componant_function_number=np.int64(2), nested_conditional_transdimensional_params=['mu'], conditional_transdimensional_params=[], conditional_params=['n_gauss'], debug_print_out=True, latex_label='mu2', unit=None, boundary=None, minimum=0, maximum=100)\n",
      "23:27 bilby INFO    : mu3=TransdimensionalConditionalUniform(name='mu3', componant_function_number=np.int64(3), nested_conditional_transdimensional_params=['mu'], conditional_transdimensional_params=[], conditional_params=['n_gauss'], debug_print_out=True, latex_label='mu3', unit=None, boundary=None, minimum=0, maximum=100)\n",
      "23:27 bilby INFO    : sigma_g=10\n",
      "23:27 bilby INFO    : Analysis likelihood class: <class 'bilby.core.likelihood.GaussianLikelihood'>\n",
      "23:27 bilby INFO    : Analysis likelihood noise evidence: nan\n",
      "23:27 bilby INFO    : Single likelihood evaluation took 8.081e-04 s\n",
      "23:27 bilby INFO    : Using sampler Dynesty with kwargs {'nlive': 20, 'bound': 'live', 'sample': 'act-walk', 'periodic': None, 'reflective': None, 'update_interval': 600, 'first_update': None, 'npdim': None, 'rstate': None, 'queue_size': 1, 'pool': None, 'use_pool': None, 'live_points': None, 'logl_args': None, 'logl_kwargs': None, 'ptform_args': None, 'ptform_kwargs': None, 'gradient': None, 'grad_args': None, 'grad_kwargs': None, 'compute_jac': False, 'enlarge': None, 'bootstrap': None, 'walks': 100, 'facc': 0.2, 'slices': None, 'fmove': 0.9, 'max_move': 100, 'update_func': None, 'ncdim': None, 'blob': False, 'save_history': False, 'history_filename': None, 'maxiter': None, 'maxcall': None, 'dlogz': 0.1, 'logl_max': inf, 'n_effective': None, 'add_live': True, 'print_progress': True, 'print_func': <bound method Dynesty._print_func of <bilby.core.sampler.dynesty.Dynesty object at 0x3c2438a50>>, 'save_bounds': False, 'checkpoint_file': None, 'checkpoint_every': 60, 'resume': False, 'seed': None}\n",
      "23:27 bilby INFO    : Global meta data was removed from the result object for compatibility. Use the `BILBY_INCLUDE_GLOBAL_METADATA` environment variable to include it. This behaviour will be removed in a future release. For more details see: https://bilby-dev.github.io/bilby/faq.html#global-meta-data\n",
      "23:27 bilby INFO    : Checkpoint every check_point_delta_t = 600s\n",
      "23:27 bilby INFO    : Using dynesty version 2.1.5\n",
      "23:27 bilby INFO    : Using the bilby-implemented act-walk sampling tracking the autocorrelation function and thinning by 2 with maximum length 10000\n",
      "23:27 bilby INFO    : Generating initial points from the prior\n"
     ]
    },
    {
     "name": "stdout",
     "output_type": "stream",
     "text": [
      "149it [00:06, 20.83it/s, bound:7 nc: 35 ncall:4.6e+03 eff:3.2% logz=448.32+/-0.42 dlogz:0.135>0.1]"
     ]
    },
    {
     "name": "stderr",
     "output_type": "stream",
     "text": [
      "23:27 bilby INFO    : Written checkpoint file outdir/calibration_example_resume.pickle\n"
     ]
    },
    {
     "name": "stdout",
     "output_type": "stream",
     "text": [
      "154it [00:08, 18.84it/s, bound:7 nc:  1 ncall:4.8e+03 eff:3.7% logz=448.43+/-0.43 dlogz:0.00457>0.1]"
     ]
    },
    {
     "name": "stderr",
     "output_type": "stream",
     "text": [
      "23:27 bilby INFO    : Rejection sampling nested samples to obtain 66 posterior samples\n",
      "23:27 bilby INFO    : Sampling time: 0:00:08.122944\n",
      "23:27 bilby INFO    : Summary of results:\n",
      "nsamples: 66\n",
      "ln_noise_evidence:    nan\n",
      "ln_evidence: 448.430 +/-  0.473\n",
      "ln_bayes_factor:    nan +/-  0.473\n",
      "\n",
      "23:27 bilby INFO    : Running for label 'calibration_example', output will be saved to 'outdir'\n"
     ]
    },
    {
     "name": "stdout",
     "output_type": "stream",
     "text": [
      "\n",
      "\n",
      "n = 3\n"
     ]
    },
    {
     "name": "stderr",
     "output_type": "stream",
     "text": [
      "23:27 bilby INFO    : Analysis priors:\n",
      "23:27 bilby INFO    : n_gauss=DiscreteUniform(minimum=1, maximum=4, name='n_gauss', latex_label='n_gauss', unit=None, boundary=None)\n",
      "23:27 bilby INFO    : mu0=TransdimensionalConditionalUniform(name='mu0', componant_function_number=np.int64(0), nested_conditional_transdimensional_params=['mu'], conditional_transdimensional_params=[], conditional_params=['n_gauss'], debug_print_out=True, latex_label='mu0', unit=None, boundary=None, minimum=0, maximum=100)\n",
      "23:27 bilby INFO    : mu1=TransdimensionalConditionalUniform(name='mu1', componant_function_number=np.int64(1), nested_conditional_transdimensional_params=['mu'], conditional_transdimensional_params=[], conditional_params=['n_gauss'], debug_print_out=True, latex_label='mu1', unit=None, boundary=None, minimum=0, maximum=100)\n",
      "23:27 bilby INFO    : mu2=TransdimensionalConditionalUniform(name='mu2', componant_function_number=np.int64(2), nested_conditional_transdimensional_params=['mu'], conditional_transdimensional_params=[], conditional_params=['n_gauss'], debug_print_out=True, latex_label='mu2', unit=None, boundary=None, minimum=0, maximum=100)\n",
      "23:27 bilby INFO    : mu3=TransdimensionalConditionalUniform(name='mu3', componant_function_number=np.int64(3), nested_conditional_transdimensional_params=['mu'], conditional_transdimensional_params=[], conditional_params=['n_gauss'], debug_print_out=True, latex_label='mu3', unit=None, boundary=None, minimum=0, maximum=100)\n",
      "23:27 bilby INFO    : sigma_g=10\n",
      "23:27 bilby INFO    : Analysis likelihood class: <class 'bilby.core.likelihood.GaussianLikelihood'>\n",
      "23:27 bilby INFO    : Analysis likelihood noise evidence: nan\n",
      "23:27 bilby INFO    : Single likelihood evaluation took 7.570e-04 s\n",
      "23:27 bilby INFO    : Using sampler Dynesty with kwargs {'nlive': 20, 'bound': 'live', 'sample': 'act-walk', 'periodic': None, 'reflective': None, 'update_interval': 600, 'first_update': None, 'npdim': None, 'rstate': None, 'queue_size': 1, 'pool': None, 'use_pool': None, 'live_points': None, 'logl_args': None, 'logl_kwargs': None, 'ptform_args': None, 'ptform_kwargs': None, 'gradient': None, 'grad_args': None, 'grad_kwargs': None, 'compute_jac': False, 'enlarge': None, 'bootstrap': None, 'walks': 100, 'facc': 0.2, 'slices': None, 'fmove': 0.9, 'max_move': 100, 'update_func': None, 'ncdim': None, 'blob': False, 'save_history': False, 'history_filename': None, 'maxiter': None, 'maxcall': None, 'dlogz': 0.1, 'logl_max': inf, 'n_effective': None, 'add_live': True, 'print_progress': True, 'print_func': <bound method Dynesty._print_func of <bilby.core.sampler.dynesty.Dynesty object at 0x3c2c99e90>>, 'save_bounds': False, 'checkpoint_file': None, 'checkpoint_every': 60, 'resume': False, 'seed': None}\n",
      "23:27 bilby INFO    : Global meta data was removed from the result object for compatibility. Use the `BILBY_INCLUDE_GLOBAL_METADATA` environment variable to include it. This behaviour will be removed in a future release. For more details see: https://bilby-dev.github.io/bilby/faq.html#global-meta-data\n",
      "23:27 bilby INFO    : Checkpoint every check_point_delta_t = 600s\n",
      "23:27 bilby INFO    : Using dynesty version 2.1.5\n",
      "23:27 bilby INFO    : Using the bilby-implemented act-walk sampling tracking the autocorrelation function and thinning by 2 with maximum length 10000\n",
      "23:27 bilby INFO    : Generating initial points from the prior\n"
     ]
    },
    {
     "name": "stdout",
     "output_type": "stream",
     "text": [
      "162it [00:07, 16.53it/s, bound:7 nc: 76 ncall:5.0e+03 eff:3.2% logz=487.17+/-0.44 dlogz:0.151>0.1]"
     ]
    },
    {
     "name": "stderr",
     "output_type": "stream",
     "text": [
      "23:28 bilby INFO    : Written checkpoint file outdir/calibration_example_resume.pickle\n"
     ]
    },
    {
     "name": "stdout",
     "output_type": "stream",
     "text": [
      "170it [00:08, 20.31it/s, bound:8 nc:  1 ncall:5.6e+03 eff:3.4% logz=487.29+/-0.45 dlogz:0.00446>0.1]"
     ]
    },
    {
     "name": "stderr",
     "output_type": "stream",
     "text": [
      "23:28 bilby INFO    : Rejection sampling nested samples to obtain 57 posterior samples\n",
      "23:28 bilby INFO    : Sampling time: 0:00:08.320772\n",
      "23:28 bilby INFO    : Summary of results:\n",
      "nsamples: 57\n",
      "ln_noise_evidence:    nan\n",
      "ln_evidence: 487.289 +/-  0.498\n",
      "ln_bayes_factor:    nan +/-  0.498\n",
      "\n",
      "23:28 bilby INFO    : Running for label 'calibration_example', output will be saved to 'outdir'\n"
     ]
    },
    {
     "name": "stdout",
     "output_type": "stream",
     "text": [
      "\n",
      "\n",
      "n = 1\n"
     ]
    },
    {
     "name": "stderr",
     "output_type": "stream",
     "text": [
      "23:28 bilby INFO    : Analysis priors:\n",
      "23:28 bilby INFO    : n_gauss=DiscreteUniform(minimum=1, maximum=4, name='n_gauss', latex_label='n_gauss', unit=None, boundary=None)\n",
      "23:28 bilby INFO    : mu0=TransdimensionalConditionalUniform(name='mu0', componant_function_number=np.int64(0), nested_conditional_transdimensional_params=['mu'], conditional_transdimensional_params=[], conditional_params=['n_gauss'], debug_print_out=True, latex_label='mu0', unit=None, boundary=None, minimum=0, maximum=100)\n",
      "23:28 bilby INFO    : mu1=TransdimensionalConditionalUniform(name='mu1', componant_function_number=np.int64(1), nested_conditional_transdimensional_params=['mu'], conditional_transdimensional_params=[], conditional_params=['n_gauss'], debug_print_out=True, latex_label='mu1', unit=None, boundary=None, minimum=0, maximum=100)\n",
      "23:28 bilby INFO    : mu2=TransdimensionalConditionalUniform(name='mu2', componant_function_number=np.int64(2), nested_conditional_transdimensional_params=['mu'], conditional_transdimensional_params=[], conditional_params=['n_gauss'], debug_print_out=True, latex_label='mu2', unit=None, boundary=None, minimum=0, maximum=100)\n",
      "23:28 bilby INFO    : mu3=TransdimensionalConditionalUniform(name='mu3', componant_function_number=np.int64(3), nested_conditional_transdimensional_params=['mu'], conditional_transdimensional_params=[], conditional_params=['n_gauss'], debug_print_out=True, latex_label='mu3', unit=None, boundary=None, minimum=0, maximum=100)\n",
      "23:28 bilby INFO    : sigma_g=10\n",
      "23:28 bilby INFO    : Analysis likelihood class: <class 'bilby.core.likelihood.GaussianLikelihood'>\n",
      "23:28 bilby INFO    : Analysis likelihood noise evidence: nan\n",
      "23:28 bilby INFO    : Single likelihood evaluation took 7.482e-04 s\n",
      "23:28 bilby INFO    : Using sampler Dynesty with kwargs {'nlive': 20, 'bound': 'live', 'sample': 'act-walk', 'periodic': None, 'reflective': None, 'update_interval': 600, 'first_update': None, 'npdim': None, 'rstate': None, 'queue_size': 1, 'pool': None, 'use_pool': None, 'live_points': None, 'logl_args': None, 'logl_kwargs': None, 'ptform_args': None, 'ptform_kwargs': None, 'gradient': None, 'grad_args': None, 'grad_kwargs': None, 'compute_jac': False, 'enlarge': None, 'bootstrap': None, 'walks': 100, 'facc': 0.2, 'slices': None, 'fmove': 0.9, 'max_move': 100, 'update_func': None, 'ncdim': None, 'blob': False, 'save_history': False, 'history_filename': None, 'maxiter': None, 'maxcall': None, 'dlogz': 0.1, 'logl_max': inf, 'n_effective': None, 'add_live': True, 'print_progress': True, 'print_func': <bound method Dynesty._print_func of <bilby.core.sampler.dynesty.Dynesty object at 0x3c5faf6d0>>, 'save_bounds': False, 'checkpoint_file': None, 'checkpoint_every': 60, 'resume': False, 'seed': None}\n",
      "23:28 bilby INFO    : Global meta data was removed from the result object for compatibility. Use the `BILBY_INCLUDE_GLOBAL_METADATA` environment variable to include it. This behaviour will be removed in a future release. For more details see: https://bilby-dev.github.io/bilby/faq.html#global-meta-data\n",
      "23:28 bilby INFO    : Checkpoint every check_point_delta_t = 600s\n",
      "23:28 bilby INFO    : Using dynesty version 2.1.5\n",
      "23:28 bilby INFO    : Using the bilby-implemented act-walk sampling tracking the autocorrelation function and thinning by 2 with maximum length 10000\n",
      "23:28 bilby INFO    : Generating initial points from the prior\n"
     ]
    },
    {
     "name": "stdout",
     "output_type": "stream",
     "text": [
      "106it [00:01, 68.71it/s, bound:2 nc: 22 ncall:1.5e+03 eff:6.9% logz=469.07+/-0.36 dlogz:0.169>0.1]"
     ]
    },
    {
     "name": "stderr",
     "output_type": "stream",
     "text": [
      "23:28 bilby INFO    : Written checkpoint file outdir/calibration_example_resume.pickle\n"
     ]
    },
    {
     "name": "stdout",
     "output_type": "stream",
     "text": [
      "116it [00:02, 46.38it/s, bound:2 nc:  1 ncall:1.8e+03 eff:7.7% logz=469.23+/-0.35 dlogz:0.00435>0.1]"
     ]
    },
    {
     "name": "stderr",
     "output_type": "stream",
     "text": [
      "23:28 bilby INFO    : Rejection sampling nested samples to obtain 40 posterior samples\n",
      "23:28 bilby INFO    : Sampling time: 0:00:02.479544\n",
      "23:28 bilby INFO    : Summary of results:\n",
      "nsamples: 40\n",
      "ln_noise_evidence:    nan\n",
      "ln_evidence: 469.225 +/-  0.394\n",
      "ln_bayes_factor:    nan +/-  0.394\n",
      "\n",
      "23:28 bilby INFO    : Running for label 'calibration_example', output will be saved to 'outdir'\n"
     ]
    },
    {
     "name": "stdout",
     "output_type": "stream",
     "text": [
      "\n",
      "\n",
      "n = 3\n"
     ]
    },
    {
     "name": "stderr",
     "output_type": "stream",
     "text": [
      "23:28 bilby INFO    : Analysis priors:\n",
      "23:28 bilby INFO    : n_gauss=DiscreteUniform(minimum=1, maximum=4, name='n_gauss', latex_label='n_gauss', unit=None, boundary=None)\n",
      "23:28 bilby INFO    : mu0=TransdimensionalConditionalUniform(name='mu0', componant_function_number=np.int64(0), nested_conditional_transdimensional_params=['mu'], conditional_transdimensional_params=[], conditional_params=['n_gauss'], debug_print_out=True, latex_label='mu0', unit=None, boundary=None, minimum=0, maximum=100)\n",
      "23:28 bilby INFO    : mu1=TransdimensionalConditionalUniform(name='mu1', componant_function_number=np.int64(1), nested_conditional_transdimensional_params=['mu'], conditional_transdimensional_params=[], conditional_params=['n_gauss'], debug_print_out=True, latex_label='mu1', unit=None, boundary=None, minimum=0, maximum=100)\n",
      "23:28 bilby INFO    : mu2=TransdimensionalConditionalUniform(name='mu2', componant_function_number=np.int64(2), nested_conditional_transdimensional_params=['mu'], conditional_transdimensional_params=[], conditional_params=['n_gauss'], debug_print_out=True, latex_label='mu2', unit=None, boundary=None, minimum=0, maximum=100)\n",
      "23:28 bilby INFO    : mu3=TransdimensionalConditionalUniform(name='mu3', componant_function_number=np.int64(3), nested_conditional_transdimensional_params=['mu'], conditional_transdimensional_params=[], conditional_params=['n_gauss'], debug_print_out=True, latex_label='mu3', unit=None, boundary=None, minimum=0, maximum=100)\n",
      "23:28 bilby INFO    : sigma_g=10\n",
      "23:28 bilby INFO    : Analysis likelihood class: <class 'bilby.core.likelihood.GaussianLikelihood'>\n",
      "23:28 bilby INFO    : Analysis likelihood noise evidence: nan\n",
      "23:28 bilby INFO    : Single likelihood evaluation took 7.006e-04 s\n",
      "23:28 bilby INFO    : Using sampler Dynesty with kwargs {'nlive': 20, 'bound': 'live', 'sample': 'act-walk', 'periodic': None, 'reflective': None, 'update_interval': 600, 'first_update': None, 'npdim': None, 'rstate': None, 'queue_size': 1, 'pool': None, 'use_pool': None, 'live_points': None, 'logl_args': None, 'logl_kwargs': None, 'ptform_args': None, 'ptform_kwargs': None, 'gradient': None, 'grad_args': None, 'grad_kwargs': None, 'compute_jac': False, 'enlarge': None, 'bootstrap': None, 'walks': 100, 'facc': 0.2, 'slices': None, 'fmove': 0.9, 'max_move': 100, 'update_func': None, 'ncdim': None, 'blob': False, 'save_history': False, 'history_filename': None, 'maxiter': None, 'maxcall': None, 'dlogz': 0.1, 'logl_max': inf, 'n_effective': None, 'add_live': True, 'print_progress': True, 'print_func': <bound method Dynesty._print_func of <bilby.core.sampler.dynesty.Dynesty object at 0x3c675d5d0>>, 'save_bounds': False, 'checkpoint_file': None, 'checkpoint_every': 60, 'resume': False, 'seed': None}\n",
      "23:28 bilby INFO    : Global meta data was removed from the result object for compatibility. Use the `BILBY_INCLUDE_GLOBAL_METADATA` environment variable to include it. This behaviour will be removed in a future release. For more details see: https://bilby-dev.github.io/bilby/faq.html#global-meta-data\n",
      "23:28 bilby INFO    : Checkpoint every check_point_delta_t = 600s\n",
      "23:28 bilby INFO    : Using dynesty version 2.1.5\n",
      "23:28 bilby INFO    : Using the bilby-implemented act-walk sampling tracking the autocorrelation function and thinning by 2 with maximum length 10000\n",
      "23:28 bilby INFO    : Generating initial points from the prior\n"
     ]
    },
    {
     "name": "stdout",
     "output_type": "stream",
     "text": [
      "215it [00:11, 12.08it/s, bound:11 nc: 50 ncall:7.6e+03 eff:2.8% logz=494.16+/-0.52 dlogz:0.164>0.1]"
     ]
    },
    {
     "name": "stderr",
     "output_type": "stream",
     "text": [
      "23:28 bilby INFO    : Written checkpoint file outdir/calibration_example_resume.pickle\n"
     ]
    },
    {
     "name": "stdout",
     "output_type": "stream",
     "text": [
      "226it [00:12, 17.47it/s, bound:12 nc:  1 ncall:8.1e+03 eff:3.0% logz=494.29+/-0.55 dlogz:0.00455>0.1]"
     ]
    },
    {
     "name": "stderr",
     "output_type": "stream",
     "text": [
      "23:28 bilby INFO    : Rejection sampling nested samples to obtain 87 posterior samples\n",
      "23:28 bilby INFO    : Sampling time: 0:00:12.877866\n",
      "23:28 bilby INFO    : Summary of results:\n",
      "nsamples: 87\n",
      "ln_noise_evidence:    nan\n",
      "ln_evidence: 494.286 +/-  0.600\n",
      "ln_bayes_factor:    nan +/-  0.600\n",
      "\n",
      "23:28 bilby INFO    : Running for label 'calibration_example', output will be saved to 'outdir'\n"
     ]
    },
    {
     "name": "stdout",
     "output_type": "stream",
     "text": [
      "\n",
      "\n",
      "n = 1\n"
     ]
    },
    {
     "name": "stderr",
     "output_type": "stream",
     "text": [
      "23:28 bilby INFO    : Analysis priors:\n",
      "23:28 bilby INFO    : n_gauss=DiscreteUniform(minimum=1, maximum=4, name='n_gauss', latex_label='n_gauss', unit=None, boundary=None)\n",
      "23:28 bilby INFO    : mu0=TransdimensionalConditionalUniform(name='mu0', componant_function_number=np.int64(0), nested_conditional_transdimensional_params=['mu'], conditional_transdimensional_params=[], conditional_params=['n_gauss'], debug_print_out=True, latex_label='mu0', unit=None, boundary=None, minimum=0, maximum=100)\n",
      "23:28 bilby INFO    : mu1=TransdimensionalConditionalUniform(name='mu1', componant_function_number=np.int64(1), nested_conditional_transdimensional_params=['mu'], conditional_transdimensional_params=[], conditional_params=['n_gauss'], debug_print_out=True, latex_label='mu1', unit=None, boundary=None, minimum=0, maximum=100)\n",
      "23:28 bilby INFO    : mu2=TransdimensionalConditionalUniform(name='mu2', componant_function_number=np.int64(2), nested_conditional_transdimensional_params=['mu'], conditional_transdimensional_params=[], conditional_params=['n_gauss'], debug_print_out=True, latex_label='mu2', unit=None, boundary=None, minimum=0, maximum=100)\n",
      "23:28 bilby INFO    : mu3=TransdimensionalConditionalUniform(name='mu3', componant_function_number=np.int64(3), nested_conditional_transdimensional_params=['mu'], conditional_transdimensional_params=[], conditional_params=['n_gauss'], debug_print_out=True, latex_label='mu3', unit=None, boundary=None, minimum=0, maximum=100)\n",
      "23:28 bilby INFO    : sigma_g=10\n",
      "23:28 bilby INFO    : Analysis likelihood class: <class 'bilby.core.likelihood.GaussianLikelihood'>\n",
      "23:28 bilby INFO    : Analysis likelihood noise evidence: nan\n",
      "23:28 bilby INFO    : Single likelihood evaluation took 7.626e-04 s\n",
      "23:28 bilby INFO    : Using sampler Dynesty with kwargs {'nlive': 20, 'bound': 'live', 'sample': 'act-walk', 'periodic': None, 'reflective': None, 'update_interval': 600, 'first_update': None, 'npdim': None, 'rstate': None, 'queue_size': 1, 'pool': None, 'use_pool': None, 'live_points': None, 'logl_args': None, 'logl_kwargs': None, 'ptform_args': None, 'ptform_kwargs': None, 'gradient': None, 'grad_args': None, 'grad_kwargs': None, 'compute_jac': False, 'enlarge': None, 'bootstrap': None, 'walks': 100, 'facc': 0.2, 'slices': None, 'fmove': 0.9, 'max_move': 100, 'update_func': None, 'ncdim': None, 'blob': False, 'save_history': False, 'history_filename': None, 'maxiter': None, 'maxcall': None, 'dlogz': 0.1, 'logl_max': inf, 'n_effective': None, 'add_live': True, 'print_progress': True, 'print_func': <bound method Dynesty._print_func of <bilby.core.sampler.dynesty.Dynesty object at 0x3c8bb3e10>>, 'save_bounds': False, 'checkpoint_file': None, 'checkpoint_every': 60, 'resume': False, 'seed': None}\n",
      "23:28 bilby INFO    : Global meta data was removed from the result object for compatibility. Use the `BILBY_INCLUDE_GLOBAL_METADATA` environment variable to include it. This behaviour will be removed in a future release. For more details see: https://bilby-dev.github.io/bilby/faq.html#global-meta-data\n",
      "23:28 bilby INFO    : Checkpoint every check_point_delta_t = 600s\n",
      "23:28 bilby INFO    : Using dynesty version 2.1.5\n",
      "23:28 bilby INFO    : Using the bilby-implemented act-walk sampling tracking the autocorrelation function and thinning by 2 with maximum length 10000\n",
      "23:28 bilby INFO    : Generating initial points from the prior\n"
     ]
    },
    {
     "name": "stdout",
     "output_type": "stream",
     "text": [
      "110it [00:01, 51.71it/s, bound:2 nc: 37 ncall:1.6e+03 eff:7.1% logz=461.89+/-0.34 dlogz:0.109>0.1]"
     ]
    },
    {
     "name": "stderr",
     "output_type": "stream",
     "text": [
      "23:28 bilby INFO    : Written checkpoint file outdir/calibration_example_resume.pickle\n"
     ]
    },
    {
     "name": "stdout",
     "output_type": "stream",
     "text": [
      "111it [00:02, 40.67it/s, bound:2 nc:  1 ncall:1.6e+03 eff:8.2% logz=461.99+/-0.33 dlogz:0.00448>0.1]"
     ]
    },
    {
     "name": "stderr",
     "output_type": "stream",
     "text": [
      "23:28 bilby INFO    : Rejection sampling nested samples to obtain 51 posterior samples\n",
      "23:28 bilby INFO    : Sampling time: 0:00:02.704765\n",
      "23:28 bilby INFO    : Summary of results:\n",
      "nsamples: 51\n",
      "ln_noise_evidence:    nan\n",
      "ln_evidence: 461.992 +/-  0.378\n",
      "ln_bayes_factor:    nan +/-  0.378\n",
      "\n",
      "23:28 bilby INFO    : Running for label 'calibration_example', output will be saved to 'outdir'\n"
     ]
    },
    {
     "name": "stdout",
     "output_type": "stream",
     "text": [
      "\n",
      "\n",
      "n = 4\n"
     ]
    },
    {
     "name": "stderr",
     "output_type": "stream",
     "text": [
      "23:28 bilby INFO    : Analysis priors:\n",
      "23:28 bilby INFO    : n_gauss=DiscreteUniform(minimum=1, maximum=4, name='n_gauss', latex_label='n_gauss', unit=None, boundary=None)\n",
      "23:28 bilby INFO    : mu0=TransdimensionalConditionalUniform(name='mu0', componant_function_number=np.int64(0), nested_conditional_transdimensional_params=['mu'], conditional_transdimensional_params=[], conditional_params=['n_gauss'], debug_print_out=True, latex_label='mu0', unit=None, boundary=None, minimum=0, maximum=100)\n",
      "23:28 bilby INFO    : mu1=TransdimensionalConditionalUniform(name='mu1', componant_function_number=np.int64(1), nested_conditional_transdimensional_params=['mu'], conditional_transdimensional_params=[], conditional_params=['n_gauss'], debug_print_out=True, latex_label='mu1', unit=None, boundary=None, minimum=0, maximum=100)\n",
      "23:28 bilby INFO    : mu2=TransdimensionalConditionalUniform(name='mu2', componant_function_number=np.int64(2), nested_conditional_transdimensional_params=['mu'], conditional_transdimensional_params=[], conditional_params=['n_gauss'], debug_print_out=True, latex_label='mu2', unit=None, boundary=None, minimum=0, maximum=100)\n",
      "23:28 bilby INFO    : mu3=TransdimensionalConditionalUniform(name='mu3', componant_function_number=np.int64(3), nested_conditional_transdimensional_params=['mu'], conditional_transdimensional_params=[], conditional_params=['n_gauss'], debug_print_out=True, latex_label='mu3', unit=None, boundary=None, minimum=0, maximum=100)\n",
      "23:28 bilby INFO    : sigma_g=10\n",
      "23:28 bilby INFO    : Analysis likelihood class: <class 'bilby.core.likelihood.GaussianLikelihood'>\n",
      "23:28 bilby INFO    : Analysis likelihood noise evidence: nan\n",
      "23:28 bilby INFO    : Single likelihood evaluation took 7.845e-04 s\n",
      "23:28 bilby INFO    : Using sampler Dynesty with kwargs {'nlive': 20, 'bound': 'live', 'sample': 'act-walk', 'periodic': None, 'reflective': None, 'update_interval': 600, 'first_update': None, 'npdim': None, 'rstate': None, 'queue_size': 1, 'pool': None, 'use_pool': None, 'live_points': None, 'logl_args': None, 'logl_kwargs': None, 'ptform_args': None, 'ptform_kwargs': None, 'gradient': None, 'grad_args': None, 'grad_kwargs': None, 'compute_jac': False, 'enlarge': None, 'bootstrap': None, 'walks': 100, 'facc': 0.2, 'slices': None, 'fmove': 0.9, 'max_move': 100, 'update_func': None, 'ncdim': None, 'blob': False, 'save_history': False, 'history_filename': None, 'maxiter': None, 'maxcall': None, 'dlogz': 0.1, 'logl_max': inf, 'n_effective': None, 'add_live': True, 'print_progress': True, 'print_func': <bound method Dynesty._print_func of <bilby.core.sampler.dynesty.Dynesty object at 0x3ca7dc510>>, 'save_bounds': False, 'checkpoint_file': None, 'checkpoint_every': 60, 'resume': False, 'seed': None}\n",
      "23:28 bilby INFO    : Global meta data was removed from the result object for compatibility. Use the `BILBY_INCLUDE_GLOBAL_METADATA` environment variable to include it. This behaviour will be removed in a future release. For more details see: https://bilby-dev.github.io/bilby/faq.html#global-meta-data\n",
      "23:28 bilby INFO    : Checkpoint every check_point_delta_t = 600s\n",
      "23:28 bilby INFO    : Using dynesty version 2.1.5\n",
      "23:28 bilby INFO    : Using the bilby-implemented act-walk sampling tracking the autocorrelation function and thinning by 2 with maximum length 10000\n",
      "23:28 bilby INFO    : Generating initial points from the prior\n"
     ]
    },
    {
     "name": "stdout",
     "output_type": "stream",
     "text": [
      "217it [00:14, 10.11it/s, bound:13 nc: 84 ncall:8.3e+03 eff:2.6% logz=439.59+/-0.56 dlogz:0.101>0.1]"
     ]
    },
    {
     "name": "stderr",
     "output_type": "stream",
     "text": [
      "23:28 bilby INFO    : Written checkpoint file outdir/calibration_example_resume.pickle\n"
     ]
    },
    {
     "name": "stdout",
     "output_type": "stream",
     "text": [
      "217it [00:15, 13.56it/s, bound:13 nc:  1 ncall:8.3e+03 eff:2.8% logz=439.67+/-0.57 dlogz:0.00444>0.1]"
     ]
    },
    {
     "name": "stderr",
     "output_type": "stream",
     "text": [
      "23:28 bilby INFO    : Rejection sampling nested samples to obtain 69 posterior samples\n",
      "23:28 bilby INFO    : Sampling time: 0:00:15.930621\n",
      "23:28 bilby INFO    : Summary of results:\n",
      "nsamples: 69\n",
      "ln_noise_evidence:    nan\n",
      "ln_evidence: 439.670 +/-  0.624\n",
      "ln_bayes_factor:    nan +/-  0.624\n",
      "\n",
      "23:28 bilby INFO    : Running for label 'calibration_example', output will be saved to 'outdir'\n"
     ]
    },
    {
     "name": "stdout",
     "output_type": "stream",
     "text": [
      "\n",
      "\n",
      "n = 1\n"
     ]
    },
    {
     "name": "stderr",
     "output_type": "stream",
     "text": [
      "23:28 bilby INFO    : Analysis priors:\n",
      "23:28 bilby INFO    : n_gauss=DiscreteUniform(minimum=1, maximum=4, name='n_gauss', latex_label='n_gauss', unit=None, boundary=None)\n",
      "23:28 bilby INFO    : mu0=TransdimensionalConditionalUniform(name='mu0', componant_function_number=np.int64(0), nested_conditional_transdimensional_params=['mu'], conditional_transdimensional_params=[], conditional_params=['n_gauss'], debug_print_out=True, latex_label='mu0', unit=None, boundary=None, minimum=0, maximum=100)\n",
      "23:28 bilby INFO    : mu1=TransdimensionalConditionalUniform(name='mu1', componant_function_number=np.int64(1), nested_conditional_transdimensional_params=['mu'], conditional_transdimensional_params=[], conditional_params=['n_gauss'], debug_print_out=True, latex_label='mu1', unit=None, boundary=None, minimum=0, maximum=100)\n",
      "23:28 bilby INFO    : mu2=TransdimensionalConditionalUniform(name='mu2', componant_function_number=np.int64(2), nested_conditional_transdimensional_params=['mu'], conditional_transdimensional_params=[], conditional_params=['n_gauss'], debug_print_out=True, latex_label='mu2', unit=None, boundary=None, minimum=0, maximum=100)\n",
      "23:28 bilby INFO    : mu3=TransdimensionalConditionalUniform(name='mu3', componant_function_number=np.int64(3), nested_conditional_transdimensional_params=['mu'], conditional_transdimensional_params=[], conditional_params=['n_gauss'], debug_print_out=True, latex_label='mu3', unit=None, boundary=None, minimum=0, maximum=100)\n",
      "23:28 bilby INFO    : sigma_g=10\n",
      "23:28 bilby INFO    : Analysis likelihood class: <class 'bilby.core.likelihood.GaussianLikelihood'>\n",
      "23:28 bilby INFO    : Analysis likelihood noise evidence: nan\n",
      "23:28 bilby INFO    : Single likelihood evaluation took 7.410e-04 s\n",
      "23:28 bilby INFO    : Using sampler Dynesty with kwargs {'nlive': 20, 'bound': 'live', 'sample': 'act-walk', 'periodic': None, 'reflective': None, 'update_interval': 600, 'first_update': None, 'npdim': None, 'rstate': None, 'queue_size': 1, 'pool': None, 'use_pool': None, 'live_points': None, 'logl_args': None, 'logl_kwargs': None, 'ptform_args': None, 'ptform_kwargs': None, 'gradient': None, 'grad_args': None, 'grad_kwargs': None, 'compute_jac': False, 'enlarge': None, 'bootstrap': None, 'walks': 100, 'facc': 0.2, 'slices': None, 'fmove': 0.9, 'max_move': 100, 'update_func': None, 'ncdim': None, 'blob': False, 'save_history': False, 'history_filename': None, 'maxiter': None, 'maxcall': None, 'dlogz': 0.1, 'logl_max': inf, 'n_effective': None, 'add_live': True, 'print_progress': True, 'print_func': <bound method Dynesty._print_func of <bilby.core.sampler.dynesty.Dynesty object at 0x3c8ebe110>>, 'save_bounds': False, 'checkpoint_file': None, 'checkpoint_every': 60, 'resume': False, 'seed': None}\n",
      "23:28 bilby INFO    : Global meta data was removed from the result object for compatibility. Use the `BILBY_INCLUDE_GLOBAL_METADATA` environment variable to include it. This behaviour will be removed in a future release. For more details see: https://bilby-dev.github.io/bilby/faq.html#global-meta-data\n",
      "23:28 bilby INFO    : Checkpoint every check_point_delta_t = 600s\n",
      "23:28 bilby INFO    : Using dynesty version 2.1.5\n",
      "23:28 bilby INFO    : Using the bilby-implemented act-walk sampling tracking the autocorrelation function and thinning by 2 with maximum length 10000\n",
      "23:28 bilby INFO    : Generating initial points from the prior\n"
     ]
    },
    {
     "name": "stdout",
     "output_type": "stream",
     "text": [
      "101it [00:02, 33.32it/s, bound:5 nc: 37 ncall:3.7e+03 eff:2.7% logz=464.34+/-0.33 dlogz:0.162>0.1]"
     ]
    },
    {
     "name": "stderr",
     "output_type": "stream",
     "text": [
      "23:28 bilby INFO    : Written checkpoint file outdir/calibration_example_resume.pickle\n"
     ]
    },
    {
     "name": "stdout",
     "output_type": "stream",
     "text": [
      "110it [00:03, 27.50it/s, bound:5 nc:  1 ncall:4.1e+03 eff:3.2% logz=464.49+/-0.32 dlogz:0.00439>0.1]"
     ]
    },
    {
     "name": "stderr",
     "output_type": "stream",
     "text": [
      "23:28 bilby INFO    : Rejection sampling nested samples to obtain 53 posterior samples\n",
      "23:28 bilby INFO    : Sampling time: 0:00:03.964181\n",
      "23:28 bilby INFO    : Summary of results:\n",
      "nsamples: 53\n",
      "ln_noise_evidence:    nan\n",
      "ln_evidence: 464.492 +/-  0.367\n",
      "ln_bayes_factor:    nan +/-  0.367\n",
      "\n",
      "23:28 bilby INFO    : Running for label 'calibration_example', output will be saved to 'outdir'\n"
     ]
    },
    {
     "name": "stdout",
     "output_type": "stream",
     "text": [
      "\n",
      "\n",
      "n = 3\n"
     ]
    },
    {
     "name": "stderr",
     "output_type": "stream",
     "text": [
      "23:28 bilby INFO    : Analysis priors:\n",
      "23:28 bilby INFO    : n_gauss=DiscreteUniform(minimum=1, maximum=4, name='n_gauss', latex_label='n_gauss', unit=None, boundary=None)\n",
      "23:28 bilby INFO    : mu0=TransdimensionalConditionalUniform(name='mu0', componant_function_number=np.int64(0), nested_conditional_transdimensional_params=['mu'], conditional_transdimensional_params=[], conditional_params=['n_gauss'], debug_print_out=True, latex_label='mu0', unit=None, boundary=None, minimum=0, maximum=100)\n",
      "23:28 bilby INFO    : mu1=TransdimensionalConditionalUniform(name='mu1', componant_function_number=np.int64(1), nested_conditional_transdimensional_params=['mu'], conditional_transdimensional_params=[], conditional_params=['n_gauss'], debug_print_out=True, latex_label='mu1', unit=None, boundary=None, minimum=0, maximum=100)\n",
      "23:28 bilby INFO    : mu2=TransdimensionalConditionalUniform(name='mu2', componant_function_number=np.int64(2), nested_conditional_transdimensional_params=['mu'], conditional_transdimensional_params=[], conditional_params=['n_gauss'], debug_print_out=True, latex_label='mu2', unit=None, boundary=None, minimum=0, maximum=100)\n",
      "23:28 bilby INFO    : mu3=TransdimensionalConditionalUniform(name='mu3', componant_function_number=np.int64(3), nested_conditional_transdimensional_params=['mu'], conditional_transdimensional_params=[], conditional_params=['n_gauss'], debug_print_out=True, latex_label='mu3', unit=None, boundary=None, minimum=0, maximum=100)\n",
      "23:28 bilby INFO    : sigma_g=10\n",
      "23:28 bilby INFO    : Analysis likelihood class: <class 'bilby.core.likelihood.GaussianLikelihood'>\n",
      "23:28 bilby INFO    : Analysis likelihood noise evidence: nan\n",
      "23:28 bilby INFO    : Single likelihood evaluation took 7.276e-04 s\n",
      "23:28 bilby INFO    : Using sampler Dynesty with kwargs {'nlive': 20, 'bound': 'live', 'sample': 'act-walk', 'periodic': None, 'reflective': None, 'update_interval': 600, 'first_update': None, 'npdim': None, 'rstate': None, 'queue_size': 1, 'pool': None, 'use_pool': None, 'live_points': None, 'logl_args': None, 'logl_kwargs': None, 'ptform_args': None, 'ptform_kwargs': None, 'gradient': None, 'grad_args': None, 'grad_kwargs': None, 'compute_jac': False, 'enlarge': None, 'bootstrap': None, 'walks': 100, 'facc': 0.2, 'slices': None, 'fmove': 0.9, 'max_move': 100, 'update_func': None, 'ncdim': None, 'blob': False, 'save_history': False, 'history_filename': None, 'maxiter': None, 'maxcall': None, 'dlogz': 0.1, 'logl_max': inf, 'n_effective': None, 'add_live': True, 'print_progress': True, 'print_func': <bound method Dynesty._print_func of <bilby.core.sampler.dynesty.Dynesty object at 0x3ccf8c450>>, 'save_bounds': False, 'checkpoint_file': None, 'checkpoint_every': 60, 'resume': False, 'seed': None}\n",
      "23:28 bilby INFO    : Global meta data was removed from the result object for compatibility. Use the `BILBY_INCLUDE_GLOBAL_METADATA` environment variable to include it. This behaviour will be removed in a future release. For more details see: https://bilby-dev.github.io/bilby/faq.html#global-meta-data\n",
      "23:28 bilby INFO    : Checkpoint every check_point_delta_t = 600s\n",
      "23:28 bilby INFO    : Using dynesty version 2.1.5\n",
      "23:28 bilby INFO    : Using the bilby-implemented act-walk sampling tracking the autocorrelation function and thinning by 2 with maximum length 10000\n",
      "23:28 bilby INFO    : Generating initial points from the prior\n"
     ]
    },
    {
     "name": "stdout",
     "output_type": "stream",
     "text": [
      "131it [00:08, 11.47it/s, bound:9 nc:120 ncall:5.6e+03 eff:2.3% logz=493.53+/-0.38 dlogz:0.198>0.1]"
     ]
    },
    {
     "name": "stderr",
     "output_type": "stream",
     "text": [
      "23:29 bilby INFO    : Written checkpoint file outdir/calibration_example_resume.pickle\n"
     ]
    },
    {
     "name": "stdout",
     "output_type": "stream",
     "text": [
      "144it [00:09, 15.33it/s, bound:10 nc:  1 ncall:6.6e+03 eff:2.5% logz=493.66+/-0.39 dlogz:0.0046>0.1]"
     ]
    },
    {
     "name": "stderr",
     "output_type": "stream",
     "text": [
      "23:29 bilby INFO    : Rejection sampling nested samples to obtain 59 posterior samples\n",
      "23:29 bilby INFO    : Sampling time: 0:00:09.326594\n",
      "23:29 bilby INFO    : Summary of results:\n",
      "nsamples: 59\n",
      "ln_noise_evidence:    nan\n",
      "ln_evidence: 493.661 +/-  0.433\n",
      "ln_bayes_factor:    nan +/-  0.433\n",
      "\n",
      "23:29 bilby INFO    : Running for label 'calibration_example', output will be saved to 'outdir'\n"
     ]
    },
    {
     "name": "stdout",
     "output_type": "stream",
     "text": [
      "\n",
      "\n",
      "n = 3\n"
     ]
    },
    {
     "name": "stderr",
     "output_type": "stream",
     "text": [
      "23:29 bilby INFO    : Analysis priors:\n",
      "23:29 bilby INFO    : n_gauss=DiscreteUniform(minimum=1, maximum=4, name='n_gauss', latex_label='n_gauss', unit=None, boundary=None)\n",
      "23:29 bilby INFO    : mu0=TransdimensionalConditionalUniform(name='mu0', componant_function_number=np.int64(0), nested_conditional_transdimensional_params=['mu'], conditional_transdimensional_params=[], conditional_params=['n_gauss'], debug_print_out=True, latex_label='mu0', unit=None, boundary=None, minimum=0, maximum=100)\n",
      "23:29 bilby INFO    : mu1=TransdimensionalConditionalUniform(name='mu1', componant_function_number=np.int64(1), nested_conditional_transdimensional_params=['mu'], conditional_transdimensional_params=[], conditional_params=['n_gauss'], debug_print_out=True, latex_label='mu1', unit=None, boundary=None, minimum=0, maximum=100)\n",
      "23:29 bilby INFO    : mu2=TransdimensionalConditionalUniform(name='mu2', componant_function_number=np.int64(2), nested_conditional_transdimensional_params=['mu'], conditional_transdimensional_params=[], conditional_params=['n_gauss'], debug_print_out=True, latex_label='mu2', unit=None, boundary=None, minimum=0, maximum=100)\n",
      "23:29 bilby INFO    : mu3=TransdimensionalConditionalUniform(name='mu3', componant_function_number=np.int64(3), nested_conditional_transdimensional_params=['mu'], conditional_transdimensional_params=[], conditional_params=['n_gauss'], debug_print_out=True, latex_label='mu3', unit=None, boundary=None, minimum=0, maximum=100)\n",
      "23:29 bilby INFO    : sigma_g=10\n",
      "23:29 bilby INFO    : Analysis likelihood class: <class 'bilby.core.likelihood.GaussianLikelihood'>\n",
      "23:29 bilby INFO    : Analysis likelihood noise evidence: nan\n",
      "23:29 bilby INFO    : Single likelihood evaluation took 7.379e-04 s\n",
      "23:29 bilby INFO    : Using sampler Dynesty with kwargs {'nlive': 20, 'bound': 'live', 'sample': 'act-walk', 'periodic': None, 'reflective': None, 'update_interval': 600, 'first_update': None, 'npdim': None, 'rstate': None, 'queue_size': 1, 'pool': None, 'use_pool': None, 'live_points': None, 'logl_args': None, 'logl_kwargs': None, 'ptform_args': None, 'ptform_kwargs': None, 'gradient': None, 'grad_args': None, 'grad_kwargs': None, 'compute_jac': False, 'enlarge': None, 'bootstrap': None, 'walks': 100, 'facc': 0.2, 'slices': None, 'fmove': 0.9, 'max_move': 100, 'update_func': None, 'ncdim': None, 'blob': False, 'save_history': False, 'history_filename': None, 'maxiter': None, 'maxcall': None, 'dlogz': 0.1, 'logl_max': inf, 'n_effective': None, 'add_live': True, 'print_progress': True, 'print_func': <bound method Dynesty._print_func of <bilby.core.sampler.dynesty.Dynesty object at 0x3cf7c6190>>, 'save_bounds': False, 'checkpoint_file': None, 'checkpoint_every': 60, 'resume': False, 'seed': None}\n",
      "23:29 bilby INFO    : Global meta data was removed from the result object for compatibility. Use the `BILBY_INCLUDE_GLOBAL_METADATA` environment variable to include it. This behaviour will be removed in a future release. For more details see: https://bilby-dev.github.io/bilby/faq.html#global-meta-data\n",
      "23:29 bilby INFO    : Checkpoint every check_point_delta_t = 600s\n",
      "23:29 bilby INFO    : Using dynesty version 2.1.5\n",
      "23:29 bilby INFO    : Using the bilby-implemented act-walk sampling tracking the autocorrelation function and thinning by 2 with maximum length 10000\n",
      "23:29 bilby INFO    : Generating initial points from the prior\n"
     ]
    },
    {
     "name": "stdout",
     "output_type": "stream",
     "text": [
      "182it [00:09, 17.43it/s, bound:12 nc: 42 ncall:7.7e+03 eff:2.4% logz=490.76+/-0.48 dlogz:0.188>0.1]"
     ]
    },
    {
     "name": "stderr",
     "output_type": "stream",
     "text": [
      "23:29 bilby INFO    : Written checkpoint file outdir/calibration_example_resume.pickle\n"
     ]
    },
    {
     "name": "stdout",
     "output_type": "stream",
     "text": [
      "196it [00:10, 18.37it/s, bound:12 nc:  1 ncall:8.1e+03 eff:2.7% logz=490.91+/-0.50 dlogz:0.00446>0.1]"
     ]
    },
    {
     "name": "stderr",
     "output_type": "stream",
     "text": [
      "23:29 bilby INFO    : Rejection sampling nested samples to obtain 66 posterior samples\n",
      "23:29 bilby INFO    : Sampling time: 0:00:10.612856\n",
      "23:29 bilby INFO    : Summary of results:\n",
      "nsamples: 66\n",
      "ln_noise_evidence:    nan\n",
      "ln_evidence: 490.908 +/-  0.553\n",
      "ln_bayes_factor:    nan +/-  0.553\n",
      "\n",
      "23:29 bilby INFO    : Running for label 'calibration_example', output will be saved to 'outdir'\n"
     ]
    },
    {
     "name": "stdout",
     "output_type": "stream",
     "text": [
      "\n",
      "\n",
      "n = 3\n"
     ]
    },
    {
     "name": "stderr",
     "output_type": "stream",
     "text": [
      "23:29 bilby INFO    : Analysis priors:\n",
      "23:29 bilby INFO    : n_gauss=DiscreteUniform(minimum=1, maximum=4, name='n_gauss', latex_label='n_gauss', unit=None, boundary=None)\n",
      "23:29 bilby INFO    : mu0=TransdimensionalConditionalUniform(name='mu0', componant_function_number=np.int64(0), nested_conditional_transdimensional_params=['mu'], conditional_transdimensional_params=[], conditional_params=['n_gauss'], debug_print_out=True, latex_label='mu0', unit=None, boundary=None, minimum=0, maximum=100)\n",
      "23:29 bilby INFO    : mu1=TransdimensionalConditionalUniform(name='mu1', componant_function_number=np.int64(1), nested_conditional_transdimensional_params=['mu'], conditional_transdimensional_params=[], conditional_params=['n_gauss'], debug_print_out=True, latex_label='mu1', unit=None, boundary=None, minimum=0, maximum=100)\n",
      "23:29 bilby INFO    : mu2=TransdimensionalConditionalUniform(name='mu2', componant_function_number=np.int64(2), nested_conditional_transdimensional_params=['mu'], conditional_transdimensional_params=[], conditional_params=['n_gauss'], debug_print_out=True, latex_label='mu2', unit=None, boundary=None, minimum=0, maximum=100)\n",
      "23:29 bilby INFO    : mu3=TransdimensionalConditionalUniform(name='mu3', componant_function_number=np.int64(3), nested_conditional_transdimensional_params=['mu'], conditional_transdimensional_params=[], conditional_params=['n_gauss'], debug_print_out=True, latex_label='mu3', unit=None, boundary=None, minimum=0, maximum=100)\n",
      "23:29 bilby INFO    : sigma_g=10\n",
      "23:29 bilby INFO    : Analysis likelihood class: <class 'bilby.core.likelihood.GaussianLikelihood'>\n",
      "23:29 bilby INFO    : Analysis likelihood noise evidence: nan\n",
      "23:29 bilby INFO    : Single likelihood evaluation took 7.399e-04 s\n",
      "23:29 bilby INFO    : Using sampler Dynesty with kwargs {'nlive': 20, 'bound': 'live', 'sample': 'act-walk', 'periodic': None, 'reflective': None, 'update_interval': 600, 'first_update': None, 'npdim': None, 'rstate': None, 'queue_size': 1, 'pool': None, 'use_pool': None, 'live_points': None, 'logl_args': None, 'logl_kwargs': None, 'ptform_args': None, 'ptform_kwargs': None, 'gradient': None, 'grad_args': None, 'grad_kwargs': None, 'compute_jac': False, 'enlarge': None, 'bootstrap': None, 'walks': 100, 'facc': 0.2, 'slices': None, 'fmove': 0.9, 'max_move': 100, 'update_func': None, 'ncdim': None, 'blob': False, 'save_history': False, 'history_filename': None, 'maxiter': None, 'maxcall': None, 'dlogz': 0.1, 'logl_max': inf, 'n_effective': None, 'add_live': True, 'print_progress': True, 'print_func': <bound method Dynesty._print_func of <bilby.core.sampler.dynesty.Dynesty object at 0x3d14ffe90>>, 'save_bounds': False, 'checkpoint_file': None, 'checkpoint_every': 60, 'resume': False, 'seed': None}\n",
      "23:29 bilby INFO    : Global meta data was removed from the result object for compatibility. Use the `BILBY_INCLUDE_GLOBAL_METADATA` environment variable to include it. This behaviour will be removed in a future release. For more details see: https://bilby-dev.github.io/bilby/faq.html#global-meta-data\n",
      "23:29 bilby INFO    : Checkpoint every check_point_delta_t = 600s\n",
      "23:29 bilby INFO    : Using dynesty version 2.1.5\n",
      "23:29 bilby INFO    : Using the bilby-implemented act-walk sampling tracking the autocorrelation function and thinning by 2 with maximum length 10000\n",
      "23:29 bilby INFO    : Generating initial points from the prior\n"
     ]
    },
    {
     "name": "stdout",
     "output_type": "stream",
     "text": [
      "155it [00:09, 12.17it/s, bound:11 nc:154 ncall:7.8e+03 eff:2.0% logz=477.89+/-0.43 dlogz:0.206>0.1]"
     ]
    },
    {
     "name": "stderr",
     "output_type": "stream",
     "text": [
      "23:29 bilby INFO    : Written checkpoint file outdir/calibration_example_resume.pickle\n"
     ]
    },
    {
     "name": "stdout",
     "output_type": "stream",
     "text": [
      "171it [00:10, 16.16it/s, bound:15 nc:  1 ncall:1.0e+04 eff:1.9% logz=478.02+/-0.44 dlogz:0.00455>0.1]"
     ]
    },
    {
     "name": "stderr",
     "output_type": "stream",
     "text": [
      "23:29 bilby INFO    : Rejection sampling nested samples to obtain 68 posterior samples\n",
      "23:29 bilby INFO    : Sampling time: 0:00:10.520971\n",
      "23:29 bilby INFO    : Summary of results:\n",
      "nsamples: 68\n",
      "ln_noise_evidence:    nan\n",
      "ln_evidence: 478.019 +/-  0.484\n",
      "ln_bayes_factor:    nan +/-  0.484\n",
      "\n",
      "23:29 bilby INFO    : Running for label 'calibration_example', output will be saved to 'outdir'\n"
     ]
    },
    {
     "name": "stdout",
     "output_type": "stream",
     "text": [
      "\n",
      "\n",
      "n = 3\n"
     ]
    },
    {
     "name": "stderr",
     "output_type": "stream",
     "text": [
      "23:29 bilby INFO    : Analysis priors:\n",
      "23:29 bilby INFO    : n_gauss=DiscreteUniform(minimum=1, maximum=4, name='n_gauss', latex_label='n_gauss', unit=None, boundary=None)\n",
      "23:29 bilby INFO    : mu0=TransdimensionalConditionalUniform(name='mu0', componant_function_number=np.int64(0), nested_conditional_transdimensional_params=['mu'], conditional_transdimensional_params=[], conditional_params=['n_gauss'], debug_print_out=True, latex_label='mu0', unit=None, boundary=None, minimum=0, maximum=100)\n",
      "23:29 bilby INFO    : mu1=TransdimensionalConditionalUniform(name='mu1', componant_function_number=np.int64(1), nested_conditional_transdimensional_params=['mu'], conditional_transdimensional_params=[], conditional_params=['n_gauss'], debug_print_out=True, latex_label='mu1', unit=None, boundary=None, minimum=0, maximum=100)\n",
      "23:29 bilby INFO    : mu2=TransdimensionalConditionalUniform(name='mu2', componant_function_number=np.int64(2), nested_conditional_transdimensional_params=['mu'], conditional_transdimensional_params=[], conditional_params=['n_gauss'], debug_print_out=True, latex_label='mu2', unit=None, boundary=None, minimum=0, maximum=100)\n",
      "23:29 bilby INFO    : mu3=TransdimensionalConditionalUniform(name='mu3', componant_function_number=np.int64(3), nested_conditional_transdimensional_params=['mu'], conditional_transdimensional_params=[], conditional_params=['n_gauss'], debug_print_out=True, latex_label='mu3', unit=None, boundary=None, minimum=0, maximum=100)\n",
      "23:29 bilby INFO    : sigma_g=10\n",
      "23:29 bilby INFO    : Analysis likelihood class: <class 'bilby.core.likelihood.GaussianLikelihood'>\n",
      "23:29 bilby INFO    : Analysis likelihood noise evidence: nan\n",
      "23:29 bilby INFO    : Single likelihood evaluation took 8.137e-04 s\n",
      "23:29 bilby INFO    : Using sampler Dynesty with kwargs {'nlive': 20, 'bound': 'live', 'sample': 'act-walk', 'periodic': None, 'reflective': None, 'update_interval': 600, 'first_update': None, 'npdim': None, 'rstate': None, 'queue_size': 1, 'pool': None, 'use_pool': None, 'live_points': None, 'logl_args': None, 'logl_kwargs': None, 'ptform_args': None, 'ptform_kwargs': None, 'gradient': None, 'grad_args': None, 'grad_kwargs': None, 'compute_jac': False, 'enlarge': None, 'bootstrap': None, 'walks': 100, 'facc': 0.2, 'slices': None, 'fmove': 0.9, 'max_move': 100, 'update_func': None, 'ncdim': None, 'blob': False, 'save_history': False, 'history_filename': None, 'maxiter': None, 'maxcall': None, 'dlogz': 0.1, 'logl_max': inf, 'n_effective': None, 'add_live': True, 'print_progress': True, 'print_func': <bound method Dynesty._print_func of <bilby.core.sampler.dynesty.Dynesty object at 0x3d1580d10>>, 'save_bounds': False, 'checkpoint_file': None, 'checkpoint_every': 60, 'resume': False, 'seed': None}\n",
      "23:29 bilby INFO    : Global meta data was removed from the result object for compatibility. Use the `BILBY_INCLUDE_GLOBAL_METADATA` environment variable to include it. This behaviour will be removed in a future release. For more details see: https://bilby-dev.github.io/bilby/faq.html#global-meta-data\n",
      "23:29 bilby INFO    : Checkpoint every check_point_delta_t = 600s\n",
      "23:29 bilby INFO    : Using dynesty version 2.1.5\n",
      "23:29 bilby INFO    : Using the bilby-implemented act-walk sampling tracking the autocorrelation function and thinning by 2 with maximum length 10000\n",
      "23:29 bilby INFO    : Generating initial points from the prior\n"
     ]
    },
    {
     "name": "stdout",
     "output_type": "stream",
     "text": [
      "181it [00:13,  9.18it/s, bound:11 nc: 59 ncall:7.8e+03 eff:2.3% logz=480.01+/-0.49 dlogz:0.121>0.1]"
     ]
    },
    {
     "name": "stderr",
     "output_type": "stream",
     "text": [
      "23:29 bilby INFO    : Written checkpoint file outdir/calibration_example_resume.pickle\n"
     ]
    },
    {
     "name": "stdout",
     "output_type": "stream",
     "text": [
      "184it [00:14, 12.52it/s, bound:12 nc:  1 ncall:8.1e+03 eff:2.5% logz=480.10+/-0.50 dlogz:0.00459>0.1]"
     ]
    },
    {
     "name": "stderr",
     "output_type": "stream",
     "text": [
      "23:29 bilby INFO    : Rejection sampling nested samples to obtain 63 posterior samples\n",
      "23:29 bilby INFO    : Sampling time: 0:00:14.619722\n",
      "23:29 bilby INFO    : Summary of results:\n",
      "nsamples: 63\n",
      "ln_noise_evidence:    nan\n",
      "ln_evidence: 480.096 +/-  0.544\n",
      "ln_bayes_factor:    nan +/-  0.544\n",
      "\n",
      "23:29 bilby INFO    : Running for label 'calibration_example', output will be saved to 'outdir'\n"
     ]
    },
    {
     "name": "stdout",
     "output_type": "stream",
     "text": [
      "\n",
      "\n",
      "n = 4\n"
     ]
    },
    {
     "name": "stderr",
     "output_type": "stream",
     "text": [
      "23:29 bilby INFO    : Analysis priors:\n",
      "23:29 bilby INFO    : n_gauss=DiscreteUniform(minimum=1, maximum=4, name='n_gauss', latex_label='n_gauss', unit=None, boundary=None)\n",
      "23:29 bilby INFO    : mu0=TransdimensionalConditionalUniform(name='mu0', componant_function_number=np.int64(0), nested_conditional_transdimensional_params=['mu'], conditional_transdimensional_params=[], conditional_params=['n_gauss'], debug_print_out=True, latex_label='mu0', unit=None, boundary=None, minimum=0, maximum=100)\n",
      "23:29 bilby INFO    : mu1=TransdimensionalConditionalUniform(name='mu1', componant_function_number=np.int64(1), nested_conditional_transdimensional_params=['mu'], conditional_transdimensional_params=[], conditional_params=['n_gauss'], debug_print_out=True, latex_label='mu1', unit=None, boundary=None, minimum=0, maximum=100)\n",
      "23:29 bilby INFO    : mu2=TransdimensionalConditionalUniform(name='mu2', componant_function_number=np.int64(2), nested_conditional_transdimensional_params=['mu'], conditional_transdimensional_params=[], conditional_params=['n_gauss'], debug_print_out=True, latex_label='mu2', unit=None, boundary=None, minimum=0, maximum=100)\n",
      "23:29 bilby INFO    : mu3=TransdimensionalConditionalUniform(name='mu3', componant_function_number=np.int64(3), nested_conditional_transdimensional_params=['mu'], conditional_transdimensional_params=[], conditional_params=['n_gauss'], debug_print_out=True, latex_label='mu3', unit=None, boundary=None, minimum=0, maximum=100)\n",
      "23:29 bilby INFO    : sigma_g=10\n",
      "23:29 bilby INFO    : Analysis likelihood class: <class 'bilby.core.likelihood.GaussianLikelihood'>\n",
      "23:29 bilby INFO    : Analysis likelihood noise evidence: nan\n",
      "23:29 bilby INFO    : Single likelihood evaluation took 8.161e-04 s\n",
      "23:29 bilby INFO    : Using sampler Dynesty with kwargs {'nlive': 20, 'bound': 'live', 'sample': 'act-walk', 'periodic': None, 'reflective': None, 'update_interval': 600, 'first_update': None, 'npdim': None, 'rstate': None, 'queue_size': 1, 'pool': None, 'use_pool': None, 'live_points': None, 'logl_args': None, 'logl_kwargs': None, 'ptform_args': None, 'ptform_kwargs': None, 'gradient': None, 'grad_args': None, 'grad_kwargs': None, 'compute_jac': False, 'enlarge': None, 'bootstrap': None, 'walks': 100, 'facc': 0.2, 'slices': None, 'fmove': 0.9, 'max_move': 100, 'update_func': None, 'ncdim': None, 'blob': False, 'save_history': False, 'history_filename': None, 'maxiter': None, 'maxcall': None, 'dlogz': 0.1, 'logl_max': inf, 'n_effective': None, 'add_live': True, 'print_progress': True, 'print_func': <bound method Dynesty._print_func of <bilby.core.sampler.dynesty.Dynesty object at 0x3d3bebb50>>, 'save_bounds': False, 'checkpoint_file': None, 'checkpoint_every': 60, 'resume': False, 'seed': None}\n",
      "23:29 bilby INFO    : Global meta data was removed from the result object for compatibility. Use the `BILBY_INCLUDE_GLOBAL_METADATA` environment variable to include it. This behaviour will be removed in a future release. For more details see: https://bilby-dev.github.io/bilby/faq.html#global-meta-data\n",
      "23:29 bilby INFO    : Checkpoint every check_point_delta_t = 600s\n",
      "23:29 bilby INFO    : Using dynesty version 2.1.5\n",
      "23:29 bilby INFO    : Using the bilby-implemented act-walk sampling tracking the autocorrelation function and thinning by 2 with maximum length 10000\n",
      "23:29 bilby INFO    : Generating initial points from the prior\n"
     ]
    },
    {
     "name": "stdout",
     "output_type": "stream",
     "text": [
      "228it [00:15, 10.92it/s, bound:14 nc: 51 ncall:9.5e+03 eff:2.4% logz=461.64+/-0.54 dlogz:0.108>0.1]"
     ]
    },
    {
     "name": "stderr",
     "output_type": "stream",
     "text": [
      "23:30 bilby INFO    : Written checkpoint file outdir/calibration_example_resume.pickle\n"
     ]
    },
    {
     "name": "stdout",
     "output_type": "stream",
     "text": [
      "229it [00:18, 12.06it/s, bound:15 nc:  1 ncall:9.6e+03 eff:2.6% logz=461.72+/-0.56 dlogz:0.00453>0.1]"
     ]
    },
    {
     "name": "stderr",
     "output_type": "stream",
     "text": [
      "23:30 bilby INFO    : Rejection sampling nested samples to obtain 87 posterior samples\n",
      "23:30 bilby INFO    : Sampling time: 0:00:18.908801\n",
      "23:30 bilby INFO    : Summary of results:\n",
      "nsamples: 87\n",
      "ln_noise_evidence:    nan\n",
      "ln_evidence: 461.721 +/-  0.614\n",
      "ln_bayes_factor:    nan +/-  0.614\n",
      "\n",
      "23:30 bilby INFO    : Running for label 'calibration_example', output will be saved to 'outdir'\n"
     ]
    },
    {
     "name": "stdout",
     "output_type": "stream",
     "text": [
      "\n",
      "\n",
      "n = 3\n"
     ]
    },
    {
     "name": "stderr",
     "output_type": "stream",
     "text": [
      "23:30 bilby INFO    : Analysis priors:\n",
      "23:30 bilby INFO    : n_gauss=DiscreteUniform(minimum=1, maximum=4, name='n_gauss', latex_label='n_gauss', unit=None, boundary=None)\n",
      "23:30 bilby INFO    : mu0=TransdimensionalConditionalUniform(name='mu0', componant_function_number=np.int64(0), nested_conditional_transdimensional_params=['mu'], conditional_transdimensional_params=[], conditional_params=['n_gauss'], debug_print_out=True, latex_label='mu0', unit=None, boundary=None, minimum=0, maximum=100)\n",
      "23:30 bilby INFO    : mu1=TransdimensionalConditionalUniform(name='mu1', componant_function_number=np.int64(1), nested_conditional_transdimensional_params=['mu'], conditional_transdimensional_params=[], conditional_params=['n_gauss'], debug_print_out=True, latex_label='mu1', unit=None, boundary=None, minimum=0, maximum=100)\n",
      "23:30 bilby INFO    : mu2=TransdimensionalConditionalUniform(name='mu2', componant_function_number=np.int64(2), nested_conditional_transdimensional_params=['mu'], conditional_transdimensional_params=[], conditional_params=['n_gauss'], debug_print_out=True, latex_label='mu2', unit=None, boundary=None, minimum=0, maximum=100)\n",
      "23:30 bilby INFO    : mu3=TransdimensionalConditionalUniform(name='mu3', componant_function_number=np.int64(3), nested_conditional_transdimensional_params=['mu'], conditional_transdimensional_params=[], conditional_params=['n_gauss'], debug_print_out=True, latex_label='mu3', unit=None, boundary=None, minimum=0, maximum=100)\n",
      "23:30 bilby INFO    : sigma_g=10\n",
      "23:30 bilby INFO    : Analysis likelihood class: <class 'bilby.core.likelihood.GaussianLikelihood'>\n",
      "23:30 bilby INFO    : Analysis likelihood noise evidence: nan\n",
      "23:30 bilby INFO    : Single likelihood evaluation took 8.046e-04 s\n",
      "23:30 bilby INFO    : Using sampler Dynesty with kwargs {'nlive': 20, 'bound': 'live', 'sample': 'act-walk', 'periodic': None, 'reflective': None, 'update_interval': 600, 'first_update': None, 'npdim': None, 'rstate': None, 'queue_size': 1, 'pool': None, 'use_pool': None, 'live_points': None, 'logl_args': None, 'logl_kwargs': None, 'ptform_args': None, 'ptform_kwargs': None, 'gradient': None, 'grad_args': None, 'grad_kwargs': None, 'compute_jac': False, 'enlarge': None, 'bootstrap': None, 'walks': 100, 'facc': 0.2, 'slices': None, 'fmove': 0.9, 'max_move': 100, 'update_func': None, 'ncdim': None, 'blob': False, 'save_history': False, 'history_filename': None, 'maxiter': None, 'maxcall': None, 'dlogz': 0.1, 'logl_max': inf, 'n_effective': None, 'add_live': True, 'print_progress': True, 'print_func': <bound method Dynesty._print_func of <bilby.core.sampler.dynesty.Dynesty object at 0x3cebefb10>>, 'save_bounds': False, 'checkpoint_file': None, 'checkpoint_every': 60, 'resume': False, 'seed': None}\n",
      "23:30 bilby INFO    : Global meta data was removed from the result object for compatibility. Use the `BILBY_INCLUDE_GLOBAL_METADATA` environment variable to include it. This behaviour will be removed in a future release. For more details see: https://bilby-dev.github.io/bilby/faq.html#global-meta-data\n",
      "23:30 bilby INFO    : Checkpoint every check_point_delta_t = 600s\n",
      "23:30 bilby INFO    : Using dynesty version 2.1.5\n",
      "23:30 bilby INFO    : Using the bilby-implemented act-walk sampling tracking the autocorrelation function and thinning by 2 with maximum length 10000\n",
      "23:30 bilby INFO    : Generating initial points from the prior\n"
     ]
    },
    {
     "name": "stdout",
     "output_type": "stream",
     "text": [
      "190it [00:27,  3.34it/s, bound:16 nc:140 ncall:1.0e+04 eff:1.8% logz=448.47+/-0.51 dlogz:0.1>0.1]  "
     ]
    },
    {
     "name": "stderr",
     "output_type": "stream",
     "text": [
      "23:30 bilby INFO    : Written checkpoint file outdir/calibration_example_resume.pickle\n"
     ]
    },
    {
     "name": "stdout",
     "output_type": "stream",
     "text": [
      "190it [00:28,  6.67it/s, bound:16 nc:  1 ncall:1.0e+04 eff:2.0% logz=448.55+/-0.51 dlogz:0.00439>0.1]"
     ]
    },
    {
     "name": "stderr",
     "output_type": "stream",
     "text": [
      "23:30 bilby INFO    : Rejection sampling nested samples to obtain 57 posterior samples\n",
      "23:30 bilby INFO    : Sampling time: 0:00:28.337744\n",
      "23:30 bilby INFO    : Summary of results:\n",
      "nsamples: 57\n",
      "ln_noise_evidence:    nan\n",
      "ln_evidence: 448.551 +/-  0.564\n",
      "ln_bayes_factor:    nan +/-  0.564\n",
      "\n",
      "23:30 bilby INFO    : Running for label 'calibration_example', output will be saved to 'outdir'\n"
     ]
    },
    {
     "name": "stdout",
     "output_type": "stream",
     "text": [
      "\n",
      "\n",
      "n = 3\n"
     ]
    },
    {
     "name": "stderr",
     "output_type": "stream",
     "text": [
      "23:30 bilby INFO    : Analysis priors:\n",
      "23:30 bilby INFO    : n_gauss=DiscreteUniform(minimum=1, maximum=4, name='n_gauss', latex_label='n_gauss', unit=None, boundary=None)\n",
      "23:30 bilby INFO    : mu0=TransdimensionalConditionalUniform(name='mu0', componant_function_number=np.int64(0), nested_conditional_transdimensional_params=['mu'], conditional_transdimensional_params=[], conditional_params=['n_gauss'], debug_print_out=True, latex_label='mu0', unit=None, boundary=None, minimum=0, maximum=100)\n",
      "23:30 bilby INFO    : mu1=TransdimensionalConditionalUniform(name='mu1', componant_function_number=np.int64(1), nested_conditional_transdimensional_params=['mu'], conditional_transdimensional_params=[], conditional_params=['n_gauss'], debug_print_out=True, latex_label='mu1', unit=None, boundary=None, minimum=0, maximum=100)\n",
      "23:30 bilby INFO    : mu2=TransdimensionalConditionalUniform(name='mu2', componant_function_number=np.int64(2), nested_conditional_transdimensional_params=['mu'], conditional_transdimensional_params=[], conditional_params=['n_gauss'], debug_print_out=True, latex_label='mu2', unit=None, boundary=None, minimum=0, maximum=100)\n",
      "23:30 bilby INFO    : mu3=TransdimensionalConditionalUniform(name='mu3', componant_function_number=np.int64(3), nested_conditional_transdimensional_params=['mu'], conditional_transdimensional_params=[], conditional_params=['n_gauss'], debug_print_out=True, latex_label='mu3', unit=None, boundary=None, minimum=0, maximum=100)\n",
      "23:30 bilby INFO    : sigma_g=10\n",
      "23:30 bilby INFO    : Analysis likelihood class: <class 'bilby.core.likelihood.GaussianLikelihood'>\n",
      "23:30 bilby INFO    : Analysis likelihood noise evidence: nan\n",
      "23:30 bilby INFO    : Single likelihood evaluation took 7.624e-04 s\n",
      "23:30 bilby INFO    : Using sampler Dynesty with kwargs {'nlive': 20, 'bound': 'live', 'sample': 'act-walk', 'periodic': None, 'reflective': None, 'update_interval': 600, 'first_update': None, 'npdim': None, 'rstate': None, 'queue_size': 1, 'pool': None, 'use_pool': None, 'live_points': None, 'logl_args': None, 'logl_kwargs': None, 'ptform_args': None, 'ptform_kwargs': None, 'gradient': None, 'grad_args': None, 'grad_kwargs': None, 'compute_jac': False, 'enlarge': None, 'bootstrap': None, 'walks': 100, 'facc': 0.2, 'slices': None, 'fmove': 0.9, 'max_move': 100, 'update_func': None, 'ncdim': None, 'blob': False, 'save_history': False, 'history_filename': None, 'maxiter': None, 'maxcall': None, 'dlogz': 0.1, 'logl_max': inf, 'n_effective': None, 'add_live': True, 'print_progress': True, 'print_func': <bound method Dynesty._print_func of <bilby.core.sampler.dynesty.Dynesty object at 0x3d76a2e90>>, 'save_bounds': False, 'checkpoint_file': None, 'checkpoint_every': 60, 'resume': False, 'seed': None}\n",
      "23:30 bilby INFO    : Global meta data was removed from the result object for compatibility. Use the `BILBY_INCLUDE_GLOBAL_METADATA` environment variable to include it. This behaviour will be removed in a future release. For more details see: https://bilby-dev.github.io/bilby/faq.html#global-meta-data\n",
      "23:30 bilby INFO    : Checkpoint every check_point_delta_t = 600s\n",
      "23:30 bilby INFO    : Using dynesty version 2.1.5\n",
      "23:30 bilby INFO    : Using the bilby-implemented act-walk sampling tracking the autocorrelation function and thinning by 2 with maximum length 10000\n",
      "23:30 bilby INFO    : Generating initial points from the prior\n"
     ]
    },
    {
     "name": "stdout",
     "output_type": "stream",
     "text": [
      "159it [34:08, 17.39s/it, bound:9 nc: 58 ncall:6.6e+03 eff:2.4% logz=512.38+/-0.43 dlogz:0.156>0.1]"
     ]
    },
    {
     "name": "stderr",
     "output_type": "stream",
     "text": [
      "00:04 bilby INFO    : Written checkpoint file outdir/calibration_example_resume.pickle\n"
     ]
    },
    {
     "name": "stdout",
     "output_type": "stream",
     "text": [
      "167it [34:09, 14.54s/it, bound:10 nc:  1 ncall:7.0e+03 eff:2.4% logz=512.43+/-0.44 dlogz:0.0942>0.1]"
     ]
    },
    {
     "name": "stderr",
     "output_type": "stream",
     "text": [
      "00:04 bilby INFO    : Written checkpoint file outdir/calibration_example_resume.pickle\n"
     ]
    },
    {
     "name": "stdout",
     "output_type": "stream",
     "text": [
      "167it [34:10, 12.35s/it, bound:10 nc:  1 ncall:7.0e+03 eff:2.7% logz=512.51+/-0.45 dlogz:0.00454>0.1]"
     ]
    },
    {
     "name": "stderr",
     "output_type": "stream",
     "text": [
      "00:04 bilby INFO    : Rejection sampling nested samples to obtain 76 posterior samples\n",
      "00:04 bilby INFO    : Sampling time: 0:34:10.675705\n",
      "00:04 bilby INFO    : Summary of results:\n",
      "nsamples: 76\n",
      "ln_noise_evidence:    nan\n",
      "ln_evidence: 512.510 +/-  0.494\n",
      "ln_bayes_factor:    nan +/-  0.494\n",
      "\n",
      "00:04 bilby INFO    : Running for label 'calibration_example', output will be saved to 'outdir'\n"
     ]
    },
    {
     "name": "stdout",
     "output_type": "stream",
     "text": [
      "\n",
      "\n",
      "n = 4\n"
     ]
    },
    {
     "name": "stderr",
     "output_type": "stream",
     "text": [
      "00:04 bilby INFO    : Analysis priors:\n",
      "00:04 bilby INFO    : n_gauss=DiscreteUniform(minimum=1, maximum=4, name='n_gauss', latex_label='n_gauss', unit=None, boundary=None)\n",
      "00:04 bilby INFO    : mu0=TransdimensionalConditionalUniform(name='mu0', componant_function_number=np.int64(0), nested_conditional_transdimensional_params=['mu'], conditional_transdimensional_params=[], conditional_params=['n_gauss'], debug_print_out=True, latex_label='mu0', unit=None, boundary=None, minimum=0, maximum=100)\n",
      "00:04 bilby INFO    : mu1=TransdimensionalConditionalUniform(name='mu1', componant_function_number=np.int64(1), nested_conditional_transdimensional_params=['mu'], conditional_transdimensional_params=[], conditional_params=['n_gauss'], debug_print_out=True, latex_label='mu1', unit=None, boundary=None, minimum=0, maximum=100)\n",
      "00:04 bilby INFO    : mu2=TransdimensionalConditionalUniform(name='mu2', componant_function_number=np.int64(2), nested_conditional_transdimensional_params=['mu'], conditional_transdimensional_params=[], conditional_params=['n_gauss'], debug_print_out=True, latex_label='mu2', unit=None, boundary=None, minimum=0, maximum=100)\n",
      "00:04 bilby INFO    : mu3=TransdimensionalConditionalUniform(name='mu3', componant_function_number=np.int64(3), nested_conditional_transdimensional_params=['mu'], conditional_transdimensional_params=[], conditional_params=['n_gauss'], debug_print_out=True, latex_label='mu3', unit=None, boundary=None, minimum=0, maximum=100)\n",
      "00:04 bilby INFO    : sigma_g=10\n",
      "00:04 bilby INFO    : Analysis likelihood class: <class 'bilby.core.likelihood.GaussianLikelihood'>\n",
      "00:04 bilby INFO    : Analysis likelihood noise evidence: nan\n",
      "00:04 bilby INFO    : Single likelihood evaluation took 7.524e-04 s\n",
      "00:04 bilby INFO    : Using sampler Dynesty with kwargs {'nlive': 20, 'bound': 'live', 'sample': 'act-walk', 'periodic': None, 'reflective': None, 'update_interval': 600, 'first_update': None, 'npdim': None, 'rstate': None, 'queue_size': 1, 'pool': None, 'use_pool': None, 'live_points': None, 'logl_args': None, 'logl_kwargs': None, 'ptform_args': None, 'ptform_kwargs': None, 'gradient': None, 'grad_args': None, 'grad_kwargs': None, 'compute_jac': False, 'enlarge': None, 'bootstrap': None, 'walks': 100, 'facc': 0.2, 'slices': None, 'fmove': 0.9, 'max_move': 100, 'update_func': None, 'ncdim': None, 'blob': False, 'save_history': False, 'history_filename': None, 'maxiter': None, 'maxcall': None, 'dlogz': 0.1, 'logl_max': inf, 'n_effective': None, 'add_live': True, 'print_progress': True, 'print_func': <bound method Dynesty._print_func of <bilby.core.sampler.dynesty.Dynesty object at 0x3e29f8f90>>, 'save_bounds': False, 'checkpoint_file': None, 'checkpoint_every': 60, 'resume': False, 'seed': None}\n",
      "00:04 bilby INFO    : Global meta data was removed from the result object for compatibility. Use the `BILBY_INCLUDE_GLOBAL_METADATA` environment variable to include it. This behaviour will be removed in a future release. For more details see: https://bilby-dev.github.io/bilby/faq.html#global-meta-data\n",
      "00:04 bilby INFO    : Checkpoint every check_point_delta_t = 600s\n",
      "00:04 bilby INFO    : Using dynesty version 2.1.5\n",
      "00:04 bilby INFO    : Using the bilby-implemented act-walk sampling tracking the autocorrelation function and thinning by 2 with maximum length 10000\n",
      "00:04 bilby INFO    : Generating initial points from the prior\n"
     ]
    },
    {
     "name": "stdout",
     "output_type": "stream",
     "text": [
      "196it [1:26:27, 24.03s/it, bound:8 nc: 30 ncall:5.9e+03 eff:3.3% logz=477.64+/-0.53 dlogz:0.178>0.1]"
     ]
    },
    {
     "name": "stderr",
     "output_type": "stream",
     "text": [
      "01:31 bilby INFO    : Written checkpoint file outdir/calibration_example_resume.pickle\n"
     ]
    },
    {
     "name": "stdout",
     "output_type": "stream",
     "text": [
      "209it [1:26:28, 17.99s/it, bound:10 nc:  1 ncall:7.1e+03 eff:3.0% logz=477.69+/-0.53 dlogz:0.0941>0.1]"
     ]
    },
    {
     "name": "stderr",
     "output_type": "stream",
     "text": [
      "01:31 bilby INFO    : Written checkpoint file outdir/calibration_example_resume.pickle\n"
     ]
    },
    {
     "name": "stdout",
     "output_type": "stream",
     "text": [
      "209it [1:26:29, 24.95s/it, bound:10 nc:  1 ncall:7.1e+03 eff:3.2% logz=477.75+/-0.54 dlogz:0.00462>0.1]"
     ]
    },
    {
     "name": "stderr",
     "output_type": "stream",
     "text": [
      "01:31 bilby INFO    : Rejection sampling nested samples to obtain 65 posterior samples\n",
      "01:31 bilby INFO    : Sampling time: 1:26:29.444035\n",
      "01:31 bilby INFO    : Summary of results:\n",
      "nsamples: 65\n",
      "ln_noise_evidence:    nan\n",
      "ln_evidence: 477.751 +/-  0.586\n",
      "ln_bayes_factor:    nan +/-  0.586\n",
      "\n",
      "01:31 bilby INFO    : Running for label 'calibration_example', output will be saved to 'outdir'\n"
     ]
    },
    {
     "name": "stdout",
     "output_type": "stream",
     "text": [
      "\n",
      "\n",
      "n = 3\n"
     ]
    },
    {
     "name": "stderr",
     "output_type": "stream",
     "text": [
      "01:31 bilby INFO    : Analysis priors:\n",
      "01:31 bilby INFO    : n_gauss=DiscreteUniform(minimum=1, maximum=4, name='n_gauss', latex_label='n_gauss', unit=None, boundary=None)\n",
      "01:31 bilby INFO    : mu0=TransdimensionalConditionalUniform(name='mu0', componant_function_number=np.int64(0), nested_conditional_transdimensional_params=['mu'], conditional_transdimensional_params=[], conditional_params=['n_gauss'], debug_print_out=True, latex_label='mu0', unit=None, boundary=None, minimum=0, maximum=100)\n",
      "01:31 bilby INFO    : mu1=TransdimensionalConditionalUniform(name='mu1', componant_function_number=np.int64(1), nested_conditional_transdimensional_params=['mu'], conditional_transdimensional_params=[], conditional_params=['n_gauss'], debug_print_out=True, latex_label='mu1', unit=None, boundary=None, minimum=0, maximum=100)\n",
      "01:31 bilby INFO    : mu2=TransdimensionalConditionalUniform(name='mu2', componant_function_number=np.int64(2), nested_conditional_transdimensional_params=['mu'], conditional_transdimensional_params=[], conditional_params=['n_gauss'], debug_print_out=True, latex_label='mu2', unit=None, boundary=None, minimum=0, maximum=100)\n",
      "01:31 bilby INFO    : mu3=TransdimensionalConditionalUniform(name='mu3', componant_function_number=np.int64(3), nested_conditional_transdimensional_params=['mu'], conditional_transdimensional_params=[], conditional_params=['n_gauss'], debug_print_out=True, latex_label='mu3', unit=None, boundary=None, minimum=0, maximum=100)\n",
      "01:31 bilby INFO    : sigma_g=10\n",
      "01:31 bilby INFO    : Analysis likelihood class: <class 'bilby.core.likelihood.GaussianLikelihood'>\n",
      "01:31 bilby INFO    : Analysis likelihood noise evidence: nan\n",
      "01:31 bilby INFO    : Single likelihood evaluation took 7.691e-04 s\n",
      "01:31 bilby INFO    : Using sampler Dynesty with kwargs {'nlive': 20, 'bound': 'live', 'sample': 'act-walk', 'periodic': None, 'reflective': None, 'update_interval': 600, 'first_update': None, 'npdim': None, 'rstate': None, 'queue_size': 1, 'pool': None, 'use_pool': None, 'live_points': None, 'logl_args': None, 'logl_kwargs': None, 'ptform_args': None, 'ptform_kwargs': None, 'gradient': None, 'grad_args': None, 'grad_kwargs': None, 'compute_jac': False, 'enlarge': None, 'bootstrap': None, 'walks': 100, 'facc': 0.2, 'slices': None, 'fmove': 0.9, 'max_move': 100, 'update_func': None, 'ncdim': None, 'blob': False, 'save_history': False, 'history_filename': None, 'maxiter': None, 'maxcall': None, 'dlogz': 0.1, 'logl_max': inf, 'n_effective': None, 'add_live': True, 'print_progress': True, 'print_func': <bound method Dynesty._print_func of <bilby.core.sampler.dynesty.Dynesty object at 0x3e50cd3d0>>, 'save_bounds': False, 'checkpoint_file': None, 'checkpoint_every': 60, 'resume': False, 'seed': None}\n",
      "01:31 bilby INFO    : Global meta data was removed from the result object for compatibility. Use the `BILBY_INCLUDE_GLOBAL_METADATA` environment variable to include it. This behaviour will be removed in a future release. For more details see: https://bilby-dev.github.io/bilby/faq.html#global-meta-data\n",
      "01:31 bilby INFO    : Checkpoint every check_point_delta_t = 600s\n",
      "01:31 bilby INFO    : Using dynesty version 2.1.5\n",
      "01:31 bilby INFO    : Using the bilby-implemented act-walk sampling tracking the autocorrelation function and thinning by 2 with maximum length 10000\n",
      "01:31 bilby INFO    : Generating initial points from the prior\n"
     ]
    },
    {
     "name": "stdout",
     "output_type": "stream",
     "text": [
      "174it [1:24:40, 16.64s/it, bound:7 nc: 47 ncall:4.7e+03 eff:3.7% logz=474.29+/-0.48 dlogz:0.198>0.1]"
     ]
    },
    {
     "name": "stderr",
     "output_type": "stream",
     "text": [
      "02:56 bilby INFO    : Written checkpoint file outdir/calibration_example_resume.pickle\n"
     ]
    },
    {
     "name": "stdout",
     "output_type": "stream",
     "text": [
      "187it [2:49:35, 116.22s/it, bound:8 nc:  1 ncall:5.4e+03 eff:3.5% logz=474.36+/-0.48 dlogz:0.0937>0.1]"
     ]
    },
    {
     "name": "stderr",
     "output_type": "stream",
     "text": [
      "04:21 bilby INFO    : Written checkpoint file outdir/calibration_example_resume.pickle\n"
     ]
    },
    {
     "name": "stdout",
     "output_type": "stream",
     "text": [
      "187it [2:49:36, 54.71s/it, bound:8 nc:  1 ncall:5.4e+03 eff:3.9% logz=474.45+/-0.50 dlogz:0.00452>0.1]"
     ]
    },
    {
     "name": "stderr",
     "output_type": "stream",
     "text": [
      "04:21 bilby INFO    : Rejection sampling nested samples to obtain 53 posterior samples\n",
      "04:21 bilby INFO    : Sampling time: 2:49:36.349928\n",
      "04:21 bilby INFO    : Summary of results:\n",
      "nsamples: 53\n",
      "ln_noise_evidence:    nan\n",
      "ln_evidence: 474.446 +/-  0.545\n",
      "ln_bayes_factor:    nan +/-  0.545\n",
      "\n",
      "04:21 bilby INFO    : Running for label 'calibration_example', output will be saved to 'outdir'\n"
     ]
    },
    {
     "name": "stdout",
     "output_type": "stream",
     "text": [
      "\n",
      "\n",
      "n = 3\n"
     ]
    },
    {
     "name": "stderr",
     "output_type": "stream",
     "text": [
      "04:21 bilby INFO    : Analysis priors:\n",
      "04:21 bilby INFO    : n_gauss=DiscreteUniform(minimum=1, maximum=4, name='n_gauss', latex_label='n_gauss', unit=None, boundary=None)\n",
      "04:21 bilby INFO    : mu0=TransdimensionalConditionalUniform(name='mu0', componant_function_number=np.int64(0), nested_conditional_transdimensional_params=['mu'], conditional_transdimensional_params=[], conditional_params=['n_gauss'], debug_print_out=True, latex_label='mu0', unit=None, boundary=None, minimum=0, maximum=100)\n",
      "04:21 bilby INFO    : mu1=TransdimensionalConditionalUniform(name='mu1', componant_function_number=np.int64(1), nested_conditional_transdimensional_params=['mu'], conditional_transdimensional_params=[], conditional_params=['n_gauss'], debug_print_out=True, latex_label='mu1', unit=None, boundary=None, minimum=0, maximum=100)\n",
      "04:21 bilby INFO    : mu2=TransdimensionalConditionalUniform(name='mu2', componant_function_number=np.int64(2), nested_conditional_transdimensional_params=['mu'], conditional_transdimensional_params=[], conditional_params=['n_gauss'], debug_print_out=True, latex_label='mu2', unit=None, boundary=None, minimum=0, maximum=100)\n",
      "04:21 bilby INFO    : mu3=TransdimensionalConditionalUniform(name='mu3', componant_function_number=np.int64(3), nested_conditional_transdimensional_params=['mu'], conditional_transdimensional_params=[], conditional_params=['n_gauss'], debug_print_out=True, latex_label='mu3', unit=None, boundary=None, minimum=0, maximum=100)\n",
      "04:21 bilby INFO    : sigma_g=10\n",
      "04:21 bilby INFO    : Analysis likelihood class: <class 'bilby.core.likelihood.GaussianLikelihood'>\n",
      "04:21 bilby INFO    : Analysis likelihood noise evidence: nan\n",
      "04:21 bilby INFO    : Single likelihood evaluation took 7.943e-04 s\n",
      "04:21 bilby INFO    : Using sampler Dynesty with kwargs {'nlive': 20, 'bound': 'live', 'sample': 'act-walk', 'periodic': None, 'reflective': None, 'update_interval': 600, 'first_update': None, 'npdim': None, 'rstate': None, 'queue_size': 1, 'pool': None, 'use_pool': None, 'live_points': None, 'logl_args': None, 'logl_kwargs': None, 'ptform_args': None, 'ptform_kwargs': None, 'gradient': None, 'grad_args': None, 'grad_kwargs': None, 'compute_jac': False, 'enlarge': None, 'bootstrap': None, 'walks': 100, 'facc': 0.2, 'slices': None, 'fmove': 0.9, 'max_move': 100, 'update_func': None, 'ncdim': None, 'blob': False, 'save_history': False, 'history_filename': None, 'maxiter': None, 'maxcall': None, 'dlogz': 0.1, 'logl_max': inf, 'n_effective': None, 'add_live': True, 'print_progress': True, 'print_func': <bound method Dynesty._print_func of <bilby.core.sampler.dynesty.Dynesty object at 0x3e7a5f050>>, 'save_bounds': False, 'checkpoint_file': None, 'checkpoint_every': 60, 'resume': False, 'seed': None}\n",
      "04:21 bilby INFO    : Global meta data was removed from the result object for compatibility. Use the `BILBY_INCLUDE_GLOBAL_METADATA` environment variable to include it. This behaviour will be removed in a future release. For more details see: https://bilby-dev.github.io/bilby/faq.html#global-meta-data\n",
      "04:21 bilby INFO    : Checkpoint every check_point_delta_t = 600s\n",
      "04:21 bilby INFO    : Using dynesty version 2.1.5\n",
      "04:21 bilby INFO    : Using the bilby-implemented act-walk sampling tracking the autocorrelation function and thinning by 2 with maximum length 10000\n",
      "04:21 bilby INFO    : Generating initial points from the prior\n"
     ]
    },
    {
     "name": "stdout",
     "output_type": "stream",
     "text": [
      "219it [2:31:52, 104.64s/it, bound:26 nc:133 ncall:1.8e+04 eff:1.2% logz=516.52+/-0.54 dlogz:0.196>0.1]"
     ]
    },
    {
     "name": "stderr",
     "output_type": "stream",
     "text": [
      "06:53 bilby INFO    : Written checkpoint file outdir/calibration_example_resume.pickle\n"
     ]
    },
    {
     "name": "stdout",
     "output_type": "stream",
     "text": [
      "233it [2:31:53, 75.60s/it, bound:26 nc:  1 ncall:1.9e+04 eff:1.3% logz=516.56+/-0.54 dlogz:0.0913>0.1]"
     ]
    },
    {
     "name": "stderr",
     "output_type": "stream",
     "text": [
      "06:53 bilby INFO    : Written checkpoint file outdir/calibration_example_resume.pickle\n"
     ]
    },
    {
     "name": "stdout",
     "output_type": "stream",
     "text": [
      "233it [2:31:54, 39.29s/it, bound:26 nc:  1 ncall:1.9e+04 eff:1.4% logz=516.62+/-0.56 dlogz:0.0045>0.1]"
     ]
    },
    {
     "name": "stderr",
     "output_type": "stream",
     "text": [
      "06:53 bilby INFO    : Rejection sampling nested samples to obtain 70 posterior samples\n",
      "06:53 bilby INFO    : Sampling time: 2:31:54.499570\n",
      "06:53 bilby INFO    : Summary of results:\n",
      "nsamples: 70\n",
      "ln_noise_evidence:    nan\n",
      "ln_evidence: 516.615 +/-  0.609\n",
      "ln_bayes_factor:    nan +/-  0.609\n",
      "\n",
      "06:53 bilby INFO    : Running for label 'calibration_example', output will be saved to 'outdir'\n"
     ]
    },
    {
     "name": "stdout",
     "output_type": "stream",
     "text": [
      "\n",
      "\n",
      "n = 2\n"
     ]
    },
    {
     "name": "stderr",
     "output_type": "stream",
     "text": [
      "06:53 bilby INFO    : Analysis priors:\n",
      "06:53 bilby INFO    : n_gauss=DiscreteUniform(minimum=1, maximum=4, name='n_gauss', latex_label='n_gauss', unit=None, boundary=None)\n",
      "06:53 bilby INFO    : mu0=TransdimensionalConditionalUniform(name='mu0', componant_function_number=np.int64(0), nested_conditional_transdimensional_params=['mu'], conditional_transdimensional_params=[], conditional_params=['n_gauss'], debug_print_out=True, latex_label='mu0', unit=None, boundary=None, minimum=0, maximum=100)\n",
      "06:53 bilby INFO    : mu1=TransdimensionalConditionalUniform(name='mu1', componant_function_number=np.int64(1), nested_conditional_transdimensional_params=['mu'], conditional_transdimensional_params=[], conditional_params=['n_gauss'], debug_print_out=True, latex_label='mu1', unit=None, boundary=None, minimum=0, maximum=100)\n",
      "06:53 bilby INFO    : mu2=TransdimensionalConditionalUniform(name='mu2', componant_function_number=np.int64(2), nested_conditional_transdimensional_params=['mu'], conditional_transdimensional_params=[], conditional_params=['n_gauss'], debug_print_out=True, latex_label='mu2', unit=None, boundary=None, minimum=0, maximum=100)\n",
      "06:53 bilby INFO    : mu3=TransdimensionalConditionalUniform(name='mu3', componant_function_number=np.int64(3), nested_conditional_transdimensional_params=['mu'], conditional_transdimensional_params=[], conditional_params=['n_gauss'], debug_print_out=True, latex_label='mu3', unit=None, boundary=None, minimum=0, maximum=100)\n",
      "06:53 bilby INFO    : sigma_g=10\n",
      "06:53 bilby INFO    : Analysis likelihood class: <class 'bilby.core.likelihood.GaussianLikelihood'>\n",
      "06:53 bilby INFO    : Analysis likelihood noise evidence: nan\n",
      "06:53 bilby INFO    : Single likelihood evaluation took 7.364e-04 s\n",
      "06:53 bilby INFO    : Using sampler Dynesty with kwargs {'nlive': 20, 'bound': 'live', 'sample': 'act-walk', 'periodic': None, 'reflective': None, 'update_interval': 600, 'first_update': None, 'npdim': None, 'rstate': None, 'queue_size': 1, 'pool': None, 'use_pool': None, 'live_points': None, 'logl_args': None, 'logl_kwargs': None, 'ptform_args': None, 'ptform_kwargs': None, 'gradient': None, 'grad_args': None, 'grad_kwargs': None, 'compute_jac': False, 'enlarge': None, 'bootstrap': None, 'walks': 100, 'facc': 0.2, 'slices': None, 'fmove': 0.9, 'max_move': 100, 'update_func': None, 'ncdim': None, 'blob': False, 'save_history': False, 'history_filename': None, 'maxiter': None, 'maxcall': None, 'dlogz': 0.1, 'logl_max': inf, 'n_effective': None, 'add_live': True, 'print_progress': True, 'print_func': <bound method Dynesty._print_func of <bilby.core.sampler.dynesty.Dynesty object at 0x3f31b5350>>, 'save_bounds': False, 'checkpoint_file': None, 'checkpoint_every': 60, 'resume': False, 'seed': None}\n",
      "06:53 bilby INFO    : Global meta data was removed from the result object for compatibility. Use the `BILBY_INCLUDE_GLOBAL_METADATA` environment variable to include it. This behaviour will be removed in a future release. For more details see: https://bilby-dev.github.io/bilby/faq.html#global-meta-data\n",
      "06:53 bilby INFO    : Checkpoint every check_point_delta_t = 600s\n",
      "06:53 bilby INFO    : Using dynesty version 2.1.5\n",
      "06:53 bilby INFO    : Using the bilby-implemented act-walk sampling tracking the autocorrelation function and thinning by 2 with maximum length 10000\n",
      "06:53 bilby INFO    : Generating initial points from the prior\n"
     ]
    },
    {
     "name": "stdout",
     "output_type": "stream",
     "text": [
      "141it [35:51,  2.57s/it, bound:6 nc: 15 ncall:4.2e+03 eff:3.3% logz=494.63+/-0.40 dlogz:0.17>0.1] "
     ]
    },
    {
     "name": "stderr",
     "output_type": "stream",
     "text": [
      "07:28 bilby INFO    : Written checkpoint file outdir/calibration_example_resume.pickle\n"
     ]
    },
    {
     "name": "stdout",
     "output_type": "stream",
     "text": [
      "151it [35:53,  2.02s/it, bound:7 nc:  1 ncall:4.4e+03 eff:3.5% logz=494.69+/-0.40 dlogz:0.0935>0.1]"
     ]
    },
    {
     "name": "stderr",
     "output_type": "stream",
     "text": [
      "07:28 bilby INFO    : Written checkpoint file outdir/calibration_example_resume.pickle\n"
     ]
    },
    {
     "name": "stdout",
     "output_type": "stream",
     "text": [
      "151it [45:00, 18.00s/it, bound:7 nc:  1 ncall:4.4e+03 eff:3.9% logz=494.77+/-0.41 dlogz:0.0045>0.1]"
     ]
    },
    {
     "name": "stderr",
     "output_type": "stream",
     "text": [
      "07:38 bilby INFO    : Rejection sampling nested samples to obtain 65 posterior samples\n",
      "07:38 bilby INFO    : Sampling time: 0:45:00.528257\n",
      "07:38 bilby INFO    : Summary of results:\n",
      "nsamples: 65\n",
      "ln_noise_evidence:    nan\n",
      "ln_evidence: 494.770 +/-  0.456\n",
      "ln_bayes_factor:    nan +/-  0.456\n",
      "\n",
      "07:38 bilby INFO    : Running for label 'calibration_example', output will be saved to 'outdir'\n"
     ]
    },
    {
     "name": "stdout",
     "output_type": "stream",
     "text": [
      "\n",
      "\n",
      "n = 4\n"
     ]
    },
    {
     "name": "stderr",
     "output_type": "stream",
     "text": [
      "07:38 bilby INFO    : Analysis priors:\n",
      "07:38 bilby INFO    : n_gauss=DiscreteUniform(minimum=1, maximum=4, name='n_gauss', latex_label='n_gauss', unit=None, boundary=None)\n",
      "07:38 bilby INFO    : mu0=TransdimensionalConditionalUniform(name='mu0', componant_function_number=np.int64(0), nested_conditional_transdimensional_params=['mu'], conditional_transdimensional_params=[], conditional_params=['n_gauss'], debug_print_out=True, latex_label='mu0', unit=None, boundary=None, minimum=0, maximum=100)\n",
      "07:38 bilby INFO    : mu1=TransdimensionalConditionalUniform(name='mu1', componant_function_number=np.int64(1), nested_conditional_transdimensional_params=['mu'], conditional_transdimensional_params=[], conditional_params=['n_gauss'], debug_print_out=True, latex_label='mu1', unit=None, boundary=None, minimum=0, maximum=100)\n",
      "07:38 bilby INFO    : mu2=TransdimensionalConditionalUniform(name='mu2', componant_function_number=np.int64(2), nested_conditional_transdimensional_params=['mu'], conditional_transdimensional_params=[], conditional_params=['n_gauss'], debug_print_out=True, latex_label='mu2', unit=None, boundary=None, minimum=0, maximum=100)\n",
      "07:38 bilby INFO    : mu3=TransdimensionalConditionalUniform(name='mu3', componant_function_number=np.int64(3), nested_conditional_transdimensional_params=['mu'], conditional_transdimensional_params=[], conditional_params=['n_gauss'], debug_print_out=True, latex_label='mu3', unit=None, boundary=None, minimum=0, maximum=100)\n",
      "07:38 bilby INFO    : sigma_g=10\n",
      "07:38 bilby INFO    : Analysis likelihood class: <class 'bilby.core.likelihood.GaussianLikelihood'>\n",
      "07:38 bilby INFO    : Analysis likelihood noise evidence: nan\n",
      "07:38 bilby INFO    : Single likelihood evaluation took 7.703e-04 s\n",
      "07:38 bilby INFO    : Using sampler Dynesty with kwargs {'nlive': 20, 'bound': 'live', 'sample': 'act-walk', 'periodic': None, 'reflective': None, 'update_interval': 600, 'first_update': None, 'npdim': None, 'rstate': None, 'queue_size': 1, 'pool': None, 'use_pool': None, 'live_points': None, 'logl_args': None, 'logl_kwargs': None, 'ptform_args': None, 'ptform_kwargs': None, 'gradient': None, 'grad_args': None, 'grad_kwargs': None, 'compute_jac': False, 'enlarge': None, 'bootstrap': None, 'walks': 100, 'facc': 0.2, 'slices': None, 'fmove': 0.9, 'max_move': 100, 'update_func': None, 'ncdim': None, 'blob': False, 'save_history': False, 'history_filename': None, 'maxiter': None, 'maxcall': None, 'dlogz': 0.1, 'logl_max': inf, 'n_effective': None, 'add_live': True, 'print_progress': True, 'print_func': <bound method Dynesty._print_func of <bilby.core.sampler.dynesty.Dynesty object at 0x3f56dff90>>, 'save_bounds': False, 'checkpoint_file': None, 'checkpoint_every': 60, 'resume': False, 'seed': None}\n",
      "07:38 bilby INFO    : Global meta data was removed from the result object for compatibility. Use the `BILBY_INCLUDE_GLOBAL_METADATA` environment variable to include it. This behaviour will be removed in a future release. For more details see: https://bilby-dev.github.io/bilby/faq.html#global-meta-data\n",
      "07:38 bilby INFO    : Checkpoint every check_point_delta_t = 600s\n",
      "07:38 bilby INFO    : Using dynesty version 2.1.5\n",
      "07:38 bilby INFO    : Using the bilby-implemented act-walk sampling tracking the autocorrelation function and thinning by 2 with maximum length 10000\n",
      "07:38 bilby INFO    : Generating initial points from the prior\n"
     ]
    },
    {
     "name": "stdout",
     "output_type": "stream",
     "text": [
      "158it [00:40,  3.89it/s, bound:13 nc:126 ncall:8.6e+03 eff:1.8% logz=478.98+/-0.43 dlogz:0.1>0.1]  "
     ]
    },
    {
     "name": "stderr",
     "output_type": "stream",
     "text": [
      "07:38 bilby INFO    : Written checkpoint file outdir/calibration_example_resume.pickle\n"
     ]
    },
    {
     "name": "stdout",
     "output_type": "stream",
     "text": [
      "158it [00:42,  3.72it/s, bound:13 nc:  1 ncall:8.6e+03 eff:2.1% logz=479.06+/-0.44 dlogz:0.0044>0.1]"
     ]
    },
    {
     "name": "stderr",
     "output_type": "stream",
     "text": [
      "07:38 bilby INFO    : Rejection sampling nested samples to obtain 46 posterior samples\n",
      "07:38 bilby INFO    : Sampling time: 0:00:42.250028\n",
      "07:38 bilby INFO    : Summary of results:\n",
      "nsamples: 46\n",
      "ln_noise_evidence:    nan\n",
      "ln_evidence: 479.061 +/-  0.480\n",
      "ln_bayes_factor:    nan +/-  0.480\n",
      "\n",
      "07:38 bilby INFO    : Running for label 'calibration_example', output will be saved to 'outdir'\n"
     ]
    },
    {
     "name": "stdout",
     "output_type": "stream",
     "text": [
      "\n",
      "\n",
      "n = 1\n"
     ]
    },
    {
     "name": "stderr",
     "output_type": "stream",
     "text": [
      "07:38 bilby INFO    : Analysis priors:\n",
      "07:38 bilby INFO    : n_gauss=DiscreteUniform(minimum=1, maximum=4, name='n_gauss', latex_label='n_gauss', unit=None, boundary=None)\n",
      "07:38 bilby INFO    : mu0=TransdimensionalConditionalUniform(name='mu0', componant_function_number=np.int64(0), nested_conditional_transdimensional_params=['mu'], conditional_transdimensional_params=[], conditional_params=['n_gauss'], debug_print_out=True, latex_label='mu0', unit=None, boundary=None, minimum=0, maximum=100)\n",
      "07:38 bilby INFO    : mu1=TransdimensionalConditionalUniform(name='mu1', componant_function_number=np.int64(1), nested_conditional_transdimensional_params=['mu'], conditional_transdimensional_params=[], conditional_params=['n_gauss'], debug_print_out=True, latex_label='mu1', unit=None, boundary=None, minimum=0, maximum=100)\n",
      "07:38 bilby INFO    : mu2=TransdimensionalConditionalUniform(name='mu2', componant_function_number=np.int64(2), nested_conditional_transdimensional_params=['mu'], conditional_transdimensional_params=[], conditional_params=['n_gauss'], debug_print_out=True, latex_label='mu2', unit=None, boundary=None, minimum=0, maximum=100)\n",
      "07:38 bilby INFO    : mu3=TransdimensionalConditionalUniform(name='mu3', componant_function_number=np.int64(3), nested_conditional_transdimensional_params=['mu'], conditional_transdimensional_params=[], conditional_params=['n_gauss'], debug_print_out=True, latex_label='mu3', unit=None, boundary=None, minimum=0, maximum=100)\n",
      "07:38 bilby INFO    : sigma_g=10\n",
      "07:38 bilby INFO    : Analysis likelihood class: <class 'bilby.core.likelihood.GaussianLikelihood'>\n",
      "07:38 bilby INFO    : Analysis likelihood noise evidence: nan\n",
      "07:38 bilby INFO    : Single likelihood evaluation took 7.534e-04 s\n",
      "07:38 bilby INFO    : Using sampler Dynesty with kwargs {'nlive': 20, 'bound': 'live', 'sample': 'act-walk', 'periodic': None, 'reflective': None, 'update_interval': 600, 'first_update': None, 'npdim': None, 'rstate': None, 'queue_size': 1, 'pool': None, 'use_pool': None, 'live_points': None, 'logl_args': None, 'logl_kwargs': None, 'ptform_args': None, 'ptform_kwargs': None, 'gradient': None, 'grad_args': None, 'grad_kwargs': None, 'compute_jac': False, 'enlarge': None, 'bootstrap': None, 'walks': 100, 'facc': 0.2, 'slices': None, 'fmove': 0.9, 'max_move': 100, 'update_func': None, 'ncdim': None, 'blob': False, 'save_history': False, 'history_filename': None, 'maxiter': None, 'maxcall': None, 'dlogz': 0.1, 'logl_max': inf, 'n_effective': None, 'add_live': True, 'print_progress': True, 'print_func': <bound method Dynesty._print_func of <bilby.core.sampler.dynesty.Dynesty object at 0x4009c5750>>, 'save_bounds': False, 'checkpoint_file': None, 'checkpoint_every': 60, 'resume': False, 'seed': None}\n",
      "07:38 bilby INFO    : Global meta data was removed from the result object for compatibility. Use the `BILBY_INCLUDE_GLOBAL_METADATA` environment variable to include it. This behaviour will be removed in a future release. For more details see: https://bilby-dev.github.io/bilby/faq.html#global-meta-data\n",
      "07:38 bilby INFO    : Checkpoint every check_point_delta_t = 600s\n",
      "07:38 bilby INFO    : Using dynesty version 2.1.5\n",
      "07:38 bilby INFO    : Using the bilby-implemented act-walk sampling tracking the autocorrelation function and thinning by 2 with maximum length 10000\n",
      "07:38 bilby INFO    : Generating initial points from the prior\n"
     ]
    },
    {
     "name": "stdout",
     "output_type": "stream",
     "text": [
      "115it [00:01, 52.89it/s, bound:3 nc: 36 ncall:2.2e+03 eff:5.3% logz=500.55+/-0.40 dlogz:0.217>0.1]"
     ]
    },
    {
     "name": "stderr",
     "output_type": "stream",
     "text": [
      "07:38 bilby INFO    : Written checkpoint file outdir/calibration_example_resume.pickle\n"
     ]
    },
    {
     "name": "stdout",
     "output_type": "stream",
     "text": [
      "129it [00:03, 41.69it/s, bound:4 nc:  1 ncall:2.7e+03 eff:5.5% logz=500.74+/-0.39 dlogz:0.00452>0.1]"
     ]
    },
    {
     "name": "stderr",
     "output_type": "stream",
     "text": [
      "07:38 bilby INFO    : Rejection sampling nested samples to obtain 42 posterior samples\n",
      "07:38 bilby INFO    : Sampling time: 0:00:03.070344\n",
      "07:38 bilby INFO    : Summary of results:\n",
      "nsamples: 42\n",
      "ln_noise_evidence:    nan\n",
      "ln_evidence: 500.741 +/-  0.440\n",
      "ln_bayes_factor:    nan +/-  0.440\n",
      "\n",
      "07:38 bilby INFO    : Running for label 'calibration_example', output will be saved to 'outdir'\n"
     ]
    },
    {
     "name": "stdout",
     "output_type": "stream",
     "text": [
      "\n",
      "\n",
      "n = 2\n"
     ]
    },
    {
     "name": "stderr",
     "output_type": "stream",
     "text": [
      "07:38 bilby INFO    : Analysis priors:\n",
      "07:38 bilby INFO    : n_gauss=DiscreteUniform(minimum=1, maximum=4, name='n_gauss', latex_label='n_gauss', unit=None, boundary=None)\n",
      "07:38 bilby INFO    : mu0=TransdimensionalConditionalUniform(name='mu0', componant_function_number=np.int64(0), nested_conditional_transdimensional_params=['mu'], conditional_transdimensional_params=[], conditional_params=['n_gauss'], debug_print_out=True, latex_label='mu0', unit=None, boundary=None, minimum=0, maximum=100)\n",
      "07:38 bilby INFO    : mu1=TransdimensionalConditionalUniform(name='mu1', componant_function_number=np.int64(1), nested_conditional_transdimensional_params=['mu'], conditional_transdimensional_params=[], conditional_params=['n_gauss'], debug_print_out=True, latex_label='mu1', unit=None, boundary=None, minimum=0, maximum=100)\n",
      "07:38 bilby INFO    : mu2=TransdimensionalConditionalUniform(name='mu2', componant_function_number=np.int64(2), nested_conditional_transdimensional_params=['mu'], conditional_transdimensional_params=[], conditional_params=['n_gauss'], debug_print_out=True, latex_label='mu2', unit=None, boundary=None, minimum=0, maximum=100)\n",
      "07:38 bilby INFO    : mu3=TransdimensionalConditionalUniform(name='mu3', componant_function_number=np.int64(3), nested_conditional_transdimensional_params=['mu'], conditional_transdimensional_params=[], conditional_params=['n_gauss'], debug_print_out=True, latex_label='mu3', unit=None, boundary=None, minimum=0, maximum=100)\n",
      "07:38 bilby INFO    : sigma_g=10\n",
      "07:38 bilby INFO    : Analysis likelihood class: <class 'bilby.core.likelihood.GaussianLikelihood'>\n",
      "07:38 bilby INFO    : Analysis likelihood noise evidence: nan\n",
      "07:38 bilby INFO    : Single likelihood evaluation took 7.329e-04 s\n",
      "07:38 bilby INFO    : Using sampler Dynesty with kwargs {'nlive': 20, 'bound': 'live', 'sample': 'act-walk', 'periodic': None, 'reflective': None, 'update_interval': 600, 'first_update': None, 'npdim': None, 'rstate': None, 'queue_size': 1, 'pool': None, 'use_pool': None, 'live_points': None, 'logl_args': None, 'logl_kwargs': None, 'ptform_args': None, 'ptform_kwargs': None, 'gradient': None, 'grad_args': None, 'grad_kwargs': None, 'compute_jac': False, 'enlarge': None, 'bootstrap': None, 'walks': 100, 'facc': 0.2, 'slices': None, 'fmove': 0.9, 'max_move': 100, 'update_func': None, 'ncdim': None, 'blob': False, 'save_history': False, 'history_filename': None, 'maxiter': None, 'maxcall': None, 'dlogz': 0.1, 'logl_max': inf, 'n_effective': None, 'add_live': True, 'print_progress': True, 'print_func': <bound method Dynesty._print_func of <bilby.core.sampler.dynesty.Dynesty object at 0x401324e90>>, 'save_bounds': False, 'checkpoint_file': None, 'checkpoint_every': 60, 'resume': False, 'seed': None}\n",
      "07:38 bilby INFO    : Global meta data was removed from the result object for compatibility. Use the `BILBY_INCLUDE_GLOBAL_METADATA` environment variable to include it. This behaviour will be removed in a future release. For more details see: https://bilby-dev.github.io/bilby/faq.html#global-meta-data\n",
      "07:38 bilby INFO    : Checkpoint every check_point_delta_t = 600s\n",
      "07:38 bilby INFO    : Using dynesty version 2.1.5\n",
      "07:38 bilby INFO    : Using the bilby-implemented act-walk sampling tracking the autocorrelation function and thinning by 2 with maximum length 10000\n",
      "07:38 bilby INFO    : Generating initial points from the prior\n"
     ]
    },
    {
     "name": "stdout",
     "output_type": "stream",
     "text": [
      "164it [00:04, 31.71it/s, bound:8 nc: 24 ncall:5.6e+03 eff:2.9% logz=466.71+/-0.47 dlogz:0.18>0.1] "
     ]
    },
    {
     "name": "stderr",
     "output_type": "stream",
     "text": [
      "07:39 bilby INFO    : Written checkpoint file outdir/calibration_example_resume.pickle\n"
     ]
    },
    {
     "name": "stdout",
     "output_type": "stream",
     "text": [
      "175it [00:06, 27.98it/s, bound:9 nc:  1 ncall:5.9e+03 eff:3.3% logz=466.86+/-0.48 dlogz:0.00456>0.1]"
     ]
    },
    {
     "name": "stderr",
     "output_type": "stream",
     "text": [
      "07:39 bilby INFO    : Rejection sampling nested samples to obtain 61 posterior samples\n",
      "07:39 bilby INFO    : Sampling time: 0:00:06.218193\n",
      "07:39 bilby INFO    : Summary of results:\n",
      "nsamples: 61\n",
      "ln_noise_evidence:    nan\n",
      "ln_evidence: 466.859 +/-  0.531\n",
      "ln_bayes_factor:    nan +/-  0.531\n",
      "\n",
      "07:39 bilby INFO    : Running for label 'calibration_example', output will be saved to 'outdir'\n"
     ]
    },
    {
     "name": "stdout",
     "output_type": "stream",
     "text": [
      "\n",
      "\n",
      "n = 4\n"
     ]
    },
    {
     "name": "stderr",
     "output_type": "stream",
     "text": [
      "07:39 bilby INFO    : Analysis priors:\n",
      "07:39 bilby INFO    : n_gauss=DiscreteUniform(minimum=1, maximum=4, name='n_gauss', latex_label='n_gauss', unit=None, boundary=None)\n",
      "07:39 bilby INFO    : mu0=TransdimensionalConditionalUniform(name='mu0', componant_function_number=np.int64(0), nested_conditional_transdimensional_params=['mu'], conditional_transdimensional_params=[], conditional_params=['n_gauss'], debug_print_out=True, latex_label='mu0', unit=None, boundary=None, minimum=0, maximum=100)\n",
      "07:39 bilby INFO    : mu1=TransdimensionalConditionalUniform(name='mu1', componant_function_number=np.int64(1), nested_conditional_transdimensional_params=['mu'], conditional_transdimensional_params=[], conditional_params=['n_gauss'], debug_print_out=True, latex_label='mu1', unit=None, boundary=None, minimum=0, maximum=100)\n",
      "07:39 bilby INFO    : mu2=TransdimensionalConditionalUniform(name='mu2', componant_function_number=np.int64(2), nested_conditional_transdimensional_params=['mu'], conditional_transdimensional_params=[], conditional_params=['n_gauss'], debug_print_out=True, latex_label='mu2', unit=None, boundary=None, minimum=0, maximum=100)\n",
      "07:39 bilby INFO    : mu3=TransdimensionalConditionalUniform(name='mu3', componant_function_number=np.int64(3), nested_conditional_transdimensional_params=['mu'], conditional_transdimensional_params=[], conditional_params=['n_gauss'], debug_print_out=True, latex_label='mu3', unit=None, boundary=None, minimum=0, maximum=100)\n",
      "07:39 bilby INFO    : sigma_g=10\n",
      "07:39 bilby INFO    : Analysis likelihood class: <class 'bilby.core.likelihood.GaussianLikelihood'>\n",
      "07:39 bilby INFO    : Analysis likelihood noise evidence: nan\n",
      "07:39 bilby INFO    : Single likelihood evaluation took 7.544e-04 s\n",
      "07:39 bilby INFO    : Using sampler Dynesty with kwargs {'nlive': 20, 'bound': 'live', 'sample': 'act-walk', 'periodic': None, 'reflective': None, 'update_interval': 600, 'first_update': None, 'npdim': None, 'rstate': None, 'queue_size': 1, 'pool': None, 'use_pool': None, 'live_points': None, 'logl_args': None, 'logl_kwargs': None, 'ptform_args': None, 'ptform_kwargs': None, 'gradient': None, 'grad_args': None, 'grad_kwargs': None, 'compute_jac': False, 'enlarge': None, 'bootstrap': None, 'walks': 100, 'facc': 0.2, 'slices': None, 'fmove': 0.9, 'max_move': 100, 'update_func': None, 'ncdim': None, 'blob': False, 'save_history': False, 'history_filename': None, 'maxiter': None, 'maxcall': None, 'dlogz': 0.1, 'logl_max': inf, 'n_effective': None, 'add_live': True, 'print_progress': True, 'print_func': <bound method Dynesty._print_func of <bilby.core.sampler.dynesty.Dynesty object at 0x4039ddb10>>, 'save_bounds': False, 'checkpoint_file': None, 'checkpoint_every': 60, 'resume': False, 'seed': None}\n",
      "07:39 bilby INFO    : Global meta data was removed from the result object for compatibility. Use the `BILBY_INCLUDE_GLOBAL_METADATA` environment variable to include it. This behaviour will be removed in a future release. For more details see: https://bilby-dev.github.io/bilby/faq.html#global-meta-data\n",
      "07:39 bilby INFO    : Checkpoint every check_point_delta_t = 600s\n",
      "07:39 bilby INFO    : Using dynesty version 2.1.5\n",
      "07:39 bilby INFO    : Using the bilby-implemented act-walk sampling tracking the autocorrelation function and thinning by 2 with maximum length 10000\n",
      "07:39 bilby INFO    : Generating initial points from the prior\n"
     ]
    },
    {
     "name": "stdout",
     "output_type": "stream",
     "text": [
      "188it [00:14, 10.14it/s, bound:13 nc: 41 ncall:9.1e+03 eff:2.1% logz=531.62+/-0.51 dlogz:0.175>0.1]"
     ]
    },
    {
     "name": "stderr",
     "output_type": "stream",
     "text": [
      "07:39 bilby INFO    : Written checkpoint file outdir/calibration_example_resume.pickle\n"
     ]
    },
    {
     "name": "stdout",
     "output_type": "stream",
     "text": [
      "199it [00:16, 12.26it/s, bound:14 nc:  1 ncall:9.5e+03 eff:2.3% logz=531.75+/-0.52 dlogz:0.00453>0.1]"
     ]
    },
    {
     "name": "stderr",
     "output_type": "stream",
     "text": [
      "07:39 bilby INFO    : Rejection sampling nested samples to obtain 68 posterior samples\n",
      "07:39 bilby INFO    : Sampling time: 0:00:16.150105\n",
      "07:39 bilby INFO    : Summary of results:\n",
      "nsamples: 68\n",
      "ln_noise_evidence:    nan\n",
      "ln_evidence: 531.754 +/-  0.574\n",
      "ln_bayes_factor:    nan +/-  0.574\n",
      "\n",
      "07:39 bilby INFO    : Running for label 'calibration_example', output will be saved to 'outdir'\n"
     ]
    },
    {
     "name": "stdout",
     "output_type": "stream",
     "text": [
      "\n",
      "\n",
      "n = 1\n"
     ]
    },
    {
     "name": "stderr",
     "output_type": "stream",
     "text": [
      "07:39 bilby INFO    : Analysis priors:\n",
      "07:39 bilby INFO    : n_gauss=DiscreteUniform(minimum=1, maximum=4, name='n_gauss', latex_label='n_gauss', unit=None, boundary=None)\n",
      "07:39 bilby INFO    : mu0=TransdimensionalConditionalUniform(name='mu0', componant_function_number=np.int64(0), nested_conditional_transdimensional_params=['mu'], conditional_transdimensional_params=[], conditional_params=['n_gauss'], debug_print_out=True, latex_label='mu0', unit=None, boundary=None, minimum=0, maximum=100)\n",
      "07:39 bilby INFO    : mu1=TransdimensionalConditionalUniform(name='mu1', componant_function_number=np.int64(1), nested_conditional_transdimensional_params=['mu'], conditional_transdimensional_params=[], conditional_params=['n_gauss'], debug_print_out=True, latex_label='mu1', unit=None, boundary=None, minimum=0, maximum=100)\n",
      "07:39 bilby INFO    : mu2=TransdimensionalConditionalUniform(name='mu2', componant_function_number=np.int64(2), nested_conditional_transdimensional_params=['mu'], conditional_transdimensional_params=[], conditional_params=['n_gauss'], debug_print_out=True, latex_label='mu2', unit=None, boundary=None, minimum=0, maximum=100)\n",
      "07:39 bilby INFO    : mu3=TransdimensionalConditionalUniform(name='mu3', componant_function_number=np.int64(3), nested_conditional_transdimensional_params=['mu'], conditional_transdimensional_params=[], conditional_params=['n_gauss'], debug_print_out=True, latex_label='mu3', unit=None, boundary=None, minimum=0, maximum=100)\n",
      "07:39 bilby INFO    : sigma_g=10\n",
      "07:39 bilby INFO    : Analysis likelihood class: <class 'bilby.core.likelihood.GaussianLikelihood'>\n",
      "07:39 bilby INFO    : Analysis likelihood noise evidence: nan\n",
      "07:39 bilby INFO    : Single likelihood evaluation took 7.497e-04 s\n",
      "07:39 bilby INFO    : Using sampler Dynesty with kwargs {'nlive': 20, 'bound': 'live', 'sample': 'act-walk', 'periodic': None, 'reflective': None, 'update_interval': 600, 'first_update': None, 'npdim': None, 'rstate': None, 'queue_size': 1, 'pool': None, 'use_pool': None, 'live_points': None, 'logl_args': None, 'logl_kwargs': None, 'ptform_args': None, 'ptform_kwargs': None, 'gradient': None, 'grad_args': None, 'grad_kwargs': None, 'compute_jac': False, 'enlarge': None, 'bootstrap': None, 'walks': 100, 'facc': 0.2, 'slices': None, 'fmove': 0.9, 'max_move': 100, 'update_func': None, 'ncdim': None, 'blob': False, 'save_history': False, 'history_filename': None, 'maxiter': None, 'maxcall': None, 'dlogz': 0.1, 'logl_max': inf, 'n_effective': None, 'add_live': True, 'print_progress': True, 'print_func': <bound method Dynesty._print_func of <bilby.core.sampler.dynesty.Dynesty object at 0x404706f90>>, 'save_bounds': False, 'checkpoint_file': None, 'checkpoint_every': 60, 'resume': False, 'seed': None}\n",
      "07:39 bilby INFO    : Global meta data was removed from the result object for compatibility. Use the `BILBY_INCLUDE_GLOBAL_METADATA` environment variable to include it. This behaviour will be removed in a future release. For more details see: https://bilby-dev.github.io/bilby/faq.html#global-meta-data\n",
      "07:39 bilby INFO    : Checkpoint every check_point_delta_t = 600s\n",
      "07:39 bilby INFO    : Using dynesty version 2.1.5\n",
      "07:39 bilby INFO    : Using the bilby-implemented act-walk sampling tracking the autocorrelation function and thinning by 2 with maximum length 10000\n",
      "07:39 bilby INFO    : Generating initial points from the prior\n"
     ]
    },
    {
     "name": "stdout",
     "output_type": "stream",
     "text": [
      "109it [00:01, 81.26it/s, bound:2 nc: 39 ncall:1.6e+03 eff:6.7% logz=467.49+/-0.38 dlogz:0.151>0.1]"
     ]
    },
    {
     "name": "stderr",
     "output_type": "stream",
     "text": [
      "07:39 bilby INFO    : Written checkpoint file outdir/calibration_example_resume.pickle\n"
     ]
    },
    {
     "name": "stdout",
     "output_type": "stream",
     "text": [
      "116it [00:02, 46.15it/s, bound:2 nc:  1 ncall:1.8e+03 eff:7.5% logz=467.63+/-0.37 dlogz:0.00453>0.1]"
     ]
    },
    {
     "name": "stderr",
     "output_type": "stream",
     "text": [
      "07:39 bilby INFO    : Rejection sampling nested samples to obtain 36 posterior samples\n",
      "07:39 bilby INFO    : Sampling time: 0:00:02.491527\n",
      "07:39 bilby INFO    : Summary of results:\n",
      "nsamples: 36\n",
      "ln_noise_evidence:    nan\n",
      "ln_evidence: 467.625 +/-  0.415\n",
      "ln_bayes_factor:    nan +/-  0.415\n",
      "\n",
      "07:39 bilby INFO    : Running for label 'calibration_example', output will be saved to 'outdir'\n"
     ]
    },
    {
     "name": "stdout",
     "output_type": "stream",
     "text": [
      "\n",
      "\n",
      "n = 2\n"
     ]
    },
    {
     "name": "stderr",
     "output_type": "stream",
     "text": [
      "07:39 bilby INFO    : Analysis priors:\n",
      "07:39 bilby INFO    : n_gauss=DiscreteUniform(minimum=1, maximum=4, name='n_gauss', latex_label='n_gauss', unit=None, boundary=None)\n",
      "07:39 bilby INFO    : mu0=TransdimensionalConditionalUniform(name='mu0', componant_function_number=np.int64(0), nested_conditional_transdimensional_params=['mu'], conditional_transdimensional_params=[], conditional_params=['n_gauss'], debug_print_out=True, latex_label='mu0', unit=None, boundary=None, minimum=0, maximum=100)\n",
      "07:39 bilby INFO    : mu1=TransdimensionalConditionalUniform(name='mu1', componant_function_number=np.int64(1), nested_conditional_transdimensional_params=['mu'], conditional_transdimensional_params=[], conditional_params=['n_gauss'], debug_print_out=True, latex_label='mu1', unit=None, boundary=None, minimum=0, maximum=100)\n",
      "07:39 bilby INFO    : mu2=TransdimensionalConditionalUniform(name='mu2', componant_function_number=np.int64(2), nested_conditional_transdimensional_params=['mu'], conditional_transdimensional_params=[], conditional_params=['n_gauss'], debug_print_out=True, latex_label='mu2', unit=None, boundary=None, minimum=0, maximum=100)\n",
      "07:39 bilby INFO    : mu3=TransdimensionalConditionalUniform(name='mu3', componant_function_number=np.int64(3), nested_conditional_transdimensional_params=['mu'], conditional_transdimensional_params=[], conditional_params=['n_gauss'], debug_print_out=True, latex_label='mu3', unit=None, boundary=None, minimum=0, maximum=100)\n",
      "07:39 bilby INFO    : sigma_g=10\n",
      "07:39 bilby INFO    : Analysis likelihood class: <class 'bilby.core.likelihood.GaussianLikelihood'>\n",
      "07:39 bilby INFO    : Analysis likelihood noise evidence: nan\n",
      "07:39 bilby INFO    : Single likelihood evaluation took 7.246e-04 s\n",
      "07:39 bilby INFO    : Using sampler Dynesty with kwargs {'nlive': 20, 'bound': 'live', 'sample': 'act-walk', 'periodic': None, 'reflective': None, 'update_interval': 600, 'first_update': None, 'npdim': None, 'rstate': None, 'queue_size': 1, 'pool': None, 'use_pool': None, 'live_points': None, 'logl_args': None, 'logl_kwargs': None, 'ptform_args': None, 'ptform_kwargs': None, 'gradient': None, 'grad_args': None, 'grad_kwargs': None, 'compute_jac': False, 'enlarge': None, 'bootstrap': None, 'walks': 100, 'facc': 0.2, 'slices': None, 'fmove': 0.9, 'max_move': 100, 'update_func': None, 'ncdim': None, 'blob': False, 'save_history': False, 'history_filename': None, 'maxiter': None, 'maxcall': None, 'dlogz': 0.1, 'logl_max': inf, 'n_effective': None, 'add_live': True, 'print_progress': True, 'print_func': <bound method Dynesty._print_func of <bilby.core.sampler.dynesty.Dynesty object at 0x405b66350>>, 'save_bounds': False, 'checkpoint_file': None, 'checkpoint_every': 60, 'resume': False, 'seed': None}\n",
      "07:39 bilby INFO    : Global meta data was removed from the result object for compatibility. Use the `BILBY_INCLUDE_GLOBAL_METADATA` environment variable to include it. This behaviour will be removed in a future release. For more details see: https://bilby-dev.github.io/bilby/faq.html#global-meta-data\n",
      "07:39 bilby INFO    : Checkpoint every check_point_delta_t = 600s\n",
      "07:39 bilby INFO    : Using dynesty version 2.1.5\n",
      "07:39 bilby INFO    : Using the bilby-implemented act-walk sampling tracking the autocorrelation function and thinning by 2 with maximum length 10000\n",
      "07:39 bilby INFO    : Generating initial points from the prior\n"
     ]
    },
    {
     "name": "stdout",
     "output_type": "stream",
     "text": [
      "189it [00:12, 11.05it/s, bound:12 nc: 53 ncall:8.2e+03 eff:2.3% logz=506.37+/-0.52 dlogz:0.16>0.1] "
     ]
    },
    {
     "name": "stderr",
     "output_type": "stream",
     "text": [
      "07:39 bilby INFO    : Written checkpoint file outdir/calibration_example_resume.pickle\n"
     ]
    },
    {
     "name": "stdout",
     "output_type": "stream",
     "text": [
      "200it [00:13, 14.94it/s, bound:13 nc:  1 ncall:8.8e+03 eff:2.5% logz=506.50+/-0.53 dlogz:0.00461>0.1]"
     ]
    },
    {
     "name": "stderr",
     "output_type": "stream",
     "text": [
      "07:39 bilby INFO    : Rejection sampling nested samples to obtain 67 posterior samples\n",
      "07:39 bilby INFO    : Sampling time: 0:00:13.315735\n",
      "07:39 bilby INFO    : Summary of results:\n",
      "nsamples: 67\n",
      "ln_noise_evidence:    nan\n",
      "ln_evidence: 506.505 +/-  0.579\n",
      "ln_bayes_factor:    nan +/-  0.579\n",
      "\n",
      "07:39 bilby INFO    : Running for label 'calibration_example', output will be saved to 'outdir'\n"
     ]
    },
    {
     "name": "stdout",
     "output_type": "stream",
     "text": [
      "\n",
      "\n",
      "n = 4\n"
     ]
    },
    {
     "name": "stderr",
     "output_type": "stream",
     "text": [
      "07:39 bilby INFO    : Analysis priors:\n",
      "07:39 bilby INFO    : n_gauss=DiscreteUniform(minimum=1, maximum=4, name='n_gauss', latex_label='n_gauss', unit=None, boundary=None)\n",
      "07:39 bilby INFO    : mu0=TransdimensionalConditionalUniform(name='mu0', componant_function_number=np.int64(0), nested_conditional_transdimensional_params=['mu'], conditional_transdimensional_params=[], conditional_params=['n_gauss'], debug_print_out=True, latex_label='mu0', unit=None, boundary=None, minimum=0, maximum=100)\n",
      "07:39 bilby INFO    : mu1=TransdimensionalConditionalUniform(name='mu1', componant_function_number=np.int64(1), nested_conditional_transdimensional_params=['mu'], conditional_transdimensional_params=[], conditional_params=['n_gauss'], debug_print_out=True, latex_label='mu1', unit=None, boundary=None, minimum=0, maximum=100)\n",
      "07:39 bilby INFO    : mu2=TransdimensionalConditionalUniform(name='mu2', componant_function_number=np.int64(2), nested_conditional_transdimensional_params=['mu'], conditional_transdimensional_params=[], conditional_params=['n_gauss'], debug_print_out=True, latex_label='mu2', unit=None, boundary=None, minimum=0, maximum=100)\n",
      "07:39 bilby INFO    : mu3=TransdimensionalConditionalUniform(name='mu3', componant_function_number=np.int64(3), nested_conditional_transdimensional_params=['mu'], conditional_transdimensional_params=[], conditional_params=['n_gauss'], debug_print_out=True, latex_label='mu3', unit=None, boundary=None, minimum=0, maximum=100)\n",
      "07:39 bilby INFO    : sigma_g=10\n",
      "07:39 bilby INFO    : Analysis likelihood class: <class 'bilby.core.likelihood.GaussianLikelihood'>\n",
      "07:39 bilby INFO    : Analysis likelihood noise evidence: nan\n",
      "07:39 bilby INFO    : Single likelihood evaluation took 8.045e-04 s\n",
      "07:39 bilby INFO    : Using sampler Dynesty with kwargs {'nlive': 20, 'bound': 'live', 'sample': 'act-walk', 'periodic': None, 'reflective': None, 'update_interval': 600, 'first_update': None, 'npdim': None, 'rstate': None, 'queue_size': 1, 'pool': None, 'use_pool': None, 'live_points': None, 'logl_args': None, 'logl_kwargs': None, 'ptform_args': None, 'ptform_kwargs': None, 'gradient': None, 'grad_args': None, 'grad_kwargs': None, 'compute_jac': False, 'enlarge': None, 'bootstrap': None, 'walks': 100, 'facc': 0.2, 'slices': None, 'fmove': 0.9, 'max_move': 100, 'update_func': None, 'ncdim': None, 'blob': False, 'save_history': False, 'history_filename': None, 'maxiter': None, 'maxcall': None, 'dlogz': 0.1, 'logl_max': inf, 'n_effective': None, 'add_live': True, 'print_progress': True, 'print_func': <bound method Dynesty._print_func of <bilby.core.sampler.dynesty.Dynesty object at 0x409d35410>>, 'save_bounds': False, 'checkpoint_file': None, 'checkpoint_every': 60, 'resume': False, 'seed': None}\n",
      "07:39 bilby INFO    : Global meta data was removed from the result object for compatibility. Use the `BILBY_INCLUDE_GLOBAL_METADATA` environment variable to include it. This behaviour will be removed in a future release. For more details see: https://bilby-dev.github.io/bilby/faq.html#global-meta-data\n",
      "07:39 bilby INFO    : Checkpoint every check_point_delta_t = 600s\n",
      "07:39 bilby INFO    : Using dynesty version 2.1.5\n",
      "07:39 bilby INFO    : Using the bilby-implemented act-walk sampling tracking the autocorrelation function and thinning by 2 with maximum length 10000\n",
      "07:39 bilby INFO    : Generating initial points from the prior\n"
     ]
    },
    {
     "name": "stdout",
     "output_type": "stream",
     "text": [
      "232it [00:12, 15.18it/s, bound:13 nc: 54 ncall:8.7e+03 eff:2.7% logz=468.83+/-0.54 dlogz:0.136>0.1]"
     ]
    },
    {
     "name": "stderr",
     "output_type": "stream",
     "text": [
      "07:39 bilby INFO    : Written checkpoint file outdir/calibration_example_resume.pickle\n"
     ]
    },
    {
     "name": "stdout",
     "output_type": "stream",
     "text": [
      "238it [00:13, 17.93it/s, bound:14 nc:  1 ncall:9.0e+03 eff:2.9% logz=468.91+/-0.56 dlogz:0.0045>0.1]"
     ]
    },
    {
     "name": "stderr",
     "output_type": "stream",
     "text": [
      "07:39 bilby INFO    : Rejection sampling nested samples to obtain 99 posterior samples\n",
      "07:39 bilby INFO    : Sampling time: 0:00:13.220349\n",
      "07:39 bilby INFO    : Summary of results:\n",
      "nsamples: 99\n",
      "ln_noise_evidence:    nan\n",
      "ln_evidence: 468.913 +/-  0.611\n",
      "ln_bayes_factor:    nan +/-  0.611\n",
      "\n"
     ]
    },
    {
     "name": "stdout",
     "output_type": "stream",
     "text": [
      "\n",
      "\n"
     ]
    }
   ],
   "source": [
    "x = np.linspace(0,100,1001)\n",
    "num_runs = 100\n",
    "amp_noise=0.15\n",
    "for run in range(num_runs):\n",
    "    rng = np.random.default_rng(run)\n",
    "\n",
    "    # --- Draw true data (same as your approach) ---\n",
    "    n_true = rng.integers(1, n_peaks + 1)   # true number of Gaussians\n",
    "    print(f\"n = {n_true}\")\n",
    "    mus_true = rng.choice(np.linspace(10, 90, 20), size=n_true, replace=False)\n",
    "\n",
    "    y = np.sum([gauss(x, mu, sigma) for mu in mus_true], axis=0)\n",
    "    y += norm(loc=0, scale=amp_noise).rvs(len(x), random_state=rng)\n",
    "\n",
    "    # --- Fit / sample ---\n",
    "    likelihood = bilby.likelihood.GaussianLikelihood(\n",
    "        x, y, model, sigma=amp_noise * np.ones(len(x))\n",
    "    )\n",
    "\n",
    "    result = bilby.core.sampler.run_sampler(\n",
    "        likelihood,\n",
    "        priors=priors_t,\n",
    "        sampler=\"dynesty\",\n",
    "        label=\"calibration_example\",\n",
    "        clean=True,\n",
    "        nlive=20, # this is too little, just to save time\n",
    "        outdir=\"outdir\",\n",
    "    )\n",
    "\n",
    "    n_vals = np.rint(result.posterior['n_gauss'].to_numpy()).astype(int)\n",
    "    n_vals = np.clip(n_vals, 1, n_peaks)\n",
    "\n",
    "    # histogram over models {1,...,n_peaks} -> posterior mass per model\n",
    "    hs, _ = np.histogram(n_vals, bins=np.arange(1, n_peaks + 2))\n",
    "    hs = hs / hs.sum()\n",
    "\n",
    "    # --- one-vs-all calibration: bin every model's probability with label 0/1 ---\n",
    "    for m_idx in range(n_peaks):                 # m_idx = 0..n_peaks-1 corresponds to model m = m_idx+1\n",
    "        p_m = hs[m_idx]\n",
    "        y_m = 1 if (m_idx + 1) == n_true else 0  # true model indicator\n",
    "\n",
    "        # bin p_m safely\n",
    "        idx = np.digitize(p_m, calibration_plot_bins, right=True) - 1\n",
    "        idx = np.clip(idx, 0, B - 1)\n",
    "\n",
    "        total_entries[idx] += 1\n",
    "        correct_model[idx] += y_m\n"
   ]
  },
  {
   "cell_type": "code",
   "execution_count": 11,
   "id": "d4f04da3-b157-42eb-9a6c-9fe39ebce35b",
   "metadata": {},
   "outputs": [
    {
     "data": {
      "image/png": "[encoded data removed]",
      "text/plain": [
       "<Figure size 640x480 with 1 Axes>"
      ]
     },
     "metadata": {},
     "output_type": "display_data"
    }
   ],
   "source": [
    "k = np.asarray(correct_model, dtype=float)\n",
    "n = np.asarray(total_entries, dtype=float)\n",
    "p_hat = np.divide(k, n, out=np.full_like(n, np.nan, dtype=float), where=n>0)\n",
    "\n",
    "# Standard error\n",
    "std = np.sqrt(p_hat * (1 - p_hat) / n)\n",
    "\n",
    "# Plot with error bars = ±2σ\n",
    "mask = n > 0\n",
    "plt.figure()\n",
    "plt.errorbar(bin_centers[mask], p_hat[mask], yerr=2*std[mask],\n",
    "             fmt='-o', capsize=3, lw=1, label='±2σ binomial SE')\n",
    "plt.plot([0,1],[0,1],'k--',alpha=0.5)\n",
    "plt.xlabel('Predicted probability (per-model)')\n",
    "plt.ylabel('Empirical frequency (model is true)')\n",
    "\n",
    "plt.grid(True, alpha=0.3)\n",
    "plt.legend()\n",
    "plt.show()"
   ]
  },
  {
   "cell_type": "code",
   "execution_count": null,
   "id": "e2ddb749-7118-4253-ac84-77bef6554a9d",
   "metadata": {},
   "outputs": [],
   "source": []
  }
 ],
 "metadata": {
  "kernelspec": {
   "display_name": "Python 3 (ipykernel)",
   "language": "python",
   "name": "python3"
  },
  "language_info": {
   "codemirror_mode": {
    "name": "ipython",
    "version": 3
   },
   "file_extension": ".py",
   "mimetype": "text/x-python",
   "name": "python",
   "nbconvert_exporter": "python",
   "pygments_lexer": "ipython3",
   "version": "3.11.13"
  }
 },
 "nbformat": 4,
 "nbformat_minor": 5
}
